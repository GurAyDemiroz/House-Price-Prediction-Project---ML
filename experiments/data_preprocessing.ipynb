{
 "cells": [
  {
   "cell_type": "code",
   "execution_count": 1,
   "metadata": {},
   "outputs": [],
   "source": [
    "import pandas as pd\n",
    "import numpy as np\n",
    "import re\n",
    "import logging\n",
    "from rich import print"
   ]
  },
  {
   "cell_type": "code",
   "execution_count": 2,
   "metadata": {},
   "outputs": [],
   "source": [
    "logger = logging.getLogger('preprocessing_logger')\n",
    "logger.setLevel(logging.DEBUG)\n",
    "logger.propagate = False\n",
    "\n",
    "formatter = logging.Formatter(\n",
    "    '%(asctime)s - %(levelname)s - %(message)s',\n",
    "    datefmt='%Y-%m-%d %H:%M'\n",
    ")\n",
    "\n",
    "file_handler = logging.FileHandler('preprocessing.log')\n",
    "file_handler.setLevel(logging.DEBUG)\n",
    "file_handler.setFormatter(formatter)\n",
    "logger.addHandler(file_handler)\n",
    "\n",
    "console_handler = logging.StreamHandler()\n",
    "console_handler.setLevel(logging.INFO)\n",
    "console_handler.setFormatter(formatter)\n",
    "logger.addHandler(console_handler)"
   ]
  },
  {
   "cell_type": "code",
   "execution_count": 3,
   "metadata": {},
   "outputs": [
    {
     "data": {
      "text/html": [
       "<div>\n",
       "<style scoped>\n",
       "    .dataframe tbody tr th:only-of-type {\n",
       "        vertical-align: middle;\n",
       "    }\n",
       "\n",
       "    .dataframe tbody tr th {\n",
       "        vertical-align: top;\n",
       "    }\n",
       "\n",
       "    .dataframe thead th {\n",
       "        text-align: right;\n",
       "    }\n",
       "</style>\n",
       "<table border=\"1\" class=\"dataframe\">\n",
       "  <thead>\n",
       "    <tr style=\"text-align: right;\">\n",
       "      <th></th>\n",
       "      <th>house_description</th>\n",
       "      <th>house_price</th>\n",
       "      <th>house_location</th>\n",
       "      <th>property_type</th>\n",
       "      <th>gross_area</th>\n",
       "      <th>net_area</th>\n",
       "      <th>room_count</th>\n",
       "      <th>building_age</th>\n",
       "      <th>floor_number</th>\n",
       "      <th>total_floors</th>\n",
       "      <th>heating</th>\n",
       "      <th>bathroom_count</th>\n",
       "      <th>furnished</th>\n",
       "      <th>usage_status</th>\n",
       "      <th>credit_eligible</th>\n",
       "      <th>deed_status</th>\n",
       "      <th>exchange</th>\n",
       "      <th>house_url</th>\n",
       "    </tr>\n",
       "  </thead>\n",
       "  <tbody>\n",
       "    <tr>\n",
       "      <th>1436</th>\n",
       "      <td>REŞATBEYDE MERKEZİ KONUM SEYHAN OTELİ ARKASI S...</td>\n",
       "      <td>2.900.000 TL</td>\n",
       "      <td>Adana\\nSeyhan\\nReşatbey Mah.</td>\n",
       "      <td>Daire</td>\n",
       "      <td>160 m2</td>\n",
       "      <td>/ 150 m2</td>\n",
       "      <td>3 + 1</td>\n",
       "      <td>30 Yaşında</td>\n",
       "      <td>2. Kat</td>\n",
       "      <td>6 Katlı</td>\n",
       "      <td>Klima</td>\n",
       "      <td>1</td>\n",
       "      <td>Eşyalı Değil</td>\n",
       "      <td>Kiracılı</td>\n",
       "      <td>Uygun</td>\n",
       "      <td>Kat İrtifakı</td>\n",
       "      <td>Hayır</td>\n",
       "      <td>https://www.hepsiemlak.com/adana-seyhan-resatb...</td>\n",
       "    </tr>\n",
       "    <tr>\n",
       "      <th>3022</th>\n",
       "      <td>MAXBİR ÇUKUROVADAN REŞATBE'DE KAPALI MUTF.3+1 ...</td>\n",
       "      <td>3.850.000 TL</td>\n",
       "      <td>Adana\\nSeyhan\\nReşatbey Mah.</td>\n",
       "      <td>Daire</td>\n",
       "      <td>150 m2</td>\n",
       "      <td>/ 135 m2</td>\n",
       "      <td>3 + 1</td>\n",
       "      <td>21 Yaşında</td>\n",
       "      <td>1. Kat</td>\n",
       "      <td>4 Katlı</td>\n",
       "      <td>Kombi</td>\n",
       "      <td>1</td>\n",
       "      <td>Eşyalı Değil</td>\n",
       "      <td>Mülk Sahibi</td>\n",
       "      <td>Uygun</td>\n",
       "      <td>Tapu Yok</td>\n",
       "      <td>Hayır</td>\n",
       "      <td>https://www.hepsiemlak.com/adana-seyhan-resatb...</td>\n",
       "    </tr>\n",
       "    <tr>\n",
       "      <th>2033</th>\n",
       "      <td>HASARSIZ RAPORLU REAL KARŞISI ÖZEL GÜVENLİKLİ ...</td>\n",
       "      <td>7.250.000 TL</td>\n",
       "      <td>Adana\\nSeyhan\\nGürselpaşa Mah.</td>\n",
       "      <td>Daire</td>\n",
       "      <td>240 m2</td>\n",
       "      <td>/ 180 m2</td>\n",
       "      <td>4 + 1</td>\n",
       "      <td>7 Yaşında</td>\n",
       "      <td>14. Kat</td>\n",
       "      <td>15 Katlı</td>\n",
       "      <td>Kombi</td>\n",
       "      <td>2</td>\n",
       "      <td>Eşyalı Değil</td>\n",
       "      <td>Mülk Sahibi</td>\n",
       "      <td>Uygun</td>\n",
       "      <td>Kat Mülkiyeti</td>\n",
       "      <td>Bilgi yok</td>\n",
       "      <td>https://www.hepsiemlak.com/adana-seyhan-gursel...</td>\n",
       "    </tr>\n",
       "    <tr>\n",
       "      <th>2277</th>\n",
       "      <td>KOZAN GAYRİMENKULDEN BAGLARDA SIFIR 3+1</td>\n",
       "      <td>2.500.000 TL</td>\n",
       "      <td>Adana\\nKozan\\nTürkeli Mah.</td>\n",
       "      <td>Daire</td>\n",
       "      <td>150 m2</td>\n",
       "      <td>/ 120 m2</td>\n",
       "      <td>3 + 1</td>\n",
       "      <td>Sıfır Bina</td>\n",
       "      <td>2. Kat</td>\n",
       "      <td>5 Katlı</td>\n",
       "      <td>Kombi</td>\n",
       "      <td>1</td>\n",
       "      <td>Bilgi yok</td>\n",
       "      <td>Boş</td>\n",
       "      <td>Uygun değil</td>\n",
       "      <td>Kat Mülkiyeti</td>\n",
       "      <td>Hayır</td>\n",
       "      <td>https://www.hepsiemlak.com/adana-kozan-turkeli...</td>\n",
       "    </tr>\n",
       "    <tr>\n",
       "      <th>2938</th>\n",
       "      <td>REŞATBEY’de AZ KATLI BİNADA SATILIK 3+1 160 m2...</td>\n",
       "      <td>2.750.000 TL</td>\n",
       "      <td>Adana\\nSeyhan\\nReşatbey Mah.</td>\n",
       "      <td>Daire</td>\n",
       "      <td>160 m2</td>\n",
       "      <td>/ 150 m2</td>\n",
       "      <td>3 + 1</td>\n",
       "      <td>35 Yaşında</td>\n",
       "      <td>1. Kat</td>\n",
       "      <td>4 Katlı</td>\n",
       "      <td>Klima</td>\n",
       "      <td>1</td>\n",
       "      <td>Eşyalı Değil</td>\n",
       "      <td>Boş</td>\n",
       "      <td>Uygun</td>\n",
       "      <td>Kat İrtifakı</td>\n",
       "      <td>Hayır</td>\n",
       "      <td>https://www.hepsiemlak.com/adana-seyhan-resatb...</td>\n",
       "    </tr>\n",
       "  </tbody>\n",
       "</table>\n",
       "</div>"
      ],
      "text/plain": [
       "                                      house_description   house_price  \\\n",
       "1436  REŞATBEYDE MERKEZİ KONUM SEYHAN OTELİ ARKASI S...  2.900.000 TL   \n",
       "3022  MAXBİR ÇUKUROVADAN REŞATBE'DE KAPALI MUTF.3+1 ...  3.850.000 TL   \n",
       "2033  HASARSIZ RAPORLU REAL KARŞISI ÖZEL GÜVENLİKLİ ...  7.250.000 TL   \n",
       "2277            KOZAN GAYRİMENKULDEN BAGLARDA SIFIR 3+1  2.500.000 TL   \n",
       "2938  REŞATBEY’de AZ KATLI BİNADA SATILIK 3+1 160 m2...  2.750.000 TL   \n",
       "\n",
       "                      house_location property_type gross_area  net_area  \\\n",
       "1436    Adana\\nSeyhan\\nReşatbey Mah.         Daire     160 m2  / 150 m2   \n",
       "3022    Adana\\nSeyhan\\nReşatbey Mah.         Daire     150 m2  / 135 m2   \n",
       "2033  Adana\\nSeyhan\\nGürselpaşa Mah.         Daire     240 m2  / 180 m2   \n",
       "2277      Adana\\nKozan\\nTürkeli Mah.         Daire     150 m2  / 120 m2   \n",
       "2938    Adana\\nSeyhan\\nReşatbey Mah.         Daire     160 m2  / 150 m2   \n",
       "\n",
       "     room_count building_age floor_number total_floors heating bathroom_count  \\\n",
       "1436      3 + 1   30 Yaşında       2. Kat      6 Katlı   Klima              1   \n",
       "3022      3 + 1   21 Yaşında       1. Kat      4 Katlı   Kombi              1   \n",
       "2033      4 + 1    7 Yaşında      14. Kat     15 Katlı   Kombi              2   \n",
       "2277      3 + 1   Sıfır Bina       2. Kat      5 Katlı   Kombi              1   \n",
       "2938      3 + 1   35 Yaşında       1. Kat      4 Katlı   Klima              1   \n",
       "\n",
       "         furnished usage_status credit_eligible    deed_status   exchange  \\\n",
       "1436  Eşyalı Değil     Kiracılı           Uygun   Kat İrtifakı      Hayır   \n",
       "3022  Eşyalı Değil  Mülk Sahibi           Uygun       Tapu Yok      Hayır   \n",
       "2033  Eşyalı Değil  Mülk Sahibi           Uygun  Kat Mülkiyeti  Bilgi yok   \n",
       "2277     Bilgi yok          Boş     Uygun değil  Kat Mülkiyeti      Hayır   \n",
       "2938  Eşyalı Değil          Boş           Uygun   Kat İrtifakı      Hayır   \n",
       "\n",
       "                                              house_url  \n",
       "1436  https://www.hepsiemlak.com/adana-seyhan-resatb...  \n",
       "3022  https://www.hepsiemlak.com/adana-seyhan-resatb...  \n",
       "2033  https://www.hepsiemlak.com/adana-seyhan-gursel...  \n",
       "2277  https://www.hepsiemlak.com/adana-kozan-turkeli...  \n",
       "2938  https://www.hepsiemlak.com/adana-seyhan-resatb...  "
      ]
     },
     "execution_count": 3,
     "metadata": {},
     "output_type": "execute_result"
    }
   ],
   "source": [
    "data = pd.read_csv(\"../data/all_data.csv\", encoding=\"utf-8\")\n",
    "\n",
    "df = data.copy()\n",
    "\n",
    "df.sample(5)"
   ]
  },
  {
   "cell_type": "code",
   "execution_count": 4,
   "metadata": {},
   "outputs": [
    {
     "name": "stdout",
     "output_type": "stream",
     "text": [
      "<class 'pandas.core.frame.DataFrame'>\n",
      "RangeIndex: 5096 entries, 0 to 5095\n",
      "Data columns (total 18 columns):\n",
      " #   Column             Non-Null Count  Dtype \n",
      "---  ------             --------------  ----- \n",
      " 0   house_description  5096 non-null   object\n",
      " 1   house_price        5096 non-null   object\n",
      " 2   house_location     5096 non-null   object\n",
      " 3   property_type      5096 non-null   object\n",
      " 4   gross_area         5096 non-null   object\n",
      " 5   net_area           5096 non-null   object\n",
      " 6   room_count         5096 non-null   object\n",
      " 7   building_age       5096 non-null   object\n",
      " 8   floor_number       5096 non-null   object\n",
      " 9   total_floors       5096 non-null   object\n",
      " 10  heating            5096 non-null   object\n",
      " 11  bathroom_count     5096 non-null   object\n",
      " 12  furnished          5096 non-null   object\n",
      " 13  usage_status       5096 non-null   object\n",
      " 14  credit_eligible    5096 non-null   object\n",
      " 15  deed_status        5096 non-null   object\n",
      " 16  exchange           5096 non-null   object\n",
      " 17  house_url          5096 non-null   object\n",
      "dtypes: object(18)\n",
      "memory usage: 716.8+ KB\n"
     ]
    }
   ],
   "source": [
    "df.info()"
   ]
  },
  {
   "cell_type": "code",
   "execution_count": 5,
   "metadata": {},
   "outputs": [
    {
     "data": {
      "text/plain": [
       "Index(['house_description', 'house_price', 'house_location', 'property_type',\n",
       "       'gross_area', 'net_area', 'room_count', 'building_age', 'floor_number',\n",
       "       'total_floors', 'heating', 'bathroom_count', 'furnished',\n",
       "       'usage_status', 'credit_eligible', 'deed_status', 'exchange',\n",
       "       'house_url'],\n",
       "      dtype='object')"
      ]
     },
     "execution_count": 5,
     "metadata": {},
     "output_type": "execute_result"
    }
   ],
   "source": [
    "df.columns"
   ]
  },
  {
   "cell_type": "code",
   "execution_count": 6,
   "metadata": {},
   "outputs": [
    {
     "data": {
      "text/plain": [
       "array(['7.300.000 TL', '1.399.000 TL', '3.500.000 TL', '15.500.000 TL',\n",
       "       '7.450.000 TL', '3.230.000 TL', '2.920.000 TL', '14.900.000 TL',\n",
       "       '3.190.000 TL', '3.175.000 TL', '1.350.000 TL', '2.200.000 TL',\n",
       "       '4.350.000 TL', '5.750.000 TL', '2.990.000 TL', '2.450.000 TL',\n",
       "       '2.940.000 TL', '5.500.000 TL', '8.850.000 TL', '1.840.000 TL',\n",
       "       '2.950.000 TL', '3.325.000 TL', '2.340.000 TL', '2.575.000 TL',\n",
       "       '1.275.000 TL', '1.450.000 TL', '2.500.000 TL', '3.390.000 TL',\n",
       "       '1.420.000 TL', '3.490.000 TL', '3.580.000 TL', '3.195.000 TL',\n",
       "       '1.400.000 TL', '2.980.000 TL', '5.150.000 TL', '3.090.000 TL',\n",
       "       '1.650.000 TL', '6.375.000 TL', '3.700.000 TL', '11.250.000 TL',\n",
       "       '1.475.000 TL', '3.650.000 TL', '4.750.000 TL', '3.575.000 TL',\n",
       "       '3.600.000 TL', '5.530.000 TL', '4.500.000 TL', '1.250.000 TL',\n",
       "       '4.645.000 TL', '3.499.000 TL', '5.200.000 TL', '2.290.000 TL',\n",
       "       '2.300.000 TL', '2.350.000 TL', '2.880.000 TL', '1.695.000 TL',\n",
       "       '3.450.000 TL', '2.600.000 TL', '1.100.000 TL', '1.935.000 TL',\n",
       "       '2.750.000 TL', '4.165.000 TL', '2.988.000 TL', '3.990.000 TL',\n",
       "       '4.100.000 TL', '2.850.000 TL', '5.999.999 TL', '3.750.000 TL',\n",
       "       '3.050.000 TL', '3.290.000 TL', '5.000.000 TL', '1.700.000 TL',\n",
       "       '3.300.000 TL', '1.675.000 TL', '2.775.000 TL', '3.030.000 TL',\n",
       "       '2.398.000 TL', '3.380.000 TL', '1.900.000 TL', '10.500.000 TL',\n",
       "       '2.180.000 TL', '5.890.000 TL', '3.550.000 TL', '2.998.000 TL',\n",
       "       '2.400.000 TL', '2.150.000 TL', '6.499.999 TL', '2.700.000 TL',\n",
       "       '2.925.000 TL', '1.630.000 TL', '3.720.000 TL', '1.850.000 TL',\n",
       "       '7.250.000 TL', '1.300.000 TL', '3.670.000 TL', '6.750.000 TL',\n",
       "       '1.200.000 TL', '2.389.000 TL', '8.150.000 TL', '2.000.000 TL',\n",
       "       '6.350.000 TL', '3.280.000 TL', '8.500.000 TL', '3.250.000 TL',\n",
       "       '6.985.000 TL', '2.930.000 TL', '1.690.000 TL', '3.375.000 TL',\n",
       "       '3.690.000 TL', '4.400.000 TL', '4.499.000 TL', '4.600.000 TL',\n",
       "       '4.200.000 TL', '5.070.000 TL', '1.950.000 TL', '6.250.000 TL',\n",
       "       '3.000.000 TL', '1.150.000 TL', '2.650.000 TL', '15.250.000 TL',\n",
       "       '3.150.000 TL', '20.499.000 TL', '3.975.000 TL', '2.499.000 TL',\n",
       "       '5.650.000 TL', '4.624.000 TL', '3.850.000 TL', '2.900.000 TL',\n",
       "       '9.500.000 TL', '12.900.000 TL', '2.250.000 TL', '3.625.000 TL',\n",
       "       '18.000.000 TL', '10.000.000 TL', '2.590.000 TL', '4.250.000 TL',\n",
       "       '7.000.000 TL', '5.630.000 TL', '3.100.000 TL', '2.890.000 TL',\n",
       "       '3.950.000 TL', '2.780.000 TL', '4.450.000 TL', '12.750.000 TL',\n",
       "       '9.200.000 TL', '2.770.000 TL', '2.325.000 TL', '2.745.000 TL',\n",
       "       '16.000.000 TL', '3.200.000 TL', '5.250.000 TL', '1.800.000 TL',\n",
       "       '3.590.000 TL', '11.800.000 TL', '6.950.000 TL', '1.980.000 TL',\n",
       "       '5.425.000 TL', '7.350.000 TL', '8.750.000 TL', '2.790.000 TL',\n",
       "       '5.100.000 TL', '5.450.000 TL', '4.150.000 TL', '1.595.000 TL',\n",
       "       '1.880.000 TL', '2.995.000 TL', '3.400.000 TL', '6.550.000 TL',\n",
       "       '2.875.000 TL', '1.575.000 TL', '7.500.000 TL', '2.975.000 TL',\n",
       "       '13.600.000 TL', '4.850.000 TL', '1.140.000 TL', '3.685.000 TL',\n",
       "       '4.630.000 TL', '3.149.000 TL', '14.500.000 TL', '14.750.000 TL',\n",
       "       '1.600.000 TL', '9.250.000 TL', '2.840.000 TL', '13.000.000 TL',\n",
       "       '12.500.000 TL', '4.800.000 TL', '4.300.000 TL', '1.145.000 TL',\n",
       "       '15.000.000 TL', '3.630.000 TL', '4.550.000 TL', '5.480.000 TL',\n",
       "       '5.495.000 TL', '1.990.000 TL', '5.950.000 TL', '1.500.000 TL',\n",
       "       '4.570.000 TL', '850.000 TL', '2.260.000 TL', '2.050.000 TL',\n",
       "       '1.035.000 TL', '2.658.000 TL', '5.745.000 TL', '2.310.999 TL',\n",
       "       '7.499.000 TL', '1.525.000 TL', '1.910.000 TL', '4.000.000 TL',\n",
       "       '9.900.000 TL', '3.350.000 TL', '3.890.000 TL', '4.690.000 TL',\n",
       "       '2.870.000 TL', '3.900.000 TL', '1.875.000 TL', '10.750.000 TL',\n",
       "       '2.848.000 TL', '6.398.000 TL', '1.925.000 TL', '6.490.000 TL',\n",
       "       '2.099.000 TL', '8.250.000 TL', '2.100.000 TL', '1.125.000 TL',\n",
       "       '4.390.000 TL', '6.900.000 TL', '3.800.000 TL', '6.850.000 TL',\n",
       "       '3.560.000 TL', '2.375.000 TL', '3.235.000 TL', '13.450.000 TL',\n",
       "       '4.650.000 TL', '5.975.000 TL', '1.845.000 TL', '7.900.000 TL',\n",
       "       '2.550.000 TL', '1.625.000 TL', '5.700.000 TL', '6.940.000 TL',\n",
       "       '8.100.000 TL', '8.950.000 TL', '2.799.000 TL', '2.985.000 TL',\n",
       "       '1.280.000 TL', '1.825.000 TL', '2.800.000 TL', '3.640.000 TL',\n",
       "       '2.798.000 TL', '880.000 TL', '4.950.000 TL', '3.845.000 TL',\n",
       "       '1.780.000 TL', '1.230.000 TL', '1.390.000 TL', '1.260.000 TL',\n",
       "       '5.050.000 TL', '4.590.000 TL', '2.390.000 TL', '2.425.000 TL',\n",
       "       '11.000.000 TL', '980.000 TL', '7.980.000 TL', '3.940.000 TL',\n",
       "       '4.700.000 TL', '2.730.000 TL', '3.085.000 TL', '1.785.000 TL',\n",
       "       '6.150.000 TL', '4.990.000 TL', '3.475.000 TL', '1.175.000 TL',\n",
       "       '1.750.000 TL', '2.895.000 TL', '3.875.000 TL', '10.650.000 TL',\n",
       "       '21.000.000 TL', '1.975.000 TL', '8.700.000 TL', '2.490.000 TL',\n",
       "       '1.225.000 TL', '1.770.000 TL', '2.580.000 TL', 'Bilgi yok',\n",
       "       '8.000.000 TL', '5.920.000 TL', '3.585.000 TL', '1.050.000 TL',\n",
       "       '1.945.000 TL', '2.385.000 TL', '2.480.000 TL', '1.795.000 TL',\n",
       "       '5.400.000 TL', '3.525.000 TL', '8.200.000 TL', '2.300.000.000 TL',\n",
       "       '7.495.000 TL', '4.475.000 TL', '4.685.000 TL', '7.870.000 TL',\n",
       "       '5.800.000 TL', '6.499.000 TL', '1.760.000 TL', '18.000 TL',\n",
       "       '1.585.000 TL', '4.215.000 TL', '1.590.000 TL', '3.095.000 TL',\n",
       "       '1.095.000 TL', '2.570.000 TL', '7.198.000 TL', '11.950.000 TL',\n",
       "       '17.500.000 TL', '16.500.000 TL', '3.999.000 TL', '2.720.000 TL',\n",
       "       '3.080.000 TL', '2.630.000 TL', '8.900.000 TL', '1.365.000 TL',\n",
       "       '2.740.000 TL', '6.200.000 TL', '3.830.000 TL', '3.730.000 TL',\n",
       "       '1.470.000 TL', '3.520.000 TL', '1.090.000 TL', '6.300.000 TL',\n",
       "       '2.675.000 TL', '6.500.000 TL', '3.480.000 TL', '14.250.000 TL',\n",
       "       '3.395.000 TL', '5.285.000 TL', '1.340.000 TL', '4.330.000 TL',\n",
       "       '2.935.000 TL', '1.775.000 TL', '6.000.000 TL', '6.800.000 TL',\n",
       "       '4.970.000 TL', '2.210.000 TL', '5.850.000 TL', '8.300.000 TL',\n",
       "       '20.000.000 TL', '3.840.000 TL', '7.800.000 TL', '5.600.000 TL',\n",
       "       '2.475.000 TL', '3.145.000 TL', '2.595.000 TL', '2.680.000 TL',\n",
       "       '1.725.000 TL', '885.000 TL', '1.195.000 TL', '3.125.000 TL',\n",
       "       '2.190.000 TL', '1.375.000 TL', '4.099.000 TL', '5.350.000 TL',\n",
       "       '1.395.000 TL', '4.449.000 TL', '1.170.000 TL', '5.993.000 TL',\n",
       "       '2.670.000 TL', '960.000 TL', '1.599.000 TL', '2.090.000 TL',\n",
       "       '4.640.000 TL', '2.080.000 TL', '4.688.000 TL', '1.985.000 TL',\n",
       "       '5.840.000 TL', '1.072.001 TL', '4.880.000 TL', '7.400.000 TL',\n",
       "       '900.000 TL', '1.445.000 TL', '2.760.000 TL', '6.650.000 TL',\n",
       "       '6.600.000 TL', '14.000.000 TL', '19.750.000 TL', '2.649.000 TL',\n",
       "       '1.180.000 TL', '1.215.000 TL', '2.030.000 TL', '1.185.000 TL',\n",
       "       '1.299.000 TL', '9.275.000 TL', '1.220.000 TL', '1.000.000 TL',\n",
       "       '2.715.000 TL', '2.280.000 TL', '3.349.000 TL', '3.320.000 TL',\n",
       "       '24.000.000 TL', '1.790.000 TL', '3.725.000 TL', '2.380.000 TL',\n",
       "       '3.930.000 TL', '1.270.000 TL', '2.865.000 TL', '13.950.000 TL',\n",
       "       '4.790.000 TL', '26.000.000 TL', '5.990.000 TL', '4.975.000 TL',\n",
       "       '1.305.000 TL', '1.070.000 TL', '3.995.000 TL', '16.750.000 TL',\n",
       "       '1.970.000 TL', '1.830.000 TL', '4.050.000 TL', '3.920.000 TL',\n",
       "       '4.325.000 TL', '2.748.000 TL', '1.730.000 TL', '1.075.000 TL',\n",
       "       '2.320.000 TL', '2.825.000 TL', '2.120.000 TL', '2.949.000 TL',\n",
       "       '2.275.000 TL', '1.899.000 TL', '1.895.000 TL', '2.725.000 TL',\n",
       "       '3.649.000 TL', '3.275.000 TL', '1.290.000 TL', '5.889.000 TL',\n",
       "       '4.090.000 TL', '4.845.000 TL', '7.750.000 TL', '1.550.000 TL',\n",
       "       '7.990.000 TL', '1.135.000 TL', '1.285.000 TL', '1.255.000 TL',\n",
       "       '6.400.000 TL', '1.920.000 TL', '25.500.000 TL', '2.495.000 TL',\n",
       "       '5.550.000 TL', '1.540.000 TL', '1.580.000 TL', '5.900.000 TL',\n",
       "       '20.500.000 TL', '2.779.000 TL', '2.749.999 TL', '930.000 TL',\n",
       "       '1.210.000 TL', '3.445.000 TL', '6.999.000 TL', '1.245.000 TL',\n",
       "       '6.349.000 TL', '1.435.000 TL', '1.465.000 TL', '1.425.000 TL',\n",
       "       '2.735.000 TL', '1.410.000 TL', '4.900.000 TL', '3.579.000 TL',\n",
       "       '2.070.000 TL', '11.500.000 TL', '7.550.000 TL', '3.285.000 TL',\n",
       "       '4.360.000 TL', '2.620.000 TL', '4.275.000 TL', '9.750.000 TL',\n",
       "       '1.665.000 TL', '2.470.000 TL', '1.680.000 TL', '899.000 TL',\n",
       "       '2.640.000 TL', '2.388.000 TL', '1.520.000 TL', '1.190.000 TL',\n",
       "       '3.225.000 TL', '1.055.000 TL', '2.695.000 TL', '950.000 TL',\n",
       "       '5.398.000 TL', '13.750.000 TL', '2.690.000 TL', '2.860.000 TL',\n",
       "       '4.699.000 TL', '1.560.000 TL', '1.396.000 TL', '9.000.000 TL',\n",
       "       '8.480.000 TL', '2.820.000 TL', '16.250.000 TL', '2.830.000 TL',\n",
       "       '1.950.000.000 TL', '6.849.000 TL', '5.490.000 TL',\n",
       "       '13.500.000 TL', '3.799.000 TL', '6.100.000 TL', '3.740.000 TL',\n",
       "       '4.980.000 TL', '13.150.000 TL', '1.460.000 TL', '1.295.000 TL',\n",
       "       '1.685.000 TL', '7.600.000 TL', '2.360.000 TL', '1.380.000 TL',\n",
       "       '2.585.000 TL', '1.510.000 TL', '6.975.000 TL', '4.415.000 TL',\n",
       "       '1.436.000 TL', '4.070.000 TL', '2.498.000 TL', '12.000.000 TL',\n",
       "       '3.878.000 TL', '4.890.000 TL', '2.765.000 TL', '1.479.000 TL',\n",
       "       '1.430.000 TL', '3.199.000 TL', '5.295.000 TL', '2.774.000 TL',\n",
       "       '6.730.000 TL', '17.000.000 TL', '1.385.000 TL', '5.690.000 TL',\n",
       "       '1.565.000 TL', '1.530.000 TL', '7.275.000 TL', '1.030.000 TL',\n",
       "       '10.990.000 TL', '1.490.000 TL', '1.640.000 TL', '1.325.000 TL',\n",
       "       '6.700.000 TL', '9.550.000 TL', '1.930.000 TL', '2.795.000 TL',\n",
       "       '3.899.000 TL', '3.988.000 TL', '18.500.000 TL', '4.675.000 TL',\n",
       "       '3.128.000 TL', '1.085.000 TL', '1.265.000 TL', '1.160.000 TL',\n",
       "       '6.298.000 TL', '3.465.000 TL', '3.798.000 TL', '1.928.000 TL',\n",
       "       '1.040.000 TL', '2.299.000 TL', '3.249.000 TL', '1.670.000 TL',\n",
       "       '5.085.000 TL', '1.648.000 TL', '890.000 TL', '2.699.000 TL',\n",
       "       '2.485.000 TL', '1.999.999 TL', '2.378.000 TL', '2.510.000 TL',\n",
       "       '7.200.000 TL', '1.890.000 TL', '7.950.000 TL', '2.625.000 TL',\n",
       "       '990.000 TL', '2.819.000 TL', '2.520.000 TL', '1.345.000 TL',\n",
       "       '6.990.000 TL', '1.495.000 TL', '12.650.000 TL', '8.795.000 TL',\n",
       "       '3.755.000 TL', '5.525.000 TL', '13.750 TL', '1.065.000 TL',\n",
       "       '3.599.000 TL', '1.370.000 TL', '6.925.000 TL', '5.424.000 TL',\n",
       "       '2.195.000 TL', '2.230.000 TL', '3.680.000 TL', '1.960.000 TL',\n",
       "       '7.190.000 TL', '3.549.000 TL', '3.425.000 TL', '2.175.000 TL',\n",
       "       '6.450.000 TL', '5.300.000 TL', '3.180.000 TL', '1.310.000 TL',\n",
       "       '2.285.000 TL', '3.595.000 TL', '4.340.000 TL', '3.148.000 TL',\n",
       "       '4.290.000 TL', '3.498.000 TL', '3.299.900 TL', '4.625.000 TL',\n",
       "       '2.349.000 TL', '5.290.000 TL', '1.635.000 TL', '1.155.000 TL',\n",
       "       '5.325.000 TL', '11.900.000 TL', '1.455.000 TL', '995.000 TL',\n",
       "       '17.750.000 TL', '975.000 TL', '3.249.999 TL', '1.605.000 TL',\n",
       "       '3.785.000 TL', '830.000 TL', '13.390.000 TL', '15.499.000 TL',\n",
       "       '3.749.000 TL', '4.525.000 TL', '625.000 TL', '8.990.000 TL',\n",
       "       '1.599.999 TL', '3.699.000 TL', '11.650.000 TL', '3.248.000 TL',\n",
       "       '1.699.000 TL', '3.098.000 TL', '3.855.000 TL', '2.598.000 TL',\n",
       "       '3.330.000 TL', '3.130.000 TL', '1.250.001 TL', '3.348.000 TL',\n",
       "       '3.948.000 TL', '2.698.000 TL', '15.490.000 TL', '2.130.000 TL',\n",
       "       '3.935.000 TL', '2.889.000 TL', '3.345.000 TL', '2.960.000 TL',\n",
       "       '1.740.000 TL', '6.799.000 TL', '4.098.000 TL', '10.700.000 TL',\n",
       "       '3.980.000 TL', '4.295.000 TL', '9.990.000 TL', '3.960.000 TL',\n",
       "       '6.660.000 TL', '3.035.000 TL', '8.800.000 TL', '3.985.000 TL',\n",
       "       '4.635.000 TL', '2.160.000 TL', '3.140.000 TL', '9.600.000 TL',\n",
       "       '5.280.000 TL', '10.200.000 TL', '2.899.000 TL', '1.335.000 TL',\n",
       "       '888.000 TL', '2.489.000 TL', '9.700.000 TL', '7.700.000 TL',\n",
       "       '9.400.000 TL', '11.990.000 TL', '14.100.000 TL', '5.390.000 TL',\n",
       "       '22.500.000 TL', '25.000.000 TL', '9.650.000 TL', '4.678.000 TL',\n",
       "       '8.165.000 TL', '3.270.000 TL', '1.820.000 TL', '9.950.000 TL',\n",
       "       '8.450.000 TL', '4.810.000 TL', '8.280.000 TL', '3.210.000 TL',\n",
       "       '5.040.000 TL', '3.478.000 TL', '3.540.000 TL', '7.150.000 TL',\n",
       "       '11.750.000 TL', '4.745.000 TL', '1.649.000 TL', '3.485.000 TL',\n",
       "       '1.165.000 TL', '7.370.000 TL', '14.990.000 TL', '17.250.000 TL',\n",
       "       '8.400.000 TL', '3.460.000 TL', '2.099.999 TL', '2.270.000 TL',\n",
       "       '1.745.000 TL', '4.995.000 TL', '6.370.000 TL', '29.300.000 TL',\n",
       "       '3.849.000 TL', '920.000 TL', '20.500 TL', '3.449.000 TL',\n",
       "       '2.225.000 TL', '1.997.000 TL', '2.345.000 TL', '1.480.000 TL',\n",
       "       '1.720.000 TL', '1.298.000 TL', '1.555.000 TL', '840.000 TL',\n",
       "       '1.999.000 TL', '2.085.000 TL', '6.225.000 TL', '5.155.000 TL',\n",
       "       '2.459.000 TL', '4.425.000 TL', '3.629.000 TL', '3.360.000 TL',\n",
       "       '14.680.000 TL', '13.850.000 TL', '13.100.000 TL', '2.599.000 TL',\n",
       "       '2.064.999 TL', '820.000 TL', '1.130.000 TL', '3.598.000 TL',\n",
       "       '2.645.000 TL', '2.530.000 TL', '10.995.000 TL', '2.449.000 TL',\n",
       "       '3.880.000 TL', '2.918.000 TL', '2.610.000 TL', '2.525.000 TL',\n",
       "       '2.335.000 TL', '3.495.000 TL', '2.165.000 TL', '2.395.000 TL',\n",
       "       '3.499.999 TL', '3.570.000 TL', '2.969.000 TL', '3.159.000 TL',\n",
       "       '4.480.000 TL', '28.000.000 TL', '2.785.000 TL', '3.120.000 TL',\n",
       "       '3.224.000 TL', '4.435.000 TL', '4.455.000 TL', '1.620.000 TL',\n",
       "       '111.111 TL', '12.400.000 TL', '3.648.000 TL', '2.075.000 TL',\n",
       "       '3.385.000 TL', '3.340.000 TL', '3.539.000 TL', '3.895.000 TL',\n",
       "       '5.370.000 TL', '3.635.000 TL', '2.440.000 TL', '1.570.000 TL',\n",
       "       '1.349.000 TL', '1.080.000 TL', '965.000 TL', '5.270.000 TL',\n",
       "       '2.849.000 TL', '3.097.000 TL', '25.000 TL', '1.320.000 TL',\n",
       "       '1.923.000 TL', '1.315.000 TL', '3.587.000 TL', '6.970.000 TL',\n",
       "       '1.330.000 TL', '6.275.000 TL', '875.000 TL', '7.699.000 TL',\n",
       "       '3.279.000 TL', '2.755.000 TL', '10.900.000 TL', '4.560.000 TL',\n",
       "       '6.780.000 TL', '2.979.000 TL', '4.849.000 TL', '19.500.000 TL',\n",
       "       '2.215.000 TL', '5.715.000 TL', '3.299.000 TL', '10.620.000 TL',\n",
       "       '2.874.000 TL', '3.889.000 TL', '4.139.999 TL', '1.715.000 TL',\n",
       "       '2.797.000 TL', '2.399.000 TL', '1.835.000 TL', '6.539.000 TL',\n",
       "       '2.149.000 TL', '3.310.000 TL', '4.210.000 TL', '1.415.000 TL',\n",
       "       '2.098.000 TL', '5.169.000 TL', '4.775.000 TL', '1.645.000 TL',\n",
       "       '4.280.000 TL', '2.399.999 TL', '2.549.000 TL', '3.869.000 TL',\n",
       "       '7.795.000 TL', '3.535.000 TL', '2.999.999 TL', '3.999.999 TL',\n",
       "       '2.194.000 TL', '7.925.000 TL', '7.270.000 TL', '8.945.000 TL',\n",
       "       '2.974.000 TL', '4.545.000 TL', '6.475.000 TL', '6.125.000 TL'],\n",
       "      dtype=object)"
      ]
     },
     "execution_count": 6,
     "metadata": {},
     "output_type": "execute_result"
    }
   ],
   "source": [
    "df[\"house_price\"].unique()"
   ]
  },
  {
   "cell_type": "code",
   "execution_count": 7,
   "metadata": {},
   "outputs": [],
   "source": [
    "def convert_house_price_to_int(house_df : pd.DataFrame) -> pd.DataFrame:\n",
    "\n",
    "    df = house_df.copy()\n",
    "\n",
    "    if \"house_price\" not in df.columns:\n",
    "        logger.error(\"The 'house_price' column was not found in the DataFrame.\")\n",
    "        return df\n",
    "\n",
    "    df = df[df[\"house_price\"]!=\"Bilgi yok\"]\n",
    "\n",
    "    try:\n",
    "        df[\"house_price\"] =(\n",
    "                            df[\"house_price\"]\n",
    "                            .str.replace(\"TL\", \"\", regex=False)\n",
    "                            .str.replace(\".\", \"\", regex=False)\n",
    "                            .astype(int)\n",
    "                            )\n",
    "        logger.info(\"House house_price values replaced successfully.\")\n",
    "    except Exception as e:\n",
    "        logger.error(f\"Error converting house_price column: {e}\", exc_info=True)\n",
    "\n",
    "\n",
    "    return df\n"
   ]
  },
  {
   "cell_type": "code",
   "execution_count": 8,
   "metadata": {},
   "outputs": [
    {
     "name": "stderr",
     "output_type": "stream",
     "text": [
      "2025-03-25 00:59 - INFO - House house_price values replaced successfully.\n"
     ]
    }
   ],
   "source": [
    "df = convert_house_price_to_int(house_df=df)"
   ]
  },
  {
   "cell_type": "code",
   "execution_count": 9,
   "metadata": {},
   "outputs": [
    {
     "data": {
      "text/plain": [
       "count    5.083000e+03\n",
       "mean     4.555975e+06\n",
       "std      4.230211e+07\n",
       "min      1.375000e+04\n",
       "25%      2.250000e+06\n",
       "50%      3.000000e+06\n",
       "75%      4.250000e+06\n",
       "max      2.300000e+09\n",
       "Name: house_price, dtype: float64"
      ]
     },
     "execution_count": 9,
     "metadata": {},
     "output_type": "execute_result"
    }
   ],
   "source": [
    "df[\"house_price\"].describe().T"
   ]
  },
  {
   "cell_type": "code",
   "execution_count": 10,
   "metadata": {},
   "outputs": [
    {
     "name": "stdout",
     "output_type": "stream",
     "text": [
      "<class 'pandas.core.frame.DataFrame'>\n",
      "Index: 5083 entries, 0 to 5095\n",
      "Data columns (total 18 columns):\n",
      " #   Column             Non-Null Count  Dtype \n",
      "---  ------             --------------  ----- \n",
      " 0   house_description  5083 non-null   object\n",
      " 1   house_price        5083 non-null   int64 \n",
      " 2   house_location     5083 non-null   object\n",
      " 3   property_type      5083 non-null   object\n",
      " 4   gross_area         5083 non-null   object\n",
      " 5   net_area           5083 non-null   object\n",
      " 6   room_count         5083 non-null   object\n",
      " 7   building_age       5083 non-null   object\n",
      " 8   floor_number       5083 non-null   object\n",
      " 9   total_floors       5083 non-null   object\n",
      " 10  heating            5083 non-null   object\n",
      " 11  bathroom_count     5083 non-null   object\n",
      " 12  furnished          5083 non-null   object\n",
      " 13  usage_status       5083 non-null   object\n",
      " 14  credit_eligible    5083 non-null   object\n",
      " 15  deed_status        5083 non-null   object\n",
      " 16  exchange           5083 non-null   object\n",
      " 17  house_url          5083 non-null   object\n",
      "dtypes: int64(1), object(17)\n",
      "memory usage: 754.5+ KB\n"
     ]
    }
   ],
   "source": [
    "df.info()"
   ]
  },
  {
   "cell_type": "code",
   "execution_count": 11,
   "metadata": {},
   "outputs": [
    {
     "data": {
      "text/plain": [
       "array(['Adana\\n                   \\n                    Seyhan\\n                   \\n                    Gürselpaşa Mah.',\n",
       "       'Adana\\n                   \\n                    Çukurova\\n                   \\n                    Huzurevleri Mah.',\n",
       "       'Adana\\n                   \\n                    Çukurova\\n                   \\n                    Mahfesığmaz Mah.',\n",
       "       'Adana\\n                   \\n                    Seyhan\\n                   \\n                    Gazipaşa Mah.',\n",
       "       'Adana\\n                   \\n                    Çukurova\\n                   \\n                    Toros Mah.',\n",
       "       'Adana\\n                   \\n                    Yüreğir\\n                   \\n                    PTT Mah.',\n",
       "       'Adana\\n                   \\n                    Seyhan\\n                   \\n                    Kurtuluş Mah.',\n",
       "       'Adana\\n                   \\n                    Sarıçam\\n                   \\n                    Osmangazi Mah.',\n",
       "       'Adana\\n                   \\n                    Seyhan\\n                   \\n                    Hanedan Mah.',\n",
       "       'Adana\\n                   \\n                    Çukurova\\n                   \\n                    Şambayadı Mah.',\n",
       "       'Adana\\n                   \\n                    Seyhan\\n                   \\n                    Tellidere Mah.',\n",
       "       'Adana\\n                   \\n                    Seyhan\\n                   \\n                    Yenibaraj Mah.',\n",
       "       'Adana\\n                   \\n                    Kozan\\n                   \\n                    Karacaoğlan Mah.',\n",
       "       'Adana\\n                   \\n                    Kozan\\n                   \\n                    Tufanpaşa Mah.',\n",
       "       'Adana\\n                   \\n                    Kozan\\n                   \\n                    Türkeli Mah.',\n",
       "       'Adana\\n                   \\n                    Sarıçam\\n                   \\n                    Mehmet Akif Ersoy Mah.',\n",
       "       'Adana\\n                   \\n                    Sarıçam\\n                   \\n                    Gültepe Mah.',\n",
       "       'Adana\\n                   \\n                    Seyhan\\n                   \\n                    Fatih Mah.',\n",
       "       'Adana\\n                   \\n                    Çukurova\\n                   \\n                    Karslılar Mah.',\n",
       "       'Adana\\n                   \\n                    Seyhan\\n                   \\n                    İsmetpaşa Mah.',\n",
       "       'Adana\\n                   \\n                    Çukurova\\n                   \\n                    Güzelyalı Mah.',\n",
       "       'Adana\\n                   \\n                    Çukurova\\n                   \\n                    Yurt Mah.',\n",
       "       'Adana\\n                   \\n                    Sarıçam\\n                   \\n                    Çarkıpare Mah.',\n",
       "       'Adana\\n                   \\n                    Seyhan\\n                   \\n                    Reşatbey Mah.',\n",
       "       'Adana\\n                   \\n                    Seyhan\\n                   \\n                    Sümer Mah.',\n",
       "       'Adana\\n                   \\n                    Çukurova\\n                   \\n                    Yüzüncüyıl Mah.',\n",
       "       'Adana\\n                   \\n                    Seyhan\\n                   \\n                    Mithatpaşa Mah.',\n",
       "       'Adana\\n                   \\n                    Çukurova\\n                   \\n                    Kabasakal Mah.',\n",
       "       'Adana\\n                   \\n                    Seyhan\\n                   \\n                    Yeşilyurt Mah.',\n",
       "       'Adana\\n                   \\n                    Çukurova\\n                   \\n                    Kurttepe Mah.',\n",
       "       'Adana\\n                   \\n                    Sarıçam\\n                   \\n                    Yeşiltepe Mah.',\n",
       "       'Adana\\n                   \\n                    Sarıçam\\n                   \\n                    Sofudede Mah.',\n",
       "       'Adana\\n                   \\n                    Karataş\\n                   \\n                    Yeni Mah.',\n",
       "       'Adana\\n                   \\n                    Seyhan\\n                   \\n                    Şakirpaşa Mah.',\n",
       "       'Adana\\n                   \\n                    Seyhan\\n                   \\n                    Pınar Mah.',\n",
       "       'Adana\\n                   \\n                    Yüreğir\\n                   \\n                    Başak Mah.',\n",
       "       'Adana\\n                   \\n                    Çukurova\\n                   \\n                    Belediye Evleri Mah.',\n",
       "       'Adana\\n                   \\n                    Çukurova\\n                   \\n                    Esentepe Mah.',\n",
       "       'Adana\\n                   \\n                    Seyhan\\n                   \\n                    Aydınlar Mah.',\n",
       "       'Adana\\n                   \\n                    Sarıçam\\n                   \\n                    Şahintepe Mah.',\n",
       "       'Adana\\n                   \\n                    Yüreğir\\n                   \\n                    Güneşli Mah.',\n",
       "       'Adana\\n                   \\n                    Seyhan\\n                   \\n                    2000 Evler Mah.',\n",
       "       'Adana\\n                   \\n                    Sarıçam\\n                   \\n                    İstiklal Mah.',\n",
       "       'Adana\\n                   \\n                    Seyhan\\n                   \\n                    Çınarlı Mah.',\n",
       "       'Adana\\n                   \\n                    Karataş\\n                   \\n                    Karşıyaka Mah.',\n",
       "       'Adana\\n                   \\n                    Seyhan\\n                   \\n                    Döşeme Mah.',\n",
       "       'Adana\\n                   \\n                    Kozan\\n                   \\n                    Şevkiye Mah.',\n",
       "       'Adana\\n                   \\n                    Yumurtalık\\n                   \\n                    Akyuva Mah.',\n",
       "       'Adana\\n                   \\n                    Ceyhan\\n                   \\n                    Mithat Paşa Mah.',\n",
       "       'Adana\\n                   \\n                    Çukurova\\n                   \\n                    Beyazevler Mah.',\n",
       "       'Adana\\n                   \\n                    Pozantı\\n                   \\n                    Kurtuluş Mah.',\n",
       "       'Adana\\n                   \\n                    Seyhan\\n                   \\n                    Cemalpaşa Mah.',\n",
       "       'Adana\\n                   \\n                    Seyhan\\n                   \\n                    Emek Mah.',\n",
       "       'Adana\\n                   \\n                    Seyhan\\n                   \\n                    Namık Kemal Mah.',\n",
       "       'Adana\\n                   \\n                    Yüreğir\\n                   \\n                    Atakent Mah.',\n",
       "       'Adana\\n                   \\n                    Yüreğir\\n                   \\n                    Kışla Mah.',\n",
       "       'Adana\\n                   \\n                    Sarıçam\\n                   \\n                    Çınarlı Mah.',\n",
       "       'Adana\\n                   \\n                    Seyhan\\n                   \\n                    Bahçeşehir Mah.',\n",
       "       'Adana\\n                   \\n                    Sarıçam\\n                   \\n                    Boynuyoğun Mah.',\n",
       "       'Adana\\n                   \\n                    Yüreğir\\n                   \\n                    Haydaroğlu Mah.',\n",
       "       'Adana\\n                   \\n                    Seyhan\\n                   \\n                    Barış Mah.',\n",
       "       'Adana\\n                   \\n                    Yumurtalık\\n                   \\n                    Kemalpaşa Mah.',\n",
       "       'Adana\\n                   \\n                    Sarıçam\\n                   \\n                    Yeni Mah.',\n",
       "       'Adana\\n                   \\n                    Yumurtalık\\n                   \\n                    Devrişiye Mah.',\n",
       "       'Adana\\n                   \\n                    Kozan\\n                   \\n                    Varsaklar Mah.',\n",
       "       'Adana\\n                   \\n                    Seyhan\\n                   \\n                    Yeşiloba Mah.',\n",
       "       'Adana\\n                   \\n                    Yüreğir\\n                   \\n                    Yenidoğan Mah.',\n",
       "       'Adana\\n                   \\n                    Sarıçam\\n                   \\n                    Akkuyu Mah.',\n",
       "       'Adana\\n                   \\n                    Sarıçam\\n                   \\n                    Ertuğrulgazi Mah.',\n",
       "       'Adana\\n                   \\n                    Seyhan\\n                   \\n                    Ziyapaşa Mah.',\n",
       "       'Adana\\n                   \\n                    Sarıçam\\n                   \\n                    Yıldırım Beyazıt Mah.',\n",
       "       'Adana\\n                   \\n                    Kozan\\n                   \\n                    Çanaklı Mah.',\n",
       "       'Adana\\n                   \\n                    Kozan\\n                   \\n                    Arslanpaşa Mah.',\n",
       "       'Adana\\n                   \\n                    Sarıçam\\n                   \\n                    Orhangazi Mah.',\n",
       "       'Adana\\n                   \\n                    Çukurova\\n                   \\n                    Dörtler Mah.',\n",
       "       'Adana\\n                   \\n                    Kozan\\n                   \\n                    Cumhuriyet Mah.',\n",
       "       'Adana\\n                   \\n                    Sarıçam\\n                   \\n                    Yavuz Sultan Selim Mah.',\n",
       "       'Adana\\n                   \\n                    Sarıçam\\n                   \\n                    Balcalı Mah.',\n",
       "       'Adana\\n                   \\n                    Yüreğir\\n                   \\n                    Havutlu Mah.',\n",
       "       'Adana\\n                   \\n                    Sarıçam\\n                   \\n                    Beyceli Mah.',\n",
       "       'Adana\\n                   \\n                    Sarıçam\\n                   \\n                    Buruk Cumhuriyet Mah.',\n",
       "       'Adana\\n                   \\n                    Pozantı\\n                   \\n                    Akçatekir Mah.',\n",
       "       'Adana\\n                   \\n                    Seyhan\\n                   \\n                    Denizli Mah.',\n",
       "       'Adana\\n                   \\n                    Sarıçam\\n                   \\n                    Kemalpaşa Mah.',\n",
       "       'Adana\\n                   \\n                    Ceyhan\\n                   \\n                    İstiklal Mah.',\n",
       "       'Adana\\n                   \\n                    Yumurtalık\\n                   \\n                    Akdeniz Mah.',\n",
       "       'Adana\\n                   \\n                    Yumurtalık\\n                   \\n                    Ayas Mah.',\n",
       "       'Adana\\n                   \\n                    Sarıçam\\n                   \\n                    Hürriyet Mah.',\n",
       "       'Adana\\n                   \\n                    Seyhan\\n                   \\n                    Sucuzade Mah.',\n",
       "       'Adana\\n                   \\n                    Sarıçam\\n                   \\n                    Suluca Mah.',\n",
       "       'Adana\\n                   \\n                    Seyhan\\n                   \\n                    Küçükdikili Mah.',\n",
       "       'Adana\\nSarıçam\\nGültepe Mah.', 'Adana\\nÇukurova\\nYurt Mah.',\n",
       "       'Adana\\nSarıçam\\nOsmangazi Mah.', 'Adana\\nKozan\\nÇanaklı Mah.',\n",
       "       'Adana\\nYumurtalık\\nDevrişiye Mah.',\n",
       "       'Adana\\nSeyhan\\nMithatpaşa Mah.',\n",
       "       'Adana\\nÇukurova\\nGüzelyalı Mah.', 'Adana\\nKozan\\nBağlar Mah.',\n",
       "       'Adana\\nSarıçam\\nMehmet Akif Ersoy Mah.',\n",
       "       'Adana\\nSeyhan\\nYeşiloba Mah.', 'Adana\\nSeyhan\\nBahçeşehir Mah.',\n",
       "       'Adana\\nSeyhan\\n2000 Evler Mah.',\n",
       "       'Adana\\nÇukurova\\nHuzurevleri Mah.',\n",
       "       'Adana\\nSeyhan\\nCemalpaşa Mah.', 'Adana\\nSarıçam\\nBoynuyoğun Mah.',\n",
       "       'Adana\\nSeyhan\\nYeşilyurt Mah.', 'Adana\\nKozan\\nTavşantepe Mah.',\n",
       "       'Adana\\nSeyhan\\nGürselpaşa Mah.', 'Adana\\nSeyhan\\nİsmetpaşa Mah.',\n",
       "       'Adana\\nSarıçam\\nÇarkıpare Mah.',\n",
       "       'Adana\\nÇukurova\\nMahfesığmaz Mah.', 'Adana\\nÇukurova\\nToros Mah.',\n",
       "       'Adana\\nÇukurova\\nKurttepe Mah.', 'Adana\\nSarıçam\\nKemalpaşa Mah.',\n",
       "       'Adana\\nKozan\\nKaracaoğlan Mah.', 'Adana\\nSeyhan\\nTellidere Mah.',\n",
       "       'Adana\\nYumurtalık\\nKemalpaşa Mah.',\n",
       "       'Adana\\nSeyhan\\nReşatbey Mah.', 'Adana\\nSeyhan\\nPınar Mah.',\n",
       "       'Adana\\nKozan\\nTufanpaşa Mah.', 'Adana\\nÇukurova\\nEsentepe Mah.',\n",
       "       'Adana\\nSeyhan\\nYenibaraj Mah.', 'Adana\\nSarıçam\\nYeşiltepe Mah.',\n",
       "       'Adana\\nSeyhan\\nZiyapaşa Mah.', 'Adana\\nÇukurova\\nYüzüncüyıl Mah.',\n",
       "       'Adana\\nÇukurova\\nBelediye Evleri Mah.',\n",
       "       'Adana\\nSeyhan\\nDöşeme Mah.', 'Adana\\nSeyhan\\nSümer Mah.',\n",
       "       'Adana\\nÇukurova\\nBeyazevler Mah.',\n",
       "       'Adana\\nYumurtalık\\nAkdeniz Mah.', 'Adana\\nSarıçam\\nÇınarlı Mah.',\n",
       "       'Adana\\nSarıçam\\nErtuğrulgazi Mah.',\n",
       "       'Adana\\nSeyhan\\nKurtuluş Mah.', 'Adana\\nÇukurova\\nKarslılar Mah.',\n",
       "       'Adana\\nSarıçam\\nBuruk Cumhuriyet Mah.',\n",
       "       'Adana\\nSarıçam\\nYeni Mah.', 'Adana\\nSeyhan\\nFatih Mah.',\n",
       "       'Adana\\nSarıçam\\nYavuz Sultan Selim Mah.',\n",
       "       'Adana\\nSeyhan\\nEmek Mah.', 'Adana\\nKarataş\\nKemaliye Mah.',\n",
       "       'Adana\\nSeyhan\\nÇınarlı Mah.', 'Adana\\nPozantı\\nAkçatekir Mah.',\n",
       "       'Adana\\nKozan\\nŞevkiye Mah.', 'Adana\\nSarıçam\\nİstiklal Mah.',\n",
       "       'Adana\\nYüreğir\\nAtakent Mah.', 'Adana\\nÇukurova\\nŞambayadı Mah.',\n",
       "       'Adana\\nÇukurova\\nKabasakal Mah.', 'Adana\\nPozantı\\nİstiklal Mah.',\n",
       "       'Adana\\nYüreğir\\nKışla Mah.', 'Adana\\nYüreğir\\nYenidoğan Mah.',\n",
       "       'Adana\\nYumurtalık\\nAyas Mah.', 'Adana\\nYüreğir\\nPTT Mah.',\n",
       "       'Adana\\nSeyhan\\nİstiklal Mah.', 'Adana\\nSeyhan\\nAydınlar Mah.',\n",
       "       'Adana\\nYüreğir\\nAkdeniz Mah.', 'Adana\\nSarıçam\\nBalcalı Mah.',\n",
       "       'Adana\\nSeyhan\\nHanedan Mah.', 'Adana\\nSarıçam\\nAkkuyu Mah.',\n",
       "       'Adana\\nSarıçam\\nSofudede Mah.', 'Adana\\nSarıçam\\nBeyceli Mah.',\n",
       "       'Adana\\nCeyhan\\nBurhaniye Mah.', 'Adana\\nSarıçam\\nSuluca Mah.',\n",
       "       'Adana\\nPozantı\\nZafer Mah.', 'Adana\\nSarıçam\\nŞahintepe Mah.',\n",
       "       'Adana\\nSeyhan\\nGazipaşa Mah.', 'Adana\\nSarıçam\\nGöztepe Mah.',\n",
       "       'Adana\\nYumurtalık\\nAkyuva Mah.', 'Adana\\nSeyhan\\nYeşilevler Mah.',\n",
       "       'Adana\\nSeyhan\\nSucuzade Mah.', 'Adana\\nSeyhan\\nNamık Kemal Mah.',\n",
       "       'Adana\\nYüreğir\\nÖzgür Mah.',\n",
       "       'Adana\\nSarıçam\\nYıldırım Beyazıt Mah.',\n",
       "       'Adana\\nSeyhan\\nTepebağ Mah.', 'Adana\\nPozantı\\nCumhuriyet Mah.',\n",
       "       'Adana\\nKarataş\\nKarşıyaka Mah.', 'Adana\\nSeyhan\\nBarış Mah.',\n",
       "       'Adana\\nKozan\\nArslanpaşa Mah.', 'Adana\\nCeyhan\\nNamık Kemal Mah.',\n",
       "       'Adana\\nKarataş\\nYeni Mah.', 'Adana\\nKarataş\\nBahçe Mah.',\n",
       "       'Adana\\nYüreğir\\nDadaloğlu Mah.',\n",
       "       'Adana\\nYüreğir\\nKazım Karabekir Mah.',\n",
       "       'Adana\\nKozan\\nTürkeli Mah.', 'Adana\\nSarıçam\\nHürriyet Mah.',\n",
       "       'Adana\\nSeyhan\\nDenizli Mah.', 'Adana\\nSarıçam\\nOrhangazi Mah.',\n",
       "       'Adana\\nYüreğir\\nYamaçlı Mah.', 'Adana\\nKozan\\nCumhuriyet Mah.',\n",
       "       'Adana\\nSarıçam\\nSarıçam Mah.', 'Adana\\nYüreğir\\nKaracaoğlan Mah.',\n",
       "       'Adana\\nSeyhan\\nAhmet Remzi Yüreğir Mah.',\n",
       "       'Adana\\nYüreğir\\nUlubatlı Hasan Mah.',\n",
       "       'Adana\\nSeyhan\\nDemetevler Mah.', 'Adana\\nSeyhan\\nFevzipaşa Mah.',\n",
       "       'Adana\\nSeyhan\\nKuruköprü Mah.', 'Adana\\nFeke\\nİslam Mah.',\n",
       "       'Adana\\nYüreğir\\nÇamlıbel Mah.', 'Adana\\nYüreğir\\nSerinevler Mah.',\n",
       "       'Adana\\nYüreğir\\nSelahattin Eyyubi Mah.',\n",
       "       'Adana\\nYüreğir\\nHaydaroğlu Mah.', 'Adana\\nSarıçam\\nMenekşe Mah.',\n",
       "       'Adana\\nSeyhan\\nOnur Mah.', 'Adana\\nYüreğir\\nLevent Mah.',\n",
       "       'Adana\\nİmamoğlu\\nHürriyet Mah.', 'Adana\\nSeyhan\\nKoza Mah.',\n",
       "       'Adana\\nİmamoğlu\\nSaygeçit Mah.', 'Adana\\nSeyhan\\nSarıhuğlar Mah.',\n",
       "       'Adana\\nCeyhan\\nİstiklal Mah.', 'Adana\\nPozantı\\nAlpu Mah.',\n",
       "       'Adana\\nPozantı\\nYenikonacık Mah.',\n",
       "       'Adana - Çukurova - Esentepe Mahallesi',\n",
       "       'Adana - Yumurtalık - Akyuva Mahallesi',\n",
       "       'Adana - Çukurova - Mahfesığmaz Mahallesi',\n",
       "       'Adana - Çukurova - Toros Mahallesi',\n",
       "       'Adana - Seyhan - Sümer Mahallesi',\n",
       "       'Adana - Çukurova - Belediye Evleri Mahallesi',\n",
       "       'Adana - Sarıçam - Buruk Cumhuriyet Mahallesi',\n",
       "       'Adana - Sarıçam - Osmangazi Mahallesi',\n",
       "       'Adana - Seyhan - Mithatpaşa Mahallesi',\n",
       "       'Adana - Sarıçam - Çarkıpare Mahallesi',\n",
       "       'Adana - Çukurova - Yüzüncüyıl Mahallesi',\n",
       "       'Adana - Ceyhan - Cumhuriyet Mahallesi',\n",
       "       'Adana - Seyhan - Gürselpaşa Mahallesi',\n",
       "       'Adana - Seyhan - Namık Kemal Mahallesi',\n",
       "       'Adana - Sarıçam - Mehmet Akif Ersoy Mahallesi',\n",
       "       'Adana - Çukurova - Huzurevleri Mahallesi',\n",
       "       'Adana - Sarıçam - Yeşiltepe Mahallesi',\n",
       "       'Adana - Seyhan - Tellidere Mahallesi',\n",
       "       'Adana - Sarıçam - Gültepe Mahallesi',\n",
       "       'Adana - Çukurova - Karslılar Mahallesi',\n",
       "       'Adana - Seyhan - İsmetpaşa Mahallesi',\n",
       "       'Adana - Yüreğir - Yamaçlı Mahallesi',\n",
       "       'Adana - Sarıçam - Çınarlı Mahallesi',\n",
       "       'Adana - Karataş - Yeni Mahallesi',\n",
       "       'Adana - Yüreğir - PTT Mahallesi',\n",
       "       'Adana - Sarıçam - Yeni Mahallesi',\n",
       "       'Adana - Sarıçam - Ertuğrulgazi Mahallesi',\n",
       "       'Adana - Seyhan - Kurtuluş Mahallesi',\n",
       "       'Adana - Seyhan - Pınar Mahallesi',\n",
       "       'Adana - Yüreğir - Yenidoğan Mahallesi',\n",
       "       'Adana - Sarıçam - İstiklal Mahallesi',\n",
       "       'Adana - Seyhan - 2000 Evler Mahallesi',\n",
       "       'Adana - Çukurova - Yurt Mahallesi',\n",
       "       'Adana - Seyhan - Bahçeşehir Mahallesi',\n",
       "       'Adana - Seyhan - Döşeme Mahallesi',\n",
       "       'Adana - Karaisalı - Çeceli Mahallesi',\n",
       "       'Adana - Kozan - Karacaoğlan Mahallesi',\n",
       "       'Adana - Yüreğir - Çamlıbel Mahallesi',\n",
       "       'Adana - Çukurova - Güzelyalı Mahallesi',\n",
       "       'Adana - Sarıçam - Yavuz Sultan Selim Mahallesi',\n",
       "       'Adana - Sarıçam - Şahintepe Mahallesi',\n",
       "       'Adana - Çukurova - Kabasakal Mahallesi',\n",
       "       'Adana - Sarıçam - Orhangazi Mahallesi',\n",
       "       'Adana - Kozan - Türkeli Mahallesi',\n",
       "       'Adana - Ceyhan - Namık Kemal Mahallesi',\n",
       "       'Adana - Ceyhan - Hürriyet Mahallesi',\n",
       "       'Adana - Çukurova - Kurttepe Mahallesi',\n",
       "       'Adana - Sarıçam - Boynuyoğun Mahallesi',\n",
       "       'Adana - Sarıçam - Sofudede Mahallesi',\n",
       "       'Adana - Seyhan - Aydınlar Mahallesi',\n",
       "       'Adana - Çukurova - Beyazevler Mahallesi',\n",
       "       'Adana - Seyhan - Ziyapaşa Mahallesi',\n",
       "       'Adana - Seyhan - Yeşilyurt Mahallesi',\n",
       "       'Adana - Yüreğir - Atakent Mahallesi',\n",
       "       'Adana - Sarıçam - Kemalpaşa Mahallesi',\n",
       "       'Adana - Sarıçam - Akkuyu Mahallesi',\n",
       "       'Adana - Seyhan - Cemalpaşa Mahallesi',\n",
       "       'Adana - Seyhan - Yeşiloba Mahallesi',\n",
       "       'Adana - Seyhan - Yenibaraj Mahallesi',\n",
       "       'Adana - Seyhan - Reşatbey Mahallesi',\n",
       "       'Adana - Karataş - Kemaliye Mahallesi',\n",
       "       'Adana - Seyhan - İstiklal Mahallesi',\n",
       "       'Adana - Sarıçam - Beyceli Mahallesi',\n",
       "       'Adana - Ceyhan - Ulus Mahallesi',\n",
       "       'Adana - Ceyhan - Mithat Paşa Mahallesi',\n",
       "       'Adana - Yumurtalık - Devrişiye Mahallesi',\n",
       "       'Adana - Yüreğir - Dadaloğlu Mahallesi',\n",
       "       'Adana - Sarıçam - Suluca Mahallesi',\n",
       "       'Adana - Çukurova - Şambayadı Mahallesi',\n",
       "       'Adana - Seyhan - Emek Mahallesi',\n",
       "       'Adana - Kozan - Tavşantepe Mahallesi',\n",
       "       'Adana - Yüreğir - Kışla Mahallesi',\n",
       "       'Adana - Sarıçam - Hürriyet Mahallesi',\n",
       "       'Adana - Yumurtalık - Kemalpaşa Mahallesi',\n",
       "       'Adana - Ceyhan - Burhaniye Mahallesi',\n",
       "       'Adana - Seyhan - Gazipaşa Mahallesi',\n",
       "       'Adana - Ceyhan - İstiklal Mahallesi',\n",
       "       'Adana - Ceyhan - Şahin Özbilen Mahallesi',\n",
       "       'Adana - Seyhan - Denizli Mahallesi',\n",
       "       'Adana - Kozan - Cumhuriyet Mahallesi',\n",
       "       'Adana - Seyhan - Şakirpaşa Mahallesi',\n",
       "       'Adana - Kozan - Arslanpaşa Mahallesi',\n",
       "       'Adana - Kozan - Çanaklı Mahallesi',\n",
       "       'Adana - Seyhan - Gülpınar Mahallesi',\n",
       "       'Adana - Sarıçam - Menekşe Mahallesi',\n",
       "       'Adana - Kozan - Tufanpaşa Mahallesi',\n",
       "       'Adana - Pozantı - Kamışlı Mahallesi',\n",
       "       'Adana - Yumurtalık - Akdeniz Mahallesi',\n",
       "       'Adana - İmamoğlu - Saygeçit Mahallesi',\n",
       "       'Adana - Seyhan - Çınarlı Mahallesi',\n",
       "       'Adana - Yüreğir - Haydaroğlu Mahallesi',\n",
       "       'Adana - Seyhan - Fatih Mahallesi',\n",
       "       'Adana - Seyhan - Narlıca Mahallesi',\n",
       "       'Adana - Seyhan - Yenibey Mahallesi',\n",
       "       'Adana - Kozan - Şevkiye Mahallesi',\n",
       "       'Adana - Seyhan - Bahçelievler Mahallesi',\n",
       "       'Adana - Pozantı - Akçatekir Mahallesi',\n",
       "       'Adana - Yüreğir - Cumhuriyet Mahallesi',\n",
       "       'Adana - Seyhan - Şehitduran Mahallesi',\n",
       "       'Adana - Seyhan - Koza Mahallesi',\n",
       "       'Adana - Seyhan - Gülbahçesi Mahallesi',\n",
       "       'Adana - Sarıçam - Esentepe Mahallesi',\n",
       "       'Adana - Yüreğir - Ulubatlı Hasan Mahallesi',\n",
       "       'Adana - Seyhan - Barış Mahallesi',\n",
       "       'Adana - Sarıçam - Göztepe Mahallesi',\n",
       "       'Adana - Seyhan - Küçükdikili Mahallesi',\n",
       "       'Adana - Karataş - Bahçe Mahallesi',\n",
       "       'Adana - Yüreğir - Özgür Mahallesi',\n",
       "       'Adana - Karataş - Karşıyaka Mahallesi',\n",
       "       'Adana - Seyhan - Mestanzade Mahallesi'], dtype=object)"
      ]
     },
     "execution_count": 11,
     "metadata": {},
     "output_type": "execute_result"
    }
   ],
   "source": [
    "df.house_location.unique()"
   ]
  },
  {
   "cell_type": "code",
   "execution_count": 12,
   "metadata": {},
   "outputs": [],
   "source": [
    "def split_house_location(house_df: pd.DataFrame) -> pd.DataFrame:\n",
    "\n",
    "    df = house_df.copy()\n",
    "\n",
    "    if \"house_location\" not in df.columns:\n",
    "        logger.error(\"The 'house_location' column was not found in the DataFrame.\")\n",
    "        return df\n",
    "    \n",
    "    cleaned_data = []\n",
    "\n",
    "    for index, value in enumerate(df[\"house_location\"]):\n",
    "        try:\n",
    "            if re.search(r\"/\", value):\n",
    "                data1 = re.split(r\"/\", value)\n",
    "                for _ in data1:\n",
    "                    data1[-1] = data1[-1].strip()\n",
    "                    data1[-1] = re.sub(r'Mah\\.|Mh\\.|Köyü', '', data1[-1])\n",
    "                cleaned_data.append(data1)\n",
    "                \n",
    "            elif re.search(r\"\\n\", value): \n",
    "                data2 = re.split(r\"\\s+\", value)\n",
    "            \n",
    "                data2 = [element for element in data2 if \"Mah.\" not in element]\n",
    "                \n",
    "                if len(data2) == 4:\n",
    "                    data2[2] = data2[2] + \" \" + data2[3]\n",
    "                    data2 = data2[:3]\n",
    "                \n",
    "                data2 = [re.sub(r'\\(.*\\)', '', element).strip() for element in data2]\n",
    "            \n",
    "                cleaned_data.append(data2)\n",
    "                    \n",
    "            elif re.search(r\"-\", value):\n",
    "                data3 = re.split(r\"-\", value)\n",
    "                for _ in data3:\n",
    "                    if re.search(r\"Adana\", data3[1]):\n",
    "                        data3[1] = re.sub(\"Adana\", \"\", data3[1]).strip()\n",
    "                    data3[-1] = re.sub(r'\\(.*\\)', '', data3[-1]) \n",
    "                    data3[-1] = re.sub(r'Mahallesi|Köyü|Bld\\.', '',  data3[-1])\n",
    "                    data3[-1] = data3[-1].strip()\n",
    "                cleaned_data.append(data3)\n",
    "        except Exception as e:\n",
    "            logger.error(f\"Error processing house_location at index {index}: {value} - Exception: {e}\")\n",
    "            cleaned_data.append([value])\n",
    "\n",
    "    df[\"province\"] = [dc[0].strip() for dc in cleaned_data]\n",
    "    df[\"district\"] = [dc[1].strip() for dc in cleaned_data]\n",
    "    df[\"neighborhood\"] = [dc[2].strip() for dc in cleaned_data]\n",
    "\n",
    "    df[\"province\"] = pd.Categorical(df[\"province\"])\n",
    "    df[\"district\"] = pd.Categorical(df[\"district\"])\n",
    "    df[\"neighborhood\"] = pd.Categorical(df[\"neighborhood\"])\n",
    "\n",
    "    df = df.drop(columns=[\"house_location\"], axis=\"columns\").reset_index(drop=True)\n",
    "\n",
    "    logger.info(\"House house_location values replaced successfully.\")\n",
    "\n",
    "    return df"
   ]
  },
  {
   "cell_type": "code",
   "execution_count": 13,
   "metadata": {},
   "outputs": [
    {
     "name": "stderr",
     "output_type": "stream",
     "text": [
      "2025-03-25 00:59 - INFO - House house_location values replaced successfully.\n"
     ]
    }
   ],
   "source": [
    "df = split_house_location(df)"
   ]
  },
  {
   "cell_type": "code",
   "execution_count": 14,
   "metadata": {},
   "outputs": [
    {
     "data": {
      "text/plain": [
       "0         Seyhan\n",
       "1       Çukurova\n",
       "2       Çukurova\n",
       "3         Seyhan\n",
       "4       Çukurova\n",
       "          ...   \n",
       "5078     Yüreğir\n",
       "5079     Sarıçam\n",
       "5080    Çukurova\n",
       "5081    Çukurova\n",
       "5082    Çukurova\n",
       "Name: district, Length: 5083, dtype: category\n",
       "Categories (12, object): ['Ceyhan', 'Feke', 'Karaisalı', 'Karataş', ..., 'Yumurtalık', 'Yüreğir', 'Çukurova', 'İmamoğlu']"
      ]
     },
     "execution_count": 14,
     "metadata": {},
     "output_type": "execute_result"
    }
   ],
   "source": [
    "df[\"district\"]"
   ]
  },
  {
   "cell_type": "code",
   "execution_count": 15,
   "metadata": {},
   "outputs": [
    {
     "name": "stdout",
     "output_type": "stream",
     "text": [
      "<class 'pandas.core.frame.DataFrame'>\n",
      "RangeIndex: 5083 entries, 0 to 5082\n",
      "Data columns (total 20 columns):\n",
      " #   Column             Non-Null Count  Dtype   \n",
      "---  ------             --------------  -----   \n",
      " 0   house_description  5083 non-null   object  \n",
      " 1   house_price        5083 non-null   int64   \n",
      " 2   property_type      5083 non-null   object  \n",
      " 3   gross_area         5083 non-null   object  \n",
      " 4   net_area           5083 non-null   object  \n",
      " 5   room_count         5083 non-null   object  \n",
      " 6   building_age       5083 non-null   object  \n",
      " 7   floor_number       5083 non-null   object  \n",
      " 8   total_floors       5083 non-null   object  \n",
      " 9   heating            5083 non-null   object  \n",
      " 10  bathroom_count     5083 non-null   object  \n",
      " 11  furnished          5083 non-null   object  \n",
      " 12  usage_status       5083 non-null   object  \n",
      " 13  credit_eligible    5083 non-null   object  \n",
      " 14  deed_status        5083 non-null   object  \n",
      " 15  exchange           5083 non-null   object  \n",
      " 16  house_url          5083 non-null   object  \n",
      " 17  province           5083 non-null   category\n",
      " 18  district           5083 non-null   category\n",
      " 19  neighborhood       5083 non-null   category\n",
      "dtypes: category(3), int64(1), object(16)\n",
      "memory usage: 700.7+ KB\n"
     ]
    }
   ],
   "source": [
    "df.info()"
   ]
  },
  {
   "cell_type": "code",
   "execution_count": 16,
   "metadata": {},
   "outputs": [
    {
     "data": {
      "text/plain": [
       "['Adana']\n",
       "Categories (1, object): ['Adana']"
      ]
     },
     "execution_count": 16,
     "metadata": {},
     "output_type": "execute_result"
    }
   ],
   "source": [
    "df.province.unique()"
   ]
  },
  {
   "cell_type": "code",
   "execution_count": 17,
   "metadata": {},
   "outputs": [
    {
     "data": {
      "text/plain": [
       "['Seyhan', 'Çukurova', 'Yüreğir', 'Sarıçam', 'Kozan', ..., 'Ceyhan', 'Pozantı', 'Feke', 'İmamoğlu', 'Karaisalı']\n",
       "Length: 12\n",
       "Categories (12, object): ['Ceyhan', 'Feke', 'Karaisalı', 'Karataş', ..., 'Yumurtalık', 'Yüreğir', 'Çukurova', 'İmamoğlu']"
      ]
     },
     "execution_count": 17,
     "metadata": {},
     "output_type": "execute_result"
    }
   ],
   "source": [
    "df.district.unique()"
   ]
  },
  {
   "cell_type": "code",
   "execution_count": 18,
   "metadata": {},
   "outputs": [
    {
     "data": {
      "text/plain": [
       "130"
      ]
     },
     "execution_count": 18,
     "metadata": {},
     "output_type": "execute_result"
    }
   ],
   "source": [
    "df.neighborhood.nunique()"
   ]
  },
  {
   "cell_type": "code",
   "execution_count": 19,
   "metadata": {},
   "outputs": [
    {
     "data": {
      "text/html": [
       "<div>\n",
       "<style scoped>\n",
       "    .dataframe tbody tr th:only-of-type {\n",
       "        vertical-align: middle;\n",
       "    }\n",
       "\n",
       "    .dataframe tbody tr th {\n",
       "        vertical-align: top;\n",
       "    }\n",
       "\n",
       "    .dataframe thead th {\n",
       "        text-align: right;\n",
       "    }\n",
       "</style>\n",
       "<table border=\"1\" class=\"dataframe\">\n",
       "  <thead>\n",
       "    <tr style=\"text-align: right;\">\n",
       "      <th></th>\n",
       "      <th>house_description</th>\n",
       "      <th>house_price</th>\n",
       "      <th>property_type</th>\n",
       "      <th>gross_area</th>\n",
       "      <th>net_area</th>\n",
       "      <th>room_count</th>\n",
       "      <th>building_age</th>\n",
       "      <th>floor_number</th>\n",
       "      <th>total_floors</th>\n",
       "      <th>heating</th>\n",
       "      <th>bathroom_count</th>\n",
       "      <th>furnished</th>\n",
       "      <th>usage_status</th>\n",
       "      <th>credit_eligible</th>\n",
       "      <th>deed_status</th>\n",
       "      <th>exchange</th>\n",
       "      <th>house_url</th>\n",
       "      <th>province</th>\n",
       "      <th>district</th>\n",
       "      <th>neighborhood</th>\n",
       "    </tr>\n",
       "  </thead>\n",
       "  <tbody>\n",
       "    <tr>\n",
       "      <th>4237</th>\n",
       "      <td>Satılık 4+1 Daire Cevre Yolu Kozan Damar Emlak...</td>\n",
       "      <td>3650000</td>\n",
       "      <td>Daire</td>\n",
       "      <td>185 m²</td>\n",
       "      <td>145 m²</td>\n",
       "      <td>4+1</td>\n",
       "      <td>0 (Yeni)</td>\n",
       "      <td>1.Kat</td>\n",
       "      <td>5</td>\n",
       "      <td>Kombi Doğalgaz</td>\n",
       "      <td>2</td>\n",
       "      <td>Bilgi yok</td>\n",
       "      <td>Boş</td>\n",
       "      <td>Krediye Uygun</td>\n",
       "      <td>Kat Mülkiyeti</td>\n",
       "      <td>Var</td>\n",
       "      <td>https://www.emlakjet.com/ilan/satilik-41-daire...</td>\n",
       "      <td>Adana</td>\n",
       "      <td>Kozan</td>\n",
       "      <td>Çanaklı</td>\n",
       "    </tr>\n",
       "    <tr>\n",
       "      <th>212</th>\n",
       "      <td>EMLAK MARKASI'ndan BEYAZEVLERDE DÜŞÜK KAT AVAN...</td>\n",
       "      <td>3590000</td>\n",
       "      <td>Daire</td>\n",
       "      <td>180 m2</td>\n",
       "      <td>/ 170 m2</td>\n",
       "      <td>3 + 1</td>\n",
       "      <td>26 Yaşında</td>\n",
       "      <td>1. Kat</td>\n",
       "      <td>4 Katlı</td>\n",
       "      <td>Klima</td>\n",
       "      <td>1</td>\n",
       "      <td>Eşyalı Değil</td>\n",
       "      <td>Kiracılı</td>\n",
       "      <td>Uygun</td>\n",
       "      <td>Kat Mülkiyeti</td>\n",
       "      <td>Hayır</td>\n",
       "      <td>https://www.hepsiemlak.com/adana-cukurova-beya...</td>\n",
       "      <td>Adana</td>\n",
       "      <td>Çukurova</td>\n",
       "      <td>Beyazevler</td>\n",
       "    </tr>\n",
       "    <tr>\n",
       "      <th>502</th>\n",
       "      <td>DEMİRHAN EMLAK'TAN ERTUĞRULGAZİ 'DE 2+1 KAPALI...</td>\n",
       "      <td>1780000</td>\n",
       "      <td>Daire</td>\n",
       "      <td>125 m2</td>\n",
       "      <td>/ 96 m2</td>\n",
       "      <td>2 + 1</td>\n",
       "      <td>6 Yaşında</td>\n",
       "      <td>10. Kat</td>\n",
       "      <td>15 Katlı</td>\n",
       "      <td>Kombi</td>\n",
       "      <td>1</td>\n",
       "      <td>Eşyalı Değil</td>\n",
       "      <td>Mülk Sahibi</td>\n",
       "      <td>Uygun</td>\n",
       "      <td>Kat Mülkiyeti</td>\n",
       "      <td>Hayır</td>\n",
       "      <td>https://www.hepsiemlak.com/adana-saricam-ertug...</td>\n",
       "      <td>Adana</td>\n",
       "      <td>Sarıçam</td>\n",
       "      <td>Ertuğrulgazi</td>\n",
       "    </tr>\n",
       "    <tr>\n",
       "      <th>98</th>\n",
       "      <td>SOFUDEDE'DE 3+1 K.MUTFAK İSKANLI GENİŞ SATILIK...</td>\n",
       "      <td>2180000</td>\n",
       "      <td>Daire</td>\n",
       "      <td>120 m2</td>\n",
       "      <td>/ 95 m2</td>\n",
       "      <td>3 + 1</td>\n",
       "      <td>4 Yaşında</td>\n",
       "      <td>5. Kat</td>\n",
       "      <td>5 Katlı</td>\n",
       "      <td>Klima</td>\n",
       "      <td>1</td>\n",
       "      <td>Eşyalı Değil</td>\n",
       "      <td>Boş</td>\n",
       "      <td>Uygun</td>\n",
       "      <td>Kat İrtifakı</td>\n",
       "      <td>Hayır</td>\n",
       "      <td>https://www.hepsiemlak.com/adana-saricam-sofud...</td>\n",
       "      <td>Adana</td>\n",
       "      <td>Sarıçam</td>\n",
       "      <td>Sofudede</td>\n",
       "    </tr>\n",
       "    <tr>\n",
       "      <th>2007</th>\n",
       "      <td>Tİ GROUP MAHFESIĞMAZ'DA YENİ BİNA 3+1 T.ÖZAL'A...</td>\n",
       "      <td>5550000</td>\n",
       "      <td>Daire</td>\n",
       "      <td>140 m2</td>\n",
       "      <td>/ 120 m2</td>\n",
       "      <td>3 + 1</td>\n",
       "      <td>Sıfır Bina</td>\n",
       "      <td>7. Kat</td>\n",
       "      <td>13 Katlı</td>\n",
       "      <td>Kombi</td>\n",
       "      <td>2</td>\n",
       "      <td>Eşyalı Değil</td>\n",
       "      <td>Boş</td>\n",
       "      <td>Uygun</td>\n",
       "      <td>Kat Mülkiyeti</td>\n",
       "      <td>Hayır</td>\n",
       "      <td>https://www.hepsiemlak.com/adana-cukurova-mahf...</td>\n",
       "      <td>Adana</td>\n",
       "      <td>Çukurova</td>\n",
       "      <td>Mahfesığmaz</td>\n",
       "    </tr>\n",
       "  </tbody>\n",
       "</table>\n",
       "</div>"
      ],
      "text/plain": [
       "                                      house_description  house_price  \\\n",
       "4237  Satılık 4+1 Daire Cevre Yolu Kozan Damar Emlak...      3650000   \n",
       "212   EMLAK MARKASI'ndan BEYAZEVLERDE DÜŞÜK KAT AVAN...      3590000   \n",
       "502   DEMİRHAN EMLAK'TAN ERTUĞRULGAZİ 'DE 2+1 KAPALI...      1780000   \n",
       "98    SOFUDEDE'DE 3+1 K.MUTFAK İSKANLI GENİŞ SATILIK...      2180000   \n",
       "2007  Tİ GROUP MAHFESIĞMAZ'DA YENİ BİNA 3+1 T.ÖZAL'A...      5550000   \n",
       "\n",
       "     property_type gross_area  net_area room_count building_age floor_number  \\\n",
       "4237         Daire     185 m²    145 m²        4+1     0 (Yeni)        1.Kat   \n",
       "212          Daire     180 m2  / 170 m2      3 + 1   26 Yaşında       1. Kat   \n",
       "502          Daire     125 m2   / 96 m2      2 + 1    6 Yaşında      10. Kat   \n",
       "98           Daire     120 m2   / 95 m2      3 + 1    4 Yaşında       5. Kat   \n",
       "2007         Daire     140 m2  / 120 m2      3 + 1   Sıfır Bina       7. Kat   \n",
       "\n",
       "     total_floors         heating bathroom_count     furnished usage_status  \\\n",
       "4237            5  Kombi Doğalgaz              2     Bilgi yok          Boş   \n",
       "212       4 Katlı           Klima              1  Eşyalı Değil     Kiracılı   \n",
       "502      15 Katlı           Kombi              1  Eşyalı Değil  Mülk Sahibi   \n",
       "98        5 Katlı           Klima              1  Eşyalı Değil          Boş   \n",
       "2007     13 Katlı           Kombi              2  Eşyalı Değil          Boş   \n",
       "\n",
       "     credit_eligible    deed_status exchange  \\\n",
       "4237   Krediye Uygun  Kat Mülkiyeti      Var   \n",
       "212            Uygun  Kat Mülkiyeti    Hayır   \n",
       "502            Uygun  Kat Mülkiyeti    Hayır   \n",
       "98             Uygun   Kat İrtifakı    Hayır   \n",
       "2007           Uygun  Kat Mülkiyeti    Hayır   \n",
       "\n",
       "                                              house_url province  district  \\\n",
       "4237  https://www.emlakjet.com/ilan/satilik-41-daire...    Adana     Kozan   \n",
       "212   https://www.hepsiemlak.com/adana-cukurova-beya...    Adana  Çukurova   \n",
       "502   https://www.hepsiemlak.com/adana-saricam-ertug...    Adana   Sarıçam   \n",
       "98    https://www.hepsiemlak.com/adana-saricam-sofud...    Adana   Sarıçam   \n",
       "2007  https://www.hepsiemlak.com/adana-cukurova-mahf...    Adana  Çukurova   \n",
       "\n",
       "      neighborhood  \n",
       "4237       Çanaklı  \n",
       "212     Beyazevler  \n",
       "502   Ertuğrulgazi  \n",
       "98        Sofudede  \n",
       "2007   Mahfesığmaz  "
      ]
     },
     "execution_count": 19,
     "metadata": {},
     "output_type": "execute_result"
    }
   ],
   "source": [
    "df.sample(5)"
   ]
  },
  {
   "cell_type": "code",
   "execution_count": 20,
   "metadata": {},
   "outputs": [
    {
     "data": {
      "text/plain": [
       "array(['Kombi', 'Klima', 'Yerden Isıtma', 'Güneş Enerjisi', 'Soba',\n",
       "       'Doğalgaz Sobası', 'Isıtma Yok', 'Kat Kaloriferi',\n",
       "       'Merkezi (Pay Ölçer)', 'Merkezi', 'Belirtilmemiş',\n",
       "       'Merkezi (Pay Öl...', 'Kombi Doğalgaz', 'Klimalı',\n",
       "       'Elektrikli Radyatör', 'Sobalı', 'Merkezi Doğalgaz',\n",
       "       'Doğalgaz Sobalı', 'Fancoil Ünitesi'], dtype=object)"
      ]
     },
     "execution_count": 20,
     "metadata": {},
     "output_type": "execute_result"
    }
   ],
   "source": [
    "df.heating.unique()"
   ]
  },
  {
   "cell_type": "code",
   "execution_count": 21,
   "metadata": {},
   "outputs": [
    {
     "data": {
      "text/html": [
       "<div>\n",
       "<style scoped>\n",
       "    .dataframe tbody tr th:only-of-type {\n",
       "        vertical-align: middle;\n",
       "    }\n",
       "\n",
       "    .dataframe tbody tr th {\n",
       "        vertical-align: top;\n",
       "    }\n",
       "\n",
       "    .dataframe thead th {\n",
       "        text-align: right;\n",
       "    }\n",
       "</style>\n",
       "<table border=\"1\" class=\"dataframe\">\n",
       "  <thead>\n",
       "    <tr style=\"text-align: right;\">\n",
       "      <th></th>\n",
       "      <th>house_description</th>\n",
       "      <th>house_price</th>\n",
       "      <th>property_type</th>\n",
       "      <th>gross_area</th>\n",
       "      <th>net_area</th>\n",
       "      <th>room_count</th>\n",
       "      <th>building_age</th>\n",
       "      <th>floor_number</th>\n",
       "      <th>total_floors</th>\n",
       "      <th>heating</th>\n",
       "      <th>bathroom_count</th>\n",
       "      <th>furnished</th>\n",
       "      <th>usage_status</th>\n",
       "      <th>credit_eligible</th>\n",
       "      <th>deed_status</th>\n",
       "      <th>exchange</th>\n",
       "      <th>house_url</th>\n",
       "      <th>province</th>\n",
       "      <th>district</th>\n",
       "      <th>neighborhood</th>\n",
       "    </tr>\n",
       "  </thead>\n",
       "  <tbody>\n",
       "    <tr>\n",
       "      <th>5</th>\n",
       "      <td>ÇUKUROVA TOROS MAHALLESİ MAVİ BULVAR ÜZERİ 3+1...</td>\n",
       "      <td>3230000</td>\n",
       "      <td>Daire</td>\n",
       "      <td>155 m2</td>\n",
       "      <td>/ 135 m2</td>\n",
       "      <td>3 + 1</td>\n",
       "      <td>22 Yaşında</td>\n",
       "      <td>4. Kat</td>\n",
       "      <td>10 Katlı</td>\n",
       "      <td>Güneş Enerjisi</td>\n",
       "      <td>1</td>\n",
       "      <td>Eşyalı Değil</td>\n",
       "      <td>Boş</td>\n",
       "      <td>Uygun</td>\n",
       "      <td>Kat Mülkiyeti</td>\n",
       "      <td>Hayır</td>\n",
       "      <td>https://www.hepsiemlak.com/adana-cukurova-toro...</td>\n",
       "      <td>Adana</td>\n",
       "      <td>Çukurova</td>\n",
       "      <td>Toros</td>\n",
       "    </tr>\n",
       "    <tr>\n",
       "      <th>217</th>\n",
       "      <td>MAVİ BULVARA YÜRÜME MESAFESİNDE GÜNEY FUL AÇIK...</td>\n",
       "      <td>1980000</td>\n",
       "      <td>Daire</td>\n",
       "      <td>145 m2</td>\n",
       "      <td>/ 115 m2</td>\n",
       "      <td>3 + 1</td>\n",
       "      <td>35 Yaşında</td>\n",
       "      <td>5. Kat</td>\n",
       "      <td>5 Katlı</td>\n",
       "      <td>Güneş Enerjisi</td>\n",
       "      <td>1</td>\n",
       "      <td>Eşyalı Değil</td>\n",
       "      <td>Boş</td>\n",
       "      <td>Uygun</td>\n",
       "      <td>Kat Mülkiyeti</td>\n",
       "      <td>Hayır</td>\n",
       "      <td>https://www.hepsiemlak.com/adana-seyhan-yesily...</td>\n",
       "      <td>Adana</td>\n",
       "      <td>Seyhan</td>\n",
       "      <td>Yeşilyurt</td>\n",
       "    </tr>\n",
       "    <tr>\n",
       "      <th>369</th>\n",
       "      <td>NCK GAYRİMENKULDEN MERKEZİ KONUMDA HAYALPARK C...</td>\n",
       "      <td>3990000</td>\n",
       "      <td>Daire</td>\n",
       "      <td>170 m2</td>\n",
       "      <td>/ 160 m2</td>\n",
       "      <td>3 + 1</td>\n",
       "      <td>12 Yaşında</td>\n",
       "      <td>Ara Kat</td>\n",
       "      <td>9 Katlı</td>\n",
       "      <td>Güneş Enerjisi</td>\n",
       "      <td>1</td>\n",
       "      <td>Eşyalı Değil</td>\n",
       "      <td>Boş</td>\n",
       "      <td>Uygun</td>\n",
       "      <td>Kat İrtifakı</td>\n",
       "      <td>Hayır</td>\n",
       "      <td>https://www.hepsiemlak.com/adana-cukurova-yurt...</td>\n",
       "      <td>Adana</td>\n",
       "      <td>Çukurova</td>\n",
       "      <td>Yurt</td>\n",
       "    </tr>\n",
       "    <tr>\n",
       "      <th>1220</th>\n",
       "      <td>BULVAR ÜZERİ MİGROS ÜSTÜ 2+1 BALKONLU SIFIR DAİRE</td>\n",
       "      <td>1950000</td>\n",
       "      <td>Daire</td>\n",
       "      <td>75 m2</td>\n",
       "      <td>/ 60 m2</td>\n",
       "      <td>2 + 1</td>\n",
       "      <td>Sıfır Bina</td>\n",
       "      <td>13. Kat</td>\n",
       "      <td>14 Katlı</td>\n",
       "      <td>Güneş Enerjisi</td>\n",
       "      <td>1</td>\n",
       "      <td>Eşyalı Değil</td>\n",
       "      <td>Boş</td>\n",
       "      <td>Uygun</td>\n",
       "      <td>Kat Mülkiyeti</td>\n",
       "      <td>Hayır</td>\n",
       "      <td>https://www.hepsiemlak.com/adana-saricam-gulte...</td>\n",
       "      <td>Adana</td>\n",
       "      <td>Sarıçam</td>\n",
       "      <td>Gültepe</td>\n",
       "    </tr>\n",
       "    <tr>\n",
       "      <th>1285</th>\n",
       "      <td>YEŞİLYURT 3+1 + KİLER CAM BALKONLU GENİŞ DAİRE</td>\n",
       "      <td>2800000</td>\n",
       "      <td>Daire</td>\n",
       "      <td>175 m2</td>\n",
       "      <td>/ 145 m2</td>\n",
       "      <td>3 + 1</td>\n",
       "      <td>16 Yaşında</td>\n",
       "      <td>9. Kat</td>\n",
       "      <td>9 Katlı</td>\n",
       "      <td>Güneş Enerjisi</td>\n",
       "      <td>1</td>\n",
       "      <td>Eşyalı Değil</td>\n",
       "      <td>Boş</td>\n",
       "      <td>Uygun</td>\n",
       "      <td>Kat Mülkiyeti</td>\n",
       "      <td>Hayır</td>\n",
       "      <td>https://www.hepsiemlak.com/adana-seyhan-yesily...</td>\n",
       "      <td>Adana</td>\n",
       "      <td>Seyhan</td>\n",
       "      <td>Yeşilyurt</td>\n",
       "    </tr>\n",
       "    <tr>\n",
       "      <th>1303</th>\n",
       "      <td>TURGUT ÖZALA 1 PARSEL GÖL MANZARALI 3+1 KAPALI...</td>\n",
       "      <td>2790000</td>\n",
       "      <td>Daire</td>\n",
       "      <td>160 m2</td>\n",
       "      <td>/ 135 m2</td>\n",
       "      <td>3 + 1</td>\n",
       "      <td>25 Yaşında</td>\n",
       "      <td>10. Kat</td>\n",
       "      <td>10 Katlı</td>\n",
       "      <td>Güneş Enerjisi</td>\n",
       "      <td>1</td>\n",
       "      <td>Eşyalı Değil</td>\n",
       "      <td>Boş</td>\n",
       "      <td>Uygun</td>\n",
       "      <td>Kat Mülkiyeti</td>\n",
       "      <td>Hayır</td>\n",
       "      <td>https://www.hepsiemlak.com/adana-cukurova-mahf...</td>\n",
       "      <td>Adana</td>\n",
       "      <td>Çukurova</td>\n",
       "      <td>Mahfesığmaz</td>\n",
       "    </tr>\n",
       "    <tr>\n",
       "      <th>1466</th>\n",
       "      <td>HAKTANIR GAYRİMENKUL”DEN BEYAZEVLERDE 4+1 SATI...</td>\n",
       "      <td>4500000</td>\n",
       "      <td>Daire</td>\n",
       "      <td>220 m2</td>\n",
       "      <td>/ 170 m2</td>\n",
       "      <td>4 + 1</td>\n",
       "      <td>15 Yaşında</td>\n",
       "      <td>6. Kat</td>\n",
       "      <td>6 Katlı</td>\n",
       "      <td>Güneş Enerjisi</td>\n",
       "      <td>2</td>\n",
       "      <td>Eşyalı Değil</td>\n",
       "      <td>Boş</td>\n",
       "      <td>Uygun</td>\n",
       "      <td>Tapu Yok</td>\n",
       "      <td>Evet</td>\n",
       "      <td>https://www.hepsiemlak.com/adana-cukurova-beya...</td>\n",
       "      <td>Adana</td>\n",
       "      <td>Çukurova</td>\n",
       "      <td>Beyazevler</td>\n",
       "    </tr>\n",
       "    <tr>\n",
       "      <th>1563</th>\n",
       "      <td>Sahibinden Satılık Apartman Dairesi HASARSIZ P...</td>\n",
       "      <td>2950000</td>\n",
       "      <td>Daire</td>\n",
       "      <td>160 m2</td>\n",
       "      <td>/ 140 m2</td>\n",
       "      <td>3 + 1</td>\n",
       "      <td>25 Yaşında</td>\n",
       "      <td>9. Kat</td>\n",
       "      <td>10 Katlı</td>\n",
       "      <td>Güneş Enerjisi</td>\n",
       "      <td>1</td>\n",
       "      <td>Eşyalı Değil</td>\n",
       "      <td>Boş</td>\n",
       "      <td>Uygun</td>\n",
       "      <td>Kat Mülkiyeti</td>\n",
       "      <td>Hayır</td>\n",
       "      <td>https://www.hepsiemlak.com/adana-seyhan-yesily...</td>\n",
       "      <td>Adana</td>\n",
       "      <td>Seyhan</td>\n",
       "      <td>Yeşilyurt</td>\n",
       "    </tr>\n",
       "    <tr>\n",
       "      <th>1572</th>\n",
       "      <td>Sarıçam Suluca Tuğçem Sitesi 3+1 Geniş Oturum</td>\n",
       "      <td>1500000</td>\n",
       "      <td>Daire</td>\n",
       "      <td>145 m2</td>\n",
       "      <td>/ 130 m2</td>\n",
       "      <td>3 + 1</td>\n",
       "      <td>7 Yaşında</td>\n",
       "      <td>7. Kat</td>\n",
       "      <td>12 Katlı</td>\n",
       "      <td>Güneş Enerjisi</td>\n",
       "      <td>2</td>\n",
       "      <td>Eşyalı Değil</td>\n",
       "      <td>Boş</td>\n",
       "      <td>Uygun</td>\n",
       "      <td>Kat Mülkiyeti</td>\n",
       "      <td>Evet</td>\n",
       "      <td>https://www.hepsiemlak.com/adana-saricam-suluc...</td>\n",
       "      <td>Adana</td>\n",
       "      <td>Sarıçam</td>\n",
       "      <td>Suluca</td>\n",
       "    </tr>\n",
       "    <tr>\n",
       "      <th>1727</th>\n",
       "      <td>SEYHAN 2000 EVLER BÜLENT ECEVİT BULVAR ÜZERİ 3...</td>\n",
       "      <td>1650000</td>\n",
       "      <td>Daire</td>\n",
       "      <td>110 m2</td>\n",
       "      <td>/ 100 m2</td>\n",
       "      <td>3 + 1</td>\n",
       "      <td>29 Yaşında</td>\n",
       "      <td>Yüksek Giriş</td>\n",
       "      <td>4 Katlı</td>\n",
       "      <td>Güneş Enerjisi</td>\n",
       "      <td>1</td>\n",
       "      <td>Eşyalı Değil</td>\n",
       "      <td>Kiracılı</td>\n",
       "      <td>Uygun değil</td>\n",
       "      <td>Kat İrtifakı</td>\n",
       "      <td>Hayır</td>\n",
       "      <td>https://www.hepsiemlak.com/adana-seyhan-2000-e...</td>\n",
       "      <td>Adana</td>\n",
       "      <td>Seyhan</td>\n",
       "      <td>2000 Evler</td>\n",
       "    </tr>\n",
       "    <tr>\n",
       "      <th>1845</th>\n",
       "      <td>SEYHAN TEPEBAĞ MAHALLESİ TEKNOSA CİVARI 3+1 SA...</td>\n",
       "      <td>2000000</td>\n",
       "      <td>Daire</td>\n",
       "      <td>170 m2</td>\n",
       "      <td>/ 140 m2</td>\n",
       "      <td>3 + 1</td>\n",
       "      <td>28 Yaşında</td>\n",
       "      <td>3. Kat</td>\n",
       "      <td>4 Katlı</td>\n",
       "      <td>Güneş Enerjisi</td>\n",
       "      <td>1</td>\n",
       "      <td>Eşyalı Değil</td>\n",
       "      <td>Kiracılı</td>\n",
       "      <td>Uygun</td>\n",
       "      <td>Kat Mülkiyeti</td>\n",
       "      <td>Evet</td>\n",
       "      <td>https://www.hepsiemlak.com/adana-seyhan-tepeba...</td>\n",
       "      <td>Adana</td>\n",
       "      <td>Seyhan</td>\n",
       "      <td>Tepebağ</td>\n",
       "    </tr>\n",
       "    <tr>\n",
       "      <th>2009</th>\n",
       "      <td>BELEDIYE EVLERINDE 3+1 GB CEPHELI SATLIK DAIRE</td>\n",
       "      <td>1900000</td>\n",
       "      <td>Daire</td>\n",
       "      <td>100 m2</td>\n",
       "      <td>/ 90 m2</td>\n",
       "      <td>3 + 1</td>\n",
       "      <td>30 Yaşında</td>\n",
       "      <td>3. Kat</td>\n",
       "      <td>4 Katlı</td>\n",
       "      <td>Güneş Enerjisi</td>\n",
       "      <td>1</td>\n",
       "      <td>Eşyalı Değil</td>\n",
       "      <td>Mülk Sahibi</td>\n",
       "      <td>Uygun değil</td>\n",
       "      <td>Kat İrtifakı</td>\n",
       "      <td>Hayır</td>\n",
       "      <td>https://www.hepsiemlak.com/adana-cukurova-bele...</td>\n",
       "      <td>Adana</td>\n",
       "      <td>Çukurova</td>\n",
       "      <td>Belediye Evleri</td>\n",
       "    </tr>\n",
       "    <tr>\n",
       "      <th>2052</th>\n",
       "      <td>ZİYAPAŞA BUL. *3+1* DBK 210 m2 5. KAT EKSTRALI...</td>\n",
       "      <td>2550000</td>\n",
       "      <td>Daire</td>\n",
       "      <td>210 m2</td>\n",
       "      <td>/ 180 m2</td>\n",
       "      <td>3 + 1</td>\n",
       "      <td>25 Yaşında</td>\n",
       "      <td>5. Kat</td>\n",
       "      <td>6 Katlı</td>\n",
       "      <td>Güneş Enerjisi</td>\n",
       "      <td>1</td>\n",
       "      <td>Eşyalı Değil</td>\n",
       "      <td>Kiracılı</td>\n",
       "      <td>Uygun</td>\n",
       "      <td>Kat Mülkiyeti</td>\n",
       "      <td>Hayır</td>\n",
       "      <td>https://www.hepsiemlak.com/adana-seyhan-cinarl...</td>\n",
       "      <td>Adana</td>\n",
       "      <td>Seyhan</td>\n",
       "      <td>Çınarlı</td>\n",
       "    </tr>\n",
       "    <tr>\n",
       "      <th>2109</th>\n",
       "      <td>REŞATBEY MAH. 3+1 GDK 165 m2 3.KAT HAZIR KİRAC...</td>\n",
       "      <td>3300000</td>\n",
       "      <td>Daire</td>\n",
       "      <td>165 m2</td>\n",
       "      <td>/ 145 m2</td>\n",
       "      <td>3 + 1</td>\n",
       "      <td>35 Yaşında</td>\n",
       "      <td>3. Kat</td>\n",
       "      <td>6 Katlı</td>\n",
       "      <td>Güneş Enerjisi</td>\n",
       "      <td>1</td>\n",
       "      <td>Eşyalı Değil</td>\n",
       "      <td>Kiracılı</td>\n",
       "      <td>Uygun</td>\n",
       "      <td>Kat İrtifakı</td>\n",
       "      <td>Hayır</td>\n",
       "      <td>https://www.hepsiemlak.com/adana-seyhan-resatb...</td>\n",
       "      <td>Adana</td>\n",
       "      <td>Seyhan</td>\n",
       "      <td>Reşatbey</td>\n",
       "    </tr>\n",
       "    <tr>\n",
       "      <th>2193</th>\n",
       "      <td>Adana Yüreğir Dadaloğlunda Satılık Daire</td>\n",
       "      <td>1550000</td>\n",
       "      <td>Daire</td>\n",
       "      <td>95 m2</td>\n",
       "      <td>/ 85 m2</td>\n",
       "      <td>2 + 1</td>\n",
       "      <td>25 Yaşında</td>\n",
       "      <td>7. Kat</td>\n",
       "      <td>12 Katlı</td>\n",
       "      <td>Güneş Enerjisi</td>\n",
       "      <td>1</td>\n",
       "      <td>Bilgi yok</td>\n",
       "      <td>Bilgi yok</td>\n",
       "      <td>Uygun</td>\n",
       "      <td>Kat İrtifakı</td>\n",
       "      <td>Bilgi yok</td>\n",
       "      <td>https://www.hepsiemlak.com/adana-yuregir-dadal...</td>\n",
       "      <td>Adana</td>\n",
       "      <td>Yüreğir</td>\n",
       "      <td>Dadaloğlu</td>\n",
       "    </tr>\n",
       "    <tr>\n",
       "      <th>2251</th>\n",
       "      <td>Karataş merkezde 3+1 denize yakın...</td>\n",
       "      <td>2850000</td>\n",
       "      <td>Daire</td>\n",
       "      <td>135 m2</td>\n",
       "      <td>/ 125 m2</td>\n",
       "      <td>3 + 1</td>\n",
       "      <td>8 Yaşında</td>\n",
       "      <td>5. Kat</td>\n",
       "      <td>5 Katlı</td>\n",
       "      <td>Güneş Enerjisi</td>\n",
       "      <td>1</td>\n",
       "      <td>Eşyalı Değil</td>\n",
       "      <td>Kiracılı</td>\n",
       "      <td>Uygun</td>\n",
       "      <td>Kat Mülkiyeti</td>\n",
       "      <td>Evet</td>\n",
       "      <td>https://www.hepsiemlak.com/adana-karatas-yeni-...</td>\n",
       "      <td>Adana</td>\n",
       "      <td>Karataş</td>\n",
       "      <td>Yeni</td>\n",
       "    </tr>\n",
       "    <tr>\n",
       "      <th>2254</th>\n",
       "      <td>SATILIK 2+1 ZEMİN KAT AÇIK MUTFAK</td>\n",
       "      <td>2290000</td>\n",
       "      <td>Daire</td>\n",
       "      <td>100 m2</td>\n",
       "      <td>/ 85 m2</td>\n",
       "      <td>2 + 1</td>\n",
       "      <td>6 Yaşında</td>\n",
       "      <td>Zemin</td>\n",
       "      <td>10 Katlı</td>\n",
       "      <td>Güneş Enerjisi</td>\n",
       "      <td>1</td>\n",
       "      <td>Eşyalı Değil</td>\n",
       "      <td>Bilgi yok</td>\n",
       "      <td>Uygun</td>\n",
       "      <td>Kat Mülkiyeti</td>\n",
       "      <td>Bilgi yok</td>\n",
       "      <td>https://www.hepsiemlak.com/adana-cukurova-yuzu...</td>\n",
       "      <td>Adana</td>\n",
       "      <td>Çukurova</td>\n",
       "      <td>Yüzüncüyıl</td>\n",
       "    </tr>\n",
       "    <tr>\n",
       "      <th>2365</th>\n",
       "      <td>KENAN EVREN BULVARINA YAKIN 3+1 KAPALI MUTFAKL...</td>\n",
       "      <td>3500000</td>\n",
       "      <td>Daire</td>\n",
       "      <td>170 m2</td>\n",
       "      <td>/ 130 m2</td>\n",
       "      <td>3 + 1</td>\n",
       "      <td>25 Yaşında</td>\n",
       "      <td>2. Kat</td>\n",
       "      <td>9 Katlı</td>\n",
       "      <td>Güneş Enerjisi</td>\n",
       "      <td>1</td>\n",
       "      <td>Eşyalı Değil</td>\n",
       "      <td>Boş</td>\n",
       "      <td>Uygun</td>\n",
       "      <td>Kat Mülkiyeti</td>\n",
       "      <td>Bilgi yok</td>\n",
       "      <td>https://www.hepsiemlak.com/adana-cukurova-mahf...</td>\n",
       "      <td>Adana</td>\n",
       "      <td>Çukurova</td>\n",
       "      <td>Mahfesığmaz</td>\n",
       "    </tr>\n",
       "    <tr>\n",
       "      <th>2436</th>\n",
       "      <td>KURTULUŞ MAHALLESİNDE SATILIK CAZİP DAİRE</td>\n",
       "      <td>2380000</td>\n",
       "      <td>Daire</td>\n",
       "      <td>130 m2</td>\n",
       "      <td>/ 110 m2</td>\n",
       "      <td>3 + 1</td>\n",
       "      <td>30 Yaşında</td>\n",
       "      <td>1. Kat</td>\n",
       "      <td>8 Katlı</td>\n",
       "      <td>Güneş Enerjisi</td>\n",
       "      <td>1</td>\n",
       "      <td>Eşyalı Değil</td>\n",
       "      <td>Kiracılı</td>\n",
       "      <td>Uygun</td>\n",
       "      <td>Kat İrtifakı</td>\n",
       "      <td>Bilgi yok</td>\n",
       "      <td>https://www.hepsiemlak.com/adana-seyhan-kurtul...</td>\n",
       "      <td>Adana</td>\n",
       "      <td>Seyhan</td>\n",
       "      <td>Kurtuluş</td>\n",
       "    </tr>\n",
       "    <tr>\n",
       "      <th>2520</th>\n",
       "      <td>HASARSIZ K,EVREN BUL.ADASA GÖBEĞİNDE 3+1 200M2...</td>\n",
       "      <td>6500000</td>\n",
       "      <td>Daire</td>\n",
       "      <td>200 m2</td>\n",
       "      <td>/ 160 m2</td>\n",
       "      <td>3 + 1</td>\n",
       "      <td>26 Yaşında</td>\n",
       "      <td>8. Kat</td>\n",
       "      <td>10 Katlı</td>\n",
       "      <td>Güneş Enerjisi</td>\n",
       "      <td>1</td>\n",
       "      <td>Eşyalı Değil</td>\n",
       "      <td>Boş</td>\n",
       "      <td>Uygun</td>\n",
       "      <td>Kat Mülkiyeti</td>\n",
       "      <td>Hayır</td>\n",
       "      <td>https://www.hepsiemlak.com/adana-cukurova-mahf...</td>\n",
       "      <td>Adana</td>\n",
       "      <td>Çukurova</td>\n",
       "      <td>Mahfesığmaz</td>\n",
       "    </tr>\n",
       "    <tr>\n",
       "      <th>2829</th>\n",
       "      <td>EMLAK STORE'DAN HUZUREVLERİNDE MASRAFSIZ 3+1 S...</td>\n",
       "      <td>3250000</td>\n",
       "      <td>Daire</td>\n",
       "      <td>185 m2</td>\n",
       "      <td>/ 155 m2</td>\n",
       "      <td>3 + 1</td>\n",
       "      <td>20 Yaşında</td>\n",
       "      <td>5. Kat</td>\n",
       "      <td>10 Katlı</td>\n",
       "      <td>Güneş Enerjisi</td>\n",
       "      <td>1</td>\n",
       "      <td>Eşyalı Değil</td>\n",
       "      <td>Boş</td>\n",
       "      <td>Uygun</td>\n",
       "      <td>Kat Mülkiyeti</td>\n",
       "      <td>Hayır</td>\n",
       "      <td>https://www.hepsiemlak.com/adana-cukurova-yurt...</td>\n",
       "      <td>Adana</td>\n",
       "      <td>Çukurova</td>\n",
       "      <td>Yurt</td>\n",
       "    </tr>\n",
       "    <tr>\n",
       "      <th>2849</th>\n",
       "      <td>M.BULVARDA 3+1 BULVARA YAKIN 1.KAT</td>\n",
       "      <td>2500000</td>\n",
       "      <td>Daire</td>\n",
       "      <td>160 m2</td>\n",
       "      <td>/ 145 m2</td>\n",
       "      <td>3 + 1</td>\n",
       "      <td>25 Yaşında</td>\n",
       "      <td>1. Kat</td>\n",
       "      <td>11 Katlı</td>\n",
       "      <td>Güneş Enerjisi</td>\n",
       "      <td>1</td>\n",
       "      <td>Eşyalı Değil</td>\n",
       "      <td>Kiracılı</td>\n",
       "      <td>Uygun</td>\n",
       "      <td>Kat Mülkiyeti</td>\n",
       "      <td>Hayır</td>\n",
       "      <td>https://www.hepsiemlak.com/adana-seyhan-yesily...</td>\n",
       "      <td>Adana</td>\n",
       "      <td>Seyhan</td>\n",
       "      <td>Yeşilyurt</td>\n",
       "    </tr>\n",
       "    <tr>\n",
       "      <th>2877</th>\n",
       "      <td>Sarıçam Gültpede 3 +1 kapalı mutfak daire</td>\n",
       "      <td>1875000</td>\n",
       "      <td>Daire</td>\n",
       "      <td>120 m2</td>\n",
       "      <td>/ 110 m2</td>\n",
       "      <td>3 + 1</td>\n",
       "      <td>5 Yaşında</td>\n",
       "      <td>3. Kat</td>\n",
       "      <td>12 Katlı</td>\n",
       "      <td>Güneş Enerjisi</td>\n",
       "      <td>1</td>\n",
       "      <td>Bilgi yok</td>\n",
       "      <td>Bilgi yok</td>\n",
       "      <td>Uygun</td>\n",
       "      <td>Kat Mülkiyeti</td>\n",
       "      <td>Hayır</td>\n",
       "      <td>https://www.hepsiemlak.com/adana-saricam-gulte...</td>\n",
       "      <td>Adana</td>\n",
       "      <td>Sarıçam</td>\n",
       "      <td>Gültepe</td>\n",
       "    </tr>\n",
       "    <tr>\n",
       "      <th>3056</th>\n",
       "      <td>TOROS MAHALLESİNDE MERKEZİ YERDE MASRAFSIZ SAT...</td>\n",
       "      <td>2100000</td>\n",
       "      <td>Daire</td>\n",
       "      <td>110 m2</td>\n",
       "      <td>/ 74 m2</td>\n",
       "      <td>2 + 1</td>\n",
       "      <td>25 Yaşında</td>\n",
       "      <td>Yüksek Giriş</td>\n",
       "      <td>8 Katlı</td>\n",
       "      <td>Güneş Enerjisi</td>\n",
       "      <td>1</td>\n",
       "      <td>Eşyalı Değil</td>\n",
       "      <td>Boş</td>\n",
       "      <td>Uygun</td>\n",
       "      <td>Kat Mülkiyeti</td>\n",
       "      <td>Hayır</td>\n",
       "      <td>https://www.hepsiemlak.com/adana-cukurova-mahf...</td>\n",
       "      <td>Adana</td>\n",
       "      <td>Çukurova</td>\n",
       "      <td>Mahfesığmaz</td>\n",
       "    </tr>\n",
       "    <tr>\n",
       "      <th>3156</th>\n",
       "      <td>Tİ GROUP KENAN EVREN BULVAR ÜZERİ 2+1 KAPALI M...</td>\n",
       "      <td>3150000</td>\n",
       "      <td>Daire</td>\n",
       "      <td>100 m2</td>\n",
       "      <td>/ 90 m2</td>\n",
       "      <td>2 + 1</td>\n",
       "      <td>26 Yaşında</td>\n",
       "      <td>3. Kat</td>\n",
       "      <td>3 Katlı</td>\n",
       "      <td>Güneş Enerjisi</td>\n",
       "      <td>1</td>\n",
       "      <td>Eşyalı Değil</td>\n",
       "      <td>Mülk Sahibi</td>\n",
       "      <td>Uygun</td>\n",
       "      <td>Kat Mülkiyeti</td>\n",
       "      <td>Hayır</td>\n",
       "      <td>https://www.hepsiemlak.com/adana-cukurova-mahf...</td>\n",
       "      <td>Adana</td>\n",
       "      <td>Çukurova</td>\n",
       "      <td>Mahfesığmaz</td>\n",
       "    </tr>\n",
       "    <tr>\n",
       "      <th>3564</th>\n",
       "      <td>ÇUKUROVA TOROS MAHALLESİ MAVİ BULVAR ÜZERİ 3+1...</td>\n",
       "      <td>3230000</td>\n",
       "      <td>Daire</td>\n",
       "      <td>155 m2</td>\n",
       "      <td>/ 135 m2</td>\n",
       "      <td>3 + 1</td>\n",
       "      <td>22 Yaşında</td>\n",
       "      <td>4. Kat</td>\n",
       "      <td>10 Katlı</td>\n",
       "      <td>Güneş Enerjisi</td>\n",
       "      <td>1</td>\n",
       "      <td>Eşyalı Değil</td>\n",
       "      <td>Boş</td>\n",
       "      <td>Uygun</td>\n",
       "      <td>Kat Mülkiyeti</td>\n",
       "      <td>Hayır</td>\n",
       "      <td>https://www.hepsiemlak.com/adana-cukurova-toro...</td>\n",
       "      <td>Adana</td>\n",
       "      <td>Çukurova</td>\n",
       "      <td>Toros</td>\n",
       "    </tr>\n",
       "    <tr>\n",
       "      <th>3891</th>\n",
       "      <td>Beycelide 3 Katli Mustakil Ev</td>\n",
       "      <td>4750000</td>\n",
       "      <td>Daire</td>\n",
       "      <td>200 m²</td>\n",
       "      <td>85 m²</td>\n",
       "      <td>2+1</td>\n",
       "      <td>5-10</td>\n",
       "      <td>2.Kat</td>\n",
       "      <td>3</td>\n",
       "      <td>Güneş Enerjisi</td>\n",
       "      <td>1</td>\n",
       "      <td>Bilgi yok</td>\n",
       "      <td>Kiracı Oturuyor</td>\n",
       "      <td>Krediye Uygun Değil</td>\n",
       "      <td>Arsa Tapulu</td>\n",
       "      <td>Bilgi yok</td>\n",
       "      <td>https://www.emlakjet.com/ilan/beycelide-3-katl...</td>\n",
       "      <td>Adana</td>\n",
       "      <td>Sarıçam</td>\n",
       "      <td>Beyceli</td>\n",
       "    </tr>\n",
       "    <tr>\n",
       "      <th>4345</th>\n",
       "      <td>Emlak Store'dan Huzurevlerinde Masrafsız 3+1 S...</td>\n",
       "      <td>3250000</td>\n",
       "      <td>Daire</td>\n",
       "      <td>185 m²</td>\n",
       "      <td>155 m²</td>\n",
       "      <td>3+1</td>\n",
       "      <td>16-20</td>\n",
       "      <td>5.Kat</td>\n",
       "      <td>10</td>\n",
       "      <td>Güneş Enerjisi</td>\n",
       "      <td>1</td>\n",
       "      <td>Bilgi yok</td>\n",
       "      <td>Boş</td>\n",
       "      <td>Krediye Uygun</td>\n",
       "      <td>Kat Mülkiyeti</td>\n",
       "      <td>Yok</td>\n",
       "      <td>https://www.emlakjet.com/ilan/emlak-store-dan-...</td>\n",
       "      <td>Adana</td>\n",
       "      <td>Çukurova</td>\n",
       "      <td>Huzurevleri</td>\n",
       "    </tr>\n",
       "    <tr>\n",
       "      <th>4672</th>\n",
       "      <td>Amaç Dan Yeşilyurt Abdi İpekçi Cad.civari 2 Ka...</td>\n",
       "      <td>2525000</td>\n",
       "      <td>Daire</td>\n",
       "      <td>150 m²</td>\n",
       "      <td>100 m²</td>\n",
       "      <td>4+1</td>\n",
       "      <td>16-20</td>\n",
       "      <td>Bahçe Dublex</td>\n",
       "      <td>2</td>\n",
       "      <td>Güneş Enerjisi</td>\n",
       "      <td>2</td>\n",
       "      <td>Bilgi yok</td>\n",
       "      <td>Boş</td>\n",
       "      <td>Krediye Uygun Değil</td>\n",
       "      <td>Arsa Tapulu</td>\n",
       "      <td>Bilgi yok</td>\n",
       "      <td>https://www.emlakjet.com/ilan/amac-dan-yesilyu...</td>\n",
       "      <td>Adana</td>\n",
       "      <td>Seyhan</td>\n",
       "      <td>Yeşilyurt</td>\n",
       "    </tr>\n",
       "  </tbody>\n",
       "</table>\n",
       "</div>"
      ],
      "text/plain": [
       "                                      house_description  house_price  \\\n",
       "5     ÇUKUROVA TOROS MAHALLESİ MAVİ BULVAR ÜZERİ 3+1...      3230000   \n",
       "217   MAVİ BULVARA YÜRÜME MESAFESİNDE GÜNEY FUL AÇIK...      1980000   \n",
       "369   NCK GAYRİMENKULDEN MERKEZİ KONUMDA HAYALPARK C...      3990000   \n",
       "1220  BULVAR ÜZERİ MİGROS ÜSTÜ 2+1 BALKONLU SIFIR DAİRE      1950000   \n",
       "1285     YEŞİLYURT 3+1 + KİLER CAM BALKONLU GENİŞ DAİRE      2800000   \n",
       "1303  TURGUT ÖZALA 1 PARSEL GÖL MANZARALI 3+1 KAPALI...      2790000   \n",
       "1466  HAKTANIR GAYRİMENKUL”DEN BEYAZEVLERDE 4+1 SATI...      4500000   \n",
       "1563  Sahibinden Satılık Apartman Dairesi HASARSIZ P...      2950000   \n",
       "1572      Sarıçam Suluca Tuğçem Sitesi 3+1 Geniş Oturum      1500000   \n",
       "1727  SEYHAN 2000 EVLER BÜLENT ECEVİT BULVAR ÜZERİ 3...      1650000   \n",
       "1845  SEYHAN TEPEBAĞ MAHALLESİ TEKNOSA CİVARI 3+1 SA...      2000000   \n",
       "2009     BELEDIYE EVLERINDE 3+1 GB CEPHELI SATLIK DAIRE      1900000   \n",
       "2052  ZİYAPAŞA BUL. *3+1* DBK 210 m2 5. KAT EKSTRALI...      2550000   \n",
       "2109  REŞATBEY MAH. 3+1 GDK 165 m2 3.KAT HAZIR KİRAC...      3300000   \n",
       "2193           Adana Yüreğir Dadaloğlunda Satılık Daire      1550000   \n",
       "2251               Karataş merkezde 3+1 denize yakın...      2850000   \n",
       "2254                  SATILIK 2+1 ZEMİN KAT AÇIK MUTFAK      2290000   \n",
       "2365  KENAN EVREN BULVARINA YAKIN 3+1 KAPALI MUTFAKL...      3500000   \n",
       "2436          KURTULUŞ MAHALLESİNDE SATILIK CAZİP DAİRE      2380000   \n",
       "2520  HASARSIZ K,EVREN BUL.ADASA GÖBEĞİNDE 3+1 200M2...      6500000   \n",
       "2829  EMLAK STORE'DAN HUZUREVLERİNDE MASRAFSIZ 3+1 S...      3250000   \n",
       "2849                 M.BULVARDA 3+1 BULVARA YAKIN 1.KAT      2500000   \n",
       "2877          Sarıçam Gültpede 3 +1 kapalı mutfak daire      1875000   \n",
       "3056  TOROS MAHALLESİNDE MERKEZİ YERDE MASRAFSIZ SAT...      2100000   \n",
       "3156  Tİ GROUP KENAN EVREN BULVAR ÜZERİ 2+1 KAPALI M...      3150000   \n",
       "3564  ÇUKUROVA TOROS MAHALLESİ MAVİ BULVAR ÜZERİ 3+1...      3230000   \n",
       "3891                      Beycelide 3 Katli Mustakil Ev      4750000   \n",
       "4345  Emlak Store'dan Huzurevlerinde Masrafsız 3+1 S...      3250000   \n",
       "4672  Amaç Dan Yeşilyurt Abdi İpekçi Cad.civari 2 Ka...      2525000   \n",
       "\n",
       "     property_type gross_area  net_area room_count building_age  floor_number  \\\n",
       "5            Daire     155 m2  / 135 m2      3 + 1   22 Yaşında        4. Kat   \n",
       "217          Daire     145 m2  / 115 m2      3 + 1   35 Yaşında        5. Kat   \n",
       "369          Daire     170 m2  / 160 m2      3 + 1   12 Yaşında       Ara Kat   \n",
       "1220         Daire      75 m2   / 60 m2      2 + 1   Sıfır Bina       13. Kat   \n",
       "1285         Daire     175 m2  / 145 m2      3 + 1   16 Yaşında        9. Kat   \n",
       "1303         Daire     160 m2  / 135 m2      3 + 1   25 Yaşında       10. Kat   \n",
       "1466         Daire     220 m2  / 170 m2      4 + 1   15 Yaşında        6. Kat   \n",
       "1563         Daire     160 m2  / 140 m2      3 + 1   25 Yaşında        9. Kat   \n",
       "1572         Daire     145 m2  / 130 m2      3 + 1    7 Yaşında        7. Kat   \n",
       "1727         Daire     110 m2  / 100 m2      3 + 1   29 Yaşında  Yüksek Giriş   \n",
       "1845         Daire     170 m2  / 140 m2      3 + 1   28 Yaşında        3. Kat   \n",
       "2009         Daire     100 m2   / 90 m2      3 + 1   30 Yaşında        3. Kat   \n",
       "2052         Daire     210 m2  / 180 m2      3 + 1   25 Yaşında        5. Kat   \n",
       "2109         Daire     165 m2  / 145 m2      3 + 1   35 Yaşında        3. Kat   \n",
       "2193         Daire      95 m2   / 85 m2      2 + 1   25 Yaşında        7. Kat   \n",
       "2251         Daire     135 m2  / 125 m2      3 + 1    8 Yaşında        5. Kat   \n",
       "2254         Daire     100 m2   / 85 m2      2 + 1    6 Yaşında         Zemin   \n",
       "2365         Daire     170 m2  / 130 m2      3 + 1   25 Yaşında        2. Kat   \n",
       "2436         Daire     130 m2  / 110 m2      3 + 1   30 Yaşında        1. Kat   \n",
       "2520         Daire     200 m2  / 160 m2      3 + 1   26 Yaşında        8. Kat   \n",
       "2829         Daire     185 m2  / 155 m2      3 + 1   20 Yaşında        5. Kat   \n",
       "2849         Daire     160 m2  / 145 m2      3 + 1   25 Yaşında        1. Kat   \n",
       "2877         Daire     120 m2  / 110 m2      3 + 1    5 Yaşında        3. Kat   \n",
       "3056         Daire     110 m2   / 74 m2      2 + 1   25 Yaşında  Yüksek Giriş   \n",
       "3156         Daire     100 m2   / 90 m2      2 + 1   26 Yaşında        3. Kat   \n",
       "3564         Daire     155 m2  / 135 m2      3 + 1   22 Yaşında        4. Kat   \n",
       "3891         Daire     200 m²     85 m²        2+1         5-10         2.Kat   \n",
       "4345         Daire     185 m²    155 m²        3+1        16-20         5.Kat   \n",
       "4672         Daire     150 m²    100 m²        4+1        16-20  Bahçe Dublex   \n",
       "\n",
       "     total_floors         heating bathroom_count     furnished  \\\n",
       "5        10 Katlı  Güneş Enerjisi              1  Eşyalı Değil   \n",
       "217       5 Katlı  Güneş Enerjisi              1  Eşyalı Değil   \n",
       "369       9 Katlı  Güneş Enerjisi              1  Eşyalı Değil   \n",
       "1220     14 Katlı  Güneş Enerjisi              1  Eşyalı Değil   \n",
       "1285      9 Katlı  Güneş Enerjisi              1  Eşyalı Değil   \n",
       "1303     10 Katlı  Güneş Enerjisi              1  Eşyalı Değil   \n",
       "1466      6 Katlı  Güneş Enerjisi              2  Eşyalı Değil   \n",
       "1563     10 Katlı  Güneş Enerjisi              1  Eşyalı Değil   \n",
       "1572     12 Katlı  Güneş Enerjisi              2  Eşyalı Değil   \n",
       "1727      4 Katlı  Güneş Enerjisi              1  Eşyalı Değil   \n",
       "1845      4 Katlı  Güneş Enerjisi              1  Eşyalı Değil   \n",
       "2009      4 Katlı  Güneş Enerjisi              1  Eşyalı Değil   \n",
       "2052      6 Katlı  Güneş Enerjisi              1  Eşyalı Değil   \n",
       "2109      6 Katlı  Güneş Enerjisi              1  Eşyalı Değil   \n",
       "2193     12 Katlı  Güneş Enerjisi              1     Bilgi yok   \n",
       "2251      5 Katlı  Güneş Enerjisi              1  Eşyalı Değil   \n",
       "2254     10 Katlı  Güneş Enerjisi              1  Eşyalı Değil   \n",
       "2365      9 Katlı  Güneş Enerjisi              1  Eşyalı Değil   \n",
       "2436      8 Katlı  Güneş Enerjisi              1  Eşyalı Değil   \n",
       "2520     10 Katlı  Güneş Enerjisi              1  Eşyalı Değil   \n",
       "2829     10 Katlı  Güneş Enerjisi              1  Eşyalı Değil   \n",
       "2849     11 Katlı  Güneş Enerjisi              1  Eşyalı Değil   \n",
       "2877     12 Katlı  Güneş Enerjisi              1     Bilgi yok   \n",
       "3056      8 Katlı  Güneş Enerjisi              1  Eşyalı Değil   \n",
       "3156      3 Katlı  Güneş Enerjisi              1  Eşyalı Değil   \n",
       "3564     10 Katlı  Güneş Enerjisi              1  Eşyalı Değil   \n",
       "3891            3  Güneş Enerjisi              1     Bilgi yok   \n",
       "4345           10  Güneş Enerjisi              1     Bilgi yok   \n",
       "4672            2  Güneş Enerjisi              2     Bilgi yok   \n",
       "\n",
       "         usage_status      credit_eligible    deed_status   exchange  \\\n",
       "5                 Boş                Uygun  Kat Mülkiyeti      Hayır   \n",
       "217               Boş                Uygun  Kat Mülkiyeti      Hayır   \n",
       "369               Boş                Uygun   Kat İrtifakı      Hayır   \n",
       "1220              Boş                Uygun  Kat Mülkiyeti      Hayır   \n",
       "1285              Boş                Uygun  Kat Mülkiyeti      Hayır   \n",
       "1303              Boş                Uygun  Kat Mülkiyeti      Hayır   \n",
       "1466              Boş                Uygun       Tapu Yok       Evet   \n",
       "1563              Boş                Uygun  Kat Mülkiyeti      Hayır   \n",
       "1572              Boş                Uygun  Kat Mülkiyeti       Evet   \n",
       "1727         Kiracılı          Uygun değil   Kat İrtifakı      Hayır   \n",
       "1845         Kiracılı                Uygun  Kat Mülkiyeti       Evet   \n",
       "2009      Mülk Sahibi          Uygun değil   Kat İrtifakı      Hayır   \n",
       "2052         Kiracılı                Uygun  Kat Mülkiyeti      Hayır   \n",
       "2109         Kiracılı                Uygun   Kat İrtifakı      Hayır   \n",
       "2193        Bilgi yok                Uygun   Kat İrtifakı  Bilgi yok   \n",
       "2251         Kiracılı                Uygun  Kat Mülkiyeti       Evet   \n",
       "2254        Bilgi yok                Uygun  Kat Mülkiyeti  Bilgi yok   \n",
       "2365              Boş                Uygun  Kat Mülkiyeti  Bilgi yok   \n",
       "2436         Kiracılı                Uygun   Kat İrtifakı  Bilgi yok   \n",
       "2520              Boş                Uygun  Kat Mülkiyeti      Hayır   \n",
       "2829              Boş                Uygun  Kat Mülkiyeti      Hayır   \n",
       "2849         Kiracılı                Uygun  Kat Mülkiyeti      Hayır   \n",
       "2877        Bilgi yok                Uygun  Kat Mülkiyeti      Hayır   \n",
       "3056              Boş                Uygun  Kat Mülkiyeti      Hayır   \n",
       "3156      Mülk Sahibi                Uygun  Kat Mülkiyeti      Hayır   \n",
       "3564              Boş                Uygun  Kat Mülkiyeti      Hayır   \n",
       "3891  Kiracı Oturuyor  Krediye Uygun Değil    Arsa Tapulu  Bilgi yok   \n",
       "4345              Boş        Krediye Uygun  Kat Mülkiyeti        Yok   \n",
       "4672              Boş  Krediye Uygun Değil    Arsa Tapulu  Bilgi yok   \n",
       "\n",
       "                                              house_url province  district  \\\n",
       "5     https://www.hepsiemlak.com/adana-cukurova-toro...    Adana  Çukurova   \n",
       "217   https://www.hepsiemlak.com/adana-seyhan-yesily...    Adana    Seyhan   \n",
       "369   https://www.hepsiemlak.com/adana-cukurova-yurt...    Adana  Çukurova   \n",
       "1220  https://www.hepsiemlak.com/adana-saricam-gulte...    Adana   Sarıçam   \n",
       "1285  https://www.hepsiemlak.com/adana-seyhan-yesily...    Adana    Seyhan   \n",
       "1303  https://www.hepsiemlak.com/adana-cukurova-mahf...    Adana  Çukurova   \n",
       "1466  https://www.hepsiemlak.com/adana-cukurova-beya...    Adana  Çukurova   \n",
       "1563  https://www.hepsiemlak.com/adana-seyhan-yesily...    Adana    Seyhan   \n",
       "1572  https://www.hepsiemlak.com/adana-saricam-suluc...    Adana   Sarıçam   \n",
       "1727  https://www.hepsiemlak.com/adana-seyhan-2000-e...    Adana    Seyhan   \n",
       "1845  https://www.hepsiemlak.com/adana-seyhan-tepeba...    Adana    Seyhan   \n",
       "2009  https://www.hepsiemlak.com/adana-cukurova-bele...    Adana  Çukurova   \n",
       "2052  https://www.hepsiemlak.com/adana-seyhan-cinarl...    Adana    Seyhan   \n",
       "2109  https://www.hepsiemlak.com/adana-seyhan-resatb...    Adana    Seyhan   \n",
       "2193  https://www.hepsiemlak.com/adana-yuregir-dadal...    Adana   Yüreğir   \n",
       "2251  https://www.hepsiemlak.com/adana-karatas-yeni-...    Adana   Karataş   \n",
       "2254  https://www.hepsiemlak.com/adana-cukurova-yuzu...    Adana  Çukurova   \n",
       "2365  https://www.hepsiemlak.com/adana-cukurova-mahf...    Adana  Çukurova   \n",
       "2436  https://www.hepsiemlak.com/adana-seyhan-kurtul...    Adana    Seyhan   \n",
       "2520  https://www.hepsiemlak.com/adana-cukurova-mahf...    Adana  Çukurova   \n",
       "2829  https://www.hepsiemlak.com/adana-cukurova-yurt...    Adana  Çukurova   \n",
       "2849  https://www.hepsiemlak.com/adana-seyhan-yesily...    Adana    Seyhan   \n",
       "2877  https://www.hepsiemlak.com/adana-saricam-gulte...    Adana   Sarıçam   \n",
       "3056  https://www.hepsiemlak.com/adana-cukurova-mahf...    Adana  Çukurova   \n",
       "3156  https://www.hepsiemlak.com/adana-cukurova-mahf...    Adana  Çukurova   \n",
       "3564  https://www.hepsiemlak.com/adana-cukurova-toro...    Adana  Çukurova   \n",
       "3891  https://www.emlakjet.com/ilan/beycelide-3-katl...    Adana   Sarıçam   \n",
       "4345  https://www.emlakjet.com/ilan/emlak-store-dan-...    Adana  Çukurova   \n",
       "4672  https://www.emlakjet.com/ilan/amac-dan-yesilyu...    Adana    Seyhan   \n",
       "\n",
       "         neighborhood  \n",
       "5               Toros  \n",
       "217         Yeşilyurt  \n",
       "369              Yurt  \n",
       "1220          Gültepe  \n",
       "1285        Yeşilyurt  \n",
       "1303      Mahfesığmaz  \n",
       "1466       Beyazevler  \n",
       "1563        Yeşilyurt  \n",
       "1572           Suluca  \n",
       "1727       2000 Evler  \n",
       "1845          Tepebağ  \n",
       "2009  Belediye Evleri  \n",
       "2052          Çınarlı  \n",
       "2109         Reşatbey  \n",
       "2193        Dadaloğlu  \n",
       "2251             Yeni  \n",
       "2254       Yüzüncüyıl  \n",
       "2365      Mahfesığmaz  \n",
       "2436         Kurtuluş  \n",
       "2520      Mahfesığmaz  \n",
       "2829             Yurt  \n",
       "2849        Yeşilyurt  \n",
       "2877          Gültepe  \n",
       "3056      Mahfesığmaz  \n",
       "3156      Mahfesığmaz  \n",
       "3564            Toros  \n",
       "3891          Beyceli  \n",
       "4345      Huzurevleri  \n",
       "4672        Yeşilyurt  "
      ]
     },
     "execution_count": 21,
     "metadata": {},
     "output_type": "execute_result"
    }
   ],
   "source": [
    "df.loc[df[\"heating\"]==\"Güneş Enerjisi\"] "
   ]
  },
  {
   "cell_type": "code",
   "execution_count": 22,
   "metadata": {},
   "outputs": [
    {
     "data": {
      "text/html": [
       "<pre style=\"white-space:pre;overflow-x:auto;line-height:normal;font-family:Menlo,'DejaVu Sans Mono',consolas,'Courier New',monospace\"><span style=\"color: #008000; text-decoration-color: #008000\">Kombi TİPİ ISITMA SAYISI:</span> <span style=\"color: #008080; text-decoration-color: #008080; font-weight: bold\">2253</span>\n",
       "</pre>\n"
      ],
      "text/plain": [
       "\u001b[32mKombi TİPİ ISITMA SAYISI:\u001b[0m \u001b[1;36m2253\u001b[0m\n"
      ]
     },
     "metadata": {},
     "output_type": "display_data"
    },
    {
     "data": {
      "text/html": [
       "<pre style=\"white-space:pre;overflow-x:auto;line-height:normal;font-family:Menlo,'DejaVu Sans Mono',consolas,'Courier New',monospace\"><span style=\"color: #008000; text-decoration-color: #008000\">Klima TİPİ ISITMA SAYISI:</span> <span style=\"color: #008080; text-decoration-color: #008080; font-weight: bold\">908</span>\n",
       "</pre>\n"
      ],
      "text/plain": [
       "\u001b[32mKlima TİPİ ISITMA SAYISI:\u001b[0m \u001b[1;36m908\u001b[0m\n"
      ]
     },
     "metadata": {},
     "output_type": "display_data"
    },
    {
     "data": {
      "text/html": [
       "<pre style=\"white-space:pre;overflow-x:auto;line-height:normal;font-family:Menlo,'DejaVu Sans Mono',consolas,'Courier New',monospace\"><span style=\"color: #008000; text-decoration-color: #008000\">Yerden Isıtma TİPİ ISITMA SAYISI:</span> <span style=\"color: #008080; text-decoration-color: #008080; font-weight: bold\">43</span>\n",
       "</pre>\n"
      ],
      "text/plain": [
       "\u001b[32mYerden Isıtma TİPİ ISITMA SAYISI:\u001b[0m \u001b[1;36m43\u001b[0m\n"
      ]
     },
     "metadata": {},
     "output_type": "display_data"
    },
    {
     "data": {
      "text/html": [
       "<pre style=\"white-space:pre;overflow-x:auto;line-height:normal;font-family:Menlo,'DejaVu Sans Mono',consolas,'Courier New',monospace\"><span style=\"color: #008000; text-decoration-color: #008000\">Güneş Enerjisi TİPİ ISITMA SAYISI:</span> <span style=\"color: #008080; text-decoration-color: #008080; font-weight: bold\">28</span>\n",
       "</pre>\n"
      ],
      "text/plain": [
       "\u001b[32mGüneş Enerjisi TİPİ ISITMA SAYISI:\u001b[0m \u001b[1;36m28\u001b[0m\n"
      ]
     },
     "metadata": {},
     "output_type": "display_data"
    },
    {
     "data": {
      "text/html": [
       "<pre style=\"white-space:pre;overflow-x:auto;line-height:normal;font-family:Menlo,'DejaVu Sans Mono',consolas,'Courier New',monospace\"><span style=\"color: #008000; text-decoration-color: #008000\">Soba TİPİ ISITMA SAYISI:</span> <span style=\"color: #008080; text-decoration-color: #008080; font-weight: bold\">8</span>\n",
       "</pre>\n"
      ],
      "text/plain": [
       "\u001b[32mSoba TİPİ ISITMA SAYISI:\u001b[0m \u001b[1;36m8\u001b[0m\n"
      ]
     },
     "metadata": {},
     "output_type": "display_data"
    },
    {
     "data": {
      "text/html": [
       "<pre style=\"white-space:pre;overflow-x:auto;line-height:normal;font-family:Menlo,'DejaVu Sans Mono',consolas,'Courier New',monospace\"><span style=\"color: #008000; text-decoration-color: #008000\">Doğalgaz Sobası TİPİ ISITMA SAYISI:</span> <span style=\"color: #008080; text-decoration-color: #008080; font-weight: bold\">14</span>\n",
       "</pre>\n"
      ],
      "text/plain": [
       "\u001b[32mDoğalgaz Sobası TİPİ ISITMA SAYISI:\u001b[0m \u001b[1;36m14\u001b[0m\n"
      ]
     },
     "metadata": {},
     "output_type": "display_data"
    },
    {
     "data": {
      "text/html": [
       "<pre style=\"white-space:pre;overflow-x:auto;line-height:normal;font-family:Menlo,'DejaVu Sans Mono',consolas,'Courier New',monospace\"><span style=\"color: #008000; text-decoration-color: #008000\">Isıtma Yok TİPİ ISITMA SAYISI:</span> <span style=\"color: #008080; text-decoration-color: #008080; font-weight: bold\">224</span>\n",
       "</pre>\n"
      ],
      "text/plain": [
       "\u001b[32mIsıtma Yok TİPİ ISITMA SAYISI:\u001b[0m \u001b[1;36m224\u001b[0m\n"
      ]
     },
     "metadata": {},
     "output_type": "display_data"
    },
    {
     "data": {
      "text/html": [
       "<pre style=\"white-space:pre;overflow-x:auto;line-height:normal;font-family:Menlo,'DejaVu Sans Mono',consolas,'Courier New',monospace\"><span style=\"color: #008000; text-decoration-color: #008000\">Kat Kaloriferi TİPİ ISITMA SAYISI:</span> <span style=\"color: #008080; text-decoration-color: #008080; font-weight: bold\">35</span>\n",
       "</pre>\n"
      ],
      "text/plain": [
       "\u001b[32mKat Kaloriferi TİPİ ISITMA SAYISI:\u001b[0m \u001b[1;36m35\u001b[0m\n"
      ]
     },
     "metadata": {},
     "output_type": "display_data"
    },
    {
     "data": {
      "text/html": [
       "<pre style=\"white-space:pre;overflow-x:auto;line-height:normal;font-family:Menlo,'DejaVu Sans Mono',consolas,'Courier New',monospace\"><span style=\"color: #008000; text-decoration-color: #008000\">Merkezi </span><span style=\"color: #008000; text-decoration-color: #008000; font-weight: bold\">(</span><span style=\"color: #008000; text-decoration-color: #008000\">Pay Ölçer</span><span style=\"color: #008000; text-decoration-color: #008000; font-weight: bold\">)</span><span style=\"color: #008000; text-decoration-color: #008000\"> TİPİ ISITMA SAYISI:</span> <span style=\"color: #008080; text-decoration-color: #008080; font-weight: bold\">61</span>\n",
       "</pre>\n"
      ],
      "text/plain": [
       "\u001b[32mMerkezi \u001b[0m\u001b[1;32m(\u001b[0m\u001b[32mPay Ölçer\u001b[0m\u001b[1;32m)\u001b[0m\u001b[32m TİPİ ISITMA SAYISI:\u001b[0m \u001b[1;36m61\u001b[0m\n"
      ]
     },
     "metadata": {},
     "output_type": "display_data"
    },
    {
     "data": {
      "text/html": [
       "<pre style=\"white-space:pre;overflow-x:auto;line-height:normal;font-family:Menlo,'DejaVu Sans Mono',consolas,'Courier New',monospace\"><span style=\"color: #008000; text-decoration-color: #008000\">Merkezi TİPİ ISITMA SAYISI:</span> <span style=\"color: #008080; text-decoration-color: #008080; font-weight: bold\">24</span>\n",
       "</pre>\n"
      ],
      "text/plain": [
       "\u001b[32mMerkezi TİPİ ISITMA SAYISI:\u001b[0m \u001b[1;36m24\u001b[0m\n"
      ]
     },
     "metadata": {},
     "output_type": "display_data"
    },
    {
     "data": {
      "text/html": [
       "<pre style=\"white-space:pre;overflow-x:auto;line-height:normal;font-family:Menlo,'DejaVu Sans Mono',consolas,'Courier New',monospace\"><span style=\"color: #008000; text-decoration-color: #008000\">Belirtilmemiş TİPİ ISITMA SAYISI:</span> <span style=\"color: #008080; text-decoration-color: #008080; font-weight: bold\">28</span>\n",
       "</pre>\n"
      ],
      "text/plain": [
       "\u001b[32mBelirtilmemiş TİPİ ISITMA SAYISI:\u001b[0m \u001b[1;36m28\u001b[0m\n"
      ]
     },
     "metadata": {},
     "output_type": "display_data"
    },
    {
     "data": {
      "text/html": [
       "<pre style=\"white-space:pre;overflow-x:auto;line-height:normal;font-family:Menlo,'DejaVu Sans Mono',consolas,'Courier New',monospace\"><span style=\"color: #008000; text-decoration-color: #008000\">Merkezi </span><span style=\"color: #008000; text-decoration-color: #008000; font-weight: bold\">(</span><span style=\"color: #008000; text-decoration-color: #008000\">Pay Öl... TİPİ ISITMA SAYISI:</span> <span style=\"color: #008080; text-decoration-color: #008080; font-weight: bold\">4</span>\n",
       "</pre>\n"
      ],
      "text/plain": [
       "\u001b[32mMerkezi \u001b[0m\u001b[1;32m(\u001b[0m\u001b[32mPay Öl\u001b[0m\u001b[32m...\u001b[0m\u001b[32m TİPİ ISITMA SAYISI:\u001b[0m \u001b[1;36m4\u001b[0m\n"
      ]
     },
     "metadata": {},
     "output_type": "display_data"
    },
    {
     "data": {
      "text/html": [
       "<pre style=\"white-space:pre;overflow-x:auto;line-height:normal;font-family:Menlo,'DejaVu Sans Mono',consolas,'Courier New',monospace\"><span style=\"color: #008000; text-decoration-color: #008000\">Kombi Doğalgaz TİPİ ISITMA SAYISI:</span> <span style=\"color: #008080; text-decoration-color: #008080; font-weight: bold\">988</span>\n",
       "</pre>\n"
      ],
      "text/plain": [
       "\u001b[32mKombi Doğalgaz TİPİ ISITMA SAYISI:\u001b[0m \u001b[1;36m988\u001b[0m\n"
      ]
     },
     "metadata": {},
     "output_type": "display_data"
    },
    {
     "data": {
      "text/html": [
       "<pre style=\"white-space:pre;overflow-x:auto;line-height:normal;font-family:Menlo,'DejaVu Sans Mono',consolas,'Courier New',monospace\"><span style=\"color: #008000; text-decoration-color: #008000\">Klimalı TİPİ ISITMA SAYISI:</span> <span style=\"color: #008080; text-decoration-color: #008080; font-weight: bold\">343</span>\n",
       "</pre>\n"
      ],
      "text/plain": [
       "\u001b[32mKlimalı TİPİ ISITMA SAYISI:\u001b[0m \u001b[1;36m343\u001b[0m\n"
      ]
     },
     "metadata": {},
     "output_type": "display_data"
    },
    {
     "data": {
      "text/html": [
       "<pre style=\"white-space:pre;overflow-x:auto;line-height:normal;font-family:Menlo,'DejaVu Sans Mono',consolas,'Courier New',monospace\"><span style=\"color: #008000; text-decoration-color: #008000\">Elektrikli Radyatör TİPİ ISITMA SAYISI:</span> <span style=\"color: #008080; text-decoration-color: #008080; font-weight: bold\">1</span>\n",
       "</pre>\n"
      ],
      "text/plain": [
       "\u001b[32mElektrikli Radyatör TİPİ ISITMA SAYISI:\u001b[0m \u001b[1;36m1\u001b[0m\n"
      ]
     },
     "metadata": {},
     "output_type": "display_data"
    },
    {
     "data": {
      "text/html": [
       "<pre style=\"white-space:pre;overflow-x:auto;line-height:normal;font-family:Menlo,'DejaVu Sans Mono',consolas,'Courier New',monospace\"><span style=\"color: #008000; text-decoration-color: #008000\">Sobalı TİPİ ISITMA SAYISI:</span> <span style=\"color: #008080; text-decoration-color: #008080; font-weight: bold\">11</span>\n",
       "</pre>\n"
      ],
      "text/plain": [
       "\u001b[32mSobalı TİPİ ISITMA SAYISI:\u001b[0m \u001b[1;36m11\u001b[0m\n"
      ]
     },
     "metadata": {},
     "output_type": "display_data"
    },
    {
     "data": {
      "text/html": [
       "<pre style=\"white-space:pre;overflow-x:auto;line-height:normal;font-family:Menlo,'DejaVu Sans Mono',consolas,'Courier New',monospace\"><span style=\"color: #008000; text-decoration-color: #008000\">Merkezi Doğalgaz TİPİ ISITMA SAYISI:</span> <span style=\"color: #008080; text-decoration-color: #008080; font-weight: bold\">26</span>\n",
       "</pre>\n"
      ],
      "text/plain": [
       "\u001b[32mMerkezi Doğalgaz TİPİ ISITMA SAYISI:\u001b[0m \u001b[1;36m26\u001b[0m\n"
      ]
     },
     "metadata": {},
     "output_type": "display_data"
    },
    {
     "data": {
      "text/html": [
       "<pre style=\"white-space:pre;overflow-x:auto;line-height:normal;font-family:Menlo,'DejaVu Sans Mono',consolas,'Courier New',monospace\"><span style=\"color: #008000; text-decoration-color: #008000\">Doğalgaz Sobalı TİPİ ISITMA SAYISI:</span> <span style=\"color: #008080; text-decoration-color: #008080; font-weight: bold\">12</span>\n",
       "</pre>\n"
      ],
      "text/plain": [
       "\u001b[32mDoğalgaz Sobalı TİPİ ISITMA SAYISI:\u001b[0m \u001b[1;36m12\u001b[0m\n"
      ]
     },
     "metadata": {},
     "output_type": "display_data"
    },
    {
     "data": {
      "text/html": [
       "<pre style=\"white-space:pre;overflow-x:auto;line-height:normal;font-family:Menlo,'DejaVu Sans Mono',consolas,'Courier New',monospace\"><span style=\"color: #008000; text-decoration-color: #008000\">Fancoil Ünitesi TİPİ ISITMA SAYISI:</span> <span style=\"color: #008080; text-decoration-color: #008080; font-weight: bold\">1</span>\n",
       "</pre>\n"
      ],
      "text/plain": [
       "\u001b[32mFancoil Ünitesi TİPİ ISITMA SAYISI:\u001b[0m \u001b[1;36m1\u001b[0m\n"
      ]
     },
     "metadata": {},
     "output_type": "display_data"
    }
   ],
   "source": [
    "for i in df.heating.unique():\n",
    "    print(f\"[green]{i} TİPİ ISITMA SAYISI:\",df[df[\"heating\"]==i].value_counts().count())"
   ]
  },
  {
   "cell_type": "code",
   "execution_count": 23,
   "metadata": {},
   "outputs": [],
   "source": [
    "def replace_house_heating(house_df: pd.DataFrame) -> pd.DataFrame:\n",
    "    \n",
    "    df = house_df.copy()\n",
    "    \n",
    "    if \"heating\" not in df.columns:\n",
    "        logger.error(\"The 'heating' column was not found in the DataFrame.\")\n",
    "        return df\n",
    "    \n",
    "    values_to_replace = {\n",
    "        \n",
    "        'Kombi (Doğalgaz)': 'Kombi',\n",
    "        'Kombi': 'Kombi',\n",
    "        'Kombi Doğalgaz': 'Kombi',\n",
    "        'Kombi Fueloil': 'Kombi',\n",
    "\n",
    "        'Merkezi': 'Merkezi',\n",
    "        'Merkezi (Pay Ölçer)': 'Merkezi',\n",
    "        'Merkezi (Pay Öl...': 'Merkezi',\n",
    "        'Merkezi Doğalgaz': 'Merkezi',\n",
    "        'Merkezi Fueloil': 'Merkezi',\n",
    "        'Merkezi Kömür': 'Merkezi',\n",
    "        \"Fancoil Ünitesi\": \"Merkezi\",\n",
    "\n",
    "        'Soba': 'Isıtma Yok',\n",
    "        'Doğalgaz Sobası': 'Kat Kaloriferi',\n",
    "        'Doğalgaz Sobalı': 'Kat Kaloriferi',\n",
    "        'Sobalı': 'Isıtma Yok',\n",
    "\n",
    "        'Yok': 'Isıtma Yok',\n",
    "        'Isıtma Yok': 'Isıtma Yok',\n",
    "        \"Güneş Enerjisi\": \"Merkezi\",\n",
    "\n",
    "        'Var': 'Kombi',\n",
    "        'Klima': 'Isıtma Yok',\n",
    "        'Kat Kaloriferi': 'Kat Kaloriferi',\n",
    "        'Yerden Isıtma': 'Yerden Isıtma',\n",
    "        'Belirtilmemiş': 'Isıtma Yok',\n",
    "        \"Elektrikli Radyatör\": \"Isıtma Yok\"\n",
    "    }\n",
    "\n",
    "    df['heating'] = df['heating'].replace(values_to_replace)\n",
    "    df[\"heating\"] = pd.Categorical(df[\"heating\"])\n",
    "    \n",
    "    logger.info(f\"House heating values replaced successfully.\")\n",
    "\n",
    "    return df\n"
   ]
  },
  {
   "cell_type": "code",
   "execution_count": 24,
   "metadata": {},
   "outputs": [
    {
     "name": "stderr",
     "output_type": "stream",
     "text": [
      "2025-03-25 00:59 - INFO - House heating values replaced successfully.\n"
     ]
    }
   ],
   "source": [
    "df = replace_house_heating(df)"
   ]
  },
  {
   "cell_type": "code",
   "execution_count": 25,
   "metadata": {},
   "outputs": [
    {
     "data": {
      "text/plain": [
       "['Kombi', 'Isıtma Yok', 'Yerden Isıtma', 'Merkezi', 'Kat Kaloriferi', 'Klimalı']\n",
       "Categories (6, object): ['Isıtma Yok', 'Kat Kaloriferi', 'Klimalı', 'Kombi', 'Merkezi', 'Yerden Isıtma']"
      ]
     },
     "execution_count": 25,
     "metadata": {},
     "output_type": "execute_result"
    }
   ],
   "source": [
    "df[\"heating\"].unique()"
   ]
  },
  {
   "cell_type": "code",
   "execution_count": 26,
   "metadata": {},
   "outputs": [
    {
     "data": {
      "text/html": [
       "<pre style=\"white-space:pre;overflow-x:auto;line-height:normal;font-family:Menlo,'DejaVu Sans Mono',consolas,'Courier New',monospace\"><span style=\"color: #008000; text-decoration-color: #008000\">Kombi TİPİ ISITMA SAYISI:</span> <span style=\"color: #008080; text-decoration-color: #008080; font-weight: bold\">3241</span>\n",
       "</pre>\n"
      ],
      "text/plain": [
       "\u001b[32mKombi TİPİ ISITMA SAYISI:\u001b[0m \u001b[1;36m3241\u001b[0m\n"
      ]
     },
     "metadata": {},
     "output_type": "display_data"
    },
    {
     "data": {
      "text/html": [
       "<pre style=\"white-space:pre;overflow-x:auto;line-height:normal;font-family:Menlo,'DejaVu Sans Mono',consolas,'Courier New',monospace\"><span style=\"color: #008000; text-decoration-color: #008000\">Isıtma Yok TİPİ ISITMA SAYISI:</span> <span style=\"color: #008080; text-decoration-color: #008080; font-weight: bold\">1180</span>\n",
       "</pre>\n"
      ],
      "text/plain": [
       "\u001b[32mIsıtma Yok TİPİ ISITMA SAYISI:\u001b[0m \u001b[1;36m1180\u001b[0m\n"
      ]
     },
     "metadata": {},
     "output_type": "display_data"
    },
    {
     "data": {
      "text/html": [
       "<pre style=\"white-space:pre;overflow-x:auto;line-height:normal;font-family:Menlo,'DejaVu Sans Mono',consolas,'Courier New',monospace\"><span style=\"color: #008000; text-decoration-color: #008000\">Yerden Isıtma TİPİ ISITMA SAYISI:</span> <span style=\"color: #008080; text-decoration-color: #008080; font-weight: bold\">43</span>\n",
       "</pre>\n"
      ],
      "text/plain": [
       "\u001b[32mYerden Isıtma TİPİ ISITMA SAYISI:\u001b[0m \u001b[1;36m43\u001b[0m\n"
      ]
     },
     "metadata": {},
     "output_type": "display_data"
    },
    {
     "data": {
      "text/html": [
       "<pre style=\"white-space:pre;overflow-x:auto;line-height:normal;font-family:Menlo,'DejaVu Sans Mono',consolas,'Courier New',monospace\"><span style=\"color: #008000; text-decoration-color: #008000\">Merkezi TİPİ ISITMA SAYISI:</span> <span style=\"color: #008080; text-decoration-color: #008080; font-weight: bold\">144</span>\n",
       "</pre>\n"
      ],
      "text/plain": [
       "\u001b[32mMerkezi TİPİ ISITMA SAYISI:\u001b[0m \u001b[1;36m144\u001b[0m\n"
      ]
     },
     "metadata": {},
     "output_type": "display_data"
    },
    {
     "data": {
      "text/html": [
       "<pre style=\"white-space:pre;overflow-x:auto;line-height:normal;font-family:Menlo,'DejaVu Sans Mono',consolas,'Courier New',monospace\"><span style=\"color: #008000; text-decoration-color: #008000\">Kat Kaloriferi TİPİ ISITMA SAYISI:</span> <span style=\"color: #008080; text-decoration-color: #008080; font-weight: bold\">61</span>\n",
       "</pre>\n"
      ],
      "text/plain": [
       "\u001b[32mKat Kaloriferi TİPİ ISITMA SAYISI:\u001b[0m \u001b[1;36m61\u001b[0m\n"
      ]
     },
     "metadata": {},
     "output_type": "display_data"
    },
    {
     "data": {
      "text/html": [
       "<pre style=\"white-space:pre;overflow-x:auto;line-height:normal;font-family:Menlo,'DejaVu Sans Mono',consolas,'Courier New',monospace\"><span style=\"color: #008000; text-decoration-color: #008000\">Klimalı TİPİ ISITMA SAYISI:</span> <span style=\"color: #008080; text-decoration-color: #008080; font-weight: bold\">343</span>\n",
       "</pre>\n"
      ],
      "text/plain": [
       "\u001b[32mKlimalı TİPİ ISITMA SAYISI:\u001b[0m \u001b[1;36m343\u001b[0m\n"
      ]
     },
     "metadata": {},
     "output_type": "display_data"
    }
   ],
   "source": [
    "for i in df.heating.unique():\n",
    "    print(f\"[green]{i} TİPİ ISITMA SAYISI:\",df[df[\"heating\"]==i].value_counts().count())"
   ]
  },
  {
   "cell_type": "code",
   "execution_count": 27,
   "metadata": {},
   "outputs": [
    {
     "name": "stdout",
     "output_type": "stream",
     "text": [
      "<class 'pandas.core.frame.DataFrame'>\n",
      "RangeIndex: 5083 entries, 0 to 5082\n",
      "Data columns (total 20 columns):\n",
      " #   Column             Non-Null Count  Dtype   \n",
      "---  ------             --------------  -----   \n",
      " 0   house_description  5083 non-null   object  \n",
      " 1   house_price        5083 non-null   int64   \n",
      " 2   property_type      5083 non-null   object  \n",
      " 3   gross_area         5083 non-null   object  \n",
      " 4   net_area           5083 non-null   object  \n",
      " 5   room_count         5083 non-null   object  \n",
      " 6   building_age       5083 non-null   object  \n",
      " 7   floor_number       5083 non-null   object  \n",
      " 8   total_floors       5083 non-null   object  \n",
      " 9   heating            5083 non-null   category\n",
      " 10  bathroom_count     5083 non-null   object  \n",
      " 11  furnished          5083 non-null   object  \n",
      " 12  usage_status       5083 non-null   object  \n",
      " 13  credit_eligible    5083 non-null   object  \n",
      " 14  deed_status        5083 non-null   object  \n",
      " 15  exchange           5083 non-null   object  \n",
      " 16  house_url          5083 non-null   object  \n",
      " 17  province           5083 non-null   category\n",
      " 18  district           5083 non-null   category\n",
      " 19  neighborhood       5083 non-null   category\n",
      "dtypes: category(4), int64(1), object(15)\n",
      "memory usage: 666.1+ KB\n"
     ]
    }
   ],
   "source": [
    "df.info()"
   ]
  },
  {
   "cell_type": "code",
   "execution_count": 28,
   "metadata": {},
   "outputs": [
    {
     "data": {
      "text/html": [
       "<div>\n",
       "<style scoped>\n",
       "    .dataframe tbody tr th:only-of-type {\n",
       "        vertical-align: middle;\n",
       "    }\n",
       "\n",
       "    .dataframe tbody tr th {\n",
       "        vertical-align: top;\n",
       "    }\n",
       "\n",
       "    .dataframe thead th {\n",
       "        text-align: right;\n",
       "    }\n",
       "</style>\n",
       "<table border=\"1\" class=\"dataframe\">\n",
       "  <thead>\n",
       "    <tr style=\"text-align: right;\">\n",
       "      <th></th>\n",
       "      <th>house_description</th>\n",
       "      <th>house_price</th>\n",
       "      <th>property_type</th>\n",
       "      <th>gross_area</th>\n",
       "      <th>net_area</th>\n",
       "      <th>room_count</th>\n",
       "      <th>building_age</th>\n",
       "      <th>floor_number</th>\n",
       "      <th>total_floors</th>\n",
       "      <th>heating</th>\n",
       "      <th>bathroom_count</th>\n",
       "      <th>furnished</th>\n",
       "      <th>usage_status</th>\n",
       "      <th>credit_eligible</th>\n",
       "      <th>deed_status</th>\n",
       "      <th>exchange</th>\n",
       "      <th>house_url</th>\n",
       "      <th>province</th>\n",
       "      <th>district</th>\n",
       "      <th>neighborhood</th>\n",
       "    </tr>\n",
       "  </thead>\n",
       "  <tbody>\n",
       "    <tr>\n",
       "      <th>0</th>\n",
       "      <td>GÜRSELPAŞA’DA FULL SOSYAL DONATILI GENİŞ OTURU...</td>\n",
       "      <td>7300000</td>\n",
       "      <td>Daire</td>\n",
       "      <td>170 m2</td>\n",
       "      <td>/ 150 m2</td>\n",
       "      <td>4 + 1</td>\n",
       "      <td>6 Yaşında</td>\n",
       "      <td>9. Kat</td>\n",
       "      <td>13 Katlı</td>\n",
       "      <td>Kombi</td>\n",
       "      <td>2</td>\n",
       "      <td>Eşyalı Değil</td>\n",
       "      <td>Mülk Sahibi</td>\n",
       "      <td>Uygun</td>\n",
       "      <td>Kat İrtifakı</td>\n",
       "      <td>Hayır</td>\n",
       "      <td>https://www.hepsiemlak.com/adana-seyhan-gursel...</td>\n",
       "      <td>Adana</td>\n",
       "      <td>Seyhan</td>\n",
       "      <td>Gürselpaşa</td>\n",
       "    </tr>\n",
       "    <tr>\n",
       "      <th>1</th>\n",
       "      <td>HUZUREVLERİNDE İSKANLI HASARSIZ 3 CEPHELİ 25 m...</td>\n",
       "      <td>1399000</td>\n",
       "      <td>Daire</td>\n",
       "      <td>25 m2</td>\n",
       "      <td>/ 22 m2</td>\n",
       "      <td>1 + 0</td>\n",
       "      <td>12 Yaşında</td>\n",
       "      <td>Giriş Katı</td>\n",
       "      <td>12 Katlı</td>\n",
       "      <td>Isıtma Yok</td>\n",
       "      <td>1</td>\n",
       "      <td>Eşyalı Değil</td>\n",
       "      <td>Boş</td>\n",
       "      <td>Uygun</td>\n",
       "      <td>Kat Mülkiyeti</td>\n",
       "      <td>Evet</td>\n",
       "      <td>https://www.hepsiemlak.com/adana-cukurova-huzu...</td>\n",
       "      <td>Adana</td>\n",
       "      <td>Çukurova</td>\n",
       "      <td>Huzurevleri</td>\n",
       "    </tr>\n",
       "    <tr>\n",
       "      <th>2</th>\n",
       "      <td>KENAN EVREN BLV. YÜRÜME MESAFESİNDE 2+1+ÇB+GO+...</td>\n",
       "      <td>3500000</td>\n",
       "      <td>Daire</td>\n",
       "      <td>125 m2</td>\n",
       "      <td>/ 100 m2</td>\n",
       "      <td>2 + 1</td>\n",
       "      <td>10 Yaşında</td>\n",
       "      <td>1. Kat</td>\n",
       "      <td>14 Katlı</td>\n",
       "      <td>Kombi</td>\n",
       "      <td>2</td>\n",
       "      <td>Eşyalı Değil</td>\n",
       "      <td>Mülk Sahibi</td>\n",
       "      <td>Uygun</td>\n",
       "      <td>Kat Mülkiyeti</td>\n",
       "      <td>Hayır</td>\n",
       "      <td>https://www.hepsiemlak.com/adana-cukurova-mahf...</td>\n",
       "      <td>Adana</td>\n",
       "      <td>Çukurova</td>\n",
       "      <td>Mahfesığmaz</td>\n",
       "    </tr>\n",
       "  </tbody>\n",
       "</table>\n",
       "</div>"
      ],
      "text/plain": [
       "                                   house_description  house_price  \\\n",
       "0  GÜRSELPAŞA’DA FULL SOSYAL DONATILI GENİŞ OTURU...      7300000   \n",
       "1  HUZUREVLERİNDE İSKANLI HASARSIZ 3 CEPHELİ 25 m...      1399000   \n",
       "2  KENAN EVREN BLV. YÜRÜME MESAFESİNDE 2+1+ÇB+GO+...      3500000   \n",
       "\n",
       "  property_type gross_area  net_area room_count building_age floor_number  \\\n",
       "0         Daire     170 m2  / 150 m2      4 + 1    6 Yaşında       9. Kat   \n",
       "1         Daire      25 m2   / 22 m2      1 + 0   12 Yaşında   Giriş Katı   \n",
       "2         Daire     125 m2  / 100 m2      2 + 1   10 Yaşında       1. Kat   \n",
       "\n",
       "  total_floors     heating bathroom_count     furnished usage_status  \\\n",
       "0     13 Katlı       Kombi              2  Eşyalı Değil  Mülk Sahibi   \n",
       "1     12 Katlı  Isıtma Yok              1  Eşyalı Değil          Boş   \n",
       "2     14 Katlı       Kombi              2  Eşyalı Değil  Mülk Sahibi   \n",
       "\n",
       "  credit_eligible    deed_status exchange  \\\n",
       "0           Uygun   Kat İrtifakı    Hayır   \n",
       "1           Uygun  Kat Mülkiyeti     Evet   \n",
       "2           Uygun  Kat Mülkiyeti    Hayır   \n",
       "\n",
       "                                           house_url province  district  \\\n",
       "0  https://www.hepsiemlak.com/adana-seyhan-gursel...    Adana    Seyhan   \n",
       "1  https://www.hepsiemlak.com/adana-cukurova-huzu...    Adana  Çukurova   \n",
       "2  https://www.hepsiemlak.com/adana-cukurova-mahf...    Adana  Çukurova   \n",
       "\n",
       "  neighborhood  \n",
       "0   Gürselpaşa  \n",
       "1  Huzurevleri  \n",
       "2  Mahfesığmaz  "
      ]
     },
     "execution_count": 28,
     "metadata": {},
     "output_type": "execute_result"
    }
   ],
   "source": [
    "df.head(3)"
   ]
  },
  {
   "cell_type": "code",
   "execution_count": 29,
   "metadata": {},
   "outputs": [
    {
     "data": {
      "text/plain": [
       "array(['Daire', 'Villa'], dtype=object)"
      ]
     },
     "execution_count": 29,
     "metadata": {},
     "output_type": "execute_result"
    }
   ],
   "source": [
    "df.property_type.unique()"
   ]
  },
  {
   "cell_type": "code",
   "execution_count": 30,
   "metadata": {},
   "outputs": [
    {
     "data": {
      "text/html": [
       "<pre style=\"white-space:pre;overflow-x:auto;line-height:normal;font-family:Menlo,'DejaVu Sans Mono',consolas,'Courier New',monospace\"><span style=\"color: #008000; text-decoration-color: #008000\">Daire TİPİ ISITMA SAYISI:</span> <span style=\"color: #008080; text-decoration-color: #008080; font-weight: bold\">5009</span>\n",
       "</pre>\n"
      ],
      "text/plain": [
       "\u001b[32mDaire TİPİ ISITMA SAYISI:\u001b[0m \u001b[1;36m5009\u001b[0m\n"
      ]
     },
     "metadata": {},
     "output_type": "display_data"
    },
    {
     "data": {
      "text/html": [
       "<pre style=\"white-space:pre;overflow-x:auto;line-height:normal;font-family:Menlo,'DejaVu Sans Mono',consolas,'Courier New',monospace\"><span style=\"color: #008000; text-decoration-color: #008000\">Villa TİPİ ISITMA SAYISI:</span> <span style=\"color: #008080; text-decoration-color: #008080; font-weight: bold\">3</span>\n",
       "</pre>\n"
      ],
      "text/plain": [
       "\u001b[32mVilla TİPİ ISITMA SAYISI:\u001b[0m \u001b[1;36m3\u001b[0m\n"
      ]
     },
     "metadata": {},
     "output_type": "display_data"
    }
   ],
   "source": [
    "for i in df.property_type.unique():\n",
    "    print(f\"[green]{i} TİPİ ISITMA SAYISI:\",df[df[\"property_type\"]==i].value_counts().count())"
   ]
  },
  {
   "cell_type": "code",
   "execution_count": 31,
   "metadata": {},
   "outputs": [],
   "source": [
    "def convert_to_property_type(house_df: pd.DataFrame) -> pd.DataFrame:\n",
    "\n",
    "    df = house_df.copy()\n",
    "    \n",
    "    if \"property_type\" not in df.columns:\n",
    "        logger.error(\"The 'property_type' column was not found in the DataFrame.\")\n",
    "        return df\n",
    "    \n",
    "    df = df[df[\"property_type\"]!=\"Villa\"]\n",
    "\n",
    "    df[\"property_type\"] = df[\"property_type\"].replace([\"Daire\"], \"Satılık Daire\")\n",
    "    df[\"property_type\"] = pd.Categorical(df[\"property_type\"])\n",
    "\n",
    "    logger.info(\"House property_type values replaced successfully.\")\n",
    "\n",
    "    return df"
   ]
  },
  {
   "cell_type": "code",
   "execution_count": 32,
   "metadata": {},
   "outputs": [
    {
     "name": "stderr",
     "output_type": "stream",
     "text": [
      "2025-03-25 00:59 - INFO - House property_type values replaced successfully.\n"
     ]
    }
   ],
   "source": [
    "df = convert_to_property_type(house_df=df)"
   ]
  },
  {
   "cell_type": "code",
   "execution_count": 33,
   "metadata": {},
   "outputs": [
    {
     "data": {
      "text/plain": [
       "['Satılık Daire']\n",
       "Categories (1, object): ['Satılık Daire']"
      ]
     },
     "execution_count": 33,
     "metadata": {},
     "output_type": "execute_result"
    }
   ],
   "source": [
    "df.property_type.unique()"
   ]
  },
  {
   "cell_type": "code",
   "execution_count": 34,
   "metadata": {},
   "outputs": [
    {
     "name": "stdout",
     "output_type": "stream",
     "text": [
      "<class 'pandas.core.frame.DataFrame'>\n",
      "Index: 5080 entries, 0 to 5082\n",
      "Data columns (total 20 columns):\n",
      " #   Column             Non-Null Count  Dtype   \n",
      "---  ------             --------------  -----   \n",
      " 0   house_description  5080 non-null   object  \n",
      " 1   house_price        5080 non-null   int64   \n",
      " 2   property_type      5080 non-null   category\n",
      " 3   gross_area         5080 non-null   object  \n",
      " 4   net_area           5080 non-null   object  \n",
      " 5   room_count         5080 non-null   object  \n",
      " 6   building_age       5080 non-null   object  \n",
      " 7   floor_number       5080 non-null   object  \n",
      " 8   total_floors       5080 non-null   object  \n",
      " 9   heating            5080 non-null   category\n",
      " 10  bathroom_count     5080 non-null   object  \n",
      " 11  furnished          5080 non-null   object  \n",
      " 12  usage_status       5080 non-null   object  \n",
      " 13  credit_eligible    5080 non-null   object  \n",
      " 14  deed_status        5080 non-null   object  \n",
      " 15  exchange           5080 non-null   object  \n",
      " 16  house_url          5080 non-null   object  \n",
      " 17  province           5080 non-null   category\n",
      " 18  district           5080 non-null   category\n",
      " 19  neighborhood       5080 non-null   category\n",
      "dtypes: category(5), int64(1), object(14)\n",
      "memory usage: 670.7+ KB\n"
     ]
    }
   ],
   "source": [
    "df.info()"
   ]
  },
  {
   "cell_type": "code",
   "execution_count": 35,
   "metadata": {},
   "outputs": [
    {
     "data": {
      "text/plain": [
       "array(['2', '1', '3', 'Bilgi yok', '4', '6', '12', '8', '5', '11', 'Yok',\n",
       "       '6+'], dtype=object)"
      ]
     },
     "execution_count": 35,
     "metadata": {},
     "output_type": "execute_result"
    }
   ],
   "source": [
    "df.bathroom_count.unique()"
   ]
  },
  {
   "cell_type": "code",
   "execution_count": 36,
   "metadata": {},
   "outputs": [
    {
     "data": {
      "text/html": [
       "<pre style=\"white-space:pre;overflow-x:auto;line-height:normal;font-family:Menlo,'DejaVu Sans Mono',consolas,'Courier New',monospace\"><span style=\"color: #008000; text-decoration-color: #008000; font-weight: bold\">2</span><span style=\"color: #008000; text-decoration-color: #008000\"> Tane Banyosu olan:</span> <span style=\"color: #008080; text-decoration-color: #008080; font-weight: bold\">2215</span>\n",
       "</pre>\n"
      ],
      "text/plain": [
       "\u001b[1;32m2\u001b[0m\u001b[32m Tane Banyosu olan:\u001b[0m \u001b[1;36m2215\u001b[0m\n"
      ]
     },
     "metadata": {},
     "output_type": "display_data"
    },
    {
     "data": {
      "text/html": [
       "<pre style=\"white-space:pre;overflow-x:auto;line-height:normal;font-family:Menlo,'DejaVu Sans Mono',consolas,'Courier New',monospace\"><span style=\"color: #008000; text-decoration-color: #008000; font-weight: bold\">1</span><span style=\"color: #008000; text-decoration-color: #008000\"> Tane Banyosu olan:</span> <span style=\"color: #008080; text-decoration-color: #008080; font-weight: bold\">2664</span>\n",
       "</pre>\n"
      ],
      "text/plain": [
       "\u001b[1;32m1\u001b[0m\u001b[32m Tane Banyosu olan:\u001b[0m \u001b[1;36m2664\u001b[0m\n"
      ]
     },
     "metadata": {},
     "output_type": "display_data"
    },
    {
     "data": {
      "text/html": [
       "<pre style=\"white-space:pre;overflow-x:auto;line-height:normal;font-family:Menlo,'DejaVu Sans Mono',consolas,'Courier New',monospace\"><span style=\"color: #008000; text-decoration-color: #008000; font-weight: bold\">3</span><span style=\"color: #008000; text-decoration-color: #008000\"> Tane Banyosu olan:</span> <span style=\"color: #008080; text-decoration-color: #008080; font-weight: bold\">72</span>\n",
       "</pre>\n"
      ],
      "text/plain": [
       "\u001b[1;32m3\u001b[0m\u001b[32m Tane Banyosu olan:\u001b[0m \u001b[1;36m72\u001b[0m\n"
      ]
     },
     "metadata": {},
     "output_type": "display_data"
    },
    {
     "data": {
      "text/html": [
       "<pre style=\"white-space:pre;overflow-x:auto;line-height:normal;font-family:Menlo,'DejaVu Sans Mono',consolas,'Courier New',monospace\"><span style=\"color: #008000; text-decoration-color: #008000\">Bilgi yok Tane Banyosu olan:</span> <span style=\"color: #008080; text-decoration-color: #008080; font-weight: bold\">13</span>\n",
       "</pre>\n"
      ],
      "text/plain": [
       "\u001b[32mBilgi yok Tane Banyosu olan:\u001b[0m \u001b[1;36m13\u001b[0m\n"
      ]
     },
     "metadata": {},
     "output_type": "display_data"
    },
    {
     "data": {
      "text/html": [
       "<pre style=\"white-space:pre;overflow-x:auto;line-height:normal;font-family:Menlo,'DejaVu Sans Mono',consolas,'Courier New',monospace\"><span style=\"color: #008000; text-decoration-color: #008000; font-weight: bold\">4</span><span style=\"color: #008000; text-decoration-color: #008000\"> Tane Banyosu olan:</span> <span style=\"color: #008080; text-decoration-color: #008080; font-weight: bold\">34</span>\n",
       "</pre>\n"
      ],
      "text/plain": [
       "\u001b[1;32m4\u001b[0m\u001b[32m Tane Banyosu olan:\u001b[0m \u001b[1;36m34\u001b[0m\n"
      ]
     },
     "metadata": {},
     "output_type": "display_data"
    },
    {
     "data": {
      "text/html": [
       "<pre style=\"white-space:pre;overflow-x:auto;line-height:normal;font-family:Menlo,'DejaVu Sans Mono',consolas,'Courier New',monospace\"><span style=\"color: #008000; text-decoration-color: #008000; font-weight: bold\">6</span><span style=\"color: #008000; text-decoration-color: #008000\"> Tane Banyosu olan:</span> <span style=\"color: #008080; text-decoration-color: #008080; font-weight: bold\">1</span>\n",
       "</pre>\n"
      ],
      "text/plain": [
       "\u001b[1;32m6\u001b[0m\u001b[32m Tane Banyosu olan:\u001b[0m \u001b[1;36m1\u001b[0m\n"
      ]
     },
     "metadata": {},
     "output_type": "display_data"
    },
    {
     "data": {
      "text/html": [
       "<pre style=\"white-space:pre;overflow-x:auto;line-height:normal;font-family:Menlo,'DejaVu Sans Mono',consolas,'Courier New',monospace\"><span style=\"color: #008000; text-decoration-color: #008000; font-weight: bold\">12</span><span style=\"color: #008000; text-decoration-color: #008000\"> Tane Banyosu olan:</span> <span style=\"color: #008080; text-decoration-color: #008080; font-weight: bold\">1</span>\n",
       "</pre>\n"
      ],
      "text/plain": [
       "\u001b[1;32m12\u001b[0m\u001b[32m Tane Banyosu olan:\u001b[0m \u001b[1;36m1\u001b[0m\n"
      ]
     },
     "metadata": {},
     "output_type": "display_data"
    },
    {
     "data": {
      "text/html": [
       "<pre style=\"white-space:pre;overflow-x:auto;line-height:normal;font-family:Menlo,'DejaVu Sans Mono',consolas,'Courier New',monospace\"><span style=\"color: #008000; text-decoration-color: #008000; font-weight: bold\">8</span><span style=\"color: #008000; text-decoration-color: #008000\"> Tane Banyosu olan:</span> <span style=\"color: #008080; text-decoration-color: #008080; font-weight: bold\">1</span>\n",
       "</pre>\n"
      ],
      "text/plain": [
       "\u001b[1;32m8\u001b[0m\u001b[32m Tane Banyosu olan:\u001b[0m \u001b[1;36m1\u001b[0m\n"
      ]
     },
     "metadata": {},
     "output_type": "display_data"
    },
    {
     "data": {
      "text/html": [
       "<pre style=\"white-space:pre;overflow-x:auto;line-height:normal;font-family:Menlo,'DejaVu Sans Mono',consolas,'Courier New',monospace\"><span style=\"color: #008000; text-decoration-color: #008000; font-weight: bold\">5</span><span style=\"color: #008000; text-decoration-color: #008000\"> Tane Banyosu olan:</span> <span style=\"color: #008080; text-decoration-color: #008080; font-weight: bold\">4</span>\n",
       "</pre>\n"
      ],
      "text/plain": [
       "\u001b[1;32m5\u001b[0m\u001b[32m Tane Banyosu olan:\u001b[0m \u001b[1;36m4\u001b[0m\n"
      ]
     },
     "metadata": {},
     "output_type": "display_data"
    },
    {
     "data": {
      "text/html": [
       "<pre style=\"white-space:pre;overflow-x:auto;line-height:normal;font-family:Menlo,'DejaVu Sans Mono',consolas,'Courier New',monospace\"><span style=\"color: #008000; text-decoration-color: #008000; font-weight: bold\">11</span><span style=\"color: #008000; text-decoration-color: #008000\"> Tane Banyosu olan:</span> <span style=\"color: #008080; text-decoration-color: #008080; font-weight: bold\">1</span>\n",
       "</pre>\n"
      ],
      "text/plain": [
       "\u001b[1;32m11\u001b[0m\u001b[32m Tane Banyosu olan:\u001b[0m \u001b[1;36m1\u001b[0m\n"
      ]
     },
     "metadata": {},
     "output_type": "display_data"
    },
    {
     "data": {
      "text/html": [
       "<pre style=\"white-space:pre;overflow-x:auto;line-height:normal;font-family:Menlo,'DejaVu Sans Mono',consolas,'Courier New',monospace\"><span style=\"color: #008000; text-decoration-color: #008000\">Yok Tane Banyosu olan:</span> <span style=\"color: #008080; text-decoration-color: #008080; font-weight: bold\">2</span>\n",
       "</pre>\n"
      ],
      "text/plain": [
       "\u001b[32mYok Tane Banyosu olan:\u001b[0m \u001b[1;36m2\u001b[0m\n"
      ]
     },
     "metadata": {},
     "output_type": "display_data"
    },
    {
     "data": {
      "text/html": [
       "<pre style=\"white-space:pre;overflow-x:auto;line-height:normal;font-family:Menlo,'DejaVu Sans Mono',consolas,'Courier New',monospace\"><span style=\"color: #008000; text-decoration-color: #008000; font-weight: bold\">6</span><span style=\"color: #008000; text-decoration-color: #008000\">+ Tane Banyosu olan:</span> <span style=\"color: #008080; text-decoration-color: #008080; font-weight: bold\">1</span>\n",
       "</pre>\n"
      ],
      "text/plain": [
       "\u001b[1;32m6\u001b[0m\u001b[32m+ Tane Banyosu olan:\u001b[0m \u001b[1;36m1\u001b[0m\n"
      ]
     },
     "metadata": {},
     "output_type": "display_data"
    }
   ],
   "source": [
    "for i in df.bathroom_count.unique():\n",
    "    print(f\"[green]{i} Tane Banyosu olan:\",df[df[\"bathroom_count\"]==i].value_counts().count())"
   ]
  },
  {
   "cell_type": "code",
   "execution_count": null,
   "metadata": {},
   "outputs": [],
   "source": []
  },
  {
   "cell_type": "code",
   "execution_count": 37,
   "metadata": {},
   "outputs": [],
   "source": [
    "def convert_to_bathroom_count(house_df: pd.DataFrame)->pd.DataFrame:\n",
    "    df = house_df.copy()\n",
    "\n",
    "    if \"bathroom_count\" not in df.columns:\n",
    "        logger.error(\"The 'bathroom_count' column was not found in the DataFrame.\")\n",
    "        return df\n",
    "    \n",
    "    df = df[(df[\"bathroom_count\"]!=\"6+\") & (df[\"bathroom_count\"]!=\"11\") & (df[\"bathroom_count\"]!=\"12\") & (df[\"bathroom_count\"]!=\"6\") & (df[\"bathroom_count\"]!=\"8\") & (df[\"bathroom_count\"]!=\"5\") & (df[\"bathroom_count\"]!=\"9\") & (df[\"bathroom_count\"]!=\"10\")]\n",
    "\n",
    "    df[\"bathroom_count\"] = (\n",
    "                            df[\"bathroom_count\"]\n",
    "                            .replace([\"Bilgi yok\", \"Yok\"], \"0\")\n",
    "                            .astype(int)\n",
    "                            )\n",
    "    \n",
    "    logger.info(f\"House bathroom_count values replaced successfully.\")\n",
    "\n",
    "    return df"
   ]
  },
  {
   "cell_type": "code",
   "execution_count": 38,
   "metadata": {},
   "outputs": [
    {
     "name": "stderr",
     "output_type": "stream",
     "text": [
      "2025-03-25 00:59 - INFO - House bathroom_count values replaced successfully.\n"
     ]
    }
   ],
   "source": [
    "df = convert_to_bathroom_count(house_df=df)"
   ]
  },
  {
   "cell_type": "code",
   "execution_count": 39,
   "metadata": {},
   "outputs": [
    {
     "data": {
      "text/plain": [
       "array([2, 1, 3, 0, 4])"
      ]
     },
     "execution_count": 39,
     "metadata": {},
     "output_type": "execute_result"
    }
   ],
   "source": [
    "df.bathroom_count.unique()"
   ]
  },
  {
   "cell_type": "code",
   "execution_count": 40,
   "metadata": {},
   "outputs": [
    {
     "data": {
      "text/html": [
       "<pre style=\"white-space:pre;overflow-x:auto;line-height:normal;font-family:Menlo,'DejaVu Sans Mono',consolas,'Courier New',monospace\"><span style=\"color: #008080; text-decoration-color: #008080; font-weight: bold\">2</span> BANYOYA SAHİP EV SAYISI: <span style=\"color: #008080; text-decoration-color: #008080; font-weight: bold\">2215</span>\n",
       "</pre>\n"
      ],
      "text/plain": [
       "\u001b[1;36m2\u001b[0m BANYOYA SAHİP EV SAYISI: \u001b[1;36m2215\u001b[0m\n"
      ]
     },
     "metadata": {},
     "output_type": "display_data"
    },
    {
     "data": {
      "text/html": [
       "<pre style=\"white-space:pre;overflow-x:auto;line-height:normal;font-family:Menlo,'DejaVu Sans Mono',consolas,'Courier New',monospace\"><span style=\"color: #008080; text-decoration-color: #008080; font-weight: bold\">1</span> BANYOYA SAHİP EV SAYISI: <span style=\"color: #008080; text-decoration-color: #008080; font-weight: bold\">2664</span>\n",
       "</pre>\n"
      ],
      "text/plain": [
       "\u001b[1;36m1\u001b[0m BANYOYA SAHİP EV SAYISI: \u001b[1;36m2664\u001b[0m\n"
      ]
     },
     "metadata": {},
     "output_type": "display_data"
    },
    {
     "data": {
      "text/html": [
       "<pre style=\"white-space:pre;overflow-x:auto;line-height:normal;font-family:Menlo,'DejaVu Sans Mono',consolas,'Courier New',monospace\"><span style=\"color: #008080; text-decoration-color: #008080; font-weight: bold\">3</span> BANYOYA SAHİP EV SAYISI: <span style=\"color: #008080; text-decoration-color: #008080; font-weight: bold\">72</span>\n",
       "</pre>\n"
      ],
      "text/plain": [
       "\u001b[1;36m3\u001b[0m BANYOYA SAHİP EV SAYISI: \u001b[1;36m72\u001b[0m\n"
      ]
     },
     "metadata": {},
     "output_type": "display_data"
    },
    {
     "data": {
      "text/html": [
       "<pre style=\"white-space:pre;overflow-x:auto;line-height:normal;font-family:Menlo,'DejaVu Sans Mono',consolas,'Courier New',monospace\"><span style=\"color: #008080; text-decoration-color: #008080; font-weight: bold\">0</span> BANYOYA SAHİP EV SAYISI: <span style=\"color: #008080; text-decoration-color: #008080; font-weight: bold\">15</span>\n",
       "</pre>\n"
      ],
      "text/plain": [
       "\u001b[1;36m0\u001b[0m BANYOYA SAHİP EV SAYISI: \u001b[1;36m15\u001b[0m\n"
      ]
     },
     "metadata": {},
     "output_type": "display_data"
    },
    {
     "data": {
      "text/html": [
       "<pre style=\"white-space:pre;overflow-x:auto;line-height:normal;font-family:Menlo,'DejaVu Sans Mono',consolas,'Courier New',monospace\"><span style=\"color: #008080; text-decoration-color: #008080; font-weight: bold\">4</span> BANYOYA SAHİP EV SAYISI: <span style=\"color: #008080; text-decoration-color: #008080; font-weight: bold\">34</span>\n",
       "</pre>\n"
      ],
      "text/plain": [
       "\u001b[1;36m4\u001b[0m BANYOYA SAHİP EV SAYISI: \u001b[1;36m34\u001b[0m\n"
      ]
     },
     "metadata": {},
     "output_type": "display_data"
    }
   ],
   "source": [
    "for i in df[\"bathroom_count\"].unique():\n",
    "    print(f\"{i} BANYOYA SAHİP EV SAYISI:\",df[df[\"bathroom_count\"]==i].value_counts().count())"
   ]
  },
  {
   "cell_type": "code",
   "execution_count": 41,
   "metadata": {},
   "outputs": [
    {
     "name": "stdout",
     "output_type": "stream",
     "text": [
      "<class 'pandas.core.frame.DataFrame'>\n",
      "Index: 5071 entries, 0 to 5082\n",
      "Data columns (total 20 columns):\n",
      " #   Column             Non-Null Count  Dtype   \n",
      "---  ------             --------------  -----   \n",
      " 0   house_description  5071 non-null   object  \n",
      " 1   house_price        5071 non-null   int64   \n",
      " 2   property_type      5071 non-null   category\n",
      " 3   gross_area         5071 non-null   object  \n",
      " 4   net_area           5071 non-null   object  \n",
      " 5   room_count         5071 non-null   object  \n",
      " 6   building_age       5071 non-null   object  \n",
      " 7   floor_number       5071 non-null   object  \n",
      " 8   total_floors       5071 non-null   object  \n",
      " 9   heating            5071 non-null   category\n",
      " 10  bathroom_count     5071 non-null   int64   \n",
      " 11  furnished          5071 non-null   object  \n",
      " 12  usage_status       5071 non-null   object  \n",
      " 13  credit_eligible    5071 non-null   object  \n",
      " 14  deed_status        5071 non-null   object  \n",
      " 15  exchange           5071 non-null   object  \n",
      " 16  house_url          5071 non-null   object  \n",
      " 17  province           5071 non-null   category\n",
      " 18  district           5071 non-null   category\n",
      " 19  neighborhood       5071 non-null   category\n",
      "dtypes: category(5), int64(2), object(13)\n",
      "memory usage: 669.5+ KB\n"
     ]
    }
   ],
   "source": [
    "df.info()"
   ]
  },
  {
   "cell_type": "code",
   "execution_count": 42,
   "metadata": {},
   "outputs": [
    {
     "data": {
      "text/html": [
       "<div>\n",
       "<style scoped>\n",
       "    .dataframe tbody tr th:only-of-type {\n",
       "        vertical-align: middle;\n",
       "    }\n",
       "\n",
       "    .dataframe tbody tr th {\n",
       "        vertical-align: top;\n",
       "    }\n",
       "\n",
       "    .dataframe thead th {\n",
       "        text-align: right;\n",
       "    }\n",
       "</style>\n",
       "<table border=\"1\" class=\"dataframe\">\n",
       "  <thead>\n",
       "    <tr style=\"text-align: right;\">\n",
       "      <th></th>\n",
       "      <th>house_description</th>\n",
       "      <th>house_price</th>\n",
       "      <th>property_type</th>\n",
       "      <th>gross_area</th>\n",
       "      <th>net_area</th>\n",
       "      <th>room_count</th>\n",
       "      <th>building_age</th>\n",
       "      <th>floor_number</th>\n",
       "      <th>total_floors</th>\n",
       "      <th>heating</th>\n",
       "      <th>bathroom_count</th>\n",
       "      <th>furnished</th>\n",
       "      <th>usage_status</th>\n",
       "      <th>credit_eligible</th>\n",
       "      <th>deed_status</th>\n",
       "      <th>exchange</th>\n",
       "      <th>house_url</th>\n",
       "      <th>province</th>\n",
       "      <th>district</th>\n",
       "      <th>neighborhood</th>\n",
       "    </tr>\n",
       "  </thead>\n",
       "  <tbody>\n",
       "    <tr>\n",
       "      <th>0</th>\n",
       "      <td>GÜRSELPAŞA’DA FULL SOSYAL DONATILI GENİŞ OTURU...</td>\n",
       "      <td>7300000</td>\n",
       "      <td>Satılık Daire</td>\n",
       "      <td>170 m2</td>\n",
       "      <td>/ 150 m2</td>\n",
       "      <td>4 + 1</td>\n",
       "      <td>6 Yaşında</td>\n",
       "      <td>9. Kat</td>\n",
       "      <td>13 Katlı</td>\n",
       "      <td>Kombi</td>\n",
       "      <td>2</td>\n",
       "      <td>Eşyalı Değil</td>\n",
       "      <td>Mülk Sahibi</td>\n",
       "      <td>Uygun</td>\n",
       "      <td>Kat İrtifakı</td>\n",
       "      <td>Hayır</td>\n",
       "      <td>https://www.hepsiemlak.com/adana-seyhan-gursel...</td>\n",
       "      <td>Adana</td>\n",
       "      <td>Seyhan</td>\n",
       "      <td>Gürselpaşa</td>\n",
       "    </tr>\n",
       "    <tr>\n",
       "      <th>1</th>\n",
       "      <td>HUZUREVLERİNDE İSKANLI HASARSIZ 3 CEPHELİ 25 m...</td>\n",
       "      <td>1399000</td>\n",
       "      <td>Satılık Daire</td>\n",
       "      <td>25 m2</td>\n",
       "      <td>/ 22 m2</td>\n",
       "      <td>1 + 0</td>\n",
       "      <td>12 Yaşında</td>\n",
       "      <td>Giriş Katı</td>\n",
       "      <td>12 Katlı</td>\n",
       "      <td>Isıtma Yok</td>\n",
       "      <td>1</td>\n",
       "      <td>Eşyalı Değil</td>\n",
       "      <td>Boş</td>\n",
       "      <td>Uygun</td>\n",
       "      <td>Kat Mülkiyeti</td>\n",
       "      <td>Evet</td>\n",
       "      <td>https://www.hepsiemlak.com/adana-cukurova-huzu...</td>\n",
       "      <td>Adana</td>\n",
       "      <td>Çukurova</td>\n",
       "      <td>Huzurevleri</td>\n",
       "    </tr>\n",
       "    <tr>\n",
       "      <th>2</th>\n",
       "      <td>KENAN EVREN BLV. YÜRÜME MESAFESİNDE 2+1+ÇB+GO+...</td>\n",
       "      <td>3500000</td>\n",
       "      <td>Satılık Daire</td>\n",
       "      <td>125 m2</td>\n",
       "      <td>/ 100 m2</td>\n",
       "      <td>2 + 1</td>\n",
       "      <td>10 Yaşında</td>\n",
       "      <td>1. Kat</td>\n",
       "      <td>14 Katlı</td>\n",
       "      <td>Kombi</td>\n",
       "      <td>2</td>\n",
       "      <td>Eşyalı Değil</td>\n",
       "      <td>Mülk Sahibi</td>\n",
       "      <td>Uygun</td>\n",
       "      <td>Kat Mülkiyeti</td>\n",
       "      <td>Hayır</td>\n",
       "      <td>https://www.hepsiemlak.com/adana-cukurova-mahf...</td>\n",
       "      <td>Adana</td>\n",
       "      <td>Çukurova</td>\n",
       "      <td>Mahfesığmaz</td>\n",
       "    </tr>\n",
       "    <tr>\n",
       "      <th>3</th>\n",
       "      <td>İZZET OKLU İNSAATTAN İSKANI ALINMIŞ OTURUMA HA...</td>\n",
       "      <td>15500000</td>\n",
       "      <td>Satılık Daire</td>\n",
       "      <td>195 m2</td>\n",
       "      <td>/ 149 m2</td>\n",
       "      <td>4 + 1</td>\n",
       "      <td>Sıfır Bina</td>\n",
       "      <td>4. Kat</td>\n",
       "      <td>11 Katlı</td>\n",
       "      <td>Yerden Isıtma</td>\n",
       "      <td>2</td>\n",
       "      <td>Eşyalı Değil</td>\n",
       "      <td>Boş</td>\n",
       "      <td>Uygun</td>\n",
       "      <td>Kat İrtifakı</td>\n",
       "      <td>Hayır</td>\n",
       "      <td>https://www.hepsiemlak.com/adana-seyhan-gazipa...</td>\n",
       "      <td>Adana</td>\n",
       "      <td>Seyhan</td>\n",
       "      <td>Gazipaşa</td>\n",
       "    </tr>\n",
       "    <tr>\n",
       "      <th>4</th>\n",
       "      <td>SK’DAN BAŞKENT OKULLARI YANİ LÜKS İŞÇİLİKLİ 4+...</td>\n",
       "      <td>7450000</td>\n",
       "      <td>Satılık Daire</td>\n",
       "      <td>145 m2</td>\n",
       "      <td>/ 135 m2</td>\n",
       "      <td>4 + 1</td>\n",
       "      <td>4 Yaşında</td>\n",
       "      <td>3. Kat</td>\n",
       "      <td>14 Katlı</td>\n",
       "      <td>Kombi</td>\n",
       "      <td>2</td>\n",
       "      <td>Eşyalı Değil</td>\n",
       "      <td>Boş</td>\n",
       "      <td>Uygun</td>\n",
       "      <td>Kat İrtifakı</td>\n",
       "      <td>Hayır</td>\n",
       "      <td>https://www.hepsiemlak.com/adana-cukurova-huzu...</td>\n",
       "      <td>Adana</td>\n",
       "      <td>Çukurova</td>\n",
       "      <td>Huzurevleri</td>\n",
       "    </tr>\n",
       "  </tbody>\n",
       "</table>\n",
       "</div>"
      ],
      "text/plain": [
       "                                   house_description  house_price  \\\n",
       "0  GÜRSELPAŞA’DA FULL SOSYAL DONATILI GENİŞ OTURU...      7300000   \n",
       "1  HUZUREVLERİNDE İSKANLI HASARSIZ 3 CEPHELİ 25 m...      1399000   \n",
       "2  KENAN EVREN BLV. YÜRÜME MESAFESİNDE 2+1+ÇB+GO+...      3500000   \n",
       "3  İZZET OKLU İNSAATTAN İSKANI ALINMIŞ OTURUMA HA...     15500000   \n",
       "4  SK’DAN BAŞKENT OKULLARI YANİ LÜKS İŞÇİLİKLİ 4+...      7450000   \n",
       "\n",
       "   property_type gross_area  net_area room_count building_age floor_number  \\\n",
       "0  Satılık Daire     170 m2  / 150 m2      4 + 1    6 Yaşında       9. Kat   \n",
       "1  Satılık Daire      25 m2   / 22 m2      1 + 0   12 Yaşında   Giriş Katı   \n",
       "2  Satılık Daire     125 m2  / 100 m2      2 + 1   10 Yaşında       1. Kat   \n",
       "3  Satılık Daire     195 m2  / 149 m2      4 + 1   Sıfır Bina       4. Kat   \n",
       "4  Satılık Daire     145 m2  / 135 m2      4 + 1    4 Yaşında       3. Kat   \n",
       "\n",
       "  total_floors        heating  bathroom_count     furnished usage_status  \\\n",
       "0     13 Katlı          Kombi               2  Eşyalı Değil  Mülk Sahibi   \n",
       "1     12 Katlı     Isıtma Yok               1  Eşyalı Değil          Boş   \n",
       "2     14 Katlı          Kombi               2  Eşyalı Değil  Mülk Sahibi   \n",
       "3     11 Katlı  Yerden Isıtma               2  Eşyalı Değil          Boş   \n",
       "4     14 Katlı          Kombi               2  Eşyalı Değil          Boş   \n",
       "\n",
       "  credit_eligible    deed_status exchange  \\\n",
       "0           Uygun   Kat İrtifakı    Hayır   \n",
       "1           Uygun  Kat Mülkiyeti     Evet   \n",
       "2           Uygun  Kat Mülkiyeti    Hayır   \n",
       "3           Uygun   Kat İrtifakı    Hayır   \n",
       "4           Uygun   Kat İrtifakı    Hayır   \n",
       "\n",
       "                                           house_url province  district  \\\n",
       "0  https://www.hepsiemlak.com/adana-seyhan-gursel...    Adana    Seyhan   \n",
       "1  https://www.hepsiemlak.com/adana-cukurova-huzu...    Adana  Çukurova   \n",
       "2  https://www.hepsiemlak.com/adana-cukurova-mahf...    Adana  Çukurova   \n",
       "3  https://www.hepsiemlak.com/adana-seyhan-gazipa...    Adana    Seyhan   \n",
       "4  https://www.hepsiemlak.com/adana-cukurova-huzu...    Adana  Çukurova   \n",
       "\n",
       "  neighborhood  \n",
       "0   Gürselpaşa  \n",
       "1  Huzurevleri  \n",
       "2  Mahfesığmaz  \n",
       "3     Gazipaşa  \n",
       "4  Huzurevleri  "
      ]
     },
     "execution_count": 42,
     "metadata": {},
     "output_type": "execute_result"
    }
   ],
   "source": [
    "df.head()"
   ]
  },
  {
   "cell_type": "code",
   "execution_count": 43,
   "metadata": {},
   "outputs": [
    {
     "data": {
      "text/plain": [
       "array(['170 m2', '25 m2', '125 m2', '195 m2', '145 m2', '155 m2',\n",
       "       '165 m2', '150 m2', '65 m2', '60 m2', '140 m2', '100 m2', '120 m2',\n",
       "       '175 m2', '240 m2', '180 m2', '90 m2', '40 m2', '110 m2', '85 m2',\n",
       "       '45 m2', '75 m2', '220 m2', '250 m2', '200 m2', '190 m2', '400 m2',\n",
       "       '95 m2', '115 m2', '80 m2', '160 m2', '185 m2', '135 m2', '130 m2',\n",
       "       '210 m2', '70 m2', '230 m2', '225 m2', '55 m2', '105 m2', '209 m2',\n",
       "       '255 m2', '330 m2', '265 m2', '350 m2', '158 m2', '380 m2',\n",
       "       '136 m2', '300 m2', '215 m2', '50 m2', '147 m2', '360 m2',\n",
       "       '275 m2', '88 m2', '245 m2', '235 m2', '118 m2', '290 m2',\n",
       "       '205 m2', '41 m2', '114 m2', '280 m2', '173 m2', '36 m2', '149 m2',\n",
       "       '35 m2', '174 m2', '42 m2', '48 m2', '260 m2', '270 m2', '188 m2',\n",
       "       '167 m2', '164 m2', '53 m2', '184 m2', '198 m2', '121 m2',\n",
       "       '320 m2', '128 m2', '420 m2', '47 m2', '139 m2', '292 m2',\n",
       "       '156 m2', '500 m2', '82 m2', '148 m2', '52 m2', '186 m2', '397 m2',\n",
       "       '172 m2', '178 m2', '142 m2', '183 m2', '196 m2', '87 m2', '57 m2',\n",
       "       '77 m2', '251 m2', '138 m2', '58 m2', '176 m2', '159 m2', '244 m2',\n",
       "       '297 m2', '111 m2', '298 m2', '161 m2', '450 m2', '106 m2',\n",
       "       '166 m2', '30 m2', '385 m2', '38 m2', '98 m2', '91 m2', '187 m2',\n",
       "       '157 m2', '375 m2', '189 m2', '168 m2', '51 m2', '73 m2', '192 m2',\n",
       "       '285 m2', '240 m²', '78 m²', '170 m²', '175 m²', '165 m²', '80 m²',\n",
       "       '128 m²', '120 m²', '155 m²', '105 m²', '130 m²', '45 m²',\n",
       "       '150 m²', '180 m²', '190 m²', '85 m²', '210 m²', '55 m²', '115 m²',\n",
       "       '145 m²', '125 m²', '136 m²', '100 m²', '110 m²', '652 m²',\n",
       "       '140 m²', '220 m²', '195 m²', '50 m²', '245 m²', '160 m²',\n",
       "       '200 m²', '65 m²', '185 m²', '75 m²', '135 m²', '98 m²', '90 m²',\n",
       "       '95 m²', '250 m²', '300 m²', '70 m²', '138 m²', '126 m²', '40 m²',\n",
       "       '60 m²', '260 m²', '36 m²', '235 m²', '350 m²', '88 m²', '280 m²',\n",
       "       '225 m²', '230 m²', '48 m²', '263 m²', '139 m²', '285 m²',\n",
       "       '168 m²', '404 m²', '251 m²', '35 m²', '47 m²', '147 m²', '400 m²',\n",
       "       '52 m²', '176 m²', '82 m²', '542 m²', '188 m²', '1.250 m²',\n",
       "       '215 m²', '92 m²', '146 m²', '57 m²', '360 m²', '149 m²', '198 m²',\n",
       "       '354 m²', '42 m²', '142 m²', '30 m²', '275 m²', '158 m²', '174 m²',\n",
       "       '117 m²', '144 m²', '303 m²', '119 m²'], dtype=object)"
      ]
     },
     "execution_count": 43,
     "metadata": {},
     "output_type": "execute_result"
    }
   ],
   "source": [
    "df[\"gross_area\"].unique()"
   ]
  },
  {
   "cell_type": "code",
   "execution_count": 44,
   "metadata": {},
   "outputs": [
    {
     "data": {
      "text/plain": [
       "0    170 m2\n",
       "1     25 m2\n",
       "2    125 m2\n",
       "3    195 m2\n",
       "4    145 m2\n",
       "Name: gross_area, dtype: object"
      ]
     },
     "execution_count": 44,
     "metadata": {},
     "output_type": "execute_result"
    }
   ],
   "source": [
    "df.gross_area.head()"
   ]
  },
  {
   "cell_type": "code",
   "execution_count": 45,
   "metadata": {},
   "outputs": [],
   "source": [
    "def convert_gross_area_values_to_int(house_df: pd.DataFrame)-> pd.DataFrame:\n",
    "\n",
    "    df = house_df.copy()\n",
    "\n",
    "\n",
    "    if \"gross_area\" not in df.columns:\n",
    "        logger.error(\"The 'gross_area' column was not found in the DataFrame.\")\n",
    "        return df\n",
    "    \n",
    "    cleaned_gross_area_values = []\n",
    "\n",
    "    for value in df[\"gross_area\"]:\n",
    "        if \"m2\" in value or \"m²\" in value: \n",
    "            value = re.sub(r'\\s*m[²2]', '', value, flags=re.IGNORECASE).strip()\n",
    "            if \".\" in value:\n",
    "                value = re.sub(r'\\.', '', value).strip()\n",
    "\n",
    "            cleaned_gross_area_values.append(int(float(value)))\n",
    "        elif \".\" in value:\n",
    "            value = re.sub(r'\\.', '', value).strip()\n",
    "            cleaned_gross_area_values.append(int(float(value)))\n",
    "            \n",
    "        else:cleaned_gross_area_values.append(int(float(value)))\n",
    "\n",
    "\n",
    "    df[\"gross_area\"] = cleaned_gross_area_values\n",
    "    df.loc[df[\"gross_area\"] > 1000, \"gross_area\"] = df.loc[df[\"gross_area\"] > 1000, \"gross_area\"] //10\n",
    "\n",
    "\n",
    "    logger.info(f\"House gross_area values replaced successfully.\")\n",
    "\n",
    "    return df"
   ]
  },
  {
   "cell_type": "code",
   "execution_count": 46,
   "metadata": {},
   "outputs": [
    {
     "name": "stderr",
     "output_type": "stream",
     "text": [
      "2025-03-25 00:59 - INFO - House gross_area values replaced successfully.\n"
     ]
    }
   ],
   "source": [
    "df = convert_gross_area_values_to_int(house_df=df)"
   ]
  },
  {
   "cell_type": "code",
   "execution_count": 47,
   "metadata": {},
   "outputs": [
    {
     "data": {
      "text/plain": [
       "array([170,  25, 125, 195, 145, 155, 165, 150,  65,  60, 140, 100, 120,\n",
       "       175, 240, 180,  90,  40, 110,  85,  45,  75, 220, 250, 200, 190,\n",
       "       400,  95, 115,  80, 160, 185, 135, 130, 210,  70, 230, 225,  55,\n",
       "       105, 209, 255, 330, 265, 350, 158, 380, 136, 300, 215,  50, 147,\n",
       "       360, 275,  88, 245, 235, 118, 290, 205,  41, 114, 280, 173,  36,\n",
       "       149,  35, 174,  42,  48, 260, 270, 188, 167, 164,  53, 184, 198,\n",
       "       121, 320, 128, 420,  47, 139, 292, 156, 500,  82, 148,  52, 186,\n",
       "       397, 172, 178, 142, 183, 196,  87,  57,  77, 251, 138,  58, 176,\n",
       "       159, 244, 297, 111, 298, 161, 450, 106, 166,  30, 385,  38,  98,\n",
       "        91, 187, 157, 375, 189, 168,  51,  73, 192, 285,  78, 652, 126,\n",
       "       263, 404, 542,  92, 146, 354, 117, 144, 303, 119])"
      ]
     },
     "execution_count": 47,
     "metadata": {},
     "output_type": "execute_result"
    }
   ],
   "source": [
    "df[\"gross_area\"].unique()"
   ]
  },
  {
   "cell_type": "code",
   "execution_count": 48,
   "metadata": {},
   "outputs": [
    {
     "data": {
      "text/html": [
       "<div>\n",
       "<style scoped>\n",
       "    .dataframe tbody tr th:only-of-type {\n",
       "        vertical-align: middle;\n",
       "    }\n",
       "\n",
       "    .dataframe tbody tr th {\n",
       "        vertical-align: top;\n",
       "    }\n",
       "\n",
       "    .dataframe thead th {\n",
       "        text-align: right;\n",
       "    }\n",
       "</style>\n",
       "<table border=\"1\" class=\"dataframe\">\n",
       "  <thead>\n",
       "    <tr style=\"text-align: right;\">\n",
       "      <th></th>\n",
       "      <th>house_description</th>\n",
       "      <th>house_price</th>\n",
       "      <th>property_type</th>\n",
       "      <th>gross_area</th>\n",
       "      <th>net_area</th>\n",
       "      <th>room_count</th>\n",
       "      <th>building_age</th>\n",
       "      <th>floor_number</th>\n",
       "      <th>total_floors</th>\n",
       "      <th>heating</th>\n",
       "      <th>bathroom_count</th>\n",
       "      <th>furnished</th>\n",
       "      <th>usage_status</th>\n",
       "      <th>credit_eligible</th>\n",
       "      <th>deed_status</th>\n",
       "      <th>exchange</th>\n",
       "      <th>house_url</th>\n",
       "      <th>province</th>\n",
       "      <th>district</th>\n",
       "      <th>neighborhood</th>\n",
       "    </tr>\n",
       "  </thead>\n",
       "  <tbody>\n",
       "  </tbody>\n",
       "</table>\n",
       "</div>"
      ],
      "text/plain": [
       "Empty DataFrame\n",
       "Columns: [house_description, house_price, property_type, gross_area, net_area, room_count, building_age, floor_number, total_floors, heating, bathroom_count, furnished, usage_status, credit_eligible, deed_status, exchange, house_url, province, district, neighborhood]\n",
       "Index: []"
      ]
     },
     "execution_count": 48,
     "metadata": {},
     "output_type": "execute_result"
    }
   ],
   "source": [
    "df.loc[df[\"gross_area\"]==1250]"
   ]
  },
  {
   "cell_type": "code",
   "execution_count": 49,
   "metadata": {},
   "outputs": [
    {
     "name": "stdout",
     "output_type": "stream",
     "text": [
      "<class 'pandas.core.frame.DataFrame'>\n",
      "Index: 5071 entries, 0 to 5082\n",
      "Data columns (total 20 columns):\n",
      " #   Column             Non-Null Count  Dtype   \n",
      "---  ------             --------------  -----   \n",
      " 0   house_description  5071 non-null   object  \n",
      " 1   house_price        5071 non-null   int64   \n",
      " 2   property_type      5071 non-null   category\n",
      " 3   gross_area         5071 non-null   int64   \n",
      " 4   net_area           5071 non-null   object  \n",
      " 5   room_count         5071 non-null   object  \n",
      " 6   building_age       5071 non-null   object  \n",
      " 7   floor_number       5071 non-null   object  \n",
      " 8   total_floors       5071 non-null   object  \n",
      " 9   heating            5071 non-null   category\n",
      " 10  bathroom_count     5071 non-null   int64   \n",
      " 11  furnished          5071 non-null   object  \n",
      " 12  usage_status       5071 non-null   object  \n",
      " 13  credit_eligible    5071 non-null   object  \n",
      " 14  deed_status        5071 non-null   object  \n",
      " 15  exchange           5071 non-null   object  \n",
      " 16  house_url          5071 non-null   object  \n",
      " 17  province           5071 non-null   category\n",
      " 18  district           5071 non-null   category\n",
      " 19  neighborhood       5071 non-null   category\n",
      "dtypes: category(5), int64(3), object(12)\n",
      "memory usage: 669.5+ KB\n"
     ]
    }
   ],
   "source": [
    "df.info()"
   ]
  },
  {
   "cell_type": "code",
   "execution_count": 50,
   "metadata": {},
   "outputs": [
    {
     "data": {
      "text/plain": [
       "array(['/ 150 m2', '/ 22 m2', '/ 100 m2', '/ 149 m2', '/ 135 m2',\n",
       "       '/ 160 m2', '/ 148 m2', '/ 130 m2', '/ 55 m2', '/ 50 m2',\n",
       "       '/ 110 m2', '/ 120 m2', '/ 80 m2', '/ 70 m2', '/ 140 m2',\n",
       "       '/ 180 m2', '/ 72 m2', '/ 170 m2', '/ 115 m2', '/ 85 m2',\n",
       "       '/ 32 m2', '/ 90 m2', '/ 40 m2', '/ 145 m2', '/ 60 m2', '/ 190 m2',\n",
       "       '/ 45 m2', '/ 225 m2', '/ 155 m2', '/ 350 m2', '/ 175 m2',\n",
       "       '/ 230 m2', '/ 35 m2', '/ 75 m2', '/ 105 m2', '/ 200 m2',\n",
       "       '/ 125 m2', '/ 88 m2', '/ 108 m2', '/ 185 m2', '/ 95 m2',\n",
       "       '/ 109 m2', '/ 210 m2', '/ 78 m2', '/ 141 m2', '/ 106 m2',\n",
       "       '/ 117 m2', '/ 188 m2', '/ 300 m2', '/ 165 m2', '/ 245 m2',\n",
       "       '/ 48 m2', '/ 118 m2', '/ 250 m2', '/ 340 m2', '/ 144 m2',\n",
       "       '/ 128 m2', '/ 76 m2', '/ 198 m2', '/ 275 m2', '/ 169 m2',\n",
       "       '/ 39 m2', '/ 38 m2', '/ 320 m2', '/ 278 m2', '/ 330 m2',\n",
       "       '/ 215 m2', '/ 167 m2', '/ 96 m2', '/ 49 m2', '/ 44 m2',\n",
       "       '/ 220 m2', '/ 260 m2', '/ 142 m2', '/ 99 m2', '/ 65 m2',\n",
       "       '/ 195 m2', '/ 42 m2', '/ 187 m2', '/ 93 m2', '/ 97 m2',\n",
       "       '/ 163 m2', '/ 30 m2', '/ 156 m2', '/ 83 m2', '/ 119 m2',\n",
       "       '/ 168 m2', '/ 138 m2', '/ 41 m2', '/ 111 m2', '/ 240 m2',\n",
       "       '/ 46 m2', '/ 124 m2', '/ 73 m2', '/ 132 m2', '/ 36 m2', '/ 63 m2',\n",
       "       '/ 91 m2', '/ 184 m2', '/ 186 m2', '/ 280 m2', '/ 147 m2',\n",
       "       '/ 158 m2', '/ 126 m2', '/ 107 m2', '/ 255 m2', '/ 216 m2',\n",
       "       '/ 189 m2', '/ 420 m2', '/ 235 m2', '/ 43 m2', '/ 62 m2',\n",
       "       '/ 290 m2', '/ 98 m2', '/ 123 m2', '/ 173 m2', '/ 152 m2',\n",
       "       '/ 133 m2', '/ 67 m2', '/ 58 m2', '/ 68 m2', '/ 143 m2', '/ 33 m2',\n",
       "       '/ 249 m2', '/ 79 m2', '/ 112 m2', '/ 101 m2', '/ 28 m2',\n",
       "       '/ 116 m2', '/ 129 m2', '/ 205 m2', '/ 179 m2', '/ 202 m2',\n",
       "       '/ 82 m2', '/ 20 m2', '/ 74 m2', '/ 127 m2', '/ 204 m2',\n",
       "       '/ 360 m2', '/ 29 m2', '/ 69 m2', '/ 25 m2', '/ 81 m2', '/ 146 m2',\n",
       "       '/ 265 m2', '/ 34 m2', '/ 77 m2', '/ 178 m2', '/ 157 m2',\n",
       "       '/ 270 m2', '/ 102 m2', '/ 92 m2', '/ 174 m2', '/ 218 m2',\n",
       "       '/ 162 m2', '/ 154 m2', '150 m²', '70 m²', '130 m²', '65 m²',\n",
       "       '98 m²', '100 m²', '125 m²', '90 m²', '120 m²', '40 m²', '160 m²',\n",
       "       '170 m²', '60 m²', '155 m²', '140 m²', '95 m²', '106 m²', '80 m²',\n",
       "       '115 m²', '400 m²', '105 m²', '110 m²', '75 m²', '135 m²',\n",
       "       '190 m²', '185 m²', '215 m²', '184 m²', '139 m²', '112 m²',\n",
       "       '145 m²', '85 m²', '55 m²', '225 m²', '121 m²', '96 m²', '35 m²',\n",
       "       '45 m²', '48 m²', '235 m²', '165 m²', '30 m²', '147 m²', '50 m²',\n",
       "       '290 m²', '158 m²', '132 m²', '88 m²', '250 m²', '175 m²',\n",
       "       '200 m²', '32 m²', '62 m²', '220 m²', '210 m²', '128 m²', '136 m²',\n",
       "       '403 m²', '180 m²', '28 m²', '42 m²', '148 m²', '168 m²', '240 m²',\n",
       "       '97 m²', '300 m²', '260 m²', '68 m²', '49 m²', '46 m²', '87 m²',\n",
       "       '138 m²', '195 m²', '78 m²', '69 m²', '116 m²', '92 m²', '197 m²',\n",
       "       '43 m²', '188 m²', '205 m²', '350 m²', '38 m²', '108 m²', '143 m²',\n",
       "       '142 m²', '172 m²', '36 m²', '118 m²', '149 m²', '76 m²', '27 m²',\n",
       "       '101 m²', '127 m²', '107 m²', '52 m²', '208 m²', '270 m²', '33 m²',\n",
       "       '44 m²', '103 m²'], dtype=object)"
      ]
     },
     "execution_count": 50,
     "metadata": {},
     "output_type": "execute_result"
    }
   ],
   "source": [
    "df.net_area.unique()"
   ]
  },
  {
   "cell_type": "code",
   "execution_count": 51,
   "metadata": {},
   "outputs": [
    {
     "data": {
      "text/plain": [
       "0    / 150 m2\n",
       "1     / 22 m2\n",
       "2    / 100 m2\n",
       "3    / 149 m2\n",
       "4    / 135 m2\n",
       "Name: net_area, dtype: object"
      ]
     },
     "execution_count": 51,
     "metadata": {},
     "output_type": "execute_result"
    }
   ],
   "source": [
    "df.net_area.head()"
   ]
  },
  {
   "cell_type": "code",
   "execution_count": 52,
   "metadata": {},
   "outputs": [],
   "source": [
    "def convert_net_area_values_to_int(house_df: pd.DataFrame)-> pd.DataFrame:\n",
    "\n",
    "    df = house_df.copy()\n",
    "\n",
    "\n",
    "    if \"net_area\" not in df.columns:\n",
    "        logger.error(\"The 'net_area' column was not found in the DataFrame.\")\n",
    "        return df\n",
    "    \n",
    "    cleaned_net_area_values = []\n",
    "\n",
    "    for value in df[\"net_area\"]:\n",
    "        if \"/\" in value or \"m2\" in value or \"m²\" in value: \n",
    "            value = re.sub(r'\\s*m[²2]|/', '', value, flags=re.IGNORECASE).strip()\n",
    "\n",
    "            if \".\" in value:\n",
    "                value = re.sub(r'\\.', '', value).strip()\n",
    "\n",
    "            cleaned_net_area_values.append(int(value))\n",
    "        elif \".\" in value:\n",
    "            value = re.sub(r'\\.', '', value).strip()\n",
    "            cleaned_net_area_values.append(int(value))\n",
    "            \n",
    "        else:cleaned_net_area_values.append(int(value))\n",
    "\n",
    "\n",
    "    df[\"net_area\"] = cleaned_net_area_values\n",
    "    logger.info(f\"House net_area values replaced successfully.\")\n",
    "\n",
    "    \n",
    "\n",
    "    return df\n"
   ]
  },
  {
   "cell_type": "code",
   "execution_count": 53,
   "metadata": {},
   "outputs": [
    {
     "name": "stderr",
     "output_type": "stream",
     "text": [
      "2025-03-25 00:59 - INFO - House net_area values replaced successfully.\n"
     ]
    }
   ],
   "source": [
    "df = convert_net_area_values_to_int(house_df=df)"
   ]
  },
  {
   "cell_type": "code",
   "execution_count": 54,
   "metadata": {},
   "outputs": [
    {
     "data": {
      "text/plain": [
       "0    150\n",
       "1     22\n",
       "2    100\n",
       "3    149\n",
       "4    135\n",
       "Name: net_area, dtype: int64"
      ]
     },
     "execution_count": 54,
     "metadata": {},
     "output_type": "execute_result"
    }
   ],
   "source": [
    "df.net_area.head()"
   ]
  },
  {
   "cell_type": "code",
   "execution_count": 55,
   "metadata": {},
   "outputs": [
    {
     "data": {
      "text/plain": [
       "array([150,  22, 100, 149, 135, 160, 148, 130,  55,  50, 110, 120,  80,\n",
       "        70, 140, 180,  72, 170, 115,  85,  32,  90,  40, 145,  60, 190,\n",
       "        45, 225, 155, 350, 175, 230,  35,  75, 105, 200, 125,  88, 108,\n",
       "       185,  95, 109, 210,  78, 141, 106, 117, 188, 300, 165, 245,  48,\n",
       "       118, 250, 340, 144, 128,  76, 198, 275, 169,  39,  38, 320, 278,\n",
       "       330, 215, 167,  96,  49,  44, 220, 260, 142,  99,  65, 195,  42,\n",
       "       187,  93,  97, 163,  30, 156,  83, 119, 168, 138,  41, 111, 240,\n",
       "        46, 124,  73, 132,  36,  63,  91, 184, 186, 280, 147, 158, 126,\n",
       "       107, 255, 216, 189, 420, 235,  43,  62, 290,  98, 123, 173, 152,\n",
       "       133,  67,  58,  68, 143,  33, 249,  79, 112, 101,  28, 116, 129,\n",
       "       205, 179, 202,  82,  20,  74, 127, 204, 360,  29,  69,  25,  81,\n",
       "       146, 265,  34,  77, 178, 157, 270, 102,  92, 174, 218, 162, 154,\n",
       "       400, 139, 121, 136, 403,  87, 197, 172,  27,  52, 208, 103])"
      ]
     },
     "execution_count": 55,
     "metadata": {},
     "output_type": "execute_result"
    }
   ],
   "source": [
    "df.net_area.unique()"
   ]
  },
  {
   "cell_type": "code",
   "execution_count": 56,
   "metadata": {},
   "outputs": [
    {
     "name": "stdout",
     "output_type": "stream",
     "text": [
      "<class 'pandas.core.frame.DataFrame'>\n",
      "Index: 5071 entries, 0 to 5082\n",
      "Data columns (total 20 columns):\n",
      " #   Column             Non-Null Count  Dtype   \n",
      "---  ------             --------------  -----   \n",
      " 0   house_description  5071 non-null   object  \n",
      " 1   house_price        5071 non-null   int64   \n",
      " 2   property_type      5071 non-null   category\n",
      " 3   gross_area         5071 non-null   int64   \n",
      " 4   net_area           5071 non-null   int64   \n",
      " 5   room_count         5071 non-null   object  \n",
      " 6   building_age       5071 non-null   object  \n",
      " 7   floor_number       5071 non-null   object  \n",
      " 8   total_floors       5071 non-null   object  \n",
      " 9   heating            5071 non-null   category\n",
      " 10  bathroom_count     5071 non-null   int64   \n",
      " 11  furnished          5071 non-null   object  \n",
      " 12  usage_status       5071 non-null   object  \n",
      " 13  credit_eligible    5071 non-null   object  \n",
      " 14  deed_status        5071 non-null   object  \n",
      " 15  exchange           5071 non-null   object  \n",
      " 16  house_url          5071 non-null   object  \n",
      " 17  province           5071 non-null   category\n",
      " 18  district           5071 non-null   category\n",
      " 19  neighborhood       5071 non-null   category\n",
      "dtypes: category(5), int64(4), object(11)\n",
      "memory usage: 669.5+ KB\n"
     ]
    }
   ],
   "source": [
    "df.info()"
   ]
  },
  {
   "cell_type": "code",
   "execution_count": 57,
   "metadata": {},
   "outputs": [
    {
     "data": {
      "text/html": [
       "<div>\n",
       "<style scoped>\n",
       "    .dataframe tbody tr th:only-of-type {\n",
       "        vertical-align: middle;\n",
       "    }\n",
       "\n",
       "    .dataframe tbody tr th {\n",
       "        vertical-align: top;\n",
       "    }\n",
       "\n",
       "    .dataframe thead th {\n",
       "        text-align: right;\n",
       "    }\n",
       "</style>\n",
       "<table border=\"1\" class=\"dataframe\">\n",
       "  <thead>\n",
       "    <tr style=\"text-align: right;\">\n",
       "      <th></th>\n",
       "      <th>house_description</th>\n",
       "      <th>house_price</th>\n",
       "      <th>property_type</th>\n",
       "      <th>gross_area</th>\n",
       "      <th>net_area</th>\n",
       "      <th>room_count</th>\n",
       "      <th>building_age</th>\n",
       "      <th>floor_number</th>\n",
       "      <th>total_floors</th>\n",
       "      <th>heating</th>\n",
       "      <th>bathroom_count</th>\n",
       "      <th>furnished</th>\n",
       "      <th>usage_status</th>\n",
       "      <th>credit_eligible</th>\n",
       "      <th>deed_status</th>\n",
       "      <th>exchange</th>\n",
       "      <th>house_url</th>\n",
       "      <th>province</th>\n",
       "      <th>district</th>\n",
       "      <th>neighborhood</th>\n",
       "    </tr>\n",
       "  </thead>\n",
       "  <tbody>\n",
       "    <tr>\n",
       "      <th>0</th>\n",
       "      <td>GÜRSELPAŞA’DA FULL SOSYAL DONATILI GENİŞ OTURU...</td>\n",
       "      <td>7300000</td>\n",
       "      <td>Satılık Daire</td>\n",
       "      <td>170</td>\n",
       "      <td>150</td>\n",
       "      <td>4 + 1</td>\n",
       "      <td>6 Yaşında</td>\n",
       "      <td>9. Kat</td>\n",
       "      <td>13 Katlı</td>\n",
       "      <td>Kombi</td>\n",
       "      <td>2</td>\n",
       "      <td>Eşyalı Değil</td>\n",
       "      <td>Mülk Sahibi</td>\n",
       "      <td>Uygun</td>\n",
       "      <td>Kat İrtifakı</td>\n",
       "      <td>Hayır</td>\n",
       "      <td>https://www.hepsiemlak.com/adana-seyhan-gursel...</td>\n",
       "      <td>Adana</td>\n",
       "      <td>Seyhan</td>\n",
       "      <td>Gürselpaşa</td>\n",
       "    </tr>\n",
       "    <tr>\n",
       "      <th>1</th>\n",
       "      <td>HUZUREVLERİNDE İSKANLI HASARSIZ 3 CEPHELİ 25 m...</td>\n",
       "      <td>1399000</td>\n",
       "      <td>Satılık Daire</td>\n",
       "      <td>25</td>\n",
       "      <td>22</td>\n",
       "      <td>1 + 0</td>\n",
       "      <td>12 Yaşında</td>\n",
       "      <td>Giriş Katı</td>\n",
       "      <td>12 Katlı</td>\n",
       "      <td>Isıtma Yok</td>\n",
       "      <td>1</td>\n",
       "      <td>Eşyalı Değil</td>\n",
       "      <td>Boş</td>\n",
       "      <td>Uygun</td>\n",
       "      <td>Kat Mülkiyeti</td>\n",
       "      <td>Evet</td>\n",
       "      <td>https://www.hepsiemlak.com/adana-cukurova-huzu...</td>\n",
       "      <td>Adana</td>\n",
       "      <td>Çukurova</td>\n",
       "      <td>Huzurevleri</td>\n",
       "    </tr>\n",
       "    <tr>\n",
       "      <th>2</th>\n",
       "      <td>KENAN EVREN BLV. YÜRÜME MESAFESİNDE 2+1+ÇB+GO+...</td>\n",
       "      <td>3500000</td>\n",
       "      <td>Satılık Daire</td>\n",
       "      <td>125</td>\n",
       "      <td>100</td>\n",
       "      <td>2 + 1</td>\n",
       "      <td>10 Yaşında</td>\n",
       "      <td>1. Kat</td>\n",
       "      <td>14 Katlı</td>\n",
       "      <td>Kombi</td>\n",
       "      <td>2</td>\n",
       "      <td>Eşyalı Değil</td>\n",
       "      <td>Mülk Sahibi</td>\n",
       "      <td>Uygun</td>\n",
       "      <td>Kat Mülkiyeti</td>\n",
       "      <td>Hayır</td>\n",
       "      <td>https://www.hepsiemlak.com/adana-cukurova-mahf...</td>\n",
       "      <td>Adana</td>\n",
       "      <td>Çukurova</td>\n",
       "      <td>Mahfesığmaz</td>\n",
       "    </tr>\n",
       "    <tr>\n",
       "      <th>3</th>\n",
       "      <td>İZZET OKLU İNSAATTAN İSKANI ALINMIŞ OTURUMA HA...</td>\n",
       "      <td>15500000</td>\n",
       "      <td>Satılık Daire</td>\n",
       "      <td>195</td>\n",
       "      <td>149</td>\n",
       "      <td>4 + 1</td>\n",
       "      <td>Sıfır Bina</td>\n",
       "      <td>4. Kat</td>\n",
       "      <td>11 Katlı</td>\n",
       "      <td>Yerden Isıtma</td>\n",
       "      <td>2</td>\n",
       "      <td>Eşyalı Değil</td>\n",
       "      <td>Boş</td>\n",
       "      <td>Uygun</td>\n",
       "      <td>Kat İrtifakı</td>\n",
       "      <td>Hayır</td>\n",
       "      <td>https://www.hepsiemlak.com/adana-seyhan-gazipa...</td>\n",
       "      <td>Adana</td>\n",
       "      <td>Seyhan</td>\n",
       "      <td>Gazipaşa</td>\n",
       "    </tr>\n",
       "    <tr>\n",
       "      <th>4</th>\n",
       "      <td>SK’DAN BAŞKENT OKULLARI YANİ LÜKS İŞÇİLİKLİ 4+...</td>\n",
       "      <td>7450000</td>\n",
       "      <td>Satılık Daire</td>\n",
       "      <td>145</td>\n",
       "      <td>135</td>\n",
       "      <td>4 + 1</td>\n",
       "      <td>4 Yaşında</td>\n",
       "      <td>3. Kat</td>\n",
       "      <td>14 Katlı</td>\n",
       "      <td>Kombi</td>\n",
       "      <td>2</td>\n",
       "      <td>Eşyalı Değil</td>\n",
       "      <td>Boş</td>\n",
       "      <td>Uygun</td>\n",
       "      <td>Kat İrtifakı</td>\n",
       "      <td>Hayır</td>\n",
       "      <td>https://www.hepsiemlak.com/adana-cukurova-huzu...</td>\n",
       "      <td>Adana</td>\n",
       "      <td>Çukurova</td>\n",
       "      <td>Huzurevleri</td>\n",
       "    </tr>\n",
       "  </tbody>\n",
       "</table>\n",
       "</div>"
      ],
      "text/plain": [
       "                                   house_description  house_price  \\\n",
       "0  GÜRSELPAŞA’DA FULL SOSYAL DONATILI GENİŞ OTURU...      7300000   \n",
       "1  HUZUREVLERİNDE İSKANLI HASARSIZ 3 CEPHELİ 25 m...      1399000   \n",
       "2  KENAN EVREN BLV. YÜRÜME MESAFESİNDE 2+1+ÇB+GO+...      3500000   \n",
       "3  İZZET OKLU İNSAATTAN İSKANI ALINMIŞ OTURUMA HA...     15500000   \n",
       "4  SK’DAN BAŞKENT OKULLARI YANİ LÜKS İŞÇİLİKLİ 4+...      7450000   \n",
       "\n",
       "   property_type  gross_area  net_area room_count building_age floor_number  \\\n",
       "0  Satılık Daire         170       150      4 + 1    6 Yaşında       9. Kat   \n",
       "1  Satılık Daire          25        22      1 + 0   12 Yaşında   Giriş Katı   \n",
       "2  Satılık Daire         125       100      2 + 1   10 Yaşında       1. Kat   \n",
       "3  Satılık Daire         195       149      4 + 1   Sıfır Bina       4. Kat   \n",
       "4  Satılık Daire         145       135      4 + 1    4 Yaşında       3. Kat   \n",
       "\n",
       "  total_floors        heating  bathroom_count     furnished usage_status  \\\n",
       "0     13 Katlı          Kombi               2  Eşyalı Değil  Mülk Sahibi   \n",
       "1     12 Katlı     Isıtma Yok               1  Eşyalı Değil          Boş   \n",
       "2     14 Katlı          Kombi               2  Eşyalı Değil  Mülk Sahibi   \n",
       "3     11 Katlı  Yerden Isıtma               2  Eşyalı Değil          Boş   \n",
       "4     14 Katlı          Kombi               2  Eşyalı Değil          Boş   \n",
       "\n",
       "  credit_eligible    deed_status exchange  \\\n",
       "0           Uygun   Kat İrtifakı    Hayır   \n",
       "1           Uygun  Kat Mülkiyeti     Evet   \n",
       "2           Uygun  Kat Mülkiyeti    Hayır   \n",
       "3           Uygun   Kat İrtifakı    Hayır   \n",
       "4           Uygun   Kat İrtifakı    Hayır   \n",
       "\n",
       "                                           house_url province  district  \\\n",
       "0  https://www.hepsiemlak.com/adana-seyhan-gursel...    Adana    Seyhan   \n",
       "1  https://www.hepsiemlak.com/adana-cukurova-huzu...    Adana  Çukurova   \n",
       "2  https://www.hepsiemlak.com/adana-cukurova-mahf...    Adana  Çukurova   \n",
       "3  https://www.hepsiemlak.com/adana-seyhan-gazipa...    Adana    Seyhan   \n",
       "4  https://www.hepsiemlak.com/adana-cukurova-huzu...    Adana  Çukurova   \n",
       "\n",
       "  neighborhood  \n",
       "0   Gürselpaşa  \n",
       "1  Huzurevleri  \n",
       "2  Mahfesığmaz  \n",
       "3     Gazipaşa  \n",
       "4  Huzurevleri  "
      ]
     },
     "execution_count": 57,
     "metadata": {},
     "output_type": "execute_result"
    }
   ],
   "source": [
    "df.head()"
   ]
  },
  {
   "cell_type": "code",
   "execution_count": 58,
   "metadata": {},
   "outputs": [
    {
     "data": {
      "text/plain": [
       "array(['9. Kat', 'Giriş Katı', '1. Kat', '4. Kat', '3. Kat', '5. Kat',\n",
       "       '6. Kat', '2. Kat', '7. Kat', '10. Kat', 'Ara Kat', 'Bahçe Katı',\n",
       "       'Yüksek Giriş', '15. Kat', 'Zemin', '11. Kat', '14. Kat', '8. Kat',\n",
       "       '13. Kat', '12. Kat', '16. Kat', '18. Kat', 'Villa Katı',\n",
       "       '21 ve üzeri', 'En Üst Kat', 'Kot 2', 'Kot 3', 'Kot 1',\n",
       "       'Teras Katı', '17. Kat', 'Çatı Katı', '20. Kat', '19. Kat',\n",
       "       '4.Kat', '2.Kat', '10.Kat', '1.Kat', '6.Kat', '13.Kat', '12.Kat',\n",
       "       'Düz Giriş (Zemin)', '5.Kat', 'Kot 2 (-2).Kat', '11.Kat', '9.Kat',\n",
       "       '8.Kat', '3.Kat', '7.Kat', '15.Kat', '14.Kat', 'Müstakil',\n",
       "       'Bahçe Dublex', '16.Kat', '18.Kat', 'Kot 1 (-1).Kat', 'Villa Tipi',\n",
       "       '20.Kat', '19.Kat', 'Kot 4 (-4).Kat', '21.Kat', 'Kot 3 (-3).Kat',\n",
       "       'Çatı Dubleks', '17.Kat'], dtype=object)"
      ]
     },
     "execution_count": 58,
     "metadata": {},
     "output_type": "execute_result"
    }
   ],
   "source": [
    "df.floor_number.unique()"
   ]
  },
  {
   "cell_type": "code",
   "execution_count": 59,
   "metadata": {},
   "outputs": [
    {
     "data": {
      "text/html": [
       "<pre style=\"white-space:pre;overflow-x:auto;line-height:normal;font-family:Menlo,'DejaVu Sans Mono',consolas,'Courier New',monospace\"><span style=\"color: #008080; text-decoration-color: #008080; font-weight: bold\">9</span>. Kat BULUNDUĞU KAT: <span style=\"color: #008080; text-decoration-color: #008080; font-weight: bold\">183</span>\n",
       "</pre>\n"
      ],
      "text/plain": [
       "\u001b[1;36m9\u001b[0m. Kat BULUNDUĞU KAT: \u001b[1;36m183\u001b[0m\n"
      ]
     },
     "metadata": {},
     "output_type": "display_data"
    },
    {
     "data": {
      "text/html": [
       "<pre style=\"white-space:pre;overflow-x:auto;line-height:normal;font-family:Menlo,'DejaVu Sans Mono',consolas,'Courier New',monospace\">Giriş Katı BULUNDUĞU KAT: <span style=\"color: #008080; text-decoration-color: #008080; font-weight: bold\">15</span>\n",
       "</pre>\n"
      ],
      "text/plain": [
       "Giriş Katı BULUNDUĞU KAT: \u001b[1;36m15\u001b[0m\n"
      ]
     },
     "metadata": {},
     "output_type": "display_data"
    },
    {
     "data": {
      "text/html": [
       "<pre style=\"white-space:pre;overflow-x:auto;line-height:normal;font-family:Menlo,'DejaVu Sans Mono',consolas,'Courier New',monospace\"><span style=\"color: #008080; text-decoration-color: #008080; font-weight: bold\">1</span>. Kat BULUNDUĞU KAT: <span style=\"color: #008080; text-decoration-color: #008080; font-weight: bold\">363</span>\n",
       "</pre>\n"
      ],
      "text/plain": [
       "\u001b[1;36m1\u001b[0m. Kat BULUNDUĞU KAT: \u001b[1;36m363\u001b[0m\n"
      ]
     },
     "metadata": {},
     "output_type": "display_data"
    },
    {
     "data": {
      "text/html": [
       "<pre style=\"white-space:pre;overflow-x:auto;line-height:normal;font-family:Menlo,'DejaVu Sans Mono',consolas,'Courier New',monospace\"><span style=\"color: #008080; text-decoration-color: #008080; font-weight: bold\">4</span>. Kat BULUNDUĞU KAT: <span style=\"color: #008080; text-decoration-color: #008080; font-weight: bold\">333</span>\n",
       "</pre>\n"
      ],
      "text/plain": [
       "\u001b[1;36m4\u001b[0m. Kat BULUNDUĞU KAT: \u001b[1;36m333\u001b[0m\n"
      ]
     },
     "metadata": {},
     "output_type": "display_data"
    },
    {
     "data": {
      "text/html": [
       "<pre style=\"white-space:pre;overflow-x:auto;line-height:normal;font-family:Menlo,'DejaVu Sans Mono',consolas,'Courier New',monospace\"><span style=\"color: #008080; text-decoration-color: #008080; font-weight: bold\">3</span>. Kat BULUNDUĞU KAT: <span style=\"color: #008080; text-decoration-color: #008080; font-weight: bold\">300</span>\n",
       "</pre>\n"
      ],
      "text/plain": [
       "\u001b[1;36m3\u001b[0m. Kat BULUNDUĞU KAT: \u001b[1;36m300\u001b[0m\n"
      ]
     },
     "metadata": {},
     "output_type": "display_data"
    },
    {
     "data": {
      "text/html": [
       "<pre style=\"white-space:pre;overflow-x:auto;line-height:normal;font-family:Menlo,'DejaVu Sans Mono',consolas,'Courier New',monospace\"><span style=\"color: #008080; text-decoration-color: #008080; font-weight: bold\">5</span>. Kat BULUNDUĞU KAT: <span style=\"color: #008080; text-decoration-color: #008080; font-weight: bold\">282</span>\n",
       "</pre>\n"
      ],
      "text/plain": [
       "\u001b[1;36m5\u001b[0m. Kat BULUNDUĞU KAT: \u001b[1;36m282\u001b[0m\n"
      ]
     },
     "metadata": {},
     "output_type": "display_data"
    },
    {
     "data": {
      "text/html": [
       "<pre style=\"white-space:pre;overflow-x:auto;line-height:normal;font-family:Menlo,'DejaVu Sans Mono',consolas,'Courier New',monospace\"><span style=\"color: #008080; text-decoration-color: #008080; font-weight: bold\">6</span>. Kat BULUNDUĞU KAT: <span style=\"color: #008080; text-decoration-color: #008080; font-weight: bold\">223</span>\n",
       "</pre>\n"
      ],
      "text/plain": [
       "\u001b[1;36m6\u001b[0m. Kat BULUNDUĞU KAT: \u001b[1;36m223\u001b[0m\n"
      ]
     },
     "metadata": {},
     "output_type": "display_data"
    },
    {
     "data": {
      "text/html": [
       "<pre style=\"white-space:pre;overflow-x:auto;line-height:normal;font-family:Menlo,'DejaVu Sans Mono',consolas,'Courier New',monospace\"><span style=\"color: #008080; text-decoration-color: #008080; font-weight: bold\">2</span>. Kat BULUNDUĞU KAT: <span style=\"color: #008080; text-decoration-color: #008080; font-weight: bold\">322</span>\n",
       "</pre>\n"
      ],
      "text/plain": [
       "\u001b[1;36m2\u001b[0m. Kat BULUNDUĞU KAT: \u001b[1;36m322\u001b[0m\n"
      ]
     },
     "metadata": {},
     "output_type": "display_data"
    },
    {
     "data": {
      "text/html": [
       "<pre style=\"white-space:pre;overflow-x:auto;line-height:normal;font-family:Menlo,'DejaVu Sans Mono',consolas,'Courier New',monospace\"><span style=\"color: #008080; text-decoration-color: #008080; font-weight: bold\">7</span>. Kat BULUNDUĞU KAT: <span style=\"color: #008080; text-decoration-color: #008080; font-weight: bold\">237</span>\n",
       "</pre>\n"
      ],
      "text/plain": [
       "\u001b[1;36m7\u001b[0m. Kat BULUNDUĞU KAT: \u001b[1;36m237\u001b[0m\n"
      ]
     },
     "metadata": {},
     "output_type": "display_data"
    },
    {
     "data": {
      "text/html": [
       "<pre style=\"white-space:pre;overflow-x:auto;line-height:normal;font-family:Menlo,'DejaVu Sans Mono',consolas,'Courier New',monospace\"><span style=\"color: #008080; text-decoration-color: #008080; font-weight: bold\">10</span>. Kat BULUNDUĞU KAT: <span style=\"color: #008080; text-decoration-color: #008080; font-weight: bold\">181</span>\n",
       "</pre>\n"
      ],
      "text/plain": [
       "\u001b[1;36m10\u001b[0m. Kat BULUNDUĞU KAT: \u001b[1;36m181\u001b[0m\n"
      ]
     },
     "metadata": {},
     "output_type": "display_data"
    },
    {
     "data": {
      "text/html": [
       "<pre style=\"white-space:pre;overflow-x:auto;line-height:normal;font-family:Menlo,'DejaVu Sans Mono',consolas,'Courier New',monospace\">Ara Kat BULUNDUĞU KAT: <span style=\"color: #008080; text-decoration-color: #008080; font-weight: bold\">88</span>\n",
       "</pre>\n"
      ],
      "text/plain": [
       "Ara Kat BULUNDUĞU KAT: \u001b[1;36m88\u001b[0m\n"
      ]
     },
     "metadata": {},
     "output_type": "display_data"
    },
    {
     "data": {
      "text/html": [
       "<pre style=\"white-space:pre;overflow-x:auto;line-height:normal;font-family:Menlo,'DejaVu Sans Mono',consolas,'Courier New',monospace\">Bahçe Katı BULUNDUĞU KAT: <span style=\"color: #008080; text-decoration-color: #008080; font-weight: bold\">78</span>\n",
       "</pre>\n"
      ],
      "text/plain": [
       "Bahçe Katı BULUNDUĞU KAT: \u001b[1;36m78\u001b[0m\n"
      ]
     },
     "metadata": {},
     "output_type": "display_data"
    },
    {
     "data": {
      "text/html": [
       "<pre style=\"white-space:pre;overflow-x:auto;line-height:normal;font-family:Menlo,'DejaVu Sans Mono',consolas,'Courier New',monospace\">Yüksek Giriş BULUNDUĞU KAT: <span style=\"color: #008080; text-decoration-color: #008080; font-weight: bold\">190</span>\n",
       "</pre>\n"
      ],
      "text/plain": [
       "Yüksek Giriş BULUNDUĞU KAT: \u001b[1;36m190\u001b[0m\n"
      ]
     },
     "metadata": {},
     "output_type": "display_data"
    },
    {
     "data": {
      "text/html": [
       "<pre style=\"white-space:pre;overflow-x:auto;line-height:normal;font-family:Menlo,'DejaVu Sans Mono',consolas,'Courier New',monospace\"><span style=\"color: #008080; text-decoration-color: #008080; font-weight: bold\">15</span>. Kat BULUNDUĞU KAT: <span style=\"color: #008080; text-decoration-color: #008080; font-weight: bold\">32</span>\n",
       "</pre>\n"
      ],
      "text/plain": [
       "\u001b[1;36m15\u001b[0m. Kat BULUNDUĞU KAT: \u001b[1;36m32\u001b[0m\n"
      ]
     },
     "metadata": {},
     "output_type": "display_data"
    },
    {
     "data": {
      "text/html": [
       "<pre style=\"white-space:pre;overflow-x:auto;line-height:normal;font-family:Menlo,'DejaVu Sans Mono',consolas,'Courier New',monospace\">Zemin BULUNDUĞU KAT: <span style=\"color: #008080; text-decoration-color: #008080; font-weight: bold\">62</span>\n",
       "</pre>\n"
      ],
      "text/plain": [
       "Zemin BULUNDUĞU KAT: \u001b[1;36m62\u001b[0m\n"
      ]
     },
     "metadata": {},
     "output_type": "display_data"
    },
    {
     "data": {
      "text/html": [
       "<pre style=\"white-space:pre;overflow-x:auto;line-height:normal;font-family:Menlo,'DejaVu Sans Mono',consolas,'Courier New',monospace\"><span style=\"color: #008080; text-decoration-color: #008080; font-weight: bold\">11</span>. Kat BULUNDUĞU KAT: <span style=\"color: #008080; text-decoration-color: #008080; font-weight: bold\">113</span>\n",
       "</pre>\n"
      ],
      "text/plain": [
       "\u001b[1;36m11\u001b[0m. Kat BULUNDUĞU KAT: \u001b[1;36m113\u001b[0m\n"
      ]
     },
     "metadata": {},
     "output_type": "display_data"
    },
    {
     "data": {
      "text/html": [
       "<pre style=\"white-space:pre;overflow-x:auto;line-height:normal;font-family:Menlo,'DejaVu Sans Mono',consolas,'Courier New',monospace\"><span style=\"color: #008080; text-decoration-color: #008080; font-weight: bold\">14</span>. Kat BULUNDUĞU KAT: <span style=\"color: #008080; text-decoration-color: #008080; font-weight: bold\">53</span>\n",
       "</pre>\n"
      ],
      "text/plain": [
       "\u001b[1;36m14\u001b[0m. Kat BULUNDUĞU KAT: \u001b[1;36m53\u001b[0m\n"
      ]
     },
     "metadata": {},
     "output_type": "display_data"
    },
    {
     "data": {
      "text/html": [
       "<pre style=\"white-space:pre;overflow-x:auto;line-height:normal;font-family:Menlo,'DejaVu Sans Mono',consolas,'Courier New',monospace\"><span style=\"color: #008080; text-decoration-color: #008080; font-weight: bold\">8</span>. Kat BULUNDUĞU KAT: <span style=\"color: #008080; text-decoration-color: #008080; font-weight: bold\">207</span>\n",
       "</pre>\n"
      ],
      "text/plain": [
       "\u001b[1;36m8\u001b[0m. Kat BULUNDUĞU KAT: \u001b[1;36m207\u001b[0m\n"
      ]
     },
     "metadata": {},
     "output_type": "display_data"
    },
    {
     "data": {
      "text/html": [
       "<pre style=\"white-space:pre;overflow-x:auto;line-height:normal;font-family:Menlo,'DejaVu Sans Mono',consolas,'Courier New',monospace\"><span style=\"color: #008080; text-decoration-color: #008080; font-weight: bold\">13</span>. Kat BULUNDUĞU KAT: <span style=\"color: #008080; text-decoration-color: #008080; font-weight: bold\">68</span>\n",
       "</pre>\n"
      ],
      "text/plain": [
       "\u001b[1;36m13\u001b[0m. Kat BULUNDUĞU KAT: \u001b[1;36m68\u001b[0m\n"
      ]
     },
     "metadata": {},
     "output_type": "display_data"
    },
    {
     "data": {
      "text/html": [
       "<pre style=\"white-space:pre;overflow-x:auto;line-height:normal;font-family:Menlo,'DejaVu Sans Mono',consolas,'Courier New',monospace\"><span style=\"color: #008080; text-decoration-color: #008080; font-weight: bold\">12</span>. Kat BULUNDUĞU KAT: <span style=\"color: #008080; text-decoration-color: #008080; font-weight: bold\">112</span>\n",
       "</pre>\n"
      ],
      "text/plain": [
       "\u001b[1;36m12\u001b[0m. Kat BULUNDUĞU KAT: \u001b[1;36m112\u001b[0m\n"
      ]
     },
     "metadata": {},
     "output_type": "display_data"
    },
    {
     "data": {
      "text/html": [
       "<pre style=\"white-space:pre;overflow-x:auto;line-height:normal;font-family:Menlo,'DejaVu Sans Mono',consolas,'Courier New',monospace\"><span style=\"color: #008080; text-decoration-color: #008080; font-weight: bold\">16</span>. Kat BULUNDUĞU KAT: <span style=\"color: #008080; text-decoration-color: #008080; font-weight: bold\">32</span>\n",
       "</pre>\n"
      ],
      "text/plain": [
       "\u001b[1;36m16\u001b[0m. Kat BULUNDUĞU KAT: \u001b[1;36m32\u001b[0m\n"
      ]
     },
     "metadata": {},
     "output_type": "display_data"
    },
    {
     "data": {
      "text/html": [
       "<pre style=\"white-space:pre;overflow-x:auto;line-height:normal;font-family:Menlo,'DejaVu Sans Mono',consolas,'Courier New',monospace\"><span style=\"color: #008080; text-decoration-color: #008080; font-weight: bold\">18</span>. Kat BULUNDUĞU KAT: <span style=\"color: #008080; text-decoration-color: #008080; font-weight: bold\">12</span>\n",
       "</pre>\n"
      ],
      "text/plain": [
       "\u001b[1;36m18\u001b[0m. Kat BULUNDUĞU KAT: \u001b[1;36m12\u001b[0m\n"
      ]
     },
     "metadata": {},
     "output_type": "display_data"
    },
    {
     "data": {
      "text/html": [
       "<pre style=\"white-space:pre;overflow-x:auto;line-height:normal;font-family:Menlo,'DejaVu Sans Mono',consolas,'Courier New',monospace\">Villa Katı BULUNDUĞU KAT: <span style=\"color: #008080; text-decoration-color: #008080; font-weight: bold\">14</span>\n",
       "</pre>\n"
      ],
      "text/plain": [
       "Villa Katı BULUNDUĞU KAT: \u001b[1;36m14\u001b[0m\n"
      ]
     },
     "metadata": {},
     "output_type": "display_data"
    },
    {
     "data": {
      "text/html": [
       "<pre style=\"white-space:pre;overflow-x:auto;line-height:normal;font-family:Menlo,'DejaVu Sans Mono',consolas,'Courier New',monospace\"><span style=\"color: #008080; text-decoration-color: #008080; font-weight: bold\">21</span> ve üzeri BULUNDUĞU KAT: <span style=\"color: #008080; text-decoration-color: #008080; font-weight: bold\">9</span>\n",
       "</pre>\n"
      ],
      "text/plain": [
       "\u001b[1;36m21\u001b[0m ve üzeri BULUNDUĞU KAT: \u001b[1;36m9\u001b[0m\n"
      ]
     },
     "metadata": {},
     "output_type": "display_data"
    },
    {
     "data": {
      "text/html": [
       "<pre style=\"white-space:pre;overflow-x:auto;line-height:normal;font-family:Menlo,'DejaVu Sans Mono',consolas,'Courier New',monospace\">En Üst Kat BULUNDUĞU KAT: <span style=\"color: #008080; text-decoration-color: #008080; font-weight: bold\">27</span>\n",
       "</pre>\n"
      ],
      "text/plain": [
       "En Üst Kat BULUNDUĞU KAT: \u001b[1;36m27\u001b[0m\n"
      ]
     },
     "metadata": {},
     "output_type": "display_data"
    },
    {
     "data": {
      "text/html": [
       "<pre style=\"white-space:pre;overflow-x:auto;line-height:normal;font-family:Menlo,'DejaVu Sans Mono',consolas,'Courier New',monospace\">Kot <span style=\"color: #008080; text-decoration-color: #008080; font-weight: bold\">2</span> BULUNDUĞU KAT: <span style=\"color: #008080; text-decoration-color: #008080; font-weight: bold\">10</span>\n",
       "</pre>\n"
      ],
      "text/plain": [
       "Kot \u001b[1;36m2\u001b[0m BULUNDUĞU KAT: \u001b[1;36m10\u001b[0m\n"
      ]
     },
     "metadata": {},
     "output_type": "display_data"
    },
    {
     "data": {
      "text/html": [
       "<pre style=\"white-space:pre;overflow-x:auto;line-height:normal;font-family:Menlo,'DejaVu Sans Mono',consolas,'Courier New',monospace\">Kot <span style=\"color: #008080; text-decoration-color: #008080; font-weight: bold\">3</span> BULUNDUĞU KAT: <span style=\"color: #008080; text-decoration-color: #008080; font-weight: bold\">10</span>\n",
       "</pre>\n"
      ],
      "text/plain": [
       "Kot \u001b[1;36m3\u001b[0m BULUNDUĞU KAT: \u001b[1;36m10\u001b[0m\n"
      ]
     },
     "metadata": {},
     "output_type": "display_data"
    },
    {
     "data": {
      "text/html": [
       "<pre style=\"white-space:pre;overflow-x:auto;line-height:normal;font-family:Menlo,'DejaVu Sans Mono',consolas,'Courier New',monospace\">Kot <span style=\"color: #008080; text-decoration-color: #008080; font-weight: bold\">1</span> BULUNDUĞU KAT: <span style=\"color: #008080; text-decoration-color: #008080; font-weight: bold\">8</span>\n",
       "</pre>\n"
      ],
      "text/plain": [
       "Kot \u001b[1;36m1\u001b[0m BULUNDUĞU KAT: \u001b[1;36m8\u001b[0m\n"
      ]
     },
     "metadata": {},
     "output_type": "display_data"
    },
    {
     "data": {
      "text/html": [
       "<pre style=\"white-space:pre;overflow-x:auto;line-height:normal;font-family:Menlo,'DejaVu Sans Mono',consolas,'Courier New',monospace\">Teras Katı BULUNDUĞU KAT: <span style=\"color: #008080; text-decoration-color: #008080; font-weight: bold\">3</span>\n",
       "</pre>\n"
      ],
      "text/plain": [
       "Teras Katı BULUNDUĞU KAT: \u001b[1;36m3\u001b[0m\n"
      ]
     },
     "metadata": {},
     "output_type": "display_data"
    },
    {
     "data": {
      "text/html": [
       "<pre style=\"white-space:pre;overflow-x:auto;line-height:normal;font-family:Menlo,'DejaVu Sans Mono',consolas,'Courier New',monospace\"><span style=\"color: #008080; text-decoration-color: #008080; font-weight: bold\">17</span>. Kat BULUNDUĞU KAT: <span style=\"color: #008080; text-decoration-color: #008080; font-weight: bold\">4</span>\n",
       "</pre>\n"
      ],
      "text/plain": [
       "\u001b[1;36m17\u001b[0m. Kat BULUNDUĞU KAT: \u001b[1;36m4\u001b[0m\n"
      ]
     },
     "metadata": {},
     "output_type": "display_data"
    },
    {
     "data": {
      "text/html": [
       "<pre style=\"white-space:pre;overflow-x:auto;line-height:normal;font-family:Menlo,'DejaVu Sans Mono',consolas,'Courier New',monospace\">Çatı Katı BULUNDUĞU KAT: <span style=\"color: #008080; text-decoration-color: #008080; font-weight: bold\">7</span>\n",
       "</pre>\n"
      ],
      "text/plain": [
       "Çatı Katı BULUNDUĞU KAT: \u001b[1;36m7\u001b[0m\n"
      ]
     },
     "metadata": {},
     "output_type": "display_data"
    },
    {
     "data": {
      "text/html": [
       "<pre style=\"white-space:pre;overflow-x:auto;line-height:normal;font-family:Menlo,'DejaVu Sans Mono',consolas,'Courier New',monospace\"><span style=\"color: #008080; text-decoration-color: #008080; font-weight: bold\">20</span>. Kat BULUNDUĞU KAT: <span style=\"color: #008080; text-decoration-color: #008080; font-weight: bold\">7</span>\n",
       "</pre>\n"
      ],
      "text/plain": [
       "\u001b[1;36m20\u001b[0m. Kat BULUNDUĞU KAT: \u001b[1;36m7\u001b[0m\n"
      ]
     },
     "metadata": {},
     "output_type": "display_data"
    },
    {
     "data": {
      "text/html": [
       "<pre style=\"white-space:pre;overflow-x:auto;line-height:normal;font-family:Menlo,'DejaVu Sans Mono',consolas,'Courier New',monospace\"><span style=\"color: #008080; text-decoration-color: #008080; font-weight: bold\">19</span>. Kat BULUNDUĞU KAT: <span style=\"color: #008080; text-decoration-color: #008080; font-weight: bold\">8</span>\n",
       "</pre>\n"
      ],
      "text/plain": [
       "\u001b[1;36m19\u001b[0m. Kat BULUNDUĞU KAT: \u001b[1;36m8\u001b[0m\n"
      ]
     },
     "metadata": {},
     "output_type": "display_data"
    },
    {
     "data": {
      "text/html": [
       "<pre style=\"white-space:pre;overflow-x:auto;line-height:normal;font-family:Menlo,'DejaVu Sans Mono',consolas,'Courier New',monospace\"><span style=\"color: #008080; text-decoration-color: #008080; font-weight: bold\">4.</span>Kat BULUNDUĞU KAT: <span style=\"color: #008080; text-decoration-color: #008080; font-weight: bold\">126</span>\n",
       "</pre>\n"
      ],
      "text/plain": [
       "\u001b[1;36m4.\u001b[0mKat BULUNDUĞU KAT: \u001b[1;36m126\u001b[0m\n"
      ]
     },
     "metadata": {},
     "output_type": "display_data"
    },
    {
     "data": {
      "text/html": [
       "<pre style=\"white-space:pre;overflow-x:auto;line-height:normal;font-family:Menlo,'DejaVu Sans Mono',consolas,'Courier New',monospace\"><span style=\"color: #008080; text-decoration-color: #008080; font-weight: bold\">2.</span>Kat BULUNDUĞU KAT: <span style=\"color: #008080; text-decoration-color: #008080; font-weight: bold\">153</span>\n",
       "</pre>\n"
      ],
      "text/plain": [
       "\u001b[1;36m2.\u001b[0mKat BULUNDUĞU KAT: \u001b[1;36m153\u001b[0m\n"
      ]
     },
     "metadata": {},
     "output_type": "display_data"
    },
    {
     "data": {
      "text/html": [
       "<pre style=\"white-space:pre;overflow-x:auto;line-height:normal;font-family:Menlo,'DejaVu Sans Mono',consolas,'Courier New',monospace\"><span style=\"color: #008080; text-decoration-color: #008080; font-weight: bold\">10.</span>Kat BULUNDUĞU KAT: <span style=\"color: #008080; text-decoration-color: #008080; font-weight: bold\">63</span>\n",
       "</pre>\n"
      ],
      "text/plain": [
       "\u001b[1;36m10.\u001b[0mKat BULUNDUĞU KAT: \u001b[1;36m63\u001b[0m\n"
      ]
     },
     "metadata": {},
     "output_type": "display_data"
    },
    {
     "data": {
      "text/html": [
       "<pre style=\"white-space:pre;overflow-x:auto;line-height:normal;font-family:Menlo,'DejaVu Sans Mono',consolas,'Courier New',monospace\"><span style=\"color: #008080; text-decoration-color: #008080; font-weight: bold\">1.</span>Kat BULUNDUĞU KAT: <span style=\"color: #008080; text-decoration-color: #008080; font-weight: bold\">159</span>\n",
       "</pre>\n"
      ],
      "text/plain": [
       "\u001b[1;36m1.\u001b[0mKat BULUNDUĞU KAT: \u001b[1;36m159\u001b[0m\n"
      ]
     },
     "metadata": {},
     "output_type": "display_data"
    },
    {
     "data": {
      "text/html": [
       "<pre style=\"white-space:pre;overflow-x:auto;line-height:normal;font-family:Menlo,'DejaVu Sans Mono',consolas,'Courier New',monospace\"><span style=\"color: #008080; text-decoration-color: #008080; font-weight: bold\">6.</span>Kat BULUNDUĞU KAT: <span style=\"color: #008080; text-decoration-color: #008080; font-weight: bold\">105</span>\n",
       "</pre>\n"
      ],
      "text/plain": [
       "\u001b[1;36m6.\u001b[0mKat BULUNDUĞU KAT: \u001b[1;36m105\u001b[0m\n"
      ]
     },
     "metadata": {},
     "output_type": "display_data"
    },
    {
     "data": {
      "text/html": [
       "<pre style=\"white-space:pre;overflow-x:auto;line-height:normal;font-family:Menlo,'DejaVu Sans Mono',consolas,'Courier New',monospace\"><span style=\"color: #008080; text-decoration-color: #008080; font-weight: bold\">13.</span>Kat BULUNDUĞU KAT: <span style=\"color: #008080; text-decoration-color: #008080; font-weight: bold\">32</span>\n",
       "</pre>\n"
      ],
      "text/plain": [
       "\u001b[1;36m13.\u001b[0mKat BULUNDUĞU KAT: \u001b[1;36m32\u001b[0m\n"
      ]
     },
     "metadata": {},
     "output_type": "display_data"
    },
    {
     "data": {
      "text/html": [
       "<pre style=\"white-space:pre;overflow-x:auto;line-height:normal;font-family:Menlo,'DejaVu Sans Mono',consolas,'Courier New',monospace\"><span style=\"color: #008080; text-decoration-color: #008080; font-weight: bold\">12.</span>Kat BULUNDUĞU KAT: <span style=\"color: #008080; text-decoration-color: #008080; font-weight: bold\">40</span>\n",
       "</pre>\n"
      ],
      "text/plain": [
       "\u001b[1;36m12.\u001b[0mKat BULUNDUĞU KAT: \u001b[1;36m40\u001b[0m\n"
      ]
     },
     "metadata": {},
     "output_type": "display_data"
    },
    {
     "data": {
      "text/html": [
       "<pre style=\"white-space:pre;overflow-x:auto;line-height:normal;font-family:Menlo,'DejaVu Sans Mono',consolas,'Courier New',monospace\">Düz Giriş <span style=\"font-weight: bold\">(</span>Zemin<span style=\"font-weight: bold\">)</span> BULUNDUĞU KAT: <span style=\"color: #008080; text-decoration-color: #008080; font-weight: bold\">45</span>\n",
       "</pre>\n"
      ],
      "text/plain": [
       "Düz Giriş \u001b[1m(\u001b[0mZemin\u001b[1m)\u001b[0m BULUNDUĞU KAT: \u001b[1;36m45\u001b[0m\n"
      ]
     },
     "metadata": {},
     "output_type": "display_data"
    },
    {
     "data": {
      "text/html": [
       "<pre style=\"white-space:pre;overflow-x:auto;line-height:normal;font-family:Menlo,'DejaVu Sans Mono',consolas,'Courier New',monospace\"><span style=\"color: #008080; text-decoration-color: #008080; font-weight: bold\">5.</span>Kat BULUNDUĞU KAT: <span style=\"color: #008080; text-decoration-color: #008080; font-weight: bold\">158</span>\n",
       "</pre>\n"
      ],
      "text/plain": [
       "\u001b[1;36m5.\u001b[0mKat BULUNDUĞU KAT: \u001b[1;36m158\u001b[0m\n"
      ]
     },
     "metadata": {},
     "output_type": "display_data"
    },
    {
     "data": {
      "text/html": [
       "<pre style=\"white-space:pre;overflow-x:auto;line-height:normal;font-family:Menlo,'DejaVu Sans Mono',consolas,'Courier New',monospace\">Kot <span style=\"color: #008080; text-decoration-color: #008080; font-weight: bold\">2</span> <span style=\"font-weight: bold\">(</span><span style=\"color: #008080; text-decoration-color: #008080; font-weight: bold\">-2</span><span style=\"font-weight: bold\">)</span>.Kat BULUNDUĞU KAT: <span style=\"color: #008080; text-decoration-color: #008080; font-weight: bold\">4</span>\n",
       "</pre>\n"
      ],
      "text/plain": [
       "Kot \u001b[1;36m2\u001b[0m \u001b[1m(\u001b[0m\u001b[1;36m-2\u001b[0m\u001b[1m)\u001b[0m.Kat BULUNDUĞU KAT: \u001b[1;36m4\u001b[0m\n"
      ]
     },
     "metadata": {},
     "output_type": "display_data"
    },
    {
     "data": {
      "text/html": [
       "<pre style=\"white-space:pre;overflow-x:auto;line-height:normal;font-family:Menlo,'DejaVu Sans Mono',consolas,'Courier New',monospace\"><span style=\"color: #008080; text-decoration-color: #008080; font-weight: bold\">11.</span>Kat BULUNDUĞU KAT: <span style=\"color: #008080; text-decoration-color: #008080; font-weight: bold\">53</span>\n",
       "</pre>\n"
      ],
      "text/plain": [
       "\u001b[1;36m11.\u001b[0mKat BULUNDUĞU KAT: \u001b[1;36m53\u001b[0m\n"
      ]
     },
     "metadata": {},
     "output_type": "display_data"
    },
    {
     "data": {
      "text/html": [
       "<pre style=\"white-space:pre;overflow-x:auto;line-height:normal;font-family:Menlo,'DejaVu Sans Mono',consolas,'Courier New',monospace\"><span style=\"color: #008080; text-decoration-color: #008080; font-weight: bold\">9.</span>Kat BULUNDUĞU KAT: <span style=\"color: #008080; text-decoration-color: #008080; font-weight: bold\">58</span>\n",
       "</pre>\n"
      ],
      "text/plain": [
       "\u001b[1;36m9.\u001b[0mKat BULUNDUĞU KAT: \u001b[1;36m58\u001b[0m\n"
      ]
     },
     "metadata": {},
     "output_type": "display_data"
    },
    {
     "data": {
      "text/html": [
       "<pre style=\"white-space:pre;overflow-x:auto;line-height:normal;font-family:Menlo,'DejaVu Sans Mono',consolas,'Courier New',monospace\"><span style=\"color: #008080; text-decoration-color: #008080; font-weight: bold\">8.</span>Kat BULUNDUĞU KAT: <span style=\"color: #008080; text-decoration-color: #008080; font-weight: bold\">92</span>\n",
       "</pre>\n"
      ],
      "text/plain": [
       "\u001b[1;36m8.\u001b[0mKat BULUNDUĞU KAT: \u001b[1;36m92\u001b[0m\n"
      ]
     },
     "metadata": {},
     "output_type": "display_data"
    },
    {
     "data": {
      "text/html": [
       "<pre style=\"white-space:pre;overflow-x:auto;line-height:normal;font-family:Menlo,'DejaVu Sans Mono',consolas,'Courier New',monospace\"><span style=\"color: #008080; text-decoration-color: #008080; font-weight: bold\">3.</span>Kat BULUNDUĞU KAT: <span style=\"color: #008080; text-decoration-color: #008080; font-weight: bold\">150</span>\n",
       "</pre>\n"
      ],
      "text/plain": [
       "\u001b[1;36m3.\u001b[0mKat BULUNDUĞU KAT: \u001b[1;36m150\u001b[0m\n"
      ]
     },
     "metadata": {},
     "output_type": "display_data"
    },
    {
     "data": {
      "text/html": [
       "<pre style=\"white-space:pre;overflow-x:auto;line-height:normal;font-family:Menlo,'DejaVu Sans Mono',consolas,'Courier New',monospace\"><span style=\"color: #008080; text-decoration-color: #008080; font-weight: bold\">7.</span>Kat BULUNDUĞU KAT: <span style=\"color: #008080; text-decoration-color: #008080; font-weight: bold\">79</span>\n",
       "</pre>\n"
      ],
      "text/plain": [
       "\u001b[1;36m7.\u001b[0mKat BULUNDUĞU KAT: \u001b[1;36m79\u001b[0m\n"
      ]
     },
     "metadata": {},
     "output_type": "display_data"
    },
    {
     "data": {
      "text/html": [
       "<pre style=\"white-space:pre;overflow-x:auto;line-height:normal;font-family:Menlo,'DejaVu Sans Mono',consolas,'Courier New',monospace\"><span style=\"color: #008080; text-decoration-color: #008080; font-weight: bold\">15.</span>Kat BULUNDUĞU KAT: <span style=\"color: #008080; text-decoration-color: #008080; font-weight: bold\">14</span>\n",
       "</pre>\n"
      ],
      "text/plain": [
       "\u001b[1;36m15.\u001b[0mKat BULUNDUĞU KAT: \u001b[1;36m14\u001b[0m\n"
      ]
     },
     "metadata": {},
     "output_type": "display_data"
    },
    {
     "data": {
      "text/html": [
       "<pre style=\"white-space:pre;overflow-x:auto;line-height:normal;font-family:Menlo,'DejaVu Sans Mono',consolas,'Courier New',monospace\"><span style=\"color: #008080; text-decoration-color: #008080; font-weight: bold\">14.</span>Kat BULUNDUĞU KAT: <span style=\"color: #008080; text-decoration-color: #008080; font-weight: bold\">24</span>\n",
       "</pre>\n"
      ],
      "text/plain": [
       "\u001b[1;36m14.\u001b[0mKat BULUNDUĞU KAT: \u001b[1;36m24\u001b[0m\n"
      ]
     },
     "metadata": {},
     "output_type": "display_data"
    },
    {
     "data": {
      "text/html": [
       "<pre style=\"white-space:pre;overflow-x:auto;line-height:normal;font-family:Menlo,'DejaVu Sans Mono',consolas,'Courier New',monospace\">Müstakil BULUNDUĞU KAT: <span style=\"color: #008080; text-decoration-color: #008080; font-weight: bold\">9</span>\n",
       "</pre>\n"
      ],
      "text/plain": [
       "Müstakil BULUNDUĞU KAT: \u001b[1;36m9\u001b[0m\n"
      ]
     },
     "metadata": {},
     "output_type": "display_data"
    },
    {
     "data": {
      "text/html": [
       "<pre style=\"white-space:pre;overflow-x:auto;line-height:normal;font-family:Menlo,'DejaVu Sans Mono',consolas,'Courier New',monospace\">Bahçe Dublex BULUNDUĞU KAT: <span style=\"color: #008080; text-decoration-color: #008080; font-weight: bold\">8</span>\n",
       "</pre>\n"
      ],
      "text/plain": [
       "Bahçe Dublex BULUNDUĞU KAT: \u001b[1;36m8\u001b[0m\n"
      ]
     },
     "metadata": {},
     "output_type": "display_data"
    },
    {
     "data": {
      "text/html": [
       "<pre style=\"white-space:pre;overflow-x:auto;line-height:normal;font-family:Menlo,'DejaVu Sans Mono',consolas,'Courier New',monospace\"><span style=\"color: #008080; text-decoration-color: #008080; font-weight: bold\">16.</span>Kat BULUNDUĞU KAT: <span style=\"color: #008080; text-decoration-color: #008080; font-weight: bold\">10</span>\n",
       "</pre>\n"
      ],
      "text/plain": [
       "\u001b[1;36m16.\u001b[0mKat BULUNDUĞU KAT: \u001b[1;36m10\u001b[0m\n"
      ]
     },
     "metadata": {},
     "output_type": "display_data"
    },
    {
     "data": {
      "text/html": [
       "<pre style=\"white-space:pre;overflow-x:auto;line-height:normal;font-family:Menlo,'DejaVu Sans Mono',consolas,'Courier New',monospace\"><span style=\"color: #008080; text-decoration-color: #008080; font-weight: bold\">18.</span>Kat BULUNDUĞU KAT: <span style=\"color: #008080; text-decoration-color: #008080; font-weight: bold\">2</span>\n",
       "</pre>\n"
      ],
      "text/plain": [
       "\u001b[1;36m18.\u001b[0mKat BULUNDUĞU KAT: \u001b[1;36m2\u001b[0m\n"
      ]
     },
     "metadata": {},
     "output_type": "display_data"
    },
    {
     "data": {
      "text/html": [
       "<pre style=\"white-space:pre;overflow-x:auto;line-height:normal;font-family:Menlo,'DejaVu Sans Mono',consolas,'Courier New',monospace\">Kot <span style=\"color: #008080; text-decoration-color: #008080; font-weight: bold\">1</span> <span style=\"font-weight: bold\">(</span><span style=\"color: #008080; text-decoration-color: #008080; font-weight: bold\">-1</span><span style=\"font-weight: bold\">)</span>.Kat BULUNDUĞU KAT: <span style=\"color: #008080; text-decoration-color: #008080; font-weight: bold\">3</span>\n",
       "</pre>\n"
      ],
      "text/plain": [
       "Kot \u001b[1;36m1\u001b[0m \u001b[1m(\u001b[0m\u001b[1;36m-1\u001b[0m\u001b[1m)\u001b[0m.Kat BULUNDUĞU KAT: \u001b[1;36m3\u001b[0m\n"
      ]
     },
     "metadata": {},
     "output_type": "display_data"
    },
    {
     "data": {
      "text/html": [
       "<pre style=\"white-space:pre;overflow-x:auto;line-height:normal;font-family:Menlo,'DejaVu Sans Mono',consolas,'Courier New',monospace\">Villa Tipi BULUNDUĞU KAT: <span style=\"color: #008080; text-decoration-color: #008080; font-weight: bold\">1</span>\n",
       "</pre>\n"
      ],
      "text/plain": [
       "Villa Tipi BULUNDUĞU KAT: \u001b[1;36m1\u001b[0m\n"
      ]
     },
     "metadata": {},
     "output_type": "display_data"
    },
    {
     "data": {
      "text/html": [
       "<pre style=\"white-space:pre;overflow-x:auto;line-height:normal;font-family:Menlo,'DejaVu Sans Mono',consolas,'Courier New',monospace\"><span style=\"color: #008080; text-decoration-color: #008080; font-weight: bold\">20.</span>Kat BULUNDUĞU KAT: <span style=\"color: #008080; text-decoration-color: #008080; font-weight: bold\">5</span>\n",
       "</pre>\n"
      ],
      "text/plain": [
       "\u001b[1;36m20.\u001b[0mKat BULUNDUĞU KAT: \u001b[1;36m5\u001b[0m\n"
      ]
     },
     "metadata": {},
     "output_type": "display_data"
    },
    {
     "data": {
      "text/html": [
       "<pre style=\"white-space:pre;overflow-x:auto;line-height:normal;font-family:Menlo,'DejaVu Sans Mono',consolas,'Courier New',monospace\"><span style=\"color: #008080; text-decoration-color: #008080; font-weight: bold\">19.</span>Kat BULUNDUĞU KAT: <span style=\"color: #008080; text-decoration-color: #008080; font-weight: bold\">3</span>\n",
       "</pre>\n"
      ],
      "text/plain": [
       "\u001b[1;36m19.\u001b[0mKat BULUNDUĞU KAT: \u001b[1;36m3\u001b[0m\n"
      ]
     },
     "metadata": {},
     "output_type": "display_data"
    },
    {
     "data": {
      "text/html": [
       "<pre style=\"white-space:pre;overflow-x:auto;line-height:normal;font-family:Menlo,'DejaVu Sans Mono',consolas,'Courier New',monospace\">Kot <span style=\"color: #008080; text-decoration-color: #008080; font-weight: bold\">4</span> <span style=\"font-weight: bold\">(</span><span style=\"color: #008080; text-decoration-color: #008080; font-weight: bold\">-4</span><span style=\"font-weight: bold\">)</span>.Kat BULUNDUĞU KAT: <span style=\"color: #008080; text-decoration-color: #008080; font-weight: bold\">3</span>\n",
       "</pre>\n"
      ],
      "text/plain": [
       "Kot \u001b[1;36m4\u001b[0m \u001b[1m(\u001b[0m\u001b[1;36m-4\u001b[0m\u001b[1m)\u001b[0m.Kat BULUNDUĞU KAT: \u001b[1;36m3\u001b[0m\n"
      ]
     },
     "metadata": {},
     "output_type": "display_data"
    },
    {
     "data": {
      "text/html": [
       "<pre style=\"white-space:pre;overflow-x:auto;line-height:normal;font-family:Menlo,'DejaVu Sans Mono',consolas,'Courier New',monospace\"><span style=\"color: #008080; text-decoration-color: #008080; font-weight: bold\">21.</span>Kat BULUNDUĞU KAT: <span style=\"color: #008080; text-decoration-color: #008080; font-weight: bold\">2</span>\n",
       "</pre>\n"
      ],
      "text/plain": [
       "\u001b[1;36m21.\u001b[0mKat BULUNDUĞU KAT: \u001b[1;36m2\u001b[0m\n"
      ]
     },
     "metadata": {},
     "output_type": "display_data"
    },
    {
     "data": {
      "text/html": [
       "<pre style=\"white-space:pre;overflow-x:auto;line-height:normal;font-family:Menlo,'DejaVu Sans Mono',consolas,'Courier New',monospace\">Kot <span style=\"color: #008080; text-decoration-color: #008080; font-weight: bold\">3</span> <span style=\"font-weight: bold\">(</span><span style=\"color: #008080; text-decoration-color: #008080; font-weight: bold\">-3</span><span style=\"font-weight: bold\">)</span>.Kat BULUNDUĞU KAT: <span style=\"color: #008080; text-decoration-color: #008080; font-weight: bold\">3</span>\n",
       "</pre>\n"
      ],
      "text/plain": [
       "Kot \u001b[1;36m3\u001b[0m \u001b[1m(\u001b[0m\u001b[1;36m-3\u001b[0m\u001b[1m)\u001b[0m.Kat BULUNDUĞU KAT: \u001b[1;36m3\u001b[0m\n"
      ]
     },
     "metadata": {},
     "output_type": "display_data"
    },
    {
     "data": {
      "text/html": [
       "<pre style=\"white-space:pre;overflow-x:auto;line-height:normal;font-family:Menlo,'DejaVu Sans Mono',consolas,'Courier New',monospace\">Çatı Dubleks BULUNDUĞU KAT: <span style=\"color: #008080; text-decoration-color: #008080; font-weight: bold\">2</span>\n",
       "</pre>\n"
      ],
      "text/plain": [
       "Çatı Dubleks BULUNDUĞU KAT: \u001b[1;36m2\u001b[0m\n"
      ]
     },
     "metadata": {},
     "output_type": "display_data"
    },
    {
     "data": {
      "text/html": [
       "<pre style=\"white-space:pre;overflow-x:auto;line-height:normal;font-family:Menlo,'DejaVu Sans Mono',consolas,'Courier New',monospace\"><span style=\"color: #008080; text-decoration-color: #008080; font-weight: bold\">17.</span>Kat BULUNDUĞU KAT: <span style=\"color: #008080; text-decoration-color: #008080; font-weight: bold\">1</span>\n",
       "</pre>\n"
      ],
      "text/plain": [
       "\u001b[1;36m17.\u001b[0mKat BULUNDUĞU KAT: \u001b[1;36m1\u001b[0m\n"
      ]
     },
     "metadata": {},
     "output_type": "display_data"
    }
   ],
   "source": [
    "for i in df[\"floor_number\"].unique():\n",
    "    print(f\"{i} BULUNDUĞU KAT:\",df[df[\"floor_number\"]==i].value_counts().count())"
   ]
  },
  {
   "cell_type": "code",
   "execution_count": 60,
   "metadata": {},
   "outputs": [
    {
     "data": {
      "text/plain": [
       "array(['9. Kat', 'Giriş Katı', '1. Kat', '4. Kat', '3. Kat', '5. Kat',\n",
       "       '6. Kat', '2. Kat', '7. Kat', '10. Kat', 'Ara Kat', 'Bahçe Katı',\n",
       "       'Yüksek Giriş', '15. Kat', 'Zemin', '11. Kat', '14. Kat', '8. Kat',\n",
       "       '13. Kat', '12. Kat', '16. Kat', '18. Kat', 'Villa Katı',\n",
       "       '21 ve üzeri', 'En Üst Kat', 'Kot 2', 'Kot 3', 'Kot 1',\n",
       "       'Teras Katı', '17. Kat', 'Çatı Katı', '20. Kat', '19. Kat',\n",
       "       '4.Kat', '2.Kat', '10.Kat', '1.Kat', '6.Kat', '13.Kat', '12.Kat',\n",
       "       'Düz Giriş (Zemin)', '5.Kat', 'Kot 2 (-2).Kat', '11.Kat', '9.Kat',\n",
       "       '8.Kat', '3.Kat', '7.Kat', '15.Kat', '14.Kat', 'Müstakil',\n",
       "       'Bahçe Dublex', '16.Kat', '18.Kat', 'Kot 1 (-1).Kat', 'Villa Tipi',\n",
       "       '20.Kat', '19.Kat', 'Kot 4 (-4).Kat', '21.Kat', 'Kot 3 (-3).Kat',\n",
       "       'Çatı Dubleks', '17.Kat'], dtype=object)"
      ]
     },
     "execution_count": 60,
     "metadata": {},
     "output_type": "execute_result"
    }
   ],
   "source": [
    "df.floor_number.unique()"
   ]
  },
  {
   "cell_type": "code",
   "execution_count": 61,
   "metadata": {},
   "outputs": [
    {
     "data": {
      "text/plain": [
       "847     10 Katlı\n",
       "999      1 Katlı\n",
       "1532    14 Katlı\n",
       "1959     4 Katlı\n",
       "2644     6 Katlı\n",
       "2671     6 Katlı\n",
       "5003           5\n",
       "Name: total_floors, dtype: object"
      ]
     },
     "execution_count": 61,
     "metadata": {},
     "output_type": "execute_result"
    }
   ],
   "source": [
    "df.loc[df[\"floor_number\"]==\"Çatı Dubleks\", \"total_floors\"]\n",
    "df.loc[df[\"floor_number\"]==\"Teras Katı\", \"total_floors\"]\n",
    "df.loc[df[\"floor_number\"]==\"Ara Kat\", \"total_floors\"]\n",
    "df.loc[df[\"floor_number\"]==\"Müstakil\", \"total_floors\"]\n",
    "df.loc[df[\"floor_number\"]==\"En Üst Kat\", \"total_floors\"]\n",
    "df.loc[df[\"floor_number\"]==\"Çatı Katı\", \"total_floors\"]"
   ]
  },
  {
   "cell_type": "code",
   "execution_count": 62,
   "metadata": {},
   "outputs": [
    {
     "data": {
      "text/plain": [
       "np.int64(2)"
      ]
     },
     "execution_count": 62,
     "metadata": {},
     "output_type": "execute_result"
    }
   ],
   "source": [
    "df[df[\"floor_number\"]==\"Çatı Dubleks\"].value_counts().count()"
   ]
  },
  {
   "cell_type": "code",
   "execution_count": 63,
   "metadata": {},
   "outputs": [],
   "source": [
    "def convert_to_floor_number(house_df: pd.DataFrame) -> pd.DataFrame:\n",
    "\n",
    "    df = house_df.copy()\n",
    "\n",
    "    if \"floor_number\" not in df.columns:\n",
    "        logger.error(\"The 'floor_number' column was not found in the DataFrame.\")\n",
    "        return df\n",
    "\n",
    "    df = df[(df[\"floor_number\"] != \"Villa Tipi\") & \n",
    "            (df[\"floor_number\"] != \"Teras Katı\") & \n",
    "            (df[\"floor_number\"] != \"Müstakil\") & \n",
    "            (df[\"floor_number\"] != \"Çatı Dubleks\") & (df[\"floor_number\"] != \"Bahçe Dublex\") & (df[\"floor_number\"] != \"Villa Katı\")]\n",
    "\n",
    "    values_to_change = {\n",
    "        \"Giriş Altı Kot 3\":-3,\n",
    "        \"Kot 3 (-3).Kat\":-3,\n",
    "        \"Kot 2 (-2).Kat\":-2,\n",
    "        \"Giriş Altı Kot 1\":-1,\n",
    "        \"Bodrum\":-1,\n",
    "        \"Bodrum Kat\":-1,\n",
    "        \n",
    "        \"Zemin\":0,\n",
    "        \"Zemin Kat\":0,\n",
    "        \"Giriş Katı\":0,\n",
    "        \"Bahçe Katı\":0,\n",
    "        \"Düz Giriş (Zemin)\":0,\n",
    "\n",
    "        \"Yüksek Giriş\":1,\n",
    "        \"Ara Kat\":3,\n",
    "        \"En Üst Kat\":4,\n",
    "        \"Çatı Katı\":5,\n",
    "        \"Teras Katı\":6\n",
    "    }\n",
    "\n",
    "    df[\"floor_number\"] = df[\"floor_number\"].replace(values_to_change)\n",
    "    \n",
    "    def other_convert(value):\n",
    "        if isinstance(value, str):\n",
    "            number_str = re.sub(r'\\D', '', value)\n",
    "            if number_str:\n",
    "                return int(number_str)\n",
    "        return value\n",
    "\n",
    "    df[\"floor_number\"] = df[\"floor_number\"].apply(other_convert)\n",
    "\n",
    "    df = df.reset_index(drop=True)\n",
    "\n",
    "    logger.info(f\"House floor_number values replaced successfully.\")\n",
    "\n",
    "\n",
    "    return df"
   ]
  },
  {
   "cell_type": "code",
   "execution_count": 64,
   "metadata": {},
   "outputs": [
    {
     "name": "stderr",
     "output_type": "stream",
     "text": [
      "2025-03-25 00:59 - INFO - House floor_number values replaced successfully.\n"
     ]
    }
   ],
   "source": [
    "df = convert_to_floor_number(house_df=df)"
   ]
  },
  {
   "cell_type": "code",
   "execution_count": 65,
   "metadata": {},
   "outputs": [
    {
     "data": {
      "text/plain": [
       "Series([], Name: total_floors, dtype: object)"
      ]
     },
     "execution_count": 65,
     "metadata": {},
     "output_type": "execute_result"
    }
   ],
   "source": [
    "df.loc[df[\"floor_number\"]==\"Bahçe Dublex\", \"total_floors\"]"
   ]
  },
  {
   "cell_type": "code",
   "execution_count": 66,
   "metadata": {},
   "outputs": [
    {
     "data": {
      "text/plain": [
       "array([ 9,  0,  1,  4,  3,  5,  6,  2,  7, 10, 15, 11, 14,  8, 13, 12, 16,\n",
       "       18, 21, 17, 20, 19, -2, 44, -3])"
      ]
     },
     "execution_count": 66,
     "metadata": {},
     "output_type": "execute_result"
    }
   ],
   "source": [
    "df[\"floor_number\"].unique()"
   ]
  },
  {
   "cell_type": "code",
   "execution_count": 67,
   "metadata": {},
   "outputs": [
    {
     "name": "stdout",
     "output_type": "stream",
     "text": [
      "<class 'pandas.core.frame.DataFrame'>\n",
      "RangeIndex: 5034 entries, 0 to 5033\n",
      "Data columns (total 20 columns):\n",
      " #   Column             Non-Null Count  Dtype   \n",
      "---  ------             --------------  -----   \n",
      " 0   house_description  5034 non-null   object  \n",
      " 1   house_price        5034 non-null   int64   \n",
      " 2   property_type      5034 non-null   category\n",
      " 3   gross_area         5034 non-null   int64   \n",
      " 4   net_area           5034 non-null   int64   \n",
      " 5   room_count         5034 non-null   object  \n",
      " 6   building_age       5034 non-null   object  \n",
      " 7   floor_number       5034 non-null   int64   \n",
      " 8   total_floors       5034 non-null   object  \n",
      " 9   heating            5034 non-null   category\n",
      " 10  bathroom_count     5034 non-null   int64   \n",
      " 11  furnished          5034 non-null   object  \n",
      " 12  usage_status       5034 non-null   object  \n",
      " 13  credit_eligible    5034 non-null   object  \n",
      " 14  deed_status        5034 non-null   object  \n",
      " 15  exchange           5034 non-null   object  \n",
      " 16  house_url          5034 non-null   object  \n",
      " 17  province           5034 non-null   category\n",
      " 18  district           5034 non-null   category\n",
      " 19  neighborhood       5034 non-null   category\n",
      "dtypes: category(5), int64(5), object(10)\n",
      "memory usage: 625.5+ KB\n"
     ]
    }
   ],
   "source": [
    "df.info()"
   ]
  },
  {
   "cell_type": "code",
   "execution_count": 68,
   "metadata": {},
   "outputs": [
    {
     "data": {
      "text/plain": [
       "array(['13 Katlı', '12 Katlı', '14 Katlı', '11 Katlı', '10 Katlı',\n",
       "       '8 Katlı', '15 Katlı', '9 Katlı', '16 Katlı', '4 Katlı', '7 Katlı',\n",
       "       '6 Katlı', '5 Katlı', '17 Katlı', '3 Katlı', '2 Katlı', '20 Katlı',\n",
       "       '23 Katlı', '18 Katlı', '21 Katlı', '19 Katlı', '24 Katlı',\n",
       "       '22 Katlı', '1 Katlı', '27 Katlı', '8', '4', '7', '11', '3', '15',\n",
       "       '13', '14', '10', '25', '2', '12', '6', '5', '9', '22', '20', '19',\n",
       "       '18', '16', '1', '17', '21', '24'], dtype=object)"
      ]
     },
     "execution_count": 68,
     "metadata": {},
     "output_type": "execute_result"
    }
   ],
   "source": [
    "df[\"total_floors\"].unique()"
   ]
  },
  {
   "cell_type": "code",
   "execution_count": 69,
   "metadata": {},
   "outputs": [],
   "source": [
    "def convert_to_total_floors(house_df: pd.DataFrame) -> pd.DataFrame:\n",
    "\n",
    "    df = house_df.copy()\n",
    "\n",
    "    if \"total_floors\" not in df.columns:\n",
    "        logger.error(\"The 'total_floors' column was not found in the DataFrame.\")\n",
    "        return df\n",
    "\n",
    "    df = df[df[\"total_floors\"] != \"Bilgi yok\"]\n",
    "    \n",
    "    def convert(value):\n",
    "        if isinstance(value, str):\n",
    "            number_str = re.sub(r'\\D', '', value)\n",
    "            if number_str:\n",
    "                return int(number_str)\n",
    "        return value\n",
    "\n",
    "    df[\"total_floors\"] = df[\"total_floors\"].apply(convert)\n",
    "    df = df.reset_index(drop=True)\n",
    "    logger.info(f\"House total_floors values replaced successfully.\")\n",
    "\n",
    "\n",
    "    return df"
   ]
  },
  {
   "cell_type": "code",
   "execution_count": 70,
   "metadata": {},
   "outputs": [
    {
     "name": "stderr",
     "output_type": "stream",
     "text": [
      "2025-03-25 00:59 - INFO - House total_floors values replaced successfully.\n"
     ]
    }
   ],
   "source": [
    "df = convert_to_total_floors(house_df=df)"
   ]
  },
  {
   "cell_type": "code",
   "execution_count": 71,
   "metadata": {},
   "outputs": [
    {
     "data": {
      "text/plain": [
       "array([13, 12, 14, 11, 10,  8, 15,  9, 16,  4,  7,  6,  5, 17,  3,  2, 20,\n",
       "       23, 18, 21, 19, 24, 22,  1, 27, 25])"
      ]
     },
     "execution_count": 71,
     "metadata": {},
     "output_type": "execute_result"
    }
   ],
   "source": [
    "df.total_floors.unique()"
   ]
  },
  {
   "cell_type": "code",
   "execution_count": 72,
   "metadata": {},
   "outputs": [
    {
     "name": "stdout",
     "output_type": "stream",
     "text": [
      "<class 'pandas.core.frame.DataFrame'>\n",
      "RangeIndex: 5034 entries, 0 to 5033\n",
      "Data columns (total 20 columns):\n",
      " #   Column             Non-Null Count  Dtype   \n",
      "---  ------             --------------  -----   \n",
      " 0   house_description  5034 non-null   object  \n",
      " 1   house_price        5034 non-null   int64   \n",
      " 2   property_type      5034 non-null   category\n",
      " 3   gross_area         5034 non-null   int64   \n",
      " 4   net_area           5034 non-null   int64   \n",
      " 5   room_count         5034 non-null   object  \n",
      " 6   building_age       5034 non-null   object  \n",
      " 7   floor_number       5034 non-null   int64   \n",
      " 8   total_floors       5034 non-null   int64   \n",
      " 9   heating            5034 non-null   category\n",
      " 10  bathroom_count     5034 non-null   int64   \n",
      " 11  furnished          5034 non-null   object  \n",
      " 12  usage_status       5034 non-null   object  \n",
      " 13  credit_eligible    5034 non-null   object  \n",
      " 14  deed_status        5034 non-null   object  \n",
      " 15  exchange           5034 non-null   object  \n",
      " 16  house_url          5034 non-null   object  \n",
      " 17  province           5034 non-null   category\n",
      " 18  district           5034 non-null   category\n",
      " 19  neighborhood       5034 non-null   category\n",
      "dtypes: category(5), int64(6), object(9)\n",
      "memory usage: 625.5+ KB\n"
     ]
    }
   ],
   "source": [
    "df.info()"
   ]
  },
  {
   "cell_type": "code",
   "execution_count": 73,
   "metadata": {},
   "outputs": [
    {
     "data": {
      "text/plain": [
       "array(['6 Yaşında', '12 Yaşında', '10 Yaşında', 'Sıfır Bina', '4 Yaşında',\n",
       "       '22 Yaşında', '24 Yaşında', '5 Yaşında', '1 Yaşında', '25 Yaşında',\n",
       "       '7 Yaşında', '3 Yaşında', '8 Yaşında', '16 Yaşında', '2 Yaşında',\n",
       "       '14 Yaşında', '20 Yaşında', '18 Yaşında', '15 Yaşında',\n",
       "       '28 Yaşında', '23 Yaşında', '30 Yaşında', '13 Yaşında',\n",
       "       '50 Yaşında', '17 Yaşında', '26 Yaşında', '21 Yaşında',\n",
       "       '11 Yaşında', '9 Yaşında', '38 Yaşında', '35 Yaşında',\n",
       "       '29 Yaşında', '19 Yaşında', '33 Yaşında', '31 Yaşında',\n",
       "       '40 Yaşında', '37 Yaşında', '27 Yaşında', '36 Yaşında',\n",
       "       '32 Yaşında', '39 Yaşında', '44 Yaşında', 'Bilgi yok',\n",
       "       '45 Yaşında', '124 Yaşında', '0 (Yeni)', '21 Ve Üzeri', '16-20',\n",
       "       '4', '5-10', '11-15', '2', '1', '3'], dtype=object)"
      ]
     },
     "execution_count": 73,
     "metadata": {},
     "output_type": "execute_result"
    }
   ],
   "source": [
    "df[\"building_age\"].unique()"
   ]
  },
  {
   "cell_type": "code",
   "execution_count": 74,
   "metadata": {},
   "outputs": [
    {
     "data": {
      "text/html": [
       "<pre style=\"white-space:pre;overflow-x:auto;line-height:normal;font-family:Menlo,'DejaVu Sans Mono',consolas,'Courier New',monospace\"><span style=\"color: #008080; text-decoration-color: #008080; font-weight: bold\">6</span> Yaşında Yaşı Sayısı: <span style=\"color: #008080; text-decoration-color: #008080; font-weight: bold\">61</span>\n",
       "</pre>\n"
      ],
      "text/plain": [
       "\u001b[1;36m6\u001b[0m Yaşında Yaşı Sayısı: \u001b[1;36m61\u001b[0m\n"
      ]
     },
     "metadata": {},
     "output_type": "display_data"
    },
    {
     "data": {
      "text/html": [
       "<pre style=\"white-space:pre;overflow-x:auto;line-height:normal;font-family:Menlo,'DejaVu Sans Mono',consolas,'Courier New',monospace\"><span style=\"color: #008080; text-decoration-color: #008080; font-weight: bold\">12</span> Yaşında Yaşı Sayısı: <span style=\"color: #008080; text-decoration-color: #008080; font-weight: bold\">37</span>\n",
       "</pre>\n"
      ],
      "text/plain": [
       "\u001b[1;36m12\u001b[0m Yaşında Yaşı Sayısı: \u001b[1;36m37\u001b[0m\n"
      ]
     },
     "metadata": {},
     "output_type": "display_data"
    },
    {
     "data": {
      "text/html": [
       "<pre style=\"white-space:pre;overflow-x:auto;line-height:normal;font-family:Menlo,'DejaVu Sans Mono',consolas,'Courier New',monospace\"><span style=\"color: #008080; text-decoration-color: #008080; font-weight: bold\">10</span> Yaşında Yaşı Sayısı: <span style=\"color: #008080; text-decoration-color: #008080; font-weight: bold\">86</span>\n",
       "</pre>\n"
      ],
      "text/plain": [
       "\u001b[1;36m10\u001b[0m Yaşında Yaşı Sayısı: \u001b[1;36m86\u001b[0m\n"
      ]
     },
     "metadata": {},
     "output_type": "display_data"
    },
    {
     "data": {
      "text/html": [
       "<pre style=\"white-space:pre;overflow-x:auto;line-height:normal;font-family:Menlo,'DejaVu Sans Mono',consolas,'Courier New',monospace\">Sıfır Bina Yaşı Sayısı: <span style=\"color: #008080; text-decoration-color: #008080; font-weight: bold\">779</span>\n",
       "</pre>\n"
      ],
      "text/plain": [
       "Sıfır Bina Yaşı Sayısı: \u001b[1;36m779\u001b[0m\n"
      ]
     },
     "metadata": {},
     "output_type": "display_data"
    },
    {
     "data": {
      "text/html": [
       "<pre style=\"white-space:pre;overflow-x:auto;line-height:normal;font-family:Menlo,'DejaVu Sans Mono',consolas,'Courier New',monospace\"><span style=\"color: #008080; text-decoration-color: #008080; font-weight: bold\">4</span> Yaşında Yaşı Sayısı: <span style=\"color: #008080; text-decoration-color: #008080; font-weight: bold\">269</span>\n",
       "</pre>\n"
      ],
      "text/plain": [
       "\u001b[1;36m4\u001b[0m Yaşında Yaşı Sayısı: \u001b[1;36m269\u001b[0m\n"
      ]
     },
     "metadata": {},
     "output_type": "display_data"
    },
    {
     "data": {
      "text/html": [
       "<pre style=\"white-space:pre;overflow-x:auto;line-height:normal;font-family:Menlo,'DejaVu Sans Mono',consolas,'Courier New',monospace\"><span style=\"color: #008080; text-decoration-color: #008080; font-weight: bold\">22</span> Yaşında Yaşı Sayısı: <span style=\"color: #008080; text-decoration-color: #008080; font-weight: bold\">31</span>\n",
       "</pre>\n"
      ],
      "text/plain": [
       "\u001b[1;36m22\u001b[0m Yaşında Yaşı Sayısı: \u001b[1;36m31\u001b[0m\n"
      ]
     },
     "metadata": {},
     "output_type": "display_data"
    },
    {
     "data": {
      "text/html": [
       "<pre style=\"white-space:pre;overflow-x:auto;line-height:normal;font-family:Menlo,'DejaVu Sans Mono',consolas,'Courier New',monospace\"><span style=\"color: #008080; text-decoration-color: #008080; font-weight: bold\">24</span> Yaşında Yaşı Sayısı: <span style=\"color: #008080; text-decoration-color: #008080; font-weight: bold\">24</span>\n",
       "</pre>\n"
      ],
      "text/plain": [
       "\u001b[1;36m24\u001b[0m Yaşında Yaşı Sayısı: \u001b[1;36m24\u001b[0m\n"
      ]
     },
     "metadata": {},
     "output_type": "display_data"
    },
    {
     "data": {
      "text/html": [
       "<pre style=\"white-space:pre;overflow-x:auto;line-height:normal;font-family:Menlo,'DejaVu Sans Mono',consolas,'Courier New',monospace\"><span style=\"color: #008080; text-decoration-color: #008080; font-weight: bold\">5</span> Yaşında Yaşı Sayısı: <span style=\"color: #008080; text-decoration-color: #008080; font-weight: bold\">401</span>\n",
       "</pre>\n"
      ],
      "text/plain": [
       "\u001b[1;36m5\u001b[0m Yaşında Yaşı Sayısı: \u001b[1;36m401\u001b[0m\n"
      ]
     },
     "metadata": {},
     "output_type": "display_data"
    },
    {
     "data": {
      "text/html": [
       "<pre style=\"white-space:pre;overflow-x:auto;line-height:normal;font-family:Menlo,'DejaVu Sans Mono',consolas,'Courier New',monospace\"><span style=\"color: #008080; text-decoration-color: #008080; font-weight: bold\">1</span> Yaşında Yaşı Sayısı: <span style=\"color: #008080; text-decoration-color: #008080; font-weight: bold\">138</span>\n",
       "</pre>\n"
      ],
      "text/plain": [
       "\u001b[1;36m1\u001b[0m Yaşında Yaşı Sayısı: \u001b[1;36m138\u001b[0m\n"
      ]
     },
     "metadata": {},
     "output_type": "display_data"
    },
    {
     "data": {
      "text/html": [
       "<pre style=\"white-space:pre;overflow-x:auto;line-height:normal;font-family:Menlo,'DejaVu Sans Mono',consolas,'Courier New',monospace\"><span style=\"color: #008080; text-decoration-color: #008080; font-weight: bold\">25</span> Yaşında Yaşı Sayısı: <span style=\"color: #008080; text-decoration-color: #008080; font-weight: bold\">181</span>\n",
       "</pre>\n"
      ],
      "text/plain": [
       "\u001b[1;36m25\u001b[0m Yaşında Yaşı Sayısı: \u001b[1;36m181\u001b[0m\n"
      ]
     },
     "metadata": {},
     "output_type": "display_data"
    },
    {
     "data": {
      "text/html": [
       "<pre style=\"white-space:pre;overflow-x:auto;line-height:normal;font-family:Menlo,'DejaVu Sans Mono',consolas,'Courier New',monospace\"><span style=\"color: #008080; text-decoration-color: #008080; font-weight: bold\">7</span> Yaşında Yaşı Sayısı: <span style=\"color: #008080; text-decoration-color: #008080; font-weight: bold\">90</span>\n",
       "</pre>\n"
      ],
      "text/plain": [
       "\u001b[1;36m7\u001b[0m Yaşında Yaşı Sayısı: \u001b[1;36m90\u001b[0m\n"
      ]
     },
     "metadata": {},
     "output_type": "display_data"
    },
    {
     "data": {
      "text/html": [
       "<pre style=\"white-space:pre;overflow-x:auto;line-height:normal;font-family:Menlo,'DejaVu Sans Mono',consolas,'Courier New',monospace\"><span style=\"color: #008080; text-decoration-color: #008080; font-weight: bold\">3</span> Yaşında Yaşı Sayısı: <span style=\"color: #008080; text-decoration-color: #008080; font-weight: bold\">124</span>\n",
       "</pre>\n"
      ],
      "text/plain": [
       "\u001b[1;36m3\u001b[0m Yaşında Yaşı Sayısı: \u001b[1;36m124\u001b[0m\n"
      ]
     },
     "metadata": {},
     "output_type": "display_data"
    },
    {
     "data": {
      "text/html": [
       "<pre style=\"white-space:pre;overflow-x:auto;line-height:normal;font-family:Menlo,'DejaVu Sans Mono',consolas,'Courier New',monospace\"><span style=\"color: #008080; text-decoration-color: #008080; font-weight: bold\">8</span> Yaşında Yaşı Sayısı: <span style=\"color: #008080; text-decoration-color: #008080; font-weight: bold\">71</span>\n",
       "</pre>\n"
      ],
      "text/plain": [
       "\u001b[1;36m8\u001b[0m Yaşında Yaşı Sayısı: \u001b[1;36m71\u001b[0m\n"
      ]
     },
     "metadata": {},
     "output_type": "display_data"
    },
    {
     "data": {
      "text/html": [
       "<pre style=\"white-space:pre;overflow-x:auto;line-height:normal;font-family:Menlo,'DejaVu Sans Mono',consolas,'Courier New',monospace\"><span style=\"color: #008080; text-decoration-color: #008080; font-weight: bold\">16</span> Yaşında Yaşı Sayısı: <span style=\"color: #008080; text-decoration-color: #008080; font-weight: bold\">128</span>\n",
       "</pre>\n"
      ],
      "text/plain": [
       "\u001b[1;36m16\u001b[0m Yaşında Yaşı Sayısı: \u001b[1;36m128\u001b[0m\n"
      ]
     },
     "metadata": {},
     "output_type": "display_data"
    },
    {
     "data": {
      "text/html": [
       "<pre style=\"white-space:pre;overflow-x:auto;line-height:normal;font-family:Menlo,'DejaVu Sans Mono',consolas,'Courier New',monospace\"><span style=\"color: #008080; text-decoration-color: #008080; font-weight: bold\">2</span> Yaşında Yaşı Sayısı: <span style=\"color: #008080; text-decoration-color: #008080; font-weight: bold\">112</span>\n",
       "</pre>\n"
      ],
      "text/plain": [
       "\u001b[1;36m2\u001b[0m Yaşında Yaşı Sayısı: \u001b[1;36m112\u001b[0m\n"
      ]
     },
     "metadata": {},
     "output_type": "display_data"
    },
    {
     "data": {
      "text/html": [
       "<pre style=\"white-space:pre;overflow-x:auto;line-height:normal;font-family:Menlo,'DejaVu Sans Mono',consolas,'Courier New',monospace\"><span style=\"color: #008080; text-decoration-color: #008080; font-weight: bold\">14</span> Yaşında Yaşı Sayısı: <span style=\"color: #008080; text-decoration-color: #008080; font-weight: bold\">22</span>\n",
       "</pre>\n"
      ],
      "text/plain": [
       "\u001b[1;36m14\u001b[0m Yaşında Yaşı Sayısı: \u001b[1;36m22\u001b[0m\n"
      ]
     },
     "metadata": {},
     "output_type": "display_data"
    },
    {
     "data": {
      "text/html": [
       "<pre style=\"white-space:pre;overflow-x:auto;line-height:normal;font-family:Menlo,'DejaVu Sans Mono',consolas,'Courier New',monospace\"><span style=\"color: #008080; text-decoration-color: #008080; font-weight: bold\">20</span> Yaşında Yaşı Sayısı: <span style=\"color: #008080; text-decoration-color: #008080; font-weight: bold\">131</span>\n",
       "</pre>\n"
      ],
      "text/plain": [
       "\u001b[1;36m20\u001b[0m Yaşında Yaşı Sayısı: \u001b[1;36m131\u001b[0m\n"
      ]
     },
     "metadata": {},
     "output_type": "display_data"
    },
    {
     "data": {
      "text/html": [
       "<pre style=\"white-space:pre;overflow-x:auto;line-height:normal;font-family:Menlo,'DejaVu Sans Mono',consolas,'Courier New',monospace\"><span style=\"color: #008080; text-decoration-color: #008080; font-weight: bold\">18</span> Yaşında Yaşı Sayısı: <span style=\"color: #008080; text-decoration-color: #008080; font-weight: bold\">35</span>\n",
       "</pre>\n"
      ],
      "text/plain": [
       "\u001b[1;36m18\u001b[0m Yaşında Yaşı Sayısı: \u001b[1;36m35\u001b[0m\n"
      ]
     },
     "metadata": {},
     "output_type": "display_data"
    },
    {
     "data": {
      "text/html": [
       "<pre style=\"white-space:pre;overflow-x:auto;line-height:normal;font-family:Menlo,'DejaVu Sans Mono',consolas,'Courier New',monospace\"><span style=\"color: #008080; text-decoration-color: #008080; font-weight: bold\">15</span> Yaşında Yaşı Sayısı: <span style=\"color: #008080; text-decoration-color: #008080; font-weight: bold\">60</span>\n",
       "</pre>\n"
      ],
      "text/plain": [
       "\u001b[1;36m15\u001b[0m Yaşında Yaşı Sayısı: \u001b[1;36m60\u001b[0m\n"
      ]
     },
     "metadata": {},
     "output_type": "display_data"
    },
    {
     "data": {
      "text/html": [
       "<pre style=\"white-space:pre;overflow-x:auto;line-height:normal;font-family:Menlo,'DejaVu Sans Mono',consolas,'Courier New',monospace\"><span style=\"color: #008080; text-decoration-color: #008080; font-weight: bold\">28</span> Yaşında Yaşı Sayısı: <span style=\"color: #008080; text-decoration-color: #008080; font-weight: bold\">30</span>\n",
       "</pre>\n"
      ],
      "text/plain": [
       "\u001b[1;36m28\u001b[0m Yaşında Yaşı Sayısı: \u001b[1;36m30\u001b[0m\n"
      ]
     },
     "metadata": {},
     "output_type": "display_data"
    },
    {
     "data": {
      "text/html": [
       "<pre style=\"white-space:pre;overflow-x:auto;line-height:normal;font-family:Menlo,'DejaVu Sans Mono',consolas,'Courier New',monospace\"><span style=\"color: #008080; text-decoration-color: #008080; font-weight: bold\">23</span> Yaşında Yaşı Sayısı: <span style=\"color: #008080; text-decoration-color: #008080; font-weight: bold\">33</span>\n",
       "</pre>\n"
      ],
      "text/plain": [
       "\u001b[1;36m23\u001b[0m Yaşında Yaşı Sayısı: \u001b[1;36m33\u001b[0m\n"
      ]
     },
     "metadata": {},
     "output_type": "display_data"
    },
    {
     "data": {
      "text/html": [
       "<pre style=\"white-space:pre;overflow-x:auto;line-height:normal;font-family:Menlo,'DejaVu Sans Mono',consolas,'Courier New',monospace\"><span style=\"color: #008080; text-decoration-color: #008080; font-weight: bold\">30</span> Yaşında Yaşı Sayısı: <span style=\"color: #008080; text-decoration-color: #008080; font-weight: bold\">86</span>\n",
       "</pre>\n"
      ],
      "text/plain": [
       "\u001b[1;36m30\u001b[0m Yaşında Yaşı Sayısı: \u001b[1;36m86\u001b[0m\n"
      ]
     },
     "metadata": {},
     "output_type": "display_data"
    },
    {
     "data": {
      "text/html": [
       "<pre style=\"white-space:pre;overflow-x:auto;line-height:normal;font-family:Menlo,'DejaVu Sans Mono',consolas,'Courier New',monospace\"><span style=\"color: #008080; text-decoration-color: #008080; font-weight: bold\">13</span> Yaşında Yaşı Sayısı: <span style=\"color: #008080; text-decoration-color: #008080; font-weight: bold\">24</span>\n",
       "</pre>\n"
      ],
      "text/plain": [
       "\u001b[1;36m13\u001b[0m Yaşında Yaşı Sayısı: \u001b[1;36m24\u001b[0m\n"
      ]
     },
     "metadata": {},
     "output_type": "display_data"
    },
    {
     "data": {
      "text/html": [
       "<pre style=\"white-space:pre;overflow-x:auto;line-height:normal;font-family:Menlo,'DejaVu Sans Mono',consolas,'Courier New',monospace\"><span style=\"color: #008080; text-decoration-color: #008080; font-weight: bold\">50</span> Yaşında Yaşı Sayısı: <span style=\"color: #008080; text-decoration-color: #008080; font-weight: bold\">3</span>\n",
       "</pre>\n"
      ],
      "text/plain": [
       "\u001b[1;36m50\u001b[0m Yaşında Yaşı Sayısı: \u001b[1;36m3\u001b[0m\n"
      ]
     },
     "metadata": {},
     "output_type": "display_data"
    },
    {
     "data": {
      "text/html": [
       "<pre style=\"white-space:pre;overflow-x:auto;line-height:normal;font-family:Menlo,'DejaVu Sans Mono',consolas,'Courier New',monospace\"><span style=\"color: #008080; text-decoration-color: #008080; font-weight: bold\">17</span> Yaşında Yaşı Sayısı: <span style=\"color: #008080; text-decoration-color: #008080; font-weight: bold\">20</span>\n",
       "</pre>\n"
      ],
      "text/plain": [
       "\u001b[1;36m17\u001b[0m Yaşında Yaşı Sayısı: \u001b[1;36m20\u001b[0m\n"
      ]
     },
     "metadata": {},
     "output_type": "display_data"
    },
    {
     "data": {
      "text/html": [
       "<pre style=\"white-space:pre;overflow-x:auto;line-height:normal;font-family:Menlo,'DejaVu Sans Mono',consolas,'Courier New',monospace\"><span style=\"color: #008080; text-decoration-color: #008080; font-weight: bold\">26</span> Yaşında Yaşı Sayısı: <span style=\"color: #008080; text-decoration-color: #008080; font-weight: bold\">84</span>\n",
       "</pre>\n"
      ],
      "text/plain": [
       "\u001b[1;36m26\u001b[0m Yaşında Yaşı Sayısı: \u001b[1;36m84\u001b[0m\n"
      ]
     },
     "metadata": {},
     "output_type": "display_data"
    },
    {
     "data": {
      "text/html": [
       "<pre style=\"white-space:pre;overflow-x:auto;line-height:normal;font-family:Menlo,'DejaVu Sans Mono',consolas,'Courier New',monospace\"><span style=\"color: #008080; text-decoration-color: #008080; font-weight: bold\">21</span> Yaşında Yaşı Sayısı: <span style=\"color: #008080; text-decoration-color: #008080; font-weight: bold\">131</span>\n",
       "</pre>\n"
      ],
      "text/plain": [
       "\u001b[1;36m21\u001b[0m Yaşında Yaşı Sayısı: \u001b[1;36m131\u001b[0m\n"
      ]
     },
     "metadata": {},
     "output_type": "display_data"
    },
    {
     "data": {
      "text/html": [
       "<pre style=\"white-space:pre;overflow-x:auto;line-height:normal;font-family:Menlo,'DejaVu Sans Mono',consolas,'Courier New',monospace\"><span style=\"color: #008080; text-decoration-color: #008080; font-weight: bold\">11</span> Yaşında Yaşı Sayısı: <span style=\"color: #008080; text-decoration-color: #008080; font-weight: bold\">126</span>\n",
       "</pre>\n"
      ],
      "text/plain": [
       "\u001b[1;36m11\u001b[0m Yaşında Yaşı Sayısı: \u001b[1;36m126\u001b[0m\n"
      ]
     },
     "metadata": {},
     "output_type": "display_data"
    },
    {
     "data": {
      "text/html": [
       "<pre style=\"white-space:pre;overflow-x:auto;line-height:normal;font-family:Menlo,'DejaVu Sans Mono',consolas,'Courier New',monospace\"><span style=\"color: #008080; text-decoration-color: #008080; font-weight: bold\">9</span> Yaşında Yaşı Sayısı: <span style=\"color: #008080; text-decoration-color: #008080; font-weight: bold\">29</span>\n",
       "</pre>\n"
      ],
      "text/plain": [
       "\u001b[1;36m9\u001b[0m Yaşında Yaşı Sayısı: \u001b[1;36m29\u001b[0m\n"
      ]
     },
     "metadata": {},
     "output_type": "display_data"
    },
    {
     "data": {
      "text/html": [
       "<pre style=\"white-space:pre;overflow-x:auto;line-height:normal;font-family:Menlo,'DejaVu Sans Mono',consolas,'Courier New',monospace\"><span style=\"color: #008080; text-decoration-color: #008080; font-weight: bold\">38</span> Yaşında Yaşı Sayısı: <span style=\"color: #008080; text-decoration-color: #008080; font-weight: bold\">8</span>\n",
       "</pre>\n"
      ],
      "text/plain": [
       "\u001b[1;36m38\u001b[0m Yaşında Yaşı Sayısı: \u001b[1;36m8\u001b[0m\n"
      ]
     },
     "metadata": {},
     "output_type": "display_data"
    },
    {
     "data": {
      "text/html": [
       "<pre style=\"white-space:pre;overflow-x:auto;line-height:normal;font-family:Menlo,'DejaVu Sans Mono',consolas,'Courier New',monospace\"><span style=\"color: #008080; text-decoration-color: #008080; font-weight: bold\">35</span> Yaşında Yaşı Sayısı: <span style=\"color: #008080; text-decoration-color: #008080; font-weight: bold\">37</span>\n",
       "</pre>\n"
      ],
      "text/plain": [
       "\u001b[1;36m35\u001b[0m Yaşında Yaşı Sayısı: \u001b[1;36m37\u001b[0m\n"
      ]
     },
     "metadata": {},
     "output_type": "display_data"
    },
    {
     "data": {
      "text/html": [
       "<pre style=\"white-space:pre;overflow-x:auto;line-height:normal;font-family:Menlo,'DejaVu Sans Mono',consolas,'Courier New',monospace\"><span style=\"color: #008080; text-decoration-color: #008080; font-weight: bold\">29</span> Yaşında Yaşı Sayısı: <span style=\"color: #008080; text-decoration-color: #008080; font-weight: bold\">9</span>\n",
       "</pre>\n"
      ],
      "text/plain": [
       "\u001b[1;36m29\u001b[0m Yaşında Yaşı Sayısı: \u001b[1;36m9\u001b[0m\n"
      ]
     },
     "metadata": {},
     "output_type": "display_data"
    },
    {
     "data": {
      "text/html": [
       "<pre style=\"white-space:pre;overflow-x:auto;line-height:normal;font-family:Menlo,'DejaVu Sans Mono',consolas,'Courier New',monospace\"><span style=\"color: #008080; text-decoration-color: #008080; font-weight: bold\">19</span> Yaşında Yaşı Sayısı: <span style=\"color: #008080; text-decoration-color: #008080; font-weight: bold\">9</span>\n",
       "</pre>\n"
      ],
      "text/plain": [
       "\u001b[1;36m19\u001b[0m Yaşında Yaşı Sayısı: \u001b[1;36m9\u001b[0m\n"
      ]
     },
     "metadata": {},
     "output_type": "display_data"
    },
    {
     "data": {
      "text/html": [
       "<pre style=\"white-space:pre;overflow-x:auto;line-height:normal;font-family:Menlo,'DejaVu Sans Mono',consolas,'Courier New',monospace\"><span style=\"color: #008080; text-decoration-color: #008080; font-weight: bold\">33</span> Yaşında Yaşı Sayısı: <span style=\"color: #008080; text-decoration-color: #008080; font-weight: bold\">6</span>\n",
       "</pre>\n"
      ],
      "text/plain": [
       "\u001b[1;36m33\u001b[0m Yaşında Yaşı Sayısı: \u001b[1;36m6\u001b[0m\n"
      ]
     },
     "metadata": {},
     "output_type": "display_data"
    },
    {
     "data": {
      "text/html": [
       "<pre style=\"white-space:pre;overflow-x:auto;line-height:normal;font-family:Menlo,'DejaVu Sans Mono',consolas,'Courier New',monospace\"><span style=\"color: #008080; text-decoration-color: #008080; font-weight: bold\">31</span> Yaşında Yaşı Sayısı: <span style=\"color: #008080; text-decoration-color: #008080; font-weight: bold\">28</span>\n",
       "</pre>\n"
      ],
      "text/plain": [
       "\u001b[1;36m31\u001b[0m Yaşında Yaşı Sayısı: \u001b[1;36m28\u001b[0m\n"
      ]
     },
     "metadata": {},
     "output_type": "display_data"
    },
    {
     "data": {
      "text/html": [
       "<pre style=\"white-space:pre;overflow-x:auto;line-height:normal;font-family:Menlo,'DejaVu Sans Mono',consolas,'Courier New',monospace\"><span style=\"color: #008080; text-decoration-color: #008080; font-weight: bold\">40</span> Yaşında Yaşı Sayısı: <span style=\"color: #008080; text-decoration-color: #008080; font-weight: bold\">16</span>\n",
       "</pre>\n"
      ],
      "text/plain": [
       "\u001b[1;36m40\u001b[0m Yaşında Yaşı Sayısı: \u001b[1;36m16\u001b[0m\n"
      ]
     },
     "metadata": {},
     "output_type": "display_data"
    },
    {
     "data": {
      "text/html": [
       "<pre style=\"white-space:pre;overflow-x:auto;line-height:normal;font-family:Menlo,'DejaVu Sans Mono',consolas,'Courier New',monospace\"><span style=\"color: #008080; text-decoration-color: #008080; font-weight: bold\">37</span> Yaşında Yaşı Sayısı: <span style=\"color: #008080; text-decoration-color: #008080; font-weight: bold\">2</span>\n",
       "</pre>\n"
      ],
      "text/plain": [
       "\u001b[1;36m37\u001b[0m Yaşında Yaşı Sayısı: \u001b[1;36m2\u001b[0m\n"
      ]
     },
     "metadata": {},
     "output_type": "display_data"
    },
    {
     "data": {
      "text/html": [
       "<pre style=\"white-space:pre;overflow-x:auto;line-height:normal;font-family:Menlo,'DejaVu Sans Mono',consolas,'Courier New',monospace\"><span style=\"color: #008080; text-decoration-color: #008080; font-weight: bold\">27</span> Yaşında Yaşı Sayısı: <span style=\"color: #008080; text-decoration-color: #008080; font-weight: bold\">8</span>\n",
       "</pre>\n"
      ],
      "text/plain": [
       "\u001b[1;36m27\u001b[0m Yaşında Yaşı Sayısı: \u001b[1;36m8\u001b[0m\n"
      ]
     },
     "metadata": {},
     "output_type": "display_data"
    },
    {
     "data": {
      "text/html": [
       "<pre style=\"white-space:pre;overflow-x:auto;line-height:normal;font-family:Menlo,'DejaVu Sans Mono',consolas,'Courier New',monospace\"><span style=\"color: #008080; text-decoration-color: #008080; font-weight: bold\">36</span> Yaşında Yaşı Sayısı: <span style=\"color: #008080; text-decoration-color: #008080; font-weight: bold\">3</span>\n",
       "</pre>\n"
      ],
      "text/plain": [
       "\u001b[1;36m36\u001b[0m Yaşında Yaşı Sayısı: \u001b[1;36m3\u001b[0m\n"
      ]
     },
     "metadata": {},
     "output_type": "display_data"
    },
    {
     "data": {
      "text/html": [
       "<pre style=\"white-space:pre;overflow-x:auto;line-height:normal;font-family:Menlo,'DejaVu Sans Mono',consolas,'Courier New',monospace\"><span style=\"color: #008080; text-decoration-color: #008080; font-weight: bold\">32</span> Yaşında Yaşı Sayısı: <span style=\"color: #008080; text-decoration-color: #008080; font-weight: bold\">5</span>\n",
       "</pre>\n"
      ],
      "text/plain": [
       "\u001b[1;36m32\u001b[0m Yaşında Yaşı Sayısı: \u001b[1;36m5\u001b[0m\n"
      ]
     },
     "metadata": {},
     "output_type": "display_data"
    },
    {
     "data": {
      "text/html": [
       "<pre style=\"white-space:pre;overflow-x:auto;line-height:normal;font-family:Menlo,'DejaVu Sans Mono',consolas,'Courier New',monospace\"><span style=\"color: #008080; text-decoration-color: #008080; font-weight: bold\">39</span> Yaşında Yaşı Sayısı: <span style=\"color: #008080; text-decoration-color: #008080; font-weight: bold\">3</span>\n",
       "</pre>\n"
      ],
      "text/plain": [
       "\u001b[1;36m39\u001b[0m Yaşında Yaşı Sayısı: \u001b[1;36m3\u001b[0m\n"
      ]
     },
     "metadata": {},
     "output_type": "display_data"
    },
    {
     "data": {
      "text/html": [
       "<pre style=\"white-space:pre;overflow-x:auto;line-height:normal;font-family:Menlo,'DejaVu Sans Mono',consolas,'Courier New',monospace\"><span style=\"color: #008080; text-decoration-color: #008080; font-weight: bold\">44</span> Yaşında Yaşı Sayısı: <span style=\"color: #008080; text-decoration-color: #008080; font-weight: bold\">1</span>\n",
       "</pre>\n"
      ],
      "text/plain": [
       "\u001b[1;36m44\u001b[0m Yaşında Yaşı Sayısı: \u001b[1;36m1\u001b[0m\n"
      ]
     },
     "metadata": {},
     "output_type": "display_data"
    },
    {
     "data": {
      "text/html": [
       "<pre style=\"white-space:pre;overflow-x:auto;line-height:normal;font-family:Menlo,'DejaVu Sans Mono',consolas,'Courier New',monospace\">Bilgi yok Yaşı Sayısı: <span style=\"color: #008080; text-decoration-color: #008080; font-weight: bold\">1</span>\n",
       "</pre>\n"
      ],
      "text/plain": [
       "Bilgi yok Yaşı Sayısı: \u001b[1;36m1\u001b[0m\n"
      ]
     },
     "metadata": {},
     "output_type": "display_data"
    },
    {
     "data": {
      "text/html": [
       "<pre style=\"white-space:pre;overflow-x:auto;line-height:normal;font-family:Menlo,'DejaVu Sans Mono',consolas,'Courier New',monospace\"><span style=\"color: #008080; text-decoration-color: #008080; font-weight: bold\">45</span> Yaşında Yaşı Sayısı: <span style=\"color: #008080; text-decoration-color: #008080; font-weight: bold\">1</span>\n",
       "</pre>\n"
      ],
      "text/plain": [
       "\u001b[1;36m45\u001b[0m Yaşında Yaşı Sayısı: \u001b[1;36m1\u001b[0m\n"
      ]
     },
     "metadata": {},
     "output_type": "display_data"
    },
    {
     "data": {
      "text/html": [
       "<pre style=\"white-space:pre;overflow-x:auto;line-height:normal;font-family:Menlo,'DejaVu Sans Mono',consolas,'Courier New',monospace\"><span style=\"color: #008080; text-decoration-color: #008080; font-weight: bold\">124</span> Yaşında Yaşı Sayısı: <span style=\"color: #008080; text-decoration-color: #008080; font-weight: bold\">1</span>\n",
       "</pre>\n"
      ],
      "text/plain": [
       "\u001b[1;36m124\u001b[0m Yaşında Yaşı Sayısı: \u001b[1;36m1\u001b[0m\n"
      ]
     },
     "metadata": {},
     "output_type": "display_data"
    },
    {
     "data": {
      "text/html": [
       "<pre style=\"white-space:pre;overflow-x:auto;line-height:normal;font-family:Menlo,'DejaVu Sans Mono',consolas,'Courier New',monospace\"><span style=\"color: #008080; text-decoration-color: #008080; font-weight: bold\">0</span> <span style=\"font-weight: bold\">(</span>Yeni<span style=\"font-weight: bold\">)</span> Yaşı Sayısı: <span style=\"color: #008080; text-decoration-color: #008080; font-weight: bold\">374</span>\n",
       "</pre>\n"
      ],
      "text/plain": [
       "\u001b[1;36m0\u001b[0m \u001b[1m(\u001b[0mYeni\u001b[1m)\u001b[0m Yaşı Sayısı: \u001b[1;36m374\u001b[0m\n"
      ]
     },
     "metadata": {},
     "output_type": "display_data"
    },
    {
     "data": {
      "text/html": [
       "<pre style=\"white-space:pre;overflow-x:auto;line-height:normal;font-family:Menlo,'DejaVu Sans Mono',consolas,'Courier New',monospace\"><span style=\"color: #008080; text-decoration-color: #008080; font-weight: bold\">21</span> Ve Üzeri Yaşı Sayısı: <span style=\"color: #008080; text-decoration-color: #008080; font-weight: bold\">207</span>\n",
       "</pre>\n"
      ],
      "text/plain": [
       "\u001b[1;36m21\u001b[0m Ve Üzeri Yaşı Sayısı: \u001b[1;36m207\u001b[0m\n"
      ]
     },
     "metadata": {},
     "output_type": "display_data"
    },
    {
     "data": {
      "text/html": [
       "<pre style=\"white-space:pre;overflow-x:auto;line-height:normal;font-family:Menlo,'DejaVu Sans Mono',consolas,'Courier New',monospace\"><span style=\"color: #008080; text-decoration-color: #008080; font-weight: bold\">16</span>-<span style=\"color: #008080; text-decoration-color: #008080; font-weight: bold\">20</span> Yaşı Sayısı: <span style=\"color: #008080; text-decoration-color: #008080; font-weight: bold\">155</span>\n",
       "</pre>\n"
      ],
      "text/plain": [
       "\u001b[1;36m16\u001b[0m-\u001b[1;36m20\u001b[0m Yaşı Sayısı: \u001b[1;36m155\u001b[0m\n"
      ]
     },
     "metadata": {},
     "output_type": "display_data"
    },
    {
     "data": {
      "text/html": [
       "<pre style=\"white-space:pre;overflow-x:auto;line-height:normal;font-family:Menlo,'DejaVu Sans Mono',consolas,'Courier New',monospace\"><span style=\"color: #008080; text-decoration-color: #008080; font-weight: bold\">4</span> Yaşı Sayısı: <span style=\"color: #008080; text-decoration-color: #008080; font-weight: bold\">173</span>\n",
       "</pre>\n"
      ],
      "text/plain": [
       "\u001b[1;36m4\u001b[0m Yaşı Sayısı: \u001b[1;36m173\u001b[0m\n"
      ]
     },
     "metadata": {},
     "output_type": "display_data"
    },
    {
     "data": {
      "text/html": [
       "<pre style=\"white-space:pre;overflow-x:auto;line-height:normal;font-family:Menlo,'DejaVu Sans Mono',consolas,'Courier New',monospace\"><span style=\"color: #008080; text-decoration-color: #008080; font-weight: bold\">5</span>-<span style=\"color: #008080; text-decoration-color: #008080; font-weight: bold\">10</span> Yaşı Sayısı: <span style=\"color: #008080; text-decoration-color: #008080; font-weight: bold\">301</span>\n",
       "</pre>\n"
      ],
      "text/plain": [
       "\u001b[1;36m5\u001b[0m-\u001b[1;36m10\u001b[0m Yaşı Sayısı: \u001b[1;36m301\u001b[0m\n"
      ]
     },
     "metadata": {},
     "output_type": "display_data"
    },
    {
     "data": {
      "text/html": [
       "<pre style=\"white-space:pre;overflow-x:auto;line-height:normal;font-family:Menlo,'DejaVu Sans Mono',consolas,'Courier New',monospace\"><span style=\"color: #008080; text-decoration-color: #008080; font-weight: bold\">11</span>-<span style=\"color: #008080; text-decoration-color: #008080; font-weight: bold\">15</span> Yaşı Sayısı: <span style=\"color: #008080; text-decoration-color: #008080; font-weight: bold\">122</span>\n",
       "</pre>\n"
      ],
      "text/plain": [
       "\u001b[1;36m11\u001b[0m-\u001b[1;36m15\u001b[0m Yaşı Sayısı: \u001b[1;36m122\u001b[0m\n"
      ]
     },
     "metadata": {},
     "output_type": "display_data"
    },
    {
     "data": {
      "text/html": [
       "<pre style=\"white-space:pre;overflow-x:auto;line-height:normal;font-family:Menlo,'DejaVu Sans Mono',consolas,'Courier New',monospace\"><span style=\"color: #008080; text-decoration-color: #008080; font-weight: bold\">2</span> Yaşı Sayısı: <span style=\"color: #008080; text-decoration-color: #008080; font-weight: bold\">53</span>\n",
       "</pre>\n"
      ],
      "text/plain": [
       "\u001b[1;36m2\u001b[0m Yaşı Sayısı: \u001b[1;36m53\u001b[0m\n"
      ]
     },
     "metadata": {},
     "output_type": "display_data"
    },
    {
     "data": {
      "text/html": [
       "<pre style=\"white-space:pre;overflow-x:auto;line-height:normal;font-family:Menlo,'DejaVu Sans Mono',consolas,'Courier New',monospace\"><span style=\"color: #008080; text-decoration-color: #008080; font-weight: bold\">1</span> Yaşı Sayısı: <span style=\"color: #008080; text-decoration-color: #008080; font-weight: bold\">47</span>\n",
       "</pre>\n"
      ],
      "text/plain": [
       "\u001b[1;36m1\u001b[0m Yaşı Sayısı: \u001b[1;36m47\u001b[0m\n"
      ]
     },
     "metadata": {},
     "output_type": "display_data"
    },
    {
     "data": {
      "text/html": [
       "<pre style=\"white-space:pre;overflow-x:auto;line-height:normal;font-family:Menlo,'DejaVu Sans Mono',consolas,'Courier New',monospace\"><span style=\"color: #008080; text-decoration-color: #008080; font-weight: bold\">3</span> Yaşı Sayısı: <span style=\"color: #008080; text-decoration-color: #008080; font-weight: bold\">47</span>\n",
       "</pre>\n"
      ],
      "text/plain": [
       "\u001b[1;36m3\u001b[0m Yaşı Sayısı: \u001b[1;36m47\u001b[0m\n"
      ]
     },
     "metadata": {},
     "output_type": "display_data"
    }
   ],
   "source": [
    "for i in df[\"building_age\"].unique():\n",
    "    print(f\"{i} Yaşı Sayısı:\",df[df[\"building_age\"]==i].value_counts().count())"
   ]
  },
  {
   "cell_type": "code",
   "execution_count": 75,
   "metadata": {},
   "outputs": [],
   "source": [
    "def convert_to_building_age(house_df: pd.DataFrame) -> pd.DataFrame:\n",
    "    df = house_df.copy()\n",
    "\n",
    "    if \"building_age\" not in df.columns:\n",
    "        logger.error(\"The 'building_age' column was not found in the DataFrame.\")\n",
    "        return df\n",
    "\n",
    "\n",
    "    df = df[(df[\"building_age\"] != \"Bilgi yok\")]\n",
    "    \n",
    "    change_values = {\n",
    "        \"Sıfır Bina\": \"0\",\n",
    "        \"5-10\": \"9\",\n",
    "        \"11-15\": \"13\",\n",
    "        \"16-20\": \"18\",\n",
    "        \"21 Ve Üzeri\": \"22\",\n",
    "        \"31+\": \"31\"\n",
    "    }\n",
    "\n",
    "\n",
    "    df[\"building_age\"] = df[\"building_age\"].replace(change_values)\n",
    "    df[\"building_age\"] = df[\"building_age\"].str.extract(r\"(\\d+)\")\n",
    "    df[\"building_age\"] = df[\"building_age\"].astype(int)\n",
    "    logger.info(f\"House building_age values replaced successfully.\")\n",
    "\n",
    "    \n",
    "    return df\n"
   ]
  },
  {
   "cell_type": "code",
   "execution_count": 76,
   "metadata": {},
   "outputs": [
    {
     "name": "stderr",
     "output_type": "stream",
     "text": [
      "2025-03-25 00:59 - INFO - House building_age values replaced successfully.\n"
     ]
    }
   ],
   "source": [
    "df = convert_to_building_age(house_df=df)"
   ]
  },
  {
   "cell_type": "code",
   "execution_count": 77,
   "metadata": {},
   "outputs": [
    {
     "data": {
      "text/html": [
       "<div>\n",
       "<style scoped>\n",
       "    .dataframe tbody tr th:only-of-type {\n",
       "        vertical-align: middle;\n",
       "    }\n",
       "\n",
       "    .dataframe tbody tr th {\n",
       "        vertical-align: top;\n",
       "    }\n",
       "\n",
       "    .dataframe thead th {\n",
       "        text-align: right;\n",
       "    }\n",
       "</style>\n",
       "<table border=\"1\" class=\"dataframe\">\n",
       "  <thead>\n",
       "    <tr style=\"text-align: right;\">\n",
       "      <th></th>\n",
       "      <th>house_description</th>\n",
       "      <th>house_price</th>\n",
       "      <th>property_type</th>\n",
       "      <th>gross_area</th>\n",
       "      <th>net_area</th>\n",
       "      <th>room_count</th>\n",
       "      <th>building_age</th>\n",
       "      <th>floor_number</th>\n",
       "      <th>total_floors</th>\n",
       "      <th>heating</th>\n",
       "      <th>bathroom_count</th>\n",
       "      <th>furnished</th>\n",
       "      <th>usage_status</th>\n",
       "      <th>credit_eligible</th>\n",
       "      <th>deed_status</th>\n",
       "      <th>exchange</th>\n",
       "      <th>house_url</th>\n",
       "      <th>province</th>\n",
       "      <th>district</th>\n",
       "      <th>neighborhood</th>\n",
       "    </tr>\n",
       "  </thead>\n",
       "  <tbody>\n",
       "  </tbody>\n",
       "</table>\n",
       "</div>"
      ],
      "text/plain": [
       "Empty DataFrame\n",
       "Columns: [house_description, house_price, property_type, gross_area, net_area, room_count, building_age, floor_number, total_floors, heating, bathroom_count, furnished, usage_status, credit_eligible, deed_status, exchange, house_url, province, district, neighborhood]\n",
       "Index: []"
      ]
     },
     "execution_count": 77,
     "metadata": {},
     "output_type": "execute_result"
    }
   ],
   "source": [
    "df.loc[df[\"building_age\"]==np.nan]"
   ]
  },
  {
   "cell_type": "code",
   "execution_count": 78,
   "metadata": {},
   "outputs": [],
   "source": [
    "a = list(df[\"building_age\"].unique())"
   ]
  },
  {
   "cell_type": "code",
   "execution_count": 79,
   "metadata": {},
   "outputs": [],
   "source": [
    "a.sort()"
   ]
  },
  {
   "cell_type": "code",
   "execution_count": 80,
   "metadata": {},
   "outputs": [
    {
     "data": {
      "text/plain": [
       "[np.int64(0),\n",
       " np.int64(1),\n",
       " np.int64(2),\n",
       " np.int64(3),\n",
       " np.int64(4),\n",
       " np.int64(5),\n",
       " np.int64(6),\n",
       " np.int64(7),\n",
       " np.int64(8),\n",
       " np.int64(9),\n",
       " np.int64(10),\n",
       " np.int64(11),\n",
       " np.int64(12),\n",
       " np.int64(13),\n",
       " np.int64(14),\n",
       " np.int64(15),\n",
       " np.int64(16),\n",
       " np.int64(17),\n",
       " np.int64(18),\n",
       " np.int64(19),\n",
       " np.int64(20),\n",
       " np.int64(21),\n",
       " np.int64(22),\n",
       " np.int64(23),\n",
       " np.int64(24),\n",
       " np.int64(25),\n",
       " np.int64(26),\n",
       " np.int64(27),\n",
       " np.int64(28),\n",
       " np.int64(29),\n",
       " np.int64(30),\n",
       " np.int64(31),\n",
       " np.int64(32),\n",
       " np.int64(33),\n",
       " np.int64(35),\n",
       " np.int64(36),\n",
       " np.int64(37),\n",
       " np.int64(38),\n",
       " np.int64(39),\n",
       " np.int64(40),\n",
       " np.int64(44),\n",
       " np.int64(45),\n",
       " np.int64(50),\n",
       " np.int64(124)]"
      ]
     },
     "execution_count": 80,
     "metadata": {},
     "output_type": "execute_result"
    }
   ],
   "source": [
    "a"
   ]
  },
  {
   "cell_type": "code",
   "execution_count": 81,
   "metadata": {},
   "outputs": [
    {
     "name": "stdout",
     "output_type": "stream",
     "text": [
      "<class 'pandas.core.frame.DataFrame'>\n",
      "Index: 5033 entries, 0 to 5033\n",
      "Data columns (total 20 columns):\n",
      " #   Column             Non-Null Count  Dtype   \n",
      "---  ------             --------------  -----   \n",
      " 0   house_description  5033 non-null   object  \n",
      " 1   house_price        5033 non-null   int64   \n",
      " 2   property_type      5033 non-null   category\n",
      " 3   gross_area         5033 non-null   int64   \n",
      " 4   net_area           5033 non-null   int64   \n",
      " 5   room_count         5033 non-null   object  \n",
      " 6   building_age       5033 non-null   int64   \n",
      " 7   floor_number       5033 non-null   int64   \n",
      " 8   total_floors       5033 non-null   int64   \n",
      " 9   heating            5033 non-null   category\n",
      " 10  bathroom_count     5033 non-null   int64   \n",
      " 11  furnished          5033 non-null   object  \n",
      " 12  usage_status       5033 non-null   object  \n",
      " 13  credit_eligible    5033 non-null   object  \n",
      " 14  deed_status        5033 non-null   object  \n",
      " 15  exchange           5033 non-null   object  \n",
      " 16  house_url          5033 non-null   object  \n",
      " 17  province           5033 non-null   category\n",
      " 18  district           5033 non-null   category\n",
      " 19  neighborhood       5033 non-null   category\n",
      "dtypes: category(5), int64(7), object(8)\n",
      "memory usage: 664.5+ KB\n"
     ]
    }
   ],
   "source": [
    "df.info()"
   ]
  },
  {
   "cell_type": "code",
   "execution_count": 82,
   "metadata": {},
   "outputs": [
    {
     "data": {
      "text/html": [
       "<div>\n",
       "<style scoped>\n",
       "    .dataframe tbody tr th:only-of-type {\n",
       "        vertical-align: middle;\n",
       "    }\n",
       "\n",
       "    .dataframe tbody tr th {\n",
       "        vertical-align: top;\n",
       "    }\n",
       "\n",
       "    .dataframe thead th {\n",
       "        text-align: right;\n",
       "    }\n",
       "</style>\n",
       "<table border=\"1\" class=\"dataframe\">\n",
       "  <thead>\n",
       "    <tr style=\"text-align: right;\">\n",
       "      <th></th>\n",
       "      <th>house_description</th>\n",
       "      <th>house_price</th>\n",
       "      <th>property_type</th>\n",
       "      <th>gross_area</th>\n",
       "      <th>net_area</th>\n",
       "      <th>room_count</th>\n",
       "      <th>building_age</th>\n",
       "      <th>floor_number</th>\n",
       "      <th>total_floors</th>\n",
       "      <th>heating</th>\n",
       "      <th>bathroom_count</th>\n",
       "      <th>furnished</th>\n",
       "      <th>usage_status</th>\n",
       "      <th>credit_eligible</th>\n",
       "      <th>deed_status</th>\n",
       "      <th>exchange</th>\n",
       "      <th>house_url</th>\n",
       "      <th>province</th>\n",
       "      <th>district</th>\n",
       "      <th>neighborhood</th>\n",
       "    </tr>\n",
       "  </thead>\n",
       "  <tbody>\n",
       "    <tr>\n",
       "      <th>0</th>\n",
       "      <td>GÜRSELPAŞA’DA FULL SOSYAL DONATILI GENİŞ OTURU...</td>\n",
       "      <td>7300000</td>\n",
       "      <td>Satılık Daire</td>\n",
       "      <td>170</td>\n",
       "      <td>150</td>\n",
       "      <td>4 + 1</td>\n",
       "      <td>6</td>\n",
       "      <td>9</td>\n",
       "      <td>13</td>\n",
       "      <td>Kombi</td>\n",
       "      <td>2</td>\n",
       "      <td>Eşyalı Değil</td>\n",
       "      <td>Mülk Sahibi</td>\n",
       "      <td>Uygun</td>\n",
       "      <td>Kat İrtifakı</td>\n",
       "      <td>Hayır</td>\n",
       "      <td>https://www.hepsiemlak.com/adana-seyhan-gursel...</td>\n",
       "      <td>Adana</td>\n",
       "      <td>Seyhan</td>\n",
       "      <td>Gürselpaşa</td>\n",
       "    </tr>\n",
       "    <tr>\n",
       "      <th>1</th>\n",
       "      <td>HUZUREVLERİNDE İSKANLI HASARSIZ 3 CEPHELİ 25 m...</td>\n",
       "      <td>1399000</td>\n",
       "      <td>Satılık Daire</td>\n",
       "      <td>25</td>\n",
       "      <td>22</td>\n",
       "      <td>1 + 0</td>\n",
       "      <td>12</td>\n",
       "      <td>0</td>\n",
       "      <td>12</td>\n",
       "      <td>Isıtma Yok</td>\n",
       "      <td>1</td>\n",
       "      <td>Eşyalı Değil</td>\n",
       "      <td>Boş</td>\n",
       "      <td>Uygun</td>\n",
       "      <td>Kat Mülkiyeti</td>\n",
       "      <td>Evet</td>\n",
       "      <td>https://www.hepsiemlak.com/adana-cukurova-huzu...</td>\n",
       "      <td>Adana</td>\n",
       "      <td>Çukurova</td>\n",
       "      <td>Huzurevleri</td>\n",
       "    </tr>\n",
       "    <tr>\n",
       "      <th>2</th>\n",
       "      <td>KENAN EVREN BLV. YÜRÜME MESAFESİNDE 2+1+ÇB+GO+...</td>\n",
       "      <td>3500000</td>\n",
       "      <td>Satılık Daire</td>\n",
       "      <td>125</td>\n",
       "      <td>100</td>\n",
       "      <td>2 + 1</td>\n",
       "      <td>10</td>\n",
       "      <td>1</td>\n",
       "      <td>14</td>\n",
       "      <td>Kombi</td>\n",
       "      <td>2</td>\n",
       "      <td>Eşyalı Değil</td>\n",
       "      <td>Mülk Sahibi</td>\n",
       "      <td>Uygun</td>\n",
       "      <td>Kat Mülkiyeti</td>\n",
       "      <td>Hayır</td>\n",
       "      <td>https://www.hepsiemlak.com/adana-cukurova-mahf...</td>\n",
       "      <td>Adana</td>\n",
       "      <td>Çukurova</td>\n",
       "      <td>Mahfesığmaz</td>\n",
       "    </tr>\n",
       "    <tr>\n",
       "      <th>3</th>\n",
       "      <td>İZZET OKLU İNSAATTAN İSKANI ALINMIŞ OTURUMA HA...</td>\n",
       "      <td>15500000</td>\n",
       "      <td>Satılık Daire</td>\n",
       "      <td>195</td>\n",
       "      <td>149</td>\n",
       "      <td>4 + 1</td>\n",
       "      <td>0</td>\n",
       "      <td>4</td>\n",
       "      <td>11</td>\n",
       "      <td>Yerden Isıtma</td>\n",
       "      <td>2</td>\n",
       "      <td>Eşyalı Değil</td>\n",
       "      <td>Boş</td>\n",
       "      <td>Uygun</td>\n",
       "      <td>Kat İrtifakı</td>\n",
       "      <td>Hayır</td>\n",
       "      <td>https://www.hepsiemlak.com/adana-seyhan-gazipa...</td>\n",
       "      <td>Adana</td>\n",
       "      <td>Seyhan</td>\n",
       "      <td>Gazipaşa</td>\n",
       "    </tr>\n",
       "    <tr>\n",
       "      <th>4</th>\n",
       "      <td>SK’DAN BAŞKENT OKULLARI YANİ LÜKS İŞÇİLİKLİ 4+...</td>\n",
       "      <td>7450000</td>\n",
       "      <td>Satılık Daire</td>\n",
       "      <td>145</td>\n",
       "      <td>135</td>\n",
       "      <td>4 + 1</td>\n",
       "      <td>4</td>\n",
       "      <td>3</td>\n",
       "      <td>14</td>\n",
       "      <td>Kombi</td>\n",
       "      <td>2</td>\n",
       "      <td>Eşyalı Değil</td>\n",
       "      <td>Boş</td>\n",
       "      <td>Uygun</td>\n",
       "      <td>Kat İrtifakı</td>\n",
       "      <td>Hayır</td>\n",
       "      <td>https://www.hepsiemlak.com/adana-cukurova-huzu...</td>\n",
       "      <td>Adana</td>\n",
       "      <td>Çukurova</td>\n",
       "      <td>Huzurevleri</td>\n",
       "    </tr>\n",
       "  </tbody>\n",
       "</table>\n",
       "</div>"
      ],
      "text/plain": [
       "                                   house_description  house_price  \\\n",
       "0  GÜRSELPAŞA’DA FULL SOSYAL DONATILI GENİŞ OTURU...      7300000   \n",
       "1  HUZUREVLERİNDE İSKANLI HASARSIZ 3 CEPHELİ 25 m...      1399000   \n",
       "2  KENAN EVREN BLV. YÜRÜME MESAFESİNDE 2+1+ÇB+GO+...      3500000   \n",
       "3  İZZET OKLU İNSAATTAN İSKANI ALINMIŞ OTURUMA HA...     15500000   \n",
       "4  SK’DAN BAŞKENT OKULLARI YANİ LÜKS İŞÇİLİKLİ 4+...      7450000   \n",
       "\n",
       "   property_type  gross_area  net_area room_count  building_age  floor_number  \\\n",
       "0  Satılık Daire         170       150      4 + 1             6             9   \n",
       "1  Satılık Daire          25        22      1 + 0            12             0   \n",
       "2  Satılık Daire         125       100      2 + 1            10             1   \n",
       "3  Satılık Daire         195       149      4 + 1             0             4   \n",
       "4  Satılık Daire         145       135      4 + 1             4             3   \n",
       "\n",
       "   total_floors        heating  bathroom_count     furnished usage_status  \\\n",
       "0            13          Kombi               2  Eşyalı Değil  Mülk Sahibi   \n",
       "1            12     Isıtma Yok               1  Eşyalı Değil          Boş   \n",
       "2            14          Kombi               2  Eşyalı Değil  Mülk Sahibi   \n",
       "3            11  Yerden Isıtma               2  Eşyalı Değil          Boş   \n",
       "4            14          Kombi               2  Eşyalı Değil          Boş   \n",
       "\n",
       "  credit_eligible    deed_status exchange  \\\n",
       "0           Uygun   Kat İrtifakı    Hayır   \n",
       "1           Uygun  Kat Mülkiyeti     Evet   \n",
       "2           Uygun  Kat Mülkiyeti    Hayır   \n",
       "3           Uygun   Kat İrtifakı    Hayır   \n",
       "4           Uygun   Kat İrtifakı    Hayır   \n",
       "\n",
       "                                           house_url province  district  \\\n",
       "0  https://www.hepsiemlak.com/adana-seyhan-gursel...    Adana    Seyhan   \n",
       "1  https://www.hepsiemlak.com/adana-cukurova-huzu...    Adana  Çukurova   \n",
       "2  https://www.hepsiemlak.com/adana-cukurova-mahf...    Adana  Çukurova   \n",
       "3  https://www.hepsiemlak.com/adana-seyhan-gazipa...    Adana    Seyhan   \n",
       "4  https://www.hepsiemlak.com/adana-cukurova-huzu...    Adana  Çukurova   \n",
       "\n",
       "  neighborhood  \n",
       "0   Gürselpaşa  \n",
       "1  Huzurevleri  \n",
       "2  Mahfesığmaz  \n",
       "3     Gazipaşa  \n",
       "4  Huzurevleri  "
      ]
     },
     "execution_count": 82,
     "metadata": {},
     "output_type": "execute_result"
    }
   ],
   "source": [
    "df.head()"
   ]
  },
  {
   "cell_type": "code",
   "execution_count": 83,
   "metadata": {},
   "outputs": [
    {
     "data": {
      "text/plain": [
       "array(['4 + 1', '1 + 0', '2 + 1', '3 + 1', '1 + 1', '5 + 1', '3 + 2',\n",
       "       '6 + 1', '4 + 2', '3 + 0', '5 + 2', '7 + 2', '4 + 0', '4 + 3',\n",
       "       '2 + 0', '7 + 1', '1 + 3', '6 + 2', '2 + 2', '4+1', '2+1', '3+1',\n",
       "       '1+1', '7+1', '5+1', 'Stüdyo', '1 Oda', '1.5+1', '9+ Oda', '2.5+1',\n",
       "       '2+0', '3+0', '6+1', '7+2', '3.5+1', '4+2', '3+2', '4+3'],\n",
       "      dtype=object)"
      ]
     },
     "execution_count": 83,
     "metadata": {},
     "output_type": "execute_result"
    }
   ],
   "source": [
    "df[\"room_count\"].unique()"
   ]
  },
  {
   "cell_type": "code",
   "execution_count": 84,
   "metadata": {},
   "outputs": [],
   "source": [
    "def convert_room_and_livingroom_counts(house_df: pd.DataFrame) -> pd.DataFrame:\n",
    "    \n",
    "    df = house_df.copy()\n",
    "\n",
    "    if \"room_count\" not in df.columns:\n",
    "        logger.error(\"The 'room_count' column was not found in the DataFrame.\")\n",
    "        return df\n",
    "    \n",
    "\n",
    "    df = df[(df[\"room_count\"]!=\"Bilgi yok\") & (df[\"room_count\"]!=\"Stüdyo\") & (df[\"room_count\"]!=\"9+ Oda\")]\n",
    "    \n",
    "    room_count_list = []\n",
    "    living_room_count = []\n",
    "    \n",
    "    for i, value in enumerate(df[\"room_count\"]):\n",
    "        value = str(value).strip()\n",
    "                \n",
    "        if '+' in value:\n",
    "            parts = re.split(r'\\s*\\+\\s*', value)\n",
    "            if len(parts) == 2:\n",
    "                try:\n",
    "                    oda = round(float(parts[0]))\n",
    "                    salon = int(float(parts[1]))\n",
    "                except ValueError as e:\n",
    "                    logger.error(f\"Error converting parts for value '{value}': {e}\")\n",
    "                    oda, salon = np.nan, np.nan\n",
    "            else:\n",
    "                logger.warning(f\"Unexpected format for value with '+': {value}\")\n",
    "                oda, salon = np.nan, np.nan\n",
    "        else:\n",
    "            match = re.search(r'(\\d+(\\.\\d+)?)', value)\n",
    "            if match:\n",
    "                try:\n",
    "                    oda = round(float(match.group(1)))\n",
    "                    salon = 0  \n",
    "                except ValueError as e:\n",
    "                    logger.error(f\"Error converting value '{value}': {e}\")\n",
    "                    oda, salon = np.nan, np.nan\n",
    "            else:\n",
    "                logger.warning(f\"No numeric value found in: {value}\")\n",
    "                oda, salon = np.nan, np.nan\n",
    "        \n",
    "        room_count_list.append(oda)\n",
    "        living_room_count.append(salon)\n",
    "    \n",
    "    df[\"room_count\"] = room_count_list\n",
    "    df[\"living_room_count\"] = living_room_count\n",
    "    \n",
    "    logger.info(f\"House room_count and living_room_count values replaced successfully.\")\n",
    "\n",
    "    return df\n"
   ]
  },
  {
   "cell_type": "code",
   "execution_count": 85,
   "metadata": {},
   "outputs": [
    {
     "name": "stderr",
     "output_type": "stream",
     "text": [
      "2025-03-25 00:59 - INFO - House room_count and living_room_count values replaced successfully.\n"
     ]
    }
   ],
   "source": [
    "df = convert_room_and_livingroom_counts(house_df=df)"
   ]
  },
  {
   "cell_type": "code",
   "execution_count": 86,
   "metadata": {},
   "outputs": [
    {
     "data": {
      "text/plain": [
       "array([1, 0, 2, 3])"
      ]
     },
     "execution_count": 86,
     "metadata": {},
     "output_type": "execute_result"
    }
   ],
   "source": [
    "df[\"living_room_count\"].unique()"
   ]
  },
  {
   "cell_type": "code",
   "execution_count": 87,
   "metadata": {},
   "outputs": [
    {
     "name": "stdout",
     "output_type": "stream",
     "text": [
      "<class 'pandas.core.frame.DataFrame'>\n",
      "Index: 5030 entries, 0 to 5033\n",
      "Data columns (total 21 columns):\n",
      " #   Column             Non-Null Count  Dtype   \n",
      "---  ------             --------------  -----   \n",
      " 0   house_description  5030 non-null   object  \n",
      " 1   house_price        5030 non-null   int64   \n",
      " 2   property_type      5030 non-null   category\n",
      " 3   gross_area         5030 non-null   int64   \n",
      " 4   net_area           5030 non-null   int64   \n",
      " 5   room_count         5030 non-null   int64   \n",
      " 6   building_age       5030 non-null   int64   \n",
      " 7   floor_number       5030 non-null   int64   \n",
      " 8   total_floors       5030 non-null   int64   \n",
      " 9   heating            5030 non-null   category\n",
      " 10  bathroom_count     5030 non-null   int64   \n",
      " 11  furnished          5030 non-null   object  \n",
      " 12  usage_status       5030 non-null   object  \n",
      " 13  credit_eligible    5030 non-null   object  \n",
      " 14  deed_status        5030 non-null   object  \n",
      " 15  exchange           5030 non-null   object  \n",
      " 16  house_url          5030 non-null   object  \n",
      " 17  province           5030 non-null   category\n",
      " 18  district           5030 non-null   category\n",
      " 19  neighborhood       5030 non-null   category\n",
      " 20  living_room_count  5030 non-null   int64   \n",
      "dtypes: category(5), int64(9), object(7)\n",
      "memory usage: 703.4+ KB\n"
     ]
    }
   ],
   "source": [
    "df.info()"
   ]
  },
  {
   "cell_type": "code",
   "execution_count": 88,
   "metadata": {},
   "outputs": [
    {
     "data": {
      "text/html": [
       "<div>\n",
       "<style scoped>\n",
       "    .dataframe tbody tr th:only-of-type {\n",
       "        vertical-align: middle;\n",
       "    }\n",
       "\n",
       "    .dataframe tbody tr th {\n",
       "        vertical-align: top;\n",
       "    }\n",
       "\n",
       "    .dataframe thead th {\n",
       "        text-align: right;\n",
       "    }\n",
       "</style>\n",
       "<table border=\"1\" class=\"dataframe\">\n",
       "  <thead>\n",
       "    <tr style=\"text-align: right;\">\n",
       "      <th></th>\n",
       "      <th>house_description</th>\n",
       "      <th>house_price</th>\n",
       "      <th>property_type</th>\n",
       "      <th>gross_area</th>\n",
       "      <th>net_area</th>\n",
       "      <th>room_count</th>\n",
       "      <th>building_age</th>\n",
       "      <th>floor_number</th>\n",
       "      <th>total_floors</th>\n",
       "      <th>heating</th>\n",
       "      <th>...</th>\n",
       "      <th>furnished</th>\n",
       "      <th>usage_status</th>\n",
       "      <th>credit_eligible</th>\n",
       "      <th>deed_status</th>\n",
       "      <th>exchange</th>\n",
       "      <th>house_url</th>\n",
       "      <th>province</th>\n",
       "      <th>district</th>\n",
       "      <th>neighborhood</th>\n",
       "      <th>living_room_count</th>\n",
       "    </tr>\n",
       "  </thead>\n",
       "  <tbody>\n",
       "    <tr>\n",
       "      <th>0</th>\n",
       "      <td>GÜRSELPAŞA’DA FULL SOSYAL DONATILI GENİŞ OTURU...</td>\n",
       "      <td>7300000</td>\n",
       "      <td>Satılık Daire</td>\n",
       "      <td>170</td>\n",
       "      <td>150</td>\n",
       "      <td>4</td>\n",
       "      <td>6</td>\n",
       "      <td>9</td>\n",
       "      <td>13</td>\n",
       "      <td>Kombi</td>\n",
       "      <td>...</td>\n",
       "      <td>Eşyalı Değil</td>\n",
       "      <td>Mülk Sahibi</td>\n",
       "      <td>Uygun</td>\n",
       "      <td>Kat İrtifakı</td>\n",
       "      <td>Hayır</td>\n",
       "      <td>https://www.hepsiemlak.com/adana-seyhan-gursel...</td>\n",
       "      <td>Adana</td>\n",
       "      <td>Seyhan</td>\n",
       "      <td>Gürselpaşa</td>\n",
       "      <td>1</td>\n",
       "    </tr>\n",
       "    <tr>\n",
       "      <th>1</th>\n",
       "      <td>HUZUREVLERİNDE İSKANLI HASARSIZ 3 CEPHELİ 25 m...</td>\n",
       "      <td>1399000</td>\n",
       "      <td>Satılık Daire</td>\n",
       "      <td>25</td>\n",
       "      <td>22</td>\n",
       "      <td>1</td>\n",
       "      <td>12</td>\n",
       "      <td>0</td>\n",
       "      <td>12</td>\n",
       "      <td>Isıtma Yok</td>\n",
       "      <td>...</td>\n",
       "      <td>Eşyalı Değil</td>\n",
       "      <td>Boş</td>\n",
       "      <td>Uygun</td>\n",
       "      <td>Kat Mülkiyeti</td>\n",
       "      <td>Evet</td>\n",
       "      <td>https://www.hepsiemlak.com/adana-cukurova-huzu...</td>\n",
       "      <td>Adana</td>\n",
       "      <td>Çukurova</td>\n",
       "      <td>Huzurevleri</td>\n",
       "      <td>0</td>\n",
       "    </tr>\n",
       "    <tr>\n",
       "      <th>2</th>\n",
       "      <td>KENAN EVREN BLV. YÜRÜME MESAFESİNDE 2+1+ÇB+GO+...</td>\n",
       "      <td>3500000</td>\n",
       "      <td>Satılık Daire</td>\n",
       "      <td>125</td>\n",
       "      <td>100</td>\n",
       "      <td>2</td>\n",
       "      <td>10</td>\n",
       "      <td>1</td>\n",
       "      <td>14</td>\n",
       "      <td>Kombi</td>\n",
       "      <td>...</td>\n",
       "      <td>Eşyalı Değil</td>\n",
       "      <td>Mülk Sahibi</td>\n",
       "      <td>Uygun</td>\n",
       "      <td>Kat Mülkiyeti</td>\n",
       "      <td>Hayır</td>\n",
       "      <td>https://www.hepsiemlak.com/adana-cukurova-mahf...</td>\n",
       "      <td>Adana</td>\n",
       "      <td>Çukurova</td>\n",
       "      <td>Mahfesığmaz</td>\n",
       "      <td>1</td>\n",
       "    </tr>\n",
       "    <tr>\n",
       "      <th>3</th>\n",
       "      <td>İZZET OKLU İNSAATTAN İSKANI ALINMIŞ OTURUMA HA...</td>\n",
       "      <td>15500000</td>\n",
       "      <td>Satılık Daire</td>\n",
       "      <td>195</td>\n",
       "      <td>149</td>\n",
       "      <td>4</td>\n",
       "      <td>0</td>\n",
       "      <td>4</td>\n",
       "      <td>11</td>\n",
       "      <td>Yerden Isıtma</td>\n",
       "      <td>...</td>\n",
       "      <td>Eşyalı Değil</td>\n",
       "      <td>Boş</td>\n",
       "      <td>Uygun</td>\n",
       "      <td>Kat İrtifakı</td>\n",
       "      <td>Hayır</td>\n",
       "      <td>https://www.hepsiemlak.com/adana-seyhan-gazipa...</td>\n",
       "      <td>Adana</td>\n",
       "      <td>Seyhan</td>\n",
       "      <td>Gazipaşa</td>\n",
       "      <td>1</td>\n",
       "    </tr>\n",
       "    <tr>\n",
       "      <th>4</th>\n",
       "      <td>SK’DAN BAŞKENT OKULLARI YANİ LÜKS İŞÇİLİKLİ 4+...</td>\n",
       "      <td>7450000</td>\n",
       "      <td>Satılık Daire</td>\n",
       "      <td>145</td>\n",
       "      <td>135</td>\n",
       "      <td>4</td>\n",
       "      <td>4</td>\n",
       "      <td>3</td>\n",
       "      <td>14</td>\n",
       "      <td>Kombi</td>\n",
       "      <td>...</td>\n",
       "      <td>Eşyalı Değil</td>\n",
       "      <td>Boş</td>\n",
       "      <td>Uygun</td>\n",
       "      <td>Kat İrtifakı</td>\n",
       "      <td>Hayır</td>\n",
       "      <td>https://www.hepsiemlak.com/adana-cukurova-huzu...</td>\n",
       "      <td>Adana</td>\n",
       "      <td>Çukurova</td>\n",
       "      <td>Huzurevleri</td>\n",
       "      <td>1</td>\n",
       "    </tr>\n",
       "  </tbody>\n",
       "</table>\n",
       "<p>5 rows × 21 columns</p>\n",
       "</div>"
      ],
      "text/plain": [
       "                                   house_description  house_price  \\\n",
       "0  GÜRSELPAŞA’DA FULL SOSYAL DONATILI GENİŞ OTURU...      7300000   \n",
       "1  HUZUREVLERİNDE İSKANLI HASARSIZ 3 CEPHELİ 25 m...      1399000   \n",
       "2  KENAN EVREN BLV. YÜRÜME MESAFESİNDE 2+1+ÇB+GO+...      3500000   \n",
       "3  İZZET OKLU İNSAATTAN İSKANI ALINMIŞ OTURUMA HA...     15500000   \n",
       "4  SK’DAN BAŞKENT OKULLARI YANİ LÜKS İŞÇİLİKLİ 4+...      7450000   \n",
       "\n",
       "   property_type  gross_area  net_area  room_count  building_age  \\\n",
       "0  Satılık Daire         170       150           4             6   \n",
       "1  Satılık Daire          25        22           1            12   \n",
       "2  Satılık Daire         125       100           2            10   \n",
       "3  Satılık Daire         195       149           4             0   \n",
       "4  Satılık Daire         145       135           4             4   \n",
       "\n",
       "   floor_number  total_floors        heating  ...     furnished usage_status  \\\n",
       "0             9            13          Kombi  ...  Eşyalı Değil  Mülk Sahibi   \n",
       "1             0            12     Isıtma Yok  ...  Eşyalı Değil          Boş   \n",
       "2             1            14          Kombi  ...  Eşyalı Değil  Mülk Sahibi   \n",
       "3             4            11  Yerden Isıtma  ...  Eşyalı Değil          Boş   \n",
       "4             3            14          Kombi  ...  Eşyalı Değil          Boş   \n",
       "\n",
       "  credit_eligible    deed_status exchange  \\\n",
       "0           Uygun   Kat İrtifakı    Hayır   \n",
       "1           Uygun  Kat Mülkiyeti     Evet   \n",
       "2           Uygun  Kat Mülkiyeti    Hayır   \n",
       "3           Uygun   Kat İrtifakı    Hayır   \n",
       "4           Uygun   Kat İrtifakı    Hayır   \n",
       "\n",
       "                                           house_url province  district  \\\n",
       "0  https://www.hepsiemlak.com/adana-seyhan-gursel...    Adana    Seyhan   \n",
       "1  https://www.hepsiemlak.com/adana-cukurova-huzu...    Adana  Çukurova   \n",
       "2  https://www.hepsiemlak.com/adana-cukurova-mahf...    Adana  Çukurova   \n",
       "3  https://www.hepsiemlak.com/adana-seyhan-gazipa...    Adana    Seyhan   \n",
       "4  https://www.hepsiemlak.com/adana-cukurova-huzu...    Adana  Çukurova   \n",
       "\n",
       "  neighborhood living_room_count  \n",
       "0   Gürselpaşa                 1  \n",
       "1  Huzurevleri                 0  \n",
       "2  Mahfesığmaz                 1  \n",
       "3     Gazipaşa                 1  \n",
       "4  Huzurevleri                 1  \n",
       "\n",
       "[5 rows x 21 columns]"
      ]
     },
     "execution_count": 88,
     "metadata": {},
     "output_type": "execute_result"
    }
   ],
   "source": [
    "df.head()"
   ]
  },
  {
   "cell_type": "code",
   "execution_count": 89,
   "metadata": {},
   "outputs": [
    {
     "data": {
      "text/plain": [
       "array(['Eşyalı Değil', 'Bilgi yok', 'Eşyalı', 'Boş'], dtype=object)"
      ]
     },
     "execution_count": 89,
     "metadata": {},
     "output_type": "execute_result"
    }
   ],
   "source": [
    "df[\"furnished\"].unique()"
   ]
  },
  {
   "cell_type": "code",
   "execution_count": 90,
   "metadata": {},
   "outputs": [
    {
     "data": {
      "text/html": [
       "<pre style=\"white-space:pre;overflow-x:auto;line-height:normal;font-family:Menlo,'DejaVu Sans Mono',consolas,'Courier New',monospace\">Eşyalı Değil : <span style=\"color: #008080; text-decoration-color: #008080; font-weight: bold\">3032</span>\n",
       "</pre>\n"
      ],
      "text/plain": [
       "Eşyalı Değil : \u001b[1;36m3032\u001b[0m\n"
      ]
     },
     "metadata": {},
     "output_type": "display_data"
    },
    {
     "data": {
      "text/html": [
       "<pre style=\"white-space:pre;overflow-x:auto;line-height:normal;font-family:Menlo,'DejaVu Sans Mono',consolas,'Courier New',monospace\">Bilgi yok : <span style=\"color: #008080; text-decoration-color: #008080; font-weight: bold\">920</span>\n",
       "</pre>\n"
      ],
      "text/plain": [
       "Bilgi yok : \u001b[1;36m920\u001b[0m\n"
      ]
     },
     "metadata": {},
     "output_type": "display_data"
    },
    {
     "data": {
      "text/html": [
       "<pre style=\"white-space:pre;overflow-x:auto;line-height:normal;font-family:Menlo,'DejaVu Sans Mono',consolas,'Courier New',monospace\">Eşyalı : <span style=\"color: #008080; text-decoration-color: #008080; font-weight: bold\">194</span>\n",
       "</pre>\n"
      ],
      "text/plain": [
       "Eşyalı : \u001b[1;36m194\u001b[0m\n"
      ]
     },
     "metadata": {},
     "output_type": "display_data"
    },
    {
     "data": {
      "text/html": [
       "<pre style=\"white-space:pre;overflow-x:auto;line-height:normal;font-family:Menlo,'DejaVu Sans Mono',consolas,'Courier New',monospace\">Boş : <span style=\"color: #008080; text-decoration-color: #008080; font-weight: bold\">813</span>\n",
       "</pre>\n"
      ],
      "text/plain": [
       "Boş : \u001b[1;36m813\u001b[0m\n"
      ]
     },
     "metadata": {},
     "output_type": "display_data"
    }
   ],
   "source": [
    "for i in df[\"furnished\"].unique():\n",
    "    print(f\"{i} :\",df[df[\"furnished\"]==i].value_counts().count())"
   ]
  },
  {
   "cell_type": "code",
   "execution_count": 91,
   "metadata": {},
   "outputs": [
    {
     "data": {
      "text/plain": [
       "array(['Kat İrtifakı', 'Kat Mülkiyeti', 'Bilgi yok', 'Yabancıdan',\n",
       "       'Tapu Yok', 'Arsa', 'Hisseli Tapu', 'Tapu Kaydı Yok',\n",
       "       'Arsa Tapulu', 'Müstakil Tapulu', 'Bilinmiyor',\n",
       "       'Kooperatiften Tapu'], dtype=object)"
      ]
     },
     "execution_count": 91,
     "metadata": {},
     "output_type": "execute_result"
    }
   ],
   "source": [
    "df[\"deed_status\"].unique()\n",
    "# df[df[\"deed_status\"]==\"Bilgi yok\"]"
   ]
  },
  {
   "cell_type": "code",
   "execution_count": 92,
   "metadata": {},
   "outputs": [
    {
     "data": {
      "text/html": [
       "<pre style=\"white-space:pre;overflow-x:auto;line-height:normal;font-family:Menlo,'DejaVu Sans Mono',consolas,'Courier New',monospace\">Kat İrtifakı : <span style=\"color: #008080; text-decoration-color: #008080; font-weight: bold\">1097</span>\n",
       "</pre>\n"
      ],
      "text/plain": [
       "Kat İrtifakı : \u001b[1;36m1097\u001b[0m\n"
      ]
     },
     "metadata": {},
     "output_type": "display_data"
    },
    {
     "data": {
      "text/html": [
       "<pre style=\"white-space:pre;overflow-x:auto;line-height:normal;font-family:Menlo,'DejaVu Sans Mono',consolas,'Courier New',monospace\">Kat Mülkiyeti : <span style=\"color: #008080; text-decoration-color: #008080; font-weight: bold\">3621</span>\n",
       "</pre>\n"
      ],
      "text/plain": [
       "Kat Mülkiyeti : \u001b[1;36m3621\u001b[0m\n"
      ]
     },
     "metadata": {},
     "output_type": "display_data"
    },
    {
     "data": {
      "text/html": [
       "<pre style=\"white-space:pre;overflow-x:auto;line-height:normal;font-family:Menlo,'DejaVu Sans Mono',consolas,'Courier New',monospace\">Bilgi yok : <span style=\"color: #008080; text-decoration-color: #008080; font-weight: bold\">27</span>\n",
       "</pre>\n"
      ],
      "text/plain": [
       "Bilgi yok : \u001b[1;36m27\u001b[0m\n"
      ]
     },
     "metadata": {},
     "output_type": "display_data"
    },
    {
     "data": {
      "text/html": [
       "<pre style=\"white-space:pre;overflow-x:auto;line-height:normal;font-family:Menlo,'DejaVu Sans Mono',consolas,'Courier New',monospace\">Yabancıdan : <span style=\"color: #008080; text-decoration-color: #008080; font-weight: bold\">35</span>\n",
       "</pre>\n"
      ],
      "text/plain": [
       "Yabancıdan : \u001b[1;36m35\u001b[0m\n"
      ]
     },
     "metadata": {},
     "output_type": "display_data"
    },
    {
     "data": {
      "text/html": [
       "<pre style=\"white-space:pre;overflow-x:auto;line-height:normal;font-family:Menlo,'DejaVu Sans Mono',consolas,'Courier New',monospace\">Tapu Yok : <span style=\"color: #008080; text-decoration-color: #008080; font-weight: bold\">36</span>\n",
       "</pre>\n"
      ],
      "text/plain": [
       "Tapu Yok : \u001b[1;36m36\u001b[0m\n"
      ]
     },
     "metadata": {},
     "output_type": "display_data"
    },
    {
     "data": {
      "text/html": [
       "<pre style=\"white-space:pre;overflow-x:auto;line-height:normal;font-family:Menlo,'DejaVu Sans Mono',consolas,'Courier New',monospace\">Arsa : <span style=\"color: #008080; text-decoration-color: #008080; font-weight: bold\">7</span>\n",
       "</pre>\n"
      ],
      "text/plain": [
       "Arsa : \u001b[1;36m7\u001b[0m\n"
      ]
     },
     "metadata": {},
     "output_type": "display_data"
    },
    {
     "data": {
      "text/html": [
       "<pre style=\"white-space:pre;overflow-x:auto;line-height:normal;font-family:Menlo,'DejaVu Sans Mono',consolas,'Courier New',monospace\">Hisseli Tapu : <span style=\"color: #008080; text-decoration-color: #008080; font-weight: bold\">9</span>\n",
       "</pre>\n"
      ],
      "text/plain": [
       "Hisseli Tapu : \u001b[1;36m9\u001b[0m\n"
      ]
     },
     "metadata": {},
     "output_type": "display_data"
    },
    {
     "data": {
      "text/html": [
       "<pre style=\"white-space:pre;overflow-x:auto;line-height:normal;font-family:Menlo,'DejaVu Sans Mono',consolas,'Courier New',monospace\">Tapu Kaydı Yok : <span style=\"color: #008080; text-decoration-color: #008080; font-weight: bold\">109</span>\n",
       "</pre>\n"
      ],
      "text/plain": [
       "Tapu Kaydı Yok : \u001b[1;36m109\u001b[0m\n"
      ]
     },
     "metadata": {},
     "output_type": "display_data"
    },
    {
     "data": {
      "text/html": [
       "<pre style=\"white-space:pre;overflow-x:auto;line-height:normal;font-family:Menlo,'DejaVu Sans Mono',consolas,'Courier New',monospace\">Arsa Tapulu : <span style=\"color: #008080; text-decoration-color: #008080; font-weight: bold\">8</span>\n",
       "</pre>\n"
      ],
      "text/plain": [
       "Arsa Tapulu : \u001b[1;36m8\u001b[0m\n"
      ]
     },
     "metadata": {},
     "output_type": "display_data"
    },
    {
     "data": {
      "text/html": [
       "<pre style=\"white-space:pre;overflow-x:auto;line-height:normal;font-family:Menlo,'DejaVu Sans Mono',consolas,'Courier New',monospace\">Müstakil Tapulu : <span style=\"color: #008080; text-decoration-color: #008080; font-weight: bold\">7</span>\n",
       "</pre>\n"
      ],
      "text/plain": [
       "Müstakil Tapulu : \u001b[1;36m7\u001b[0m\n"
      ]
     },
     "metadata": {},
     "output_type": "display_data"
    },
    {
     "data": {
      "text/html": [
       "<pre style=\"white-space:pre;overflow-x:auto;line-height:normal;font-family:Menlo,'DejaVu Sans Mono',consolas,'Courier New',monospace\">Bilinmiyor : <span style=\"color: #008080; text-decoration-color: #008080; font-weight: bold\">2</span>\n",
       "</pre>\n"
      ],
      "text/plain": [
       "Bilinmiyor : \u001b[1;36m2\u001b[0m\n"
      ]
     },
     "metadata": {},
     "output_type": "display_data"
    },
    {
     "data": {
      "text/html": [
       "<pre style=\"white-space:pre;overflow-x:auto;line-height:normal;font-family:Menlo,'DejaVu Sans Mono',consolas,'Courier New',monospace\">Kooperatiften Tapu : <span style=\"color: #008080; text-decoration-color: #008080; font-weight: bold\">1</span>\n",
       "</pre>\n"
      ],
      "text/plain": [
       "Kooperatiften Tapu : \u001b[1;36m1\u001b[0m\n"
      ]
     },
     "metadata": {},
     "output_type": "display_data"
    }
   ],
   "source": [
    "for i in df[\"deed_status\"].unique():\n",
    "    print(f\"{i} :\",df[df[\"deed_status\"]==i].value_counts().count())"
   ]
  },
  {
   "cell_type": "code",
   "execution_count": 93,
   "metadata": {},
   "outputs": [
    {
     "data": {
      "text/html": [
       "<div>\n",
       "<style scoped>\n",
       "    .dataframe tbody tr th:only-of-type {\n",
       "        vertical-align: middle;\n",
       "    }\n",
       "\n",
       "    .dataframe tbody tr th {\n",
       "        vertical-align: top;\n",
       "    }\n",
       "\n",
       "    .dataframe thead th {\n",
       "        text-align: right;\n",
       "    }\n",
       "</style>\n",
       "<table border=\"1\" class=\"dataframe\">\n",
       "  <thead>\n",
       "    <tr style=\"text-align: right;\">\n",
       "      <th></th>\n",
       "      <th>house_description</th>\n",
       "      <th>house_price</th>\n",
       "      <th>property_type</th>\n",
       "      <th>gross_area</th>\n",
       "      <th>net_area</th>\n",
       "      <th>room_count</th>\n",
       "      <th>building_age</th>\n",
       "      <th>floor_number</th>\n",
       "      <th>total_floors</th>\n",
       "      <th>heating</th>\n",
       "      <th>...</th>\n",
       "      <th>furnished</th>\n",
       "      <th>usage_status</th>\n",
       "      <th>credit_eligible</th>\n",
       "      <th>deed_status</th>\n",
       "      <th>exchange</th>\n",
       "      <th>house_url</th>\n",
       "      <th>province</th>\n",
       "      <th>district</th>\n",
       "      <th>neighborhood</th>\n",
       "      <th>living_room_count</th>\n",
       "    </tr>\n",
       "  </thead>\n",
       "  <tbody>\n",
       "    <tr>\n",
       "      <th>0</th>\n",
       "      <td>GÜRSELPAŞA’DA FULL SOSYAL DONATILI GENİŞ OTURU...</td>\n",
       "      <td>7300000</td>\n",
       "      <td>Satılık Daire</td>\n",
       "      <td>170</td>\n",
       "      <td>150</td>\n",
       "      <td>4</td>\n",
       "      <td>6</td>\n",
       "      <td>9</td>\n",
       "      <td>13</td>\n",
       "      <td>Kombi</td>\n",
       "      <td>...</td>\n",
       "      <td>Eşyalı Değil</td>\n",
       "      <td>Mülk Sahibi</td>\n",
       "      <td>Uygun</td>\n",
       "      <td>Kat İrtifakı</td>\n",
       "      <td>Hayır</td>\n",
       "      <td>https://www.hepsiemlak.com/adana-seyhan-gursel...</td>\n",
       "      <td>Adana</td>\n",
       "      <td>Seyhan</td>\n",
       "      <td>Gürselpaşa</td>\n",
       "      <td>1</td>\n",
       "    </tr>\n",
       "    <tr>\n",
       "      <th>1</th>\n",
       "      <td>HUZUREVLERİNDE İSKANLI HASARSIZ 3 CEPHELİ 25 m...</td>\n",
       "      <td>1399000</td>\n",
       "      <td>Satılık Daire</td>\n",
       "      <td>25</td>\n",
       "      <td>22</td>\n",
       "      <td>1</td>\n",
       "      <td>12</td>\n",
       "      <td>0</td>\n",
       "      <td>12</td>\n",
       "      <td>Isıtma Yok</td>\n",
       "      <td>...</td>\n",
       "      <td>Eşyalı Değil</td>\n",
       "      <td>Boş</td>\n",
       "      <td>Uygun</td>\n",
       "      <td>Kat Mülkiyeti</td>\n",
       "      <td>Evet</td>\n",
       "      <td>https://www.hepsiemlak.com/adana-cukurova-huzu...</td>\n",
       "      <td>Adana</td>\n",
       "      <td>Çukurova</td>\n",
       "      <td>Huzurevleri</td>\n",
       "      <td>0</td>\n",
       "    </tr>\n",
       "    <tr>\n",
       "      <th>2</th>\n",
       "      <td>KENAN EVREN BLV. YÜRÜME MESAFESİNDE 2+1+ÇB+GO+...</td>\n",
       "      <td>3500000</td>\n",
       "      <td>Satılık Daire</td>\n",
       "      <td>125</td>\n",
       "      <td>100</td>\n",
       "      <td>2</td>\n",
       "      <td>10</td>\n",
       "      <td>1</td>\n",
       "      <td>14</td>\n",
       "      <td>Kombi</td>\n",
       "      <td>...</td>\n",
       "      <td>Eşyalı Değil</td>\n",
       "      <td>Mülk Sahibi</td>\n",
       "      <td>Uygun</td>\n",
       "      <td>Kat Mülkiyeti</td>\n",
       "      <td>Hayır</td>\n",
       "      <td>https://www.hepsiemlak.com/adana-cukurova-mahf...</td>\n",
       "      <td>Adana</td>\n",
       "      <td>Çukurova</td>\n",
       "      <td>Mahfesığmaz</td>\n",
       "      <td>1</td>\n",
       "    </tr>\n",
       "    <tr>\n",
       "      <th>3</th>\n",
       "      <td>İZZET OKLU İNSAATTAN İSKANI ALINMIŞ OTURUMA HA...</td>\n",
       "      <td>15500000</td>\n",
       "      <td>Satılık Daire</td>\n",
       "      <td>195</td>\n",
       "      <td>149</td>\n",
       "      <td>4</td>\n",
       "      <td>0</td>\n",
       "      <td>4</td>\n",
       "      <td>11</td>\n",
       "      <td>Yerden Isıtma</td>\n",
       "      <td>...</td>\n",
       "      <td>Eşyalı Değil</td>\n",
       "      <td>Boş</td>\n",
       "      <td>Uygun</td>\n",
       "      <td>Kat İrtifakı</td>\n",
       "      <td>Hayır</td>\n",
       "      <td>https://www.hepsiemlak.com/adana-seyhan-gazipa...</td>\n",
       "      <td>Adana</td>\n",
       "      <td>Seyhan</td>\n",
       "      <td>Gazipaşa</td>\n",
       "      <td>1</td>\n",
       "    </tr>\n",
       "    <tr>\n",
       "      <th>4</th>\n",
       "      <td>SK’DAN BAŞKENT OKULLARI YANİ LÜKS İŞÇİLİKLİ 4+...</td>\n",
       "      <td>7450000</td>\n",
       "      <td>Satılık Daire</td>\n",
       "      <td>145</td>\n",
       "      <td>135</td>\n",
       "      <td>4</td>\n",
       "      <td>4</td>\n",
       "      <td>3</td>\n",
       "      <td>14</td>\n",
       "      <td>Kombi</td>\n",
       "      <td>...</td>\n",
       "      <td>Eşyalı Değil</td>\n",
       "      <td>Boş</td>\n",
       "      <td>Uygun</td>\n",
       "      <td>Kat İrtifakı</td>\n",
       "      <td>Hayır</td>\n",
       "      <td>https://www.hepsiemlak.com/adana-cukurova-huzu...</td>\n",
       "      <td>Adana</td>\n",
       "      <td>Çukurova</td>\n",
       "      <td>Huzurevleri</td>\n",
       "      <td>1</td>\n",
       "    </tr>\n",
       "  </tbody>\n",
       "</table>\n",
       "<p>5 rows × 21 columns</p>\n",
       "</div>"
      ],
      "text/plain": [
       "                                   house_description  house_price  \\\n",
       "0  GÜRSELPAŞA’DA FULL SOSYAL DONATILI GENİŞ OTURU...      7300000   \n",
       "1  HUZUREVLERİNDE İSKANLI HASARSIZ 3 CEPHELİ 25 m...      1399000   \n",
       "2  KENAN EVREN BLV. YÜRÜME MESAFESİNDE 2+1+ÇB+GO+...      3500000   \n",
       "3  İZZET OKLU İNSAATTAN İSKANI ALINMIŞ OTURUMA HA...     15500000   \n",
       "4  SK’DAN BAŞKENT OKULLARI YANİ LÜKS İŞÇİLİKLİ 4+...      7450000   \n",
       "\n",
       "   property_type  gross_area  net_area  room_count  building_age  \\\n",
       "0  Satılık Daire         170       150           4             6   \n",
       "1  Satılık Daire          25        22           1            12   \n",
       "2  Satılık Daire         125       100           2            10   \n",
       "3  Satılık Daire         195       149           4             0   \n",
       "4  Satılık Daire         145       135           4             4   \n",
       "\n",
       "   floor_number  total_floors        heating  ...     furnished usage_status  \\\n",
       "0             9            13          Kombi  ...  Eşyalı Değil  Mülk Sahibi   \n",
       "1             0            12     Isıtma Yok  ...  Eşyalı Değil          Boş   \n",
       "2             1            14          Kombi  ...  Eşyalı Değil  Mülk Sahibi   \n",
       "3             4            11  Yerden Isıtma  ...  Eşyalı Değil          Boş   \n",
       "4             3            14          Kombi  ...  Eşyalı Değil          Boş   \n",
       "\n",
       "  credit_eligible    deed_status exchange  \\\n",
       "0           Uygun   Kat İrtifakı    Hayır   \n",
       "1           Uygun  Kat Mülkiyeti     Evet   \n",
       "2           Uygun  Kat Mülkiyeti    Hayır   \n",
       "3           Uygun   Kat İrtifakı    Hayır   \n",
       "4           Uygun   Kat İrtifakı    Hayır   \n",
       "\n",
       "                                           house_url province  district  \\\n",
       "0  https://www.hepsiemlak.com/adana-seyhan-gursel...    Adana    Seyhan   \n",
       "1  https://www.hepsiemlak.com/adana-cukurova-huzu...    Adana  Çukurova   \n",
       "2  https://www.hepsiemlak.com/adana-cukurova-mahf...    Adana  Çukurova   \n",
       "3  https://www.hepsiemlak.com/adana-seyhan-gazipa...    Adana    Seyhan   \n",
       "4  https://www.hepsiemlak.com/adana-cukurova-huzu...    Adana  Çukurova   \n",
       "\n",
       "  neighborhood living_room_count  \n",
       "0   Gürselpaşa                 1  \n",
       "1  Huzurevleri                 0  \n",
       "2  Mahfesığmaz                 1  \n",
       "3     Gazipaşa                 1  \n",
       "4  Huzurevleri                 1  \n",
       "\n",
       "[5 rows x 21 columns]"
      ]
     },
     "execution_count": 93,
     "metadata": {},
     "output_type": "execute_result"
    }
   ],
   "source": [
    "df.head()"
   ]
  },
  {
   "cell_type": "code",
   "execution_count": 94,
   "metadata": {},
   "outputs": [],
   "source": [
    "df = df.reindex(columns=[\"house_description\", \n",
    "                         \"house_price\", \n",
    "                         \"property_type\", \n",
    "                         \"gross_area\", \n",
    "                         \"net_area\", \n",
    "                         \"room_count\",\n",
    "                         \"living_room_count\",\n",
    "                         \"bathroom_count\",\n",
    "                         \"heating\",\n",
    "                         \"floor_number\",\n",
    "                         \"total_floors\",\n",
    "                         \"building_age\",\n",
    "                         \"province\",\n",
    "                         \"district\",\n",
    "                         \"neighborhood\",\n",
    "                         \"usage_status\",\n",
    "                         \"deed_status\",\n",
    "                         \"exchange\",\n",
    "                         \"credit_eligible\",\n",
    "                         \"furnished\",\n",
    "                         \"house_url\"])"
   ]
  },
  {
   "cell_type": "code",
   "execution_count": 95,
   "metadata": {},
   "outputs": [
    {
     "data": {
      "text/html": [
       "<div>\n",
       "<style scoped>\n",
       "    .dataframe tbody tr th:only-of-type {\n",
       "        vertical-align: middle;\n",
       "    }\n",
       "\n",
       "    .dataframe tbody tr th {\n",
       "        vertical-align: top;\n",
       "    }\n",
       "\n",
       "    .dataframe thead th {\n",
       "        text-align: right;\n",
       "    }\n",
       "</style>\n",
       "<table border=\"1\" class=\"dataframe\">\n",
       "  <thead>\n",
       "    <tr style=\"text-align: right;\">\n",
       "      <th></th>\n",
       "      <th>house_description</th>\n",
       "      <th>house_price</th>\n",
       "      <th>property_type</th>\n",
       "      <th>gross_area</th>\n",
       "      <th>net_area</th>\n",
       "      <th>room_count</th>\n",
       "      <th>living_room_count</th>\n",
       "      <th>bathroom_count</th>\n",
       "      <th>heating</th>\n",
       "      <th>floor_number</th>\n",
       "      <th>...</th>\n",
       "      <th>building_age</th>\n",
       "      <th>province</th>\n",
       "      <th>district</th>\n",
       "      <th>neighborhood</th>\n",
       "      <th>usage_status</th>\n",
       "      <th>deed_status</th>\n",
       "      <th>exchange</th>\n",
       "      <th>credit_eligible</th>\n",
       "      <th>furnished</th>\n",
       "      <th>house_url</th>\n",
       "    </tr>\n",
       "  </thead>\n",
       "  <tbody>\n",
       "    <tr>\n",
       "      <th>0</th>\n",
       "      <td>GÜRSELPAŞA’DA FULL SOSYAL DONATILI GENİŞ OTURU...</td>\n",
       "      <td>7300000</td>\n",
       "      <td>Satılık Daire</td>\n",
       "      <td>170</td>\n",
       "      <td>150</td>\n",
       "      <td>4</td>\n",
       "      <td>1</td>\n",
       "      <td>2</td>\n",
       "      <td>Kombi</td>\n",
       "      <td>9</td>\n",
       "      <td>...</td>\n",
       "      <td>6</td>\n",
       "      <td>Adana</td>\n",
       "      <td>Seyhan</td>\n",
       "      <td>Gürselpaşa</td>\n",
       "      <td>Mülk Sahibi</td>\n",
       "      <td>Kat İrtifakı</td>\n",
       "      <td>Hayır</td>\n",
       "      <td>Uygun</td>\n",
       "      <td>Eşyalı Değil</td>\n",
       "      <td>https://www.hepsiemlak.com/adana-seyhan-gursel...</td>\n",
       "    </tr>\n",
       "    <tr>\n",
       "      <th>1</th>\n",
       "      <td>HUZUREVLERİNDE İSKANLI HASARSIZ 3 CEPHELİ 25 m...</td>\n",
       "      <td>1399000</td>\n",
       "      <td>Satılık Daire</td>\n",
       "      <td>25</td>\n",
       "      <td>22</td>\n",
       "      <td>1</td>\n",
       "      <td>0</td>\n",
       "      <td>1</td>\n",
       "      <td>Isıtma Yok</td>\n",
       "      <td>0</td>\n",
       "      <td>...</td>\n",
       "      <td>12</td>\n",
       "      <td>Adana</td>\n",
       "      <td>Çukurova</td>\n",
       "      <td>Huzurevleri</td>\n",
       "      <td>Boş</td>\n",
       "      <td>Kat Mülkiyeti</td>\n",
       "      <td>Evet</td>\n",
       "      <td>Uygun</td>\n",
       "      <td>Eşyalı Değil</td>\n",
       "      <td>https://www.hepsiemlak.com/adana-cukurova-huzu...</td>\n",
       "    </tr>\n",
       "    <tr>\n",
       "      <th>2</th>\n",
       "      <td>KENAN EVREN BLV. YÜRÜME MESAFESİNDE 2+1+ÇB+GO+...</td>\n",
       "      <td>3500000</td>\n",
       "      <td>Satılık Daire</td>\n",
       "      <td>125</td>\n",
       "      <td>100</td>\n",
       "      <td>2</td>\n",
       "      <td>1</td>\n",
       "      <td>2</td>\n",
       "      <td>Kombi</td>\n",
       "      <td>1</td>\n",
       "      <td>...</td>\n",
       "      <td>10</td>\n",
       "      <td>Adana</td>\n",
       "      <td>Çukurova</td>\n",
       "      <td>Mahfesığmaz</td>\n",
       "      <td>Mülk Sahibi</td>\n",
       "      <td>Kat Mülkiyeti</td>\n",
       "      <td>Hayır</td>\n",
       "      <td>Uygun</td>\n",
       "      <td>Eşyalı Değil</td>\n",
       "      <td>https://www.hepsiemlak.com/adana-cukurova-mahf...</td>\n",
       "    </tr>\n",
       "    <tr>\n",
       "      <th>3</th>\n",
       "      <td>İZZET OKLU İNSAATTAN İSKANI ALINMIŞ OTURUMA HA...</td>\n",
       "      <td>15500000</td>\n",
       "      <td>Satılık Daire</td>\n",
       "      <td>195</td>\n",
       "      <td>149</td>\n",
       "      <td>4</td>\n",
       "      <td>1</td>\n",
       "      <td>2</td>\n",
       "      <td>Yerden Isıtma</td>\n",
       "      <td>4</td>\n",
       "      <td>...</td>\n",
       "      <td>0</td>\n",
       "      <td>Adana</td>\n",
       "      <td>Seyhan</td>\n",
       "      <td>Gazipaşa</td>\n",
       "      <td>Boş</td>\n",
       "      <td>Kat İrtifakı</td>\n",
       "      <td>Hayır</td>\n",
       "      <td>Uygun</td>\n",
       "      <td>Eşyalı Değil</td>\n",
       "      <td>https://www.hepsiemlak.com/adana-seyhan-gazipa...</td>\n",
       "    </tr>\n",
       "    <tr>\n",
       "      <th>4</th>\n",
       "      <td>SK’DAN BAŞKENT OKULLARI YANİ LÜKS İŞÇİLİKLİ 4+...</td>\n",
       "      <td>7450000</td>\n",
       "      <td>Satılık Daire</td>\n",
       "      <td>145</td>\n",
       "      <td>135</td>\n",
       "      <td>4</td>\n",
       "      <td>1</td>\n",
       "      <td>2</td>\n",
       "      <td>Kombi</td>\n",
       "      <td>3</td>\n",
       "      <td>...</td>\n",
       "      <td>4</td>\n",
       "      <td>Adana</td>\n",
       "      <td>Çukurova</td>\n",
       "      <td>Huzurevleri</td>\n",
       "      <td>Boş</td>\n",
       "      <td>Kat İrtifakı</td>\n",
       "      <td>Hayır</td>\n",
       "      <td>Uygun</td>\n",
       "      <td>Eşyalı Değil</td>\n",
       "      <td>https://www.hepsiemlak.com/adana-cukurova-huzu...</td>\n",
       "    </tr>\n",
       "  </tbody>\n",
       "</table>\n",
       "<p>5 rows × 21 columns</p>\n",
       "</div>"
      ],
      "text/plain": [
       "                                   house_description  house_price  \\\n",
       "0  GÜRSELPAŞA’DA FULL SOSYAL DONATILI GENİŞ OTURU...      7300000   \n",
       "1  HUZUREVLERİNDE İSKANLI HASARSIZ 3 CEPHELİ 25 m...      1399000   \n",
       "2  KENAN EVREN BLV. YÜRÜME MESAFESİNDE 2+1+ÇB+GO+...      3500000   \n",
       "3  İZZET OKLU İNSAATTAN İSKANI ALINMIŞ OTURUMA HA...     15500000   \n",
       "4  SK’DAN BAŞKENT OKULLARI YANİ LÜKS İŞÇİLİKLİ 4+...      7450000   \n",
       "\n",
       "   property_type  gross_area  net_area  room_count  living_room_count  \\\n",
       "0  Satılık Daire         170       150           4                  1   \n",
       "1  Satılık Daire          25        22           1                  0   \n",
       "2  Satılık Daire         125       100           2                  1   \n",
       "3  Satılık Daire         195       149           4                  1   \n",
       "4  Satılık Daire         145       135           4                  1   \n",
       "\n",
       "   bathroom_count        heating  floor_number  ...  building_age  province  \\\n",
       "0               2          Kombi             9  ...             6     Adana   \n",
       "1               1     Isıtma Yok             0  ...            12     Adana   \n",
       "2               2          Kombi             1  ...            10     Adana   \n",
       "3               2  Yerden Isıtma             4  ...             0     Adana   \n",
       "4               2          Kombi             3  ...             4     Adana   \n",
       "\n",
       "   district neighborhood usage_status    deed_status exchange credit_eligible  \\\n",
       "0    Seyhan   Gürselpaşa  Mülk Sahibi   Kat İrtifakı    Hayır           Uygun   \n",
       "1  Çukurova  Huzurevleri          Boş  Kat Mülkiyeti     Evet           Uygun   \n",
       "2  Çukurova  Mahfesığmaz  Mülk Sahibi  Kat Mülkiyeti    Hayır           Uygun   \n",
       "3    Seyhan     Gazipaşa          Boş   Kat İrtifakı    Hayır           Uygun   \n",
       "4  Çukurova  Huzurevleri          Boş   Kat İrtifakı    Hayır           Uygun   \n",
       "\n",
       "      furnished                                          house_url  \n",
       "0  Eşyalı Değil  https://www.hepsiemlak.com/adana-seyhan-gursel...  \n",
       "1  Eşyalı Değil  https://www.hepsiemlak.com/adana-cukurova-huzu...  \n",
       "2  Eşyalı Değil  https://www.hepsiemlak.com/adana-cukurova-mahf...  \n",
       "3  Eşyalı Değil  https://www.hepsiemlak.com/adana-seyhan-gazipa...  \n",
       "4  Eşyalı Değil  https://www.hepsiemlak.com/adana-cukurova-huzu...  \n",
       "\n",
       "[5 rows x 21 columns]"
      ]
     },
     "execution_count": 95,
     "metadata": {},
     "output_type": "execute_result"
    }
   ],
   "source": [
    "df.head()"
   ]
  },
  {
   "cell_type": "code",
   "execution_count": 96,
   "metadata": {},
   "outputs": [
    {
     "name": "stdout",
     "output_type": "stream",
     "text": [
      "<class 'pandas.core.frame.DataFrame'>\n",
      "Index: 5030 entries, 0 to 5033\n",
      "Data columns (total 21 columns):\n",
      " #   Column             Non-Null Count  Dtype   \n",
      "---  ------             --------------  -----   \n",
      " 0   house_description  5030 non-null   object  \n",
      " 1   house_price        5030 non-null   int64   \n",
      " 2   property_type      5030 non-null   category\n",
      " 3   gross_area         5030 non-null   int64   \n",
      " 4   net_area           5030 non-null   int64   \n",
      " 5   room_count         5030 non-null   int64   \n",
      " 6   living_room_count  5030 non-null   int64   \n",
      " 7   bathroom_count     5030 non-null   int64   \n",
      " 8   heating            5030 non-null   category\n",
      " 9   floor_number       5030 non-null   int64   \n",
      " 10  total_floors       5030 non-null   int64   \n",
      " 11  building_age       5030 non-null   int64   \n",
      " 12  province           5030 non-null   category\n",
      " 13  district           5030 non-null   category\n",
      " 14  neighborhood       5030 non-null   category\n",
      " 15  usage_status       5030 non-null   object  \n",
      " 16  deed_status        5030 non-null   object  \n",
      " 17  exchange           5030 non-null   object  \n",
      " 18  credit_eligible    5030 non-null   object  \n",
      " 19  furnished          5030 non-null   object  \n",
      " 20  house_url          5030 non-null   object  \n",
      "dtypes: category(5), int64(9), object(7)\n",
      "memory usage: 703.4+ KB\n"
     ]
    }
   ],
   "source": [
    "df.info()"
   ]
  },
  {
   "cell_type": "code",
   "execution_count": 97,
   "metadata": {},
   "outputs": [
    {
     "data": {
      "text/plain": [
       "125"
      ]
     },
     "execution_count": 97,
     "metadata": {},
     "output_type": "execute_result"
    }
   ],
   "source": [
    "df.neighborhood.nunique()"
   ]
  },
  {
   "cell_type": "code",
   "execution_count": 98,
   "metadata": {},
   "outputs": [
    {
     "data": {
      "text/plain": [
       "count    5.030000e+03\n",
       "mean     4.532197e+06\n",
       "std      4.252172e+07\n",
       "min      1.375000e+04\n",
       "25%      2.250000e+06\n",
       "50%      3.000000e+06\n",
       "75%      4.200000e+06\n",
       "max      2.300000e+09\n",
       "Name: house_price, dtype: float64"
      ]
     },
     "execution_count": 98,
     "metadata": {},
     "output_type": "execute_result"
    }
   ],
   "source": [
    "df.house_price.describe()"
   ]
  },
  {
   "cell_type": "code",
   "execution_count": 99,
   "metadata": {},
   "outputs": [
    {
     "data": {
      "text/plain": [
       "array([   7300000,    1399000,    3500000,   15500000,    7450000,\n",
       "          3230000,    2920000,   14900000,    3190000,    3175000,\n",
       "          1350000,    2200000,    4350000,    5750000,    2990000,\n",
       "          2450000,    2940000,    5500000,    8850000,    1840000,\n",
       "          2950000,    3325000,    2340000,    2575000,    1275000,\n",
       "          1450000,    2500000,    3390000,    1420000,    3490000,\n",
       "          3580000,    3195000,    1400000,    2980000,    5150000,\n",
       "          3090000,    1650000,    6375000,    3700000,   11250000,\n",
       "          1475000,    3650000,    4750000,    3575000,    3600000,\n",
       "          5530000,    4500000,    1250000,    4645000,    3499000,\n",
       "          5200000,    2290000,    2300000,    2350000,    2880000,\n",
       "          1695000,    3450000,    2600000,    1100000,    1935000,\n",
       "          2750000,    4165000,    2988000,    3990000,    4100000,\n",
       "          2850000,    5999999,    3750000,    3050000,    3290000,\n",
       "          5000000,    1700000,    3300000,    1675000,    2775000,\n",
       "          3030000,    2398000,    3380000,    1900000,   10500000,\n",
       "          2180000,    5890000,    3550000,    2998000,    2400000,\n",
       "          2150000,    6499999,    2700000,    2925000,    1630000,\n",
       "          3720000,    1850000,    7250000,    1300000,    3670000,\n",
       "          6750000,    1200000,    2389000,    8150000,    2000000,\n",
       "          6350000,    3280000,    8500000,    3250000,    6985000,\n",
       "          2930000,    1690000,    3375000,    3690000,    4400000,\n",
       "          4499000,    4600000,    4200000,    5070000,    1950000,\n",
       "          6250000,    3000000,    1150000,    2650000,   15250000,\n",
       "          3150000,   20499000,    3975000,    2499000,    5650000,\n",
       "          4624000,    3850000,    2900000,    9500000,   12900000,\n",
       "          2250000,    3625000,   18000000,    2590000,    4250000,\n",
       "          7000000,    5630000,    3100000,    2890000,    3950000,\n",
       "          2780000,    4450000,   12750000,    9200000,    2770000,\n",
       "          2325000,    2745000,   16000000,   10000000,    3200000,\n",
       "          5250000,    1800000,    3590000,   11800000,    6950000,\n",
       "          1980000,    5425000,    7350000,    8750000,    2790000,\n",
       "          5100000,    5450000,    4150000,    1595000,    1880000,\n",
       "          2995000,    3400000,    6550000,    2875000,    1575000,\n",
       "          7500000,    2975000,   13600000,    4850000,    1140000,\n",
       "          3685000,    4630000,    3149000,   14500000,   14750000,\n",
       "          1600000,    9250000,    2840000,   13000000,   12500000,\n",
       "          4800000,    4300000,    1145000,   15000000,    3630000,\n",
       "          4550000,    5480000,    5495000,    1990000,    5950000,\n",
       "          1500000,    4570000,     850000,    2260000,    2050000,\n",
       "          1035000,    2658000,    5745000,    2310999,    7499000,\n",
       "          1525000,    1910000,    4000000,    9900000,    3350000,\n",
       "          3890000,    4690000,    2870000,    3900000,    1875000,\n",
       "         10750000,    2848000,    6398000,    1925000,    6490000,\n",
       "          2099000,    8250000,    2100000,    1125000,    4390000,\n",
       "          6900000,    3800000,    6850000,    3560000,    2375000,\n",
       "          3235000,   13450000,    4650000,    5975000,    1845000,\n",
       "          7900000,    2550000,    1625000,    5700000,    6940000,\n",
       "          8100000,    8950000,    2799000,    2985000,    1280000,\n",
       "          1825000,    2800000,    3640000,    2798000,     880000,\n",
       "          4950000,    3845000,    1780000,    1230000,    1390000,\n",
       "          1260000,    5050000,    4590000,    2390000,    2425000,\n",
       "         11000000,    7980000,    3940000,    4700000,    2730000,\n",
       "          3085000,    1785000,    6150000,    4990000,    3475000,\n",
       "          1175000,    1750000,    2895000,    3875000,   10650000,\n",
       "         21000000,    1975000,    8700000,    2490000,    1225000,\n",
       "          1770000,    2580000,    8000000,    5920000,    3585000,\n",
       "          1050000,    1945000,    2385000,    2480000,    1795000,\n",
       "          5400000,    3525000,    8200000, 2300000000,    7495000,\n",
       "          4475000,    4685000,    7870000,    5800000,    6499000,\n",
       "          1760000,      18000,    1585000,    4215000,    1590000,\n",
       "          3095000,    1095000,    2570000,    7198000,   11950000,\n",
       "         17500000,   16500000,    3999000,    2720000,    3080000,\n",
       "          2630000,    8900000,    1365000,    2740000,    6200000,\n",
       "          3830000,    3730000,    1470000,    3520000,    1090000,\n",
       "          6300000,    2675000,    6500000,    3480000,   14250000,\n",
       "          3395000,    5285000,    1340000,    4330000,    2935000,\n",
       "          1775000,    6000000,    6800000,    4970000,    2210000,\n",
       "          5850000,    8300000,   20000000,    3840000,    7800000,\n",
       "          5600000,    2475000,    3145000,    2595000,    2680000,\n",
       "          1725000,     885000,    1195000,    3125000,    2190000,\n",
       "          1375000,    4099000,    5350000,    1395000,    4449000,\n",
       "          1170000,    5993000,    2670000,     960000,    1599000,\n",
       "          2090000,    4640000,    2080000,    4688000,    1985000,\n",
       "          5840000,    1072001,    4880000,    7400000,     900000,\n",
       "          1445000,    2760000,    6650000,    6600000,   14000000,\n",
       "         19750000,    2649000,    1180000,    1215000,    2030000,\n",
       "          1185000,    1299000,    9275000,    1220000,    1000000,\n",
       "          2715000,    2280000,    3349000,    3320000,   24000000,\n",
       "          1790000,    3725000,    2380000,    3930000,    1270000,\n",
       "          2865000,   13950000,    4790000,   26000000,    5990000,\n",
       "          4975000,    1305000,    1070000,    3995000,   16750000,\n",
       "          1970000,    1830000,    4050000,    3920000,    4325000,\n",
       "          2748000,    1730000,    1075000,    2320000,    2825000,\n",
       "          2120000,    2949000,    2275000,    1899000,    1895000,\n",
       "          2725000,    3649000,    3275000,    1290000,    5889000,\n",
       "          4090000,    4845000,    7750000,    1550000,    7990000,\n",
       "          1135000,    1285000,    1255000,    6400000,    1920000,\n",
       "         25500000,    2495000,    5550000,    1540000,    1580000,\n",
       "          5900000,   20500000,    2779000,    2749999,     930000,\n",
       "          1210000,    3445000,    6999000,    1245000,    6349000,\n",
       "          1435000,    1465000,    1425000,    2735000,    1410000,\n",
       "          4900000,    3579000,    2070000,    7550000,    3285000,\n",
       "          4360000,    2620000,    4275000,    9750000,    1665000,\n",
       "          2470000,    1680000,     899000,    2640000,    2388000,\n",
       "          1190000,    3225000,    1055000,    2695000,     950000,\n",
       "          5398000,   13750000,    2690000,    2860000,    4699000,\n",
       "          1560000,    1396000,    9000000,    8480000,    2820000,\n",
       "         16250000,    2830000, 1950000000,    6849000,    5490000,\n",
       "         13500000,    3799000,    6100000,   11500000,    3740000,\n",
       "          4980000,   13150000,    1460000,    1295000,    1685000,\n",
       "          7600000,    2360000,    1380000,    2585000,    1510000,\n",
       "          6975000,    4415000,    1436000,    4070000,    2498000,\n",
       "         12000000,    3878000,    4890000,    2765000,    1479000,\n",
       "          1430000,    3199000,    5295000,    2774000,    6730000,\n",
       "         17000000,    1385000,    5690000,    1565000,    1530000,\n",
       "          7275000,    1030000,    1490000,    1640000,    1325000,\n",
       "          6700000,    9550000,    1930000,    2795000,    3899000,\n",
       "          3988000,   18500000,    4675000,    3128000,    1085000,\n",
       "          1265000,    1160000,    6298000,    3465000,    3798000,\n",
       "          1928000,    1040000,    2299000,    3249000,    1670000,\n",
       "          5085000,    1648000,     890000,    2699000,    2485000,\n",
       "          1999999,    2378000,    2510000,    7200000,    1890000,\n",
       "          7950000,    2625000,     990000,    2819000,    2520000,\n",
       "          1345000,    6990000,    1495000,   12650000,    8795000,\n",
       "          3755000,    5525000,      13750,    1065000,    3599000,\n",
       "          1370000,    6925000,    5424000,    2195000,    2230000,\n",
       "          3680000,    1960000,    7190000,    3549000,    3425000,\n",
       "          2175000,    6450000,    5300000,    3180000,    1310000,\n",
       "          2285000,    3595000,    4340000,    3148000,    4290000,\n",
       "          3498000,    3299900,    4625000,    2349000,    5290000,\n",
       "          1635000,    1155000,    5325000,   11900000,    1455000,\n",
       "           995000,   17750000,     975000,    3249999,    1605000,\n",
       "          3785000,     830000,   13390000,   15499000,    3749000,\n",
       "          4525000,     625000,    8990000,    1599999,    3699000,\n",
       "         11650000,    3248000,    1699000,    3098000,    3855000,\n",
       "          2598000,    3330000,    3130000,    1250001,    3348000,\n",
       "          3948000,    2698000,   15490000,    2130000,    3935000,\n",
       "          2889000,    3345000,    2960000,    1740000,    6799000,\n",
       "          4098000,   10700000,    3980000,    4295000,    9990000,\n",
       "          3960000,    6660000,    3035000,    8800000,    3985000,\n",
       "          4635000,    2160000,    3140000,    5280000,   10200000,\n",
       "          2899000,    1335000,     888000,    2489000,    9700000,\n",
       "          7700000,    9400000,   11990000,   14100000,    5390000,\n",
       "         22500000,   25000000,    9650000,    4678000,    8165000,\n",
       "          3270000,    1820000,    9950000,    8450000,    4810000,\n",
       "          8280000,    3210000,    5040000,    3478000,    3540000,\n",
       "          7150000,    4745000,    1649000,    3485000,    1165000,\n",
       "          7370000,   14990000,   17250000,    8400000,    3460000,\n",
       "          2099999,    2270000,    1745000,    4995000,    6370000,\n",
       "         29300000,    3849000,     920000,      20500,    3449000,\n",
       "          2225000,    1997000,    2345000,    1480000,    1720000,\n",
       "          1298000,    1555000,     840000,    1999000,    2085000,\n",
       "          6225000,    5155000,    2459000,    4425000,    3629000,\n",
       "          3360000,   14680000,   13100000,    2599000,    2064999,\n",
       "           820000,    1130000,    3598000,    2645000,    2530000,\n",
       "         10995000,    2449000,    3880000,    2918000,    2610000,\n",
       "          2525000,    2335000,    3495000,    2165000,    2395000,\n",
       "          3499999,    3570000,    2969000,    3159000,    4480000,\n",
       "         28000000,    2785000,    3120000,    3224000,    4435000,\n",
       "          4455000,    1620000,     111111,   12400000,    3648000,\n",
       "          2075000,    3385000,    3340000,    3539000,    3895000,\n",
       "          5370000,    3635000,    2440000,    1570000,    1349000,\n",
       "          1080000,     965000,    5270000,    2849000,    3097000,\n",
       "            25000,    1320000,    1923000,    1315000,    3587000,\n",
       "          6970000,    1330000,    6275000,     875000,    7699000,\n",
       "          3279000,    2755000,   10900000,    4560000,    6780000,\n",
       "          2979000,    4849000,   19500000,    2215000,    5715000,\n",
       "          3299000,   10620000,    2874000,    3889000,    4139999,\n",
       "          1715000,    2797000,    2399000,    1835000,    6539000,\n",
       "          2149000,    3310000,    4210000,    1415000,    2098000,\n",
       "          5169000,    4775000,    1645000,    4280000,    2399999,\n",
       "          2549000,    3869000,    7795000,    3535000,    2999999,\n",
       "          3999999,    2194000,   11750000,    7925000,    7270000,\n",
       "          2974000,    4545000,    6475000,    6125000])"
      ]
     },
     "execution_count": 99,
     "metadata": {},
     "output_type": "execute_result"
    }
   ],
   "source": [
    "df.house_price.unique()"
   ]
  },
  {
   "cell_type": "code",
   "execution_count": 100,
   "metadata": {},
   "outputs": [
    {
     "data": {
      "text/plain": [
       "['Seyhan', 'Çukurova', 'Yüreğir', 'Sarıçam', 'Kozan', ..., 'Ceyhan', 'Pozantı', 'Feke', 'İmamoğlu', 'Karaisalı']\n",
       "Length: 12\n",
       "Categories (12, object): ['Ceyhan', 'Feke', 'Karaisalı', 'Karataş', ..., 'Yumurtalık', 'Yüreğir', 'Çukurova', 'İmamoğlu']"
      ]
     },
     "execution_count": 100,
     "metadata": {},
     "output_type": "execute_result"
    }
   ],
   "source": [
    "df.district.unique()"
   ]
  },
  {
   "cell_type": "code",
   "execution_count": 101,
   "metadata": {},
   "outputs": [
    {
     "name": "stdout",
     "output_type": "stream",
     "text": [
      "<class 'pandas.core.frame.DataFrame'>\n",
      "Index: 5030 entries, 0 to 5033\n",
      "Data columns (total 21 columns):\n",
      " #   Column             Non-Null Count  Dtype   \n",
      "---  ------             --------------  -----   \n",
      " 0   house_description  5030 non-null   object  \n",
      " 1   house_price        5030 non-null   int64   \n",
      " 2   property_type      5030 non-null   category\n",
      " 3   gross_area         5030 non-null   int64   \n",
      " 4   net_area           5030 non-null   int64   \n",
      " 5   room_count         5030 non-null   int64   \n",
      " 6   living_room_count  5030 non-null   int64   \n",
      " 7   bathroom_count     5030 non-null   int64   \n",
      " 8   heating            5030 non-null   category\n",
      " 9   floor_number       5030 non-null   int64   \n",
      " 10  total_floors       5030 non-null   int64   \n",
      " 11  building_age       5030 non-null   int64   \n",
      " 12  province           5030 non-null   category\n",
      " 13  district           5030 non-null   category\n",
      " 14  neighborhood       5030 non-null   category\n",
      " 15  usage_status       5030 non-null   object  \n",
      " 16  deed_status        5030 non-null   object  \n",
      " 17  exchange           5030 non-null   object  \n",
      " 18  credit_eligible    5030 non-null   object  \n",
      " 19  furnished          5030 non-null   object  \n",
      " 20  house_url          5030 non-null   object  \n",
      "dtypes: category(5), int64(9), object(7)\n",
      "memory usage: 703.4+ KB\n"
     ]
    }
   ],
   "source": [
    "df.info()"
   ]
  },
  {
   "cell_type": "code",
   "execution_count": 102,
   "metadata": {},
   "outputs": [],
   "source": [
    "df_numeric = df.select_dtypes(include=[\"int64\"])"
   ]
  },
  {
   "cell_type": "code",
   "execution_count": 103,
   "metadata": {},
   "outputs": [
    {
     "data": {
      "text/html": [
       "<div>\n",
       "<style scoped>\n",
       "    .dataframe tbody tr th:only-of-type {\n",
       "        vertical-align: middle;\n",
       "    }\n",
       "\n",
       "    .dataframe tbody tr th {\n",
       "        vertical-align: top;\n",
       "    }\n",
       "\n",
       "    .dataframe thead th {\n",
       "        text-align: right;\n",
       "    }\n",
       "</style>\n",
       "<table border=\"1\" class=\"dataframe\">\n",
       "  <thead>\n",
       "    <tr style=\"text-align: right;\">\n",
       "      <th></th>\n",
       "      <th>house_price</th>\n",
       "      <th>gross_area</th>\n",
       "      <th>net_area</th>\n",
       "      <th>room_count</th>\n",
       "      <th>living_room_count</th>\n",
       "      <th>bathroom_count</th>\n",
       "      <th>floor_number</th>\n",
       "      <th>total_floors</th>\n",
       "      <th>building_age</th>\n",
       "    </tr>\n",
       "  </thead>\n",
       "  <tbody>\n",
       "    <tr>\n",
       "      <th>0</th>\n",
       "      <td>7300000</td>\n",
       "      <td>170</td>\n",
       "      <td>150</td>\n",
       "      <td>4</td>\n",
       "      <td>1</td>\n",
       "      <td>2</td>\n",
       "      <td>9</td>\n",
       "      <td>13</td>\n",
       "      <td>6</td>\n",
       "    </tr>\n",
       "    <tr>\n",
       "      <th>1</th>\n",
       "      <td>1399000</td>\n",
       "      <td>25</td>\n",
       "      <td>22</td>\n",
       "      <td>1</td>\n",
       "      <td>0</td>\n",
       "      <td>1</td>\n",
       "      <td>0</td>\n",
       "      <td>12</td>\n",
       "      <td>12</td>\n",
       "    </tr>\n",
       "    <tr>\n",
       "      <th>2</th>\n",
       "      <td>3500000</td>\n",
       "      <td>125</td>\n",
       "      <td>100</td>\n",
       "      <td>2</td>\n",
       "      <td>1</td>\n",
       "      <td>2</td>\n",
       "      <td>1</td>\n",
       "      <td>14</td>\n",
       "      <td>10</td>\n",
       "    </tr>\n",
       "    <tr>\n",
       "      <th>3</th>\n",
       "      <td>15500000</td>\n",
       "      <td>195</td>\n",
       "      <td>149</td>\n",
       "      <td>4</td>\n",
       "      <td>1</td>\n",
       "      <td>2</td>\n",
       "      <td>4</td>\n",
       "      <td>11</td>\n",
       "      <td>0</td>\n",
       "    </tr>\n",
       "    <tr>\n",
       "      <th>4</th>\n",
       "      <td>7450000</td>\n",
       "      <td>145</td>\n",
       "      <td>135</td>\n",
       "      <td>4</td>\n",
       "      <td>1</td>\n",
       "      <td>2</td>\n",
       "      <td>3</td>\n",
       "      <td>14</td>\n",
       "      <td>4</td>\n",
       "    </tr>\n",
       "  </tbody>\n",
       "</table>\n",
       "</div>"
      ],
      "text/plain": [
       "   house_price  gross_area  net_area  room_count  living_room_count  \\\n",
       "0      7300000         170       150           4                  1   \n",
       "1      1399000          25        22           1                  0   \n",
       "2      3500000         125       100           2                  1   \n",
       "3     15500000         195       149           4                  1   \n",
       "4      7450000         145       135           4                  1   \n",
       "\n",
       "   bathroom_count  floor_number  total_floors  building_age  \n",
       "0               2             9            13             6  \n",
       "1               1             0            12            12  \n",
       "2               2             1            14            10  \n",
       "3               2             4            11             0  \n",
       "4               2             3            14             4  "
      ]
     },
     "execution_count": 103,
     "metadata": {},
     "output_type": "execute_result"
    }
   ],
   "source": [
    "df_numeric.head()"
   ]
  },
  {
   "cell_type": "code",
   "execution_count": 104,
   "metadata": {},
   "outputs": [
    {
     "data": {
      "text/html": [
       "<div>\n",
       "<style scoped>\n",
       "    .dataframe tbody tr th:only-of-type {\n",
       "        vertical-align: middle;\n",
       "    }\n",
       "\n",
       "    .dataframe tbody tr th {\n",
       "        vertical-align: top;\n",
       "    }\n",
       "\n",
       "    .dataframe thead th {\n",
       "        text-align: right;\n",
       "    }\n",
       "</style>\n",
       "<table border=\"1\" class=\"dataframe\">\n",
       "  <thead>\n",
       "    <tr style=\"text-align: right;\">\n",
       "      <th></th>\n",
       "      <th>house_price</th>\n",
       "      <th>gross_area</th>\n",
       "      <th>net_area</th>\n",
       "      <th>room_count</th>\n",
       "      <th>living_room_count</th>\n",
       "      <th>bathroom_count</th>\n",
       "      <th>floor_number</th>\n",
       "      <th>total_floors</th>\n",
       "      <th>building_age</th>\n",
       "    </tr>\n",
       "  </thead>\n",
       "  <tbody>\n",
       "    <tr>\n",
       "      <th>1</th>\n",
       "      <td>1399000</td>\n",
       "      <td>25</td>\n",
       "      <td>22</td>\n",
       "      <td>1</td>\n",
       "      <td>0</td>\n",
       "      <td>1</td>\n",
       "      <td>0</td>\n",
       "      <td>12</td>\n",
       "      <td>12</td>\n",
       "    </tr>\n",
       "    <tr>\n",
       "      <th>3535</th>\n",
       "      <td>1399000</td>\n",
       "      <td>25</td>\n",
       "      <td>22</td>\n",
       "      <td>1</td>\n",
       "      <td>0</td>\n",
       "      <td>1</td>\n",
       "      <td>0</td>\n",
       "      <td>12</td>\n",
       "      <td>12</td>\n",
       "    </tr>\n",
       "  </tbody>\n",
       "</table>\n",
       "</div>"
      ],
      "text/plain": [
       "      house_price  gross_area  net_area  room_count  living_room_count  \\\n",
       "1         1399000          25        22           1                  0   \n",
       "3535      1399000          25        22           1                  0   \n",
       "\n",
       "      bathroom_count  floor_number  total_floors  building_age  \n",
       "1                  1             0            12            12  \n",
       "3535               1             0            12            12  "
      ]
     },
     "execution_count": 104,
     "metadata": {},
     "output_type": "execute_result"
    }
   ],
   "source": [
    "df_numeric.loc[df_numeric[\"gross_area\"]==25]"
   ]
  },
  {
   "cell_type": "code",
   "execution_count": 105,
   "metadata": {},
   "outputs": [
    {
     "data": {
      "text/plain": [
       "Index(['house_price', 'gross_area', 'net_area', 'room_count',\n",
       "       'living_room_count', 'bathroom_count', 'floor_number', 'total_floors',\n",
       "       'building_age'],\n",
       "      dtype='object')"
      ]
     },
     "execution_count": 105,
     "metadata": {},
     "output_type": "execute_result"
    }
   ],
   "source": [
    "df_numeric.columns"
   ]
  },
  {
   "cell_type": "code",
   "execution_count": 106,
   "metadata": {},
   "outputs": [
    {
     "data": {
      "text/html": [
       "<div>\n",
       "<style scoped>\n",
       "    .dataframe tbody tr th:only-of-type {\n",
       "        vertical-align: middle;\n",
       "    }\n",
       "\n",
       "    .dataframe tbody tr th {\n",
       "        vertical-align: top;\n",
       "    }\n",
       "\n",
       "    .dataframe thead th {\n",
       "        text-align: right;\n",
       "    }\n",
       "</style>\n",
       "<table border=\"1\" class=\"dataframe\">\n",
       "  <thead>\n",
       "    <tr style=\"text-align: right;\">\n",
       "      <th></th>\n",
       "      <th>house_description</th>\n",
       "      <th>house_price</th>\n",
       "      <th>property_type</th>\n",
       "      <th>gross_area</th>\n",
       "      <th>net_area</th>\n",
       "      <th>room_count</th>\n",
       "      <th>living_room_count</th>\n",
       "      <th>bathroom_count</th>\n",
       "      <th>heating</th>\n",
       "      <th>floor_number</th>\n",
       "      <th>...</th>\n",
       "      <th>building_age</th>\n",
       "      <th>province</th>\n",
       "      <th>district</th>\n",
       "      <th>neighborhood</th>\n",
       "      <th>usage_status</th>\n",
       "      <th>deed_status</th>\n",
       "      <th>exchange</th>\n",
       "      <th>credit_eligible</th>\n",
       "      <th>furnished</th>\n",
       "      <th>house_url</th>\n",
       "    </tr>\n",
       "  </thead>\n",
       "  <tbody>\n",
       "    <tr>\n",
       "      <th>26</th>\n",
       "      <td>HAKEM EMLAK'TAN SARIÇAM GÜLTEPE'DE SİTE İÇERİS...</td>\n",
       "      <td>1275000</td>\n",
       "      <td>Satılık Daire</td>\n",
       "      <td>40</td>\n",
       "      <td>32</td>\n",
       "      <td>1</td>\n",
       "      <td>1</td>\n",
       "      <td>1</td>\n",
       "      <td>Isıtma Yok</td>\n",
       "      <td>4</td>\n",
       "      <td>...</td>\n",
       "      <td>0</td>\n",
       "      <td>Adana</td>\n",
       "      <td>Sarıçam</td>\n",
       "      <td>Gültepe</td>\n",
       "      <td>Boş</td>\n",
       "      <td>Kat İrtifakı</td>\n",
       "      <td>Bilgi yok</td>\n",
       "      <td>Uygun</td>\n",
       "      <td>Bilgi yok</td>\n",
       "      <td>https://www.hepsiemlak.com/adana-saricam-gulte...</td>\n",
       "    </tr>\n",
       "    <tr>\n",
       "      <th>51</th>\n",
       "      <td>GÜLTEPE DE ÖZEL İŞÇİLİKLİ 1+1 REZİDANS YATAY M...</td>\n",
       "      <td>1250000</td>\n",
       "      <td>Satılık Daire</td>\n",
       "      <td>40</td>\n",
       "      <td>35</td>\n",
       "      <td>1</td>\n",
       "      <td>1</td>\n",
       "      <td>1</td>\n",
       "      <td>Kombi</td>\n",
       "      <td>4</td>\n",
       "      <td>...</td>\n",
       "      <td>0</td>\n",
       "      <td>Adana</td>\n",
       "      <td>Sarıçam</td>\n",
       "      <td>Gültepe</td>\n",
       "      <td>Boş</td>\n",
       "      <td>Kat İrtifakı</td>\n",
       "      <td>Hayır</td>\n",
       "      <td>Uygun</td>\n",
       "      <td>Eşyalı Değil</td>\n",
       "      <td>https://www.hepsiemlak.com/adana-saricam-gulte...</td>\n",
       "    </tr>\n",
       "    <tr>\n",
       "      <th>821</th>\n",
       "      <td>OSMANGAZIDE SATILIK YATIRIMLIK 1+1 FIRSAT DAİRE</td>\n",
       "      <td>1090000</td>\n",
       "      <td>Satılık Daire</td>\n",
       "      <td>40</td>\n",
       "      <td>35</td>\n",
       "      <td>1</td>\n",
       "      <td>1</td>\n",
       "      <td>1</td>\n",
       "      <td>Isıtma Yok</td>\n",
       "      <td>11</td>\n",
       "      <td>...</td>\n",
       "      <td>0</td>\n",
       "      <td>Adana</td>\n",
       "      <td>Sarıçam</td>\n",
       "      <td>Osmangazi</td>\n",
       "      <td>Bilgi yok</td>\n",
       "      <td>Kat İrtifakı</td>\n",
       "      <td>Bilgi yok</td>\n",
       "      <td>Uygun</td>\n",
       "      <td>Bilgi yok</td>\n",
       "      <td>https://www.hepsiemlak.com/adana-saricam-osman...</td>\n",
       "    </tr>\n",
       "    <tr>\n",
       "      <th>837</th>\n",
       "      <td>ÇARKIPARE SOULMATE KARŞISINDA 1+1 ULTRA LÜKS D...</td>\n",
       "      <td>1650000</td>\n",
       "      <td>Satılık Daire</td>\n",
       "      <td>40</td>\n",
       "      <td>36</td>\n",
       "      <td>1</td>\n",
       "      <td>1</td>\n",
       "      <td>1</td>\n",
       "      <td>Kombi</td>\n",
       "      <td>9</td>\n",
       "      <td>...</td>\n",
       "      <td>0</td>\n",
       "      <td>Adana</td>\n",
       "      <td>Sarıçam</td>\n",
       "      <td>Çarkıpare</td>\n",
       "      <td>Boş</td>\n",
       "      <td>Kat İrtifakı</td>\n",
       "      <td>Hayır</td>\n",
       "      <td>Uygun</td>\n",
       "      <td>Eşyalı Değil</td>\n",
       "      <td>https://www.hepsiemlak.com/adana-saricam-carki...</td>\n",
       "    </tr>\n",
       "    <tr>\n",
       "      <th>903</th>\n",
       "      <td>STADYUM KARŞISINDA SATILIK 1+1</td>\n",
       "      <td>1650000</td>\n",
       "      <td>Satılık Daire</td>\n",
       "      <td>40</td>\n",
       "      <td>30</td>\n",
       "      <td>1</td>\n",
       "      <td>1</td>\n",
       "      <td>1</td>\n",
       "      <td>Kombi</td>\n",
       "      <td>4</td>\n",
       "      <td>...</td>\n",
       "      <td>0</td>\n",
       "      <td>Adana</td>\n",
       "      <td>Sarıçam</td>\n",
       "      <td>Çarkıpare</td>\n",
       "      <td>Boş</td>\n",
       "      <td>Kat Mülkiyeti</td>\n",
       "      <td>Evet</td>\n",
       "      <td>Uygun</td>\n",
       "      <td>Eşyalı Değil</td>\n",
       "      <td>https://www.hepsiemlak.com/adana-saricam-carki...</td>\n",
       "    </tr>\n",
       "    <tr>\n",
       "      <th>1033</th>\n",
       "      <td>Sahibinden satılık 1+1</td>\n",
       "      <td>1250000</td>\n",
       "      <td>Satılık Daire</td>\n",
       "      <td>40</td>\n",
       "      <td>35</td>\n",
       "      <td>1</td>\n",
       "      <td>1</td>\n",
       "      <td>1</td>\n",
       "      <td>Isıtma Yok</td>\n",
       "      <td>7</td>\n",
       "      <td>...</td>\n",
       "      <td>0</td>\n",
       "      <td>Adana</td>\n",
       "      <td>Sarıçam</td>\n",
       "      <td>Gültepe</td>\n",
       "      <td>Boş</td>\n",
       "      <td>Kat İrtifakı</td>\n",
       "      <td>Hayır</td>\n",
       "      <td>Uygun</td>\n",
       "      <td>Eşyalı Değil</td>\n",
       "      <td>https://www.hepsiemlak.com/adana-saricam-gulte...</td>\n",
       "    </tr>\n",
       "    <tr>\n",
       "      <th>1355</th>\n",
       "      <td>ÇARKIPARE STADYUM CİVARINDA YÜKSEK KIRA GETİRİ...</td>\n",
       "      <td>1785000</td>\n",
       "      <td>Satılık Daire</td>\n",
       "      <td>40</td>\n",
       "      <td>38</td>\n",
       "      <td>1</td>\n",
       "      <td>1</td>\n",
       "      <td>1</td>\n",
       "      <td>Isıtma Yok</td>\n",
       "      <td>9</td>\n",
       "      <td>...</td>\n",
       "      <td>0</td>\n",
       "      <td>Adana</td>\n",
       "      <td>Sarıçam</td>\n",
       "      <td>Çarkıpare</td>\n",
       "      <td>Boş</td>\n",
       "      <td>Kat İrtifakı</td>\n",
       "      <td>Hayır</td>\n",
       "      <td>Uygun</td>\n",
       "      <td>Eşyalı Değil</td>\n",
       "      <td>https://www.hepsiemlak.com/adana-saricam-carki...</td>\n",
       "    </tr>\n",
       "    <tr>\n",
       "      <th>1470</th>\n",
       "      <td>SARIÇAM ÇINARLI'DA 1+1 40 M2 GÜNEY-DOĞU CEPELİ...</td>\n",
       "      <td>1250000</td>\n",
       "      <td>Satılık Daire</td>\n",
       "      <td>40</td>\n",
       "      <td>30</td>\n",
       "      <td>1</td>\n",
       "      <td>1</td>\n",
       "      <td>1</td>\n",
       "      <td>Isıtma Yok</td>\n",
       "      <td>3</td>\n",
       "      <td>...</td>\n",
       "      <td>0</td>\n",
       "      <td>Adana</td>\n",
       "      <td>Sarıçam</td>\n",
       "      <td>Osmangazi</td>\n",
       "      <td>Boş</td>\n",
       "      <td>Kat İrtifakı</td>\n",
       "      <td>Hayır</td>\n",
       "      <td>Uygun</td>\n",
       "      <td>Eşyalı Değil</td>\n",
       "      <td>https://www.hepsiemlak.com/adana-saricam-osman...</td>\n",
       "    </tr>\n",
       "    <tr>\n",
       "      <th>1507</th>\n",
       "      <td>AKKUYU TOKİLERDE İÇİ YAPILMIŞ 1+1 DAİREMİZ SAT...</td>\n",
       "      <td>1000000</td>\n",
       "      <td>Satılık Daire</td>\n",
       "      <td>40</td>\n",
       "      <td>35</td>\n",
       "      <td>1</td>\n",
       "      <td>1</td>\n",
       "      <td>1</td>\n",
       "      <td>Isıtma Yok</td>\n",
       "      <td>3</td>\n",
       "      <td>...</td>\n",
       "      <td>5</td>\n",
       "      <td>Adana</td>\n",
       "      <td>Sarıçam</td>\n",
       "      <td>Akkuyu</td>\n",
       "      <td>Boş</td>\n",
       "      <td>Kat Mülkiyeti</td>\n",
       "      <td>Hayır</td>\n",
       "      <td>Uygun değil</td>\n",
       "      <td>Eşyalı Değil</td>\n",
       "      <td>https://www.hepsiemlak.com/adana-saricam-akkuy...</td>\n",
       "    </tr>\n",
       "    <tr>\n",
       "      <th>1706</th>\n",
       "      <td>POYRAZ EMLAKTAN 1+1 KÖŞE DAİRE</td>\n",
       "      <td>1075000</td>\n",
       "      <td>Satılık Daire</td>\n",
       "      <td>40</td>\n",
       "      <td>33</td>\n",
       "      <td>1</td>\n",
       "      <td>1</td>\n",
       "      <td>1</td>\n",
       "      <td>Isıtma Yok</td>\n",
       "      <td>11</td>\n",
       "      <td>...</td>\n",
       "      <td>0</td>\n",
       "      <td>Adana</td>\n",
       "      <td>Sarıçam</td>\n",
       "      <td>Gültepe</td>\n",
       "      <td>Boş</td>\n",
       "      <td>Kat İrtifakı</td>\n",
       "      <td>Hayır</td>\n",
       "      <td>Uygun</td>\n",
       "      <td>Eşyalı Değil</td>\n",
       "      <td>https://www.hepsiemlak.com/adana-saricam-gulte...</td>\n",
       "    </tr>\n",
       "    <tr>\n",
       "      <th>1717</th>\n",
       "      <td>GÜLTEPE EN GUZEL YERİNDE PİRİM GARANTİLİ 1+1 S...</td>\n",
       "      <td>1135000</td>\n",
       "      <td>Satılık Daire</td>\n",
       "      <td>40</td>\n",
       "      <td>30</td>\n",
       "      <td>1</td>\n",
       "      <td>1</td>\n",
       "      <td>1</td>\n",
       "      <td>Kombi</td>\n",
       "      <td>4</td>\n",
       "      <td>...</td>\n",
       "      <td>0</td>\n",
       "      <td>Adana</td>\n",
       "      <td>Sarıçam</td>\n",
       "      <td>Gültepe</td>\n",
       "      <td>Boş</td>\n",
       "      <td>Kat İrtifakı</td>\n",
       "      <td>Hayır</td>\n",
       "      <td>Uygun</td>\n",
       "      <td>Eşyalı Değil</td>\n",
       "      <td>https://www.hepsiemlak.com/adana-saricam-gulte...</td>\n",
       "    </tr>\n",
       "    <tr>\n",
       "      <th>1899</th>\n",
       "      <td>HAKEM EMLAK'TAN SARIÇAM GÜLTEPE'DE 1+1 ÖZEL İŞ...</td>\n",
       "      <td>1350000</td>\n",
       "      <td>Satılık Daire</td>\n",
       "      <td>40</td>\n",
       "      <td>35</td>\n",
       "      <td>1</td>\n",
       "      <td>1</td>\n",
       "      <td>1</td>\n",
       "      <td>Isıtma Yok</td>\n",
       "      <td>3</td>\n",
       "      <td>...</td>\n",
       "      <td>0</td>\n",
       "      <td>Adana</td>\n",
       "      <td>Sarıçam</td>\n",
       "      <td>Gültepe</td>\n",
       "      <td>Boş</td>\n",
       "      <td>Kat İrtifakı</td>\n",
       "      <td>Bilgi yok</td>\n",
       "      <td>Uygun</td>\n",
       "      <td>Bilgi yok</td>\n",
       "      <td>https://www.hepsiemlak.com/adana-saricam-gulte...</td>\n",
       "    </tr>\n",
       "    <tr>\n",
       "      <th>2173</th>\n",
       "      <td>SARIÇAM ALMA APT. 1+1 SATILIK DAİRE</td>\n",
       "      <td>1250000</td>\n",
       "      <td>Satılık Daire</td>\n",
       "      <td>40</td>\n",
       "      <td>35</td>\n",
       "      <td>1</td>\n",
       "      <td>1</td>\n",
       "      <td>1</td>\n",
       "      <td>Isıtma Yok</td>\n",
       "      <td>8</td>\n",
       "      <td>...</td>\n",
       "      <td>0</td>\n",
       "      <td>Adana</td>\n",
       "      <td>Sarıçam</td>\n",
       "      <td>Gültepe</td>\n",
       "      <td>Kiracılı</td>\n",
       "      <td>Kat Mülkiyeti</td>\n",
       "      <td>Hayır</td>\n",
       "      <td>Uygun</td>\n",
       "      <td>Bilgi yok</td>\n",
       "      <td>https://www.hepsiemlak.com/adana-saricam-gulte...</td>\n",
       "    </tr>\n",
       "    <tr>\n",
       "      <th>2262</th>\n",
       "      <td>STADYUM KARŞISINDA SÜPER LOKASYON YÜKSEK KIRA ...</td>\n",
       "      <td>1675000</td>\n",
       "      <td>Satılık Daire</td>\n",
       "      <td>40</td>\n",
       "      <td>35</td>\n",
       "      <td>1</td>\n",
       "      <td>1</td>\n",
       "      <td>1</td>\n",
       "      <td>Kombi</td>\n",
       "      <td>1</td>\n",
       "      <td>...</td>\n",
       "      <td>0</td>\n",
       "      <td>Adana</td>\n",
       "      <td>Sarıçam</td>\n",
       "      <td>Çarkıpare</td>\n",
       "      <td>Boş</td>\n",
       "      <td>Kat İrtifakı</td>\n",
       "      <td>Hayır</td>\n",
       "      <td>Uygun</td>\n",
       "      <td>Eşyalı Değil</td>\n",
       "      <td>https://www.hepsiemlak.com/adana-saricam-carki...</td>\n",
       "    </tr>\n",
       "    <tr>\n",
       "      <th>2358</th>\n",
       "      <td>BÖLGENİN EN CAZİP 1+1 DAİRESİ YATIRIM TAVSİYES...</td>\n",
       "      <td>1290000</td>\n",
       "      <td>Satılık Daire</td>\n",
       "      <td>40</td>\n",
       "      <td>35</td>\n",
       "      <td>1</td>\n",
       "      <td>1</td>\n",
       "      <td>1</td>\n",
       "      <td>Kombi</td>\n",
       "      <td>2</td>\n",
       "      <td>...</td>\n",
       "      <td>0</td>\n",
       "      <td>Adana</td>\n",
       "      <td>Sarıçam</td>\n",
       "      <td>Gültepe</td>\n",
       "      <td>Boş</td>\n",
       "      <td>Kat İrtifakı</td>\n",
       "      <td>Hayır</td>\n",
       "      <td>Uygun</td>\n",
       "      <td>Eşyalı Değil</td>\n",
       "      <td>https://www.hepsiemlak.com/adana-saricam-gulte...</td>\n",
       "    </tr>\n",
       "    <tr>\n",
       "      <th>2392</th>\n",
       "      <td>POYRAZ EMLAKTAN YENİ YIL KELEPİRİ ACİL SATILIK...</td>\n",
       "      <td>1075000</td>\n",
       "      <td>Satılık Daire</td>\n",
       "      <td>40</td>\n",
       "      <td>35</td>\n",
       "      <td>1</td>\n",
       "      <td>1</td>\n",
       "      <td>1</td>\n",
       "      <td>Isıtma Yok</td>\n",
       "      <td>11</td>\n",
       "      <td>...</td>\n",
       "      <td>0</td>\n",
       "      <td>Adana</td>\n",
       "      <td>Sarıçam</td>\n",
       "      <td>Gültepe</td>\n",
       "      <td>Boş</td>\n",
       "      <td>Kat İrtifakı</td>\n",
       "      <td>Hayır</td>\n",
       "      <td>Uygun</td>\n",
       "      <td>Eşyalı Değil</td>\n",
       "      <td>https://www.hepsiemlak.com/adana-saricam-gulte...</td>\n",
       "    </tr>\n",
       "    <tr>\n",
       "      <th>2719</th>\n",
       "      <td>SARICAM DA YATAY MİMARİ İŞÇİLİKLİ 1+1 KONSEPT ...</td>\n",
       "      <td>1155000</td>\n",
       "      <td>Satılık Daire</td>\n",
       "      <td>40</td>\n",
       "      <td>35</td>\n",
       "      <td>1</td>\n",
       "      <td>1</td>\n",
       "      <td>1</td>\n",
       "      <td>Kombi</td>\n",
       "      <td>4</td>\n",
       "      <td>...</td>\n",
       "      <td>0</td>\n",
       "      <td>Adana</td>\n",
       "      <td>Sarıçam</td>\n",
       "      <td>Gültepe</td>\n",
       "      <td>Boş</td>\n",
       "      <td>Kat İrtifakı</td>\n",
       "      <td>Hayır</td>\n",
       "      <td>Uygun</td>\n",
       "      <td>Eşyalı Değil</td>\n",
       "      <td>https://www.hepsiemlak.com/adana-saricam-gulte...</td>\n",
       "    </tr>\n",
       "    <tr>\n",
       "      <th>2728</th>\n",
       "      <td>Sarıçamda Yatırım Fırsatı: 1+1 Daire Cadde Üze...</td>\n",
       "      <td>1375000</td>\n",
       "      <td>Satılık Daire</td>\n",
       "      <td>40</td>\n",
       "      <td>30</td>\n",
       "      <td>1</td>\n",
       "      <td>1</td>\n",
       "      <td>1</td>\n",
       "      <td>Isıtma Yok</td>\n",
       "      <td>9</td>\n",
       "      <td>...</td>\n",
       "      <td>0</td>\n",
       "      <td>Adana</td>\n",
       "      <td>Sarıçam</td>\n",
       "      <td>Osmangazi</td>\n",
       "      <td>Boş</td>\n",
       "      <td>Kat İrtifakı</td>\n",
       "      <td>Bilgi yok</td>\n",
       "      <td>Uygun değil</td>\n",
       "      <td>Eşyalı Değil</td>\n",
       "      <td>https://www.hepsiemlak.com/adana-saricam-osman...</td>\n",
       "    </tr>\n",
       "    <tr>\n",
       "      <th>3126</th>\n",
       "      <td>TURGUT ÖZAL BULVAR ÜZERİNDE SİTE İÇİNDE ÇOK CA...</td>\n",
       "      <td>1100000</td>\n",
       "      <td>Satılık Daire</td>\n",
       "      <td>40</td>\n",
       "      <td>30</td>\n",
       "      <td>1</td>\n",
       "      <td>1</td>\n",
       "      <td>1</td>\n",
       "      <td>Isıtma Yok</td>\n",
       "      <td>0</td>\n",
       "      <td>...</td>\n",
       "      <td>25</td>\n",
       "      <td>Adana</td>\n",
       "      <td>Çukurova</td>\n",
       "      <td>Mahfesığmaz</td>\n",
       "      <td>Kiracılı</td>\n",
       "      <td>Kat Mülkiyeti</td>\n",
       "      <td>Evet</td>\n",
       "      <td>Uygun</td>\n",
       "      <td>Eşyalı</td>\n",
       "      <td>https://www.hepsiemlak.com/adana-cukurova-mahf...</td>\n",
       "    </tr>\n",
       "    <tr>\n",
       "      <th>3675</th>\n",
       "      <td>Kardeş Emlak Yatırımlık Yeni Biten 1+1 İçi Yap...</td>\n",
       "      <td>1480000</td>\n",
       "      <td>Satılık Daire</td>\n",
       "      <td>40</td>\n",
       "      <td>35</td>\n",
       "      <td>1</td>\n",
       "      <td>1</td>\n",
       "      <td>1</td>\n",
       "      <td>Klimalı</td>\n",
       "      <td>10</td>\n",
       "      <td>...</td>\n",
       "      <td>0</td>\n",
       "      <td>Adana</td>\n",
       "      <td>Sarıçam</td>\n",
       "      <td>Gültepe</td>\n",
       "      <td>Mülk Sahibi Oturuyor</td>\n",
       "      <td>Kat Mülkiyeti</td>\n",
       "      <td>Yok</td>\n",
       "      <td>Krediye Uygun</td>\n",
       "      <td>Boş</td>\n",
       "      <td>https://www.emlakjet.com/ilan/kardes-emlak-yat...</td>\n",
       "    </tr>\n",
       "    <tr>\n",
       "      <th>3796</th>\n",
       "      <td>Hakem Emlak'tan Sarıçam Gültepe'de 1+1 Özel İş...</td>\n",
       "      <td>1350000</td>\n",
       "      <td>Satılık Daire</td>\n",
       "      <td>40</td>\n",
       "      <td>35</td>\n",
       "      <td>1</td>\n",
       "      <td>1</td>\n",
       "      <td>1</td>\n",
       "      <td>Isıtma Yok</td>\n",
       "      <td>3</td>\n",
       "      <td>...</td>\n",
       "      <td>0</td>\n",
       "      <td>Adana</td>\n",
       "      <td>Sarıçam</td>\n",
       "      <td>Gültepe</td>\n",
       "      <td>Boş</td>\n",
       "      <td>Kat İrtifakı</td>\n",
       "      <td>Yok</td>\n",
       "      <td>Krediye Uygun</td>\n",
       "      <td>Bilgi yok</td>\n",
       "      <td>https://www.emlakjet.com/ilan/hakem-emlak-tan-...</td>\n",
       "    </tr>\n",
       "    <tr>\n",
       "      <th>3797</th>\n",
       "      <td>Hakem Emlak'tan Sarıçam Gültepe'de Site İçeris...</td>\n",
       "      <td>1275000</td>\n",
       "      <td>Satılık Daire</td>\n",
       "      <td>40</td>\n",
       "      <td>32</td>\n",
       "      <td>1</td>\n",
       "      <td>1</td>\n",
       "      <td>1</td>\n",
       "      <td>Isıtma Yok</td>\n",
       "      <td>4</td>\n",
       "      <td>...</td>\n",
       "      <td>0</td>\n",
       "      <td>Adana</td>\n",
       "      <td>Sarıçam</td>\n",
       "      <td>Gültepe</td>\n",
       "      <td>Boş</td>\n",
       "      <td>Kat İrtifakı</td>\n",
       "      <td>Yok</td>\n",
       "      <td>Krediye Uygun</td>\n",
       "      <td>Bilgi yok</td>\n",
       "      <td>https://www.emlakjet.com/ilan/hakem-emlak-tan-...</td>\n",
       "    </tr>\n",
       "    <tr>\n",
       "      <th>3818</th>\n",
       "      <td>Bazı Evler Adresinizi, Bazı Evler Yaşantınızı ...</td>\n",
       "      <td>2250000</td>\n",
       "      <td>Satılık Daire</td>\n",
       "      <td>40</td>\n",
       "      <td>35</td>\n",
       "      <td>1</td>\n",
       "      <td>1</td>\n",
       "      <td>1</td>\n",
       "      <td>Kombi</td>\n",
       "      <td>1</td>\n",
       "      <td>...</td>\n",
       "      <td>0</td>\n",
       "      <td>Adana</td>\n",
       "      <td>Seyhan</td>\n",
       "      <td>Aydınlar</td>\n",
       "      <td>Boş</td>\n",
       "      <td>Kat Mülkiyeti</td>\n",
       "      <td>Var</td>\n",
       "      <td>Krediye Uygun</td>\n",
       "      <td>Boş</td>\n",
       "      <td>https://www.emlakjet.com/ilan/bazi-evler-adres...</td>\n",
       "    </tr>\n",
       "    <tr>\n",
       "      <th>3886</th>\n",
       "      <td>Sahibinden Satılık 1+1 Sıfır</td>\n",
       "      <td>1250000</td>\n",
       "      <td>Satılık Daire</td>\n",
       "      <td>40</td>\n",
       "      <td>35</td>\n",
       "      <td>1</td>\n",
       "      <td>1</td>\n",
       "      <td>1</td>\n",
       "      <td>Isıtma Yok</td>\n",
       "      <td>7</td>\n",
       "      <td>...</td>\n",
       "      <td>0</td>\n",
       "      <td>Adana</td>\n",
       "      <td>Sarıçam</td>\n",
       "      <td>Gültepe</td>\n",
       "      <td>Boş</td>\n",
       "      <td>Kat İrtifakı</td>\n",
       "      <td>Yok</td>\n",
       "      <td>Krediye Uygun</td>\n",
       "      <td>Boş</td>\n",
       "      <td>https://www.emlakjet.com/ilan/sahibinden-satil...</td>\n",
       "    </tr>\n",
       "    <tr>\n",
       "      <th>4001</th>\n",
       "      <td>Amaç'dan Mavi Blv Kasım Sacıde Civ Yüksek Gira...</td>\n",
       "      <td>1390000</td>\n",
       "      <td>Satılık Daire</td>\n",
       "      <td>40</td>\n",
       "      <td>30</td>\n",
       "      <td>1</td>\n",
       "      <td>1</td>\n",
       "      <td>1</td>\n",
       "      <td>Klimalı</td>\n",
       "      <td>1</td>\n",
       "      <td>...</td>\n",
       "      <td>13</td>\n",
       "      <td>Adana</td>\n",
       "      <td>Seyhan</td>\n",
       "      <td>Yeşilyurt</td>\n",
       "      <td>Boş</td>\n",
       "      <td>Kat Mülkiyeti</td>\n",
       "      <td>Bilgi yok</td>\n",
       "      <td>Bilinmiyor</td>\n",
       "      <td>Bilgi yok</td>\n",
       "      <td>https://www.emlakjet.com/ilan/amac-dan-mavi-bl...</td>\n",
       "    </tr>\n",
       "    <tr>\n",
       "      <th>4120</th>\n",
       "      <td>Çukurova Güzelyalı Mahallesinde 1+1 Satılık Daire</td>\n",
       "      <td>2350000</td>\n",
       "      <td>Satılık Daire</td>\n",
       "      <td>40</td>\n",
       "      <td>30</td>\n",
       "      <td>1</td>\n",
       "      <td>1</td>\n",
       "      <td>1</td>\n",
       "      <td>Klimalı</td>\n",
       "      <td>3</td>\n",
       "      <td>...</td>\n",
       "      <td>9</td>\n",
       "      <td>Adana</td>\n",
       "      <td>Çukurova</td>\n",
       "      <td>Güzelyalı</td>\n",
       "      <td>Kiracı Oturuyor</td>\n",
       "      <td>Kat Mülkiyeti</td>\n",
       "      <td>Bilgi yok</td>\n",
       "      <td>Bilinmiyor</td>\n",
       "      <td>Bilgi yok</td>\n",
       "      <td>https://www.emlakjet.com/ilan/cukurova-guzelya...</td>\n",
       "    </tr>\n",
       "    <tr>\n",
       "      <th>4294</th>\n",
       "      <td>Ful Eşyalı 1+1 Merkezi Yerde turgut Özal Blv r...</td>\n",
       "      <td>1599000</td>\n",
       "      <td>Satılık Daire</td>\n",
       "      <td>40</td>\n",
       "      <td>30</td>\n",
       "      <td>1</td>\n",
       "      <td>1</td>\n",
       "      <td>1</td>\n",
       "      <td>Klimalı</td>\n",
       "      <td>0</td>\n",
       "      <td>...</td>\n",
       "      <td>22</td>\n",
       "      <td>Adana</td>\n",
       "      <td>Çukurova</td>\n",
       "      <td>Belediye Evleri</td>\n",
       "      <td>Boş</td>\n",
       "      <td>Kat İrtifakı</td>\n",
       "      <td>Yok</td>\n",
       "      <td>Krediye Uygun</td>\n",
       "      <td>Eşyalı</td>\n",
       "      <td>https://www.emlakjet.com/ilan/ful-esyali-11-me...</td>\n",
       "    </tr>\n",
       "    <tr>\n",
       "      <th>4308</th>\n",
       "      <td>Fuul Eşyalı 1+1  Valilik Civarında Çarşı Merke...</td>\n",
       "      <td>1349000</td>\n",
       "      <td>Satılık Daire</td>\n",
       "      <td>40</td>\n",
       "      <td>30</td>\n",
       "      <td>1</td>\n",
       "      <td>1</td>\n",
       "      <td>1</td>\n",
       "      <td>Klimalı</td>\n",
       "      <td>0</td>\n",
       "      <td>...</td>\n",
       "      <td>22</td>\n",
       "      <td>Adana</td>\n",
       "      <td>Seyhan</td>\n",
       "      <td>Döşeme</td>\n",
       "      <td>Kiracı Oturuyor</td>\n",
       "      <td>Kat Mülkiyeti</td>\n",
       "      <td>Bilgi yok</td>\n",
       "      <td>Krediye Uygun</td>\n",
       "      <td>Bilgi yok</td>\n",
       "      <td>https://www.emlakjet.com/ilan/fuul-esyali-11-v...</td>\n",
       "    </tr>\n",
       "    <tr>\n",
       "      <th>4415</th>\n",
       "      <td>Kardeş Emlak Dan İskanlı Yatırımlık 1+1 Eşyalı...</td>\n",
       "      <td>1195000</td>\n",
       "      <td>Satılık Daire</td>\n",
       "      <td>40</td>\n",
       "      <td>35</td>\n",
       "      <td>1</td>\n",
       "      <td>1</td>\n",
       "      <td>1</td>\n",
       "      <td>Klimalı</td>\n",
       "      <td>2</td>\n",
       "      <td>...</td>\n",
       "      <td>4</td>\n",
       "      <td>Adana</td>\n",
       "      <td>Sarıçam</td>\n",
       "      <td>Gültepe</td>\n",
       "      <td>Kiracı Oturuyor</td>\n",
       "      <td>Kat Mülkiyeti</td>\n",
       "      <td>Yok</td>\n",
       "      <td>Krediye Uygun</td>\n",
       "      <td>Eşyalı</td>\n",
       "      <td>https://www.emlakjet.com/ilan/kardes-emlak-dan...</td>\n",
       "    </tr>\n",
       "    <tr>\n",
       "      <th>4491</th>\n",
       "      <td>Çatalan Bulvarı Üzeri Yüksek Kredili 1+1</td>\n",
       "      <td>1425000</td>\n",
       "      <td>Satılık Daire</td>\n",
       "      <td>40</td>\n",
       "      <td>38</td>\n",
       "      <td>1</td>\n",
       "      <td>1</td>\n",
       "      <td>1</td>\n",
       "      <td>Kombi</td>\n",
       "      <td>10</td>\n",
       "      <td>...</td>\n",
       "      <td>2</td>\n",
       "      <td>Adana</td>\n",
       "      <td>Sarıçam</td>\n",
       "      <td>Gültepe</td>\n",
       "      <td>Boş</td>\n",
       "      <td>Kat Mülkiyeti</td>\n",
       "      <td>Yok</td>\n",
       "      <td>Krediye Uygun</td>\n",
       "      <td>Bilgi yok</td>\n",
       "      <td>https://www.emlakjet.com/ilan/catalan-bulvari-...</td>\n",
       "    </tr>\n",
       "    <tr>\n",
       "      <th>4554</th>\n",
       "      <td>Yüksek Kredi Catalan Bulvarı Üzeri 1+1</td>\n",
       "      <td>1425000</td>\n",
       "      <td>Satılık Daire</td>\n",
       "      <td>40</td>\n",
       "      <td>38</td>\n",
       "      <td>1</td>\n",
       "      <td>1</td>\n",
       "      <td>1</td>\n",
       "      <td>Kombi</td>\n",
       "      <td>10</td>\n",
       "      <td>...</td>\n",
       "      <td>2</td>\n",
       "      <td>Adana</td>\n",
       "      <td>Sarıçam</td>\n",
       "      <td>Gültepe</td>\n",
       "      <td>Boş</td>\n",
       "      <td>Kat Mülkiyeti</td>\n",
       "      <td>Yok</td>\n",
       "      <td>Krediye Uygun</td>\n",
       "      <td>Boş</td>\n",
       "      <td>https://www.emlakjet.com/ilan/yuksek-kredi-cat...</td>\n",
       "    </tr>\n",
       "    <tr>\n",
       "      <th>4999</th>\n",
       "      <td>Poyraz Emlaktan 1+1 Köşe Daire</td>\n",
       "      <td>1075000</td>\n",
       "      <td>Satılık Daire</td>\n",
       "      <td>40</td>\n",
       "      <td>33</td>\n",
       "      <td>1</td>\n",
       "      <td>1</td>\n",
       "      <td>1</td>\n",
       "      <td>Isıtma Yok</td>\n",
       "      <td>11</td>\n",
       "      <td>...</td>\n",
       "      <td>0</td>\n",
       "      <td>Adana</td>\n",
       "      <td>Sarıçam</td>\n",
       "      <td>Gültepe</td>\n",
       "      <td>Boş</td>\n",
       "      <td>Kat İrtifakı</td>\n",
       "      <td>Yok</td>\n",
       "      <td>Krediye Uygun</td>\n",
       "      <td>Boş</td>\n",
       "      <td>https://www.emlakjet.com/ilan/poyraz-emlaktan-...</td>\n",
       "    </tr>\n",
       "  </tbody>\n",
       "</table>\n",
       "<p>32 rows × 21 columns</p>\n",
       "</div>"
      ],
      "text/plain": [
       "                                      house_description  house_price  \\\n",
       "26    HAKEM EMLAK'TAN SARIÇAM GÜLTEPE'DE SİTE İÇERİS...      1275000   \n",
       "51    GÜLTEPE DE ÖZEL İŞÇİLİKLİ 1+1 REZİDANS YATAY M...      1250000   \n",
       "821     OSMANGAZIDE SATILIK YATIRIMLIK 1+1 FIRSAT DAİRE      1090000   \n",
       "837   ÇARKIPARE SOULMATE KARŞISINDA 1+1 ULTRA LÜKS D...      1650000   \n",
       "903                      STADYUM KARŞISINDA SATILIK 1+1      1650000   \n",
       "1033                             Sahibinden satılık 1+1      1250000   \n",
       "1355  ÇARKIPARE STADYUM CİVARINDA YÜKSEK KIRA GETİRİ...      1785000   \n",
       "1470  SARIÇAM ÇINARLI'DA 1+1 40 M2 GÜNEY-DOĞU CEPELİ...      1250000   \n",
       "1507  AKKUYU TOKİLERDE İÇİ YAPILMIŞ 1+1 DAİREMİZ SAT...      1000000   \n",
       "1706                     POYRAZ EMLAKTAN 1+1 KÖŞE DAİRE      1075000   \n",
       "1717  GÜLTEPE EN GUZEL YERİNDE PİRİM GARANTİLİ 1+1 S...      1135000   \n",
       "1899  HAKEM EMLAK'TAN SARIÇAM GÜLTEPE'DE 1+1 ÖZEL İŞ...      1350000   \n",
       "2173                SARIÇAM ALMA APT. 1+1 SATILIK DAİRE      1250000   \n",
       "2262  STADYUM KARŞISINDA SÜPER LOKASYON YÜKSEK KIRA ...      1675000   \n",
       "2358  BÖLGENİN EN CAZİP 1+1 DAİRESİ YATIRIM TAVSİYES...      1290000   \n",
       "2392  POYRAZ EMLAKTAN YENİ YIL KELEPİRİ ACİL SATILIK...      1075000   \n",
       "2719  SARICAM DA YATAY MİMARİ İŞÇİLİKLİ 1+1 KONSEPT ...      1155000   \n",
       "2728  Sarıçamda Yatırım Fırsatı: 1+1 Daire Cadde Üze...      1375000   \n",
       "3126  TURGUT ÖZAL BULVAR ÜZERİNDE SİTE İÇİNDE ÇOK CA...      1100000   \n",
       "3675  Kardeş Emlak Yatırımlık Yeni Biten 1+1 İçi Yap...      1480000   \n",
       "3796  Hakem Emlak'tan Sarıçam Gültepe'de 1+1 Özel İş...      1350000   \n",
       "3797  Hakem Emlak'tan Sarıçam Gültepe'de Site İçeris...      1275000   \n",
       "3818  Bazı Evler Adresinizi, Bazı Evler Yaşantınızı ...      2250000   \n",
       "3886                       Sahibinden Satılık 1+1 Sıfır      1250000   \n",
       "4001  Amaç'dan Mavi Blv Kasım Sacıde Civ Yüksek Gira...      1390000   \n",
       "4120  Çukurova Güzelyalı Mahallesinde 1+1 Satılık Daire      2350000   \n",
       "4294  Ful Eşyalı 1+1 Merkezi Yerde turgut Özal Blv r...      1599000   \n",
       "4308  Fuul Eşyalı 1+1  Valilik Civarında Çarşı Merke...      1349000   \n",
       "4415  Kardeş Emlak Dan İskanlı Yatırımlık 1+1 Eşyalı...      1195000   \n",
       "4491           Çatalan Bulvarı Üzeri Yüksek Kredili 1+1      1425000   \n",
       "4554             Yüksek Kredi Catalan Bulvarı Üzeri 1+1      1425000   \n",
       "4999                     Poyraz Emlaktan 1+1 Köşe Daire      1075000   \n",
       "\n",
       "      property_type  gross_area  net_area  room_count  living_room_count  \\\n",
       "26    Satılık Daire          40        32           1                  1   \n",
       "51    Satılık Daire          40        35           1                  1   \n",
       "821   Satılık Daire          40        35           1                  1   \n",
       "837   Satılık Daire          40        36           1                  1   \n",
       "903   Satılık Daire          40        30           1                  1   \n",
       "1033  Satılık Daire          40        35           1                  1   \n",
       "1355  Satılık Daire          40        38           1                  1   \n",
       "1470  Satılık Daire          40        30           1                  1   \n",
       "1507  Satılık Daire          40        35           1                  1   \n",
       "1706  Satılık Daire          40        33           1                  1   \n",
       "1717  Satılık Daire          40        30           1                  1   \n",
       "1899  Satılık Daire          40        35           1                  1   \n",
       "2173  Satılık Daire          40        35           1                  1   \n",
       "2262  Satılık Daire          40        35           1                  1   \n",
       "2358  Satılık Daire          40        35           1                  1   \n",
       "2392  Satılık Daire          40        35           1                  1   \n",
       "2719  Satılık Daire          40        35           1                  1   \n",
       "2728  Satılık Daire          40        30           1                  1   \n",
       "3126  Satılık Daire          40        30           1                  1   \n",
       "3675  Satılık Daire          40        35           1                  1   \n",
       "3796  Satılık Daire          40        35           1                  1   \n",
       "3797  Satılık Daire          40        32           1                  1   \n",
       "3818  Satılık Daire          40        35           1                  1   \n",
       "3886  Satılık Daire          40        35           1                  1   \n",
       "4001  Satılık Daire          40        30           1                  1   \n",
       "4120  Satılık Daire          40        30           1                  1   \n",
       "4294  Satılık Daire          40        30           1                  1   \n",
       "4308  Satılık Daire          40        30           1                  1   \n",
       "4415  Satılık Daire          40        35           1                  1   \n",
       "4491  Satılık Daire          40        38           1                  1   \n",
       "4554  Satılık Daire          40        38           1                  1   \n",
       "4999  Satılık Daire          40        33           1                  1   \n",
       "\n",
       "      bathroom_count     heating  floor_number  ...  building_age  province  \\\n",
       "26                 1  Isıtma Yok             4  ...             0     Adana   \n",
       "51                 1       Kombi             4  ...             0     Adana   \n",
       "821                1  Isıtma Yok            11  ...             0     Adana   \n",
       "837                1       Kombi             9  ...             0     Adana   \n",
       "903                1       Kombi             4  ...             0     Adana   \n",
       "1033               1  Isıtma Yok             7  ...             0     Adana   \n",
       "1355               1  Isıtma Yok             9  ...             0     Adana   \n",
       "1470               1  Isıtma Yok             3  ...             0     Adana   \n",
       "1507               1  Isıtma Yok             3  ...             5     Adana   \n",
       "1706               1  Isıtma Yok            11  ...             0     Adana   \n",
       "1717               1       Kombi             4  ...             0     Adana   \n",
       "1899               1  Isıtma Yok             3  ...             0     Adana   \n",
       "2173               1  Isıtma Yok             8  ...             0     Adana   \n",
       "2262               1       Kombi             1  ...             0     Adana   \n",
       "2358               1       Kombi             2  ...             0     Adana   \n",
       "2392               1  Isıtma Yok            11  ...             0     Adana   \n",
       "2719               1       Kombi             4  ...             0     Adana   \n",
       "2728               1  Isıtma Yok             9  ...             0     Adana   \n",
       "3126               1  Isıtma Yok             0  ...            25     Adana   \n",
       "3675               1     Klimalı            10  ...             0     Adana   \n",
       "3796               1  Isıtma Yok             3  ...             0     Adana   \n",
       "3797               1  Isıtma Yok             4  ...             0     Adana   \n",
       "3818               1       Kombi             1  ...             0     Adana   \n",
       "3886               1  Isıtma Yok             7  ...             0     Adana   \n",
       "4001               1     Klimalı             1  ...            13     Adana   \n",
       "4120               1     Klimalı             3  ...             9     Adana   \n",
       "4294               1     Klimalı             0  ...            22     Adana   \n",
       "4308               1     Klimalı             0  ...            22     Adana   \n",
       "4415               1     Klimalı             2  ...             4     Adana   \n",
       "4491               1       Kombi            10  ...             2     Adana   \n",
       "4554               1       Kombi            10  ...             2     Adana   \n",
       "4999               1  Isıtma Yok            11  ...             0     Adana   \n",
       "\n",
       "      district     neighborhood          usage_status    deed_status  \\\n",
       "26     Sarıçam          Gültepe                   Boş   Kat İrtifakı   \n",
       "51     Sarıçam          Gültepe                   Boş   Kat İrtifakı   \n",
       "821    Sarıçam        Osmangazi             Bilgi yok   Kat İrtifakı   \n",
       "837    Sarıçam        Çarkıpare                   Boş   Kat İrtifakı   \n",
       "903    Sarıçam        Çarkıpare                   Boş  Kat Mülkiyeti   \n",
       "1033   Sarıçam          Gültepe                   Boş   Kat İrtifakı   \n",
       "1355   Sarıçam        Çarkıpare                   Boş   Kat İrtifakı   \n",
       "1470   Sarıçam        Osmangazi                   Boş   Kat İrtifakı   \n",
       "1507   Sarıçam           Akkuyu                   Boş  Kat Mülkiyeti   \n",
       "1706   Sarıçam          Gültepe                   Boş   Kat İrtifakı   \n",
       "1717   Sarıçam          Gültepe                   Boş   Kat İrtifakı   \n",
       "1899   Sarıçam          Gültepe                   Boş   Kat İrtifakı   \n",
       "2173   Sarıçam          Gültepe              Kiracılı  Kat Mülkiyeti   \n",
       "2262   Sarıçam        Çarkıpare                   Boş   Kat İrtifakı   \n",
       "2358   Sarıçam          Gültepe                   Boş   Kat İrtifakı   \n",
       "2392   Sarıçam          Gültepe                   Boş   Kat İrtifakı   \n",
       "2719   Sarıçam          Gültepe                   Boş   Kat İrtifakı   \n",
       "2728   Sarıçam        Osmangazi                   Boş   Kat İrtifakı   \n",
       "3126  Çukurova      Mahfesığmaz              Kiracılı  Kat Mülkiyeti   \n",
       "3675   Sarıçam          Gültepe  Mülk Sahibi Oturuyor  Kat Mülkiyeti   \n",
       "3796   Sarıçam          Gültepe                   Boş   Kat İrtifakı   \n",
       "3797   Sarıçam          Gültepe                   Boş   Kat İrtifakı   \n",
       "3818    Seyhan         Aydınlar                   Boş  Kat Mülkiyeti   \n",
       "3886   Sarıçam          Gültepe                   Boş   Kat İrtifakı   \n",
       "4001    Seyhan        Yeşilyurt                   Boş  Kat Mülkiyeti   \n",
       "4120  Çukurova        Güzelyalı       Kiracı Oturuyor  Kat Mülkiyeti   \n",
       "4294  Çukurova  Belediye Evleri                   Boş   Kat İrtifakı   \n",
       "4308    Seyhan           Döşeme       Kiracı Oturuyor  Kat Mülkiyeti   \n",
       "4415   Sarıçam          Gültepe       Kiracı Oturuyor  Kat Mülkiyeti   \n",
       "4491   Sarıçam          Gültepe                   Boş  Kat Mülkiyeti   \n",
       "4554   Sarıçam          Gültepe                   Boş  Kat Mülkiyeti   \n",
       "4999   Sarıçam          Gültepe                   Boş   Kat İrtifakı   \n",
       "\n",
       "       exchange credit_eligible     furnished  \\\n",
       "26    Bilgi yok           Uygun     Bilgi yok   \n",
       "51        Hayır           Uygun  Eşyalı Değil   \n",
       "821   Bilgi yok           Uygun     Bilgi yok   \n",
       "837       Hayır           Uygun  Eşyalı Değil   \n",
       "903        Evet           Uygun  Eşyalı Değil   \n",
       "1033      Hayır           Uygun  Eşyalı Değil   \n",
       "1355      Hayır           Uygun  Eşyalı Değil   \n",
       "1470      Hayır           Uygun  Eşyalı Değil   \n",
       "1507      Hayır     Uygun değil  Eşyalı Değil   \n",
       "1706      Hayır           Uygun  Eşyalı Değil   \n",
       "1717      Hayır           Uygun  Eşyalı Değil   \n",
       "1899  Bilgi yok           Uygun     Bilgi yok   \n",
       "2173      Hayır           Uygun     Bilgi yok   \n",
       "2262      Hayır           Uygun  Eşyalı Değil   \n",
       "2358      Hayır           Uygun  Eşyalı Değil   \n",
       "2392      Hayır           Uygun  Eşyalı Değil   \n",
       "2719      Hayır           Uygun  Eşyalı Değil   \n",
       "2728  Bilgi yok     Uygun değil  Eşyalı Değil   \n",
       "3126       Evet           Uygun        Eşyalı   \n",
       "3675        Yok   Krediye Uygun           Boş   \n",
       "3796        Yok   Krediye Uygun     Bilgi yok   \n",
       "3797        Yok   Krediye Uygun     Bilgi yok   \n",
       "3818        Var   Krediye Uygun           Boş   \n",
       "3886        Yok   Krediye Uygun           Boş   \n",
       "4001  Bilgi yok      Bilinmiyor     Bilgi yok   \n",
       "4120  Bilgi yok      Bilinmiyor     Bilgi yok   \n",
       "4294        Yok   Krediye Uygun        Eşyalı   \n",
       "4308  Bilgi yok   Krediye Uygun     Bilgi yok   \n",
       "4415        Yok   Krediye Uygun        Eşyalı   \n",
       "4491        Yok   Krediye Uygun     Bilgi yok   \n",
       "4554        Yok   Krediye Uygun           Boş   \n",
       "4999        Yok   Krediye Uygun           Boş   \n",
       "\n",
       "                                              house_url  \n",
       "26    https://www.hepsiemlak.com/adana-saricam-gulte...  \n",
       "51    https://www.hepsiemlak.com/adana-saricam-gulte...  \n",
       "821   https://www.hepsiemlak.com/adana-saricam-osman...  \n",
       "837   https://www.hepsiemlak.com/adana-saricam-carki...  \n",
       "903   https://www.hepsiemlak.com/adana-saricam-carki...  \n",
       "1033  https://www.hepsiemlak.com/adana-saricam-gulte...  \n",
       "1355  https://www.hepsiemlak.com/adana-saricam-carki...  \n",
       "1470  https://www.hepsiemlak.com/adana-saricam-osman...  \n",
       "1507  https://www.hepsiemlak.com/adana-saricam-akkuy...  \n",
       "1706  https://www.hepsiemlak.com/adana-saricam-gulte...  \n",
       "1717  https://www.hepsiemlak.com/adana-saricam-gulte...  \n",
       "1899  https://www.hepsiemlak.com/adana-saricam-gulte...  \n",
       "2173  https://www.hepsiemlak.com/adana-saricam-gulte...  \n",
       "2262  https://www.hepsiemlak.com/adana-saricam-carki...  \n",
       "2358  https://www.hepsiemlak.com/adana-saricam-gulte...  \n",
       "2392  https://www.hepsiemlak.com/adana-saricam-gulte...  \n",
       "2719  https://www.hepsiemlak.com/adana-saricam-gulte...  \n",
       "2728  https://www.hepsiemlak.com/adana-saricam-osman...  \n",
       "3126  https://www.hepsiemlak.com/adana-cukurova-mahf...  \n",
       "3675  https://www.emlakjet.com/ilan/kardes-emlak-yat...  \n",
       "3796  https://www.emlakjet.com/ilan/hakem-emlak-tan-...  \n",
       "3797  https://www.emlakjet.com/ilan/hakem-emlak-tan-...  \n",
       "3818  https://www.emlakjet.com/ilan/bazi-evler-adres...  \n",
       "3886  https://www.emlakjet.com/ilan/sahibinden-satil...  \n",
       "4001  https://www.emlakjet.com/ilan/amac-dan-mavi-bl...  \n",
       "4120  https://www.emlakjet.com/ilan/cukurova-guzelya...  \n",
       "4294  https://www.emlakjet.com/ilan/ful-esyali-11-me...  \n",
       "4308  https://www.emlakjet.com/ilan/fuul-esyali-11-v...  \n",
       "4415  https://www.emlakjet.com/ilan/kardes-emlak-dan...  \n",
       "4491  https://www.emlakjet.com/ilan/catalan-bulvari-...  \n",
       "4554  https://www.emlakjet.com/ilan/yuksek-kredi-cat...  \n",
       "4999  https://www.emlakjet.com/ilan/poyraz-emlaktan-...  \n",
       "\n",
       "[32 rows x 21 columns]"
      ]
     },
     "execution_count": 106,
     "metadata": {},
     "output_type": "execute_result"
    }
   ],
   "source": [
    "df.loc[df[\"gross_area\"]==40]"
   ]
  },
  {
   "cell_type": "code",
   "execution_count": 107,
   "metadata": {},
   "outputs": [
    {
     "data": {
      "text/plain": [
       "Index(['house_description', 'house_price', 'property_type', 'gross_area',\n",
       "       'net_area', 'room_count', 'living_room_count', 'bathroom_count',\n",
       "       'heating', 'floor_number', 'total_floors', 'building_age', 'province',\n",
       "       'district', 'neighborhood', 'usage_status', 'deed_status', 'exchange',\n",
       "       'credit_eligible', 'furnished', 'house_url'],\n",
       "      dtype='object')"
      ]
     },
     "execution_count": 107,
     "metadata": {},
     "output_type": "execute_result"
    }
   ],
   "source": [
    "df.columns"
   ]
  },
  {
   "cell_type": "code",
   "execution_count": 108,
   "metadata": {},
   "outputs": [
    {
     "name": "stdout",
     "output_type": "stream",
     "text": [
      "<class 'pandas.core.frame.DataFrame'>\n",
      "Index: 5030 entries, 0 to 5033\n",
      "Data columns (total 21 columns):\n",
      " #   Column             Non-Null Count  Dtype   \n",
      "---  ------             --------------  -----   \n",
      " 0   house_description  5030 non-null   object  \n",
      " 1   house_price        5030 non-null   int64   \n",
      " 2   property_type      5030 non-null   category\n",
      " 3   gross_area         5030 non-null   int64   \n",
      " 4   net_area           5030 non-null   int64   \n",
      " 5   room_count         5030 non-null   int64   \n",
      " 6   living_room_count  5030 non-null   int64   \n",
      " 7   bathroom_count     5030 non-null   int64   \n",
      " 8   heating            5030 non-null   category\n",
      " 9   floor_number       5030 non-null   int64   \n",
      " 10  total_floors       5030 non-null   int64   \n",
      " 11  building_age       5030 non-null   int64   \n",
      " 12  province           5030 non-null   category\n",
      " 13  district           5030 non-null   category\n",
      " 14  neighborhood       5030 non-null   category\n",
      " 15  usage_status       5030 non-null   object  \n",
      " 16  deed_status        5030 non-null   object  \n",
      " 17  exchange           5030 non-null   object  \n",
      " 18  credit_eligible    5030 non-null   object  \n",
      " 19  furnished          5030 non-null   object  \n",
      " 20  house_url          5030 non-null   object  \n",
      "dtypes: category(5), int64(9), object(7)\n",
      "memory usage: 703.4+ KB\n"
     ]
    }
   ],
   "source": [
    "df.info()"
   ]
  },
  {
   "cell_type": "code",
   "execution_count": 109,
   "metadata": {},
   "outputs": [],
   "source": [
    "# Orijinal DataFrame'i değiştir\n",
    "df = df.drop_duplicates(subset=['house_price', 'property_type', 'gross_area',\n",
    "       'net_area', 'room_count', 'living_room_count', 'bathroom_count',\n",
    "       'heating', 'floor_number', 'total_floors', 'building_age', 'province',\n",
    "       'district', 'neighborhood', 'usage_status', 'deed_status', 'exchange',\n",
    "       'credit_eligible', 'furnished',], keep='first')"
   ]
  },
  {
   "cell_type": "code",
   "execution_count": 110,
   "metadata": {},
   "outputs": [
    {
     "name": "stdout",
     "output_type": "stream",
     "text": [
      "<class 'pandas.core.frame.DataFrame'>\n",
      "Index: 4922 entries, 0 to 5033\n",
      "Data columns (total 21 columns):\n",
      " #   Column             Non-Null Count  Dtype   \n",
      "---  ------             --------------  -----   \n",
      " 0   house_description  4922 non-null   object  \n",
      " 1   house_price        4922 non-null   int64   \n",
      " 2   property_type      4922 non-null   category\n",
      " 3   gross_area         4922 non-null   int64   \n",
      " 4   net_area           4922 non-null   int64   \n",
      " 5   room_count         4922 non-null   int64   \n",
      " 6   living_room_count  4922 non-null   int64   \n",
      " 7   bathroom_count     4922 non-null   int64   \n",
      " 8   heating            4922 non-null   category\n",
      " 9   floor_number       4922 non-null   int64   \n",
      " 10  total_floors       4922 non-null   int64   \n",
      " 11  building_age       4922 non-null   int64   \n",
      " 12  province           4922 non-null   category\n",
      " 13  district           4922 non-null   category\n",
      " 14  neighborhood       4922 non-null   category\n",
      " 15  usage_status       4922 non-null   object  \n",
      " 16  deed_status        4922 non-null   object  \n",
      " 17  exchange           4922 non-null   object  \n",
      " 18  credit_eligible    4922 non-null   object  \n",
      " 19  furnished          4922 non-null   object  \n",
      " 20  house_url          4922 non-null   object  \n",
      "dtypes: category(5), int64(9), object(7)\n",
      "memory usage: 688.5+ KB\n"
     ]
    }
   ],
   "source": [
    "df.info()"
   ]
  },
  {
   "cell_type": "code",
   "execution_count": 111,
   "metadata": {},
   "outputs": [
    {
     "data": {
      "text/plain": [
       "district\n",
       "Çukurova      1826\n",
       "Seyhan        1449\n",
       "Sarıçam       1320\n",
       "Kozan          109\n",
       "Yüreğir        108\n",
       "Karataş         39\n",
       "Yumurtalık      32\n",
       "Ceyhan          19\n",
       "Pozantı         14\n",
       "İmamoğlu         3\n",
       "Karaisalı        2\n",
       "Feke             1\n",
       "Name: count, dtype: int64"
      ]
     },
     "execution_count": 111,
     "metadata": {},
     "output_type": "execute_result"
    }
   ],
   "source": [
    "df[\"district\"].value_counts()   "
   ]
  },
  {
   "cell_type": "code",
   "execution_count": 112,
   "metadata": {},
   "outputs": [],
   "source": [
    "df_numeric = df.select_dtypes(include=[\"int64\"])"
   ]
  },
  {
   "cell_type": "code",
   "execution_count": 113,
   "metadata": {},
   "outputs": [],
   "source": [
    "import numpy as np\n",
    "from sklearn.neighbors import LocalOutlierFactor"
   ]
  },
  {
   "cell_type": "code",
   "execution_count": 114,
   "metadata": {},
   "outputs": [],
   "source": [
    "clf = LocalOutlierFactor(n_neighbors=50, contamination=0.04)"
   ]
  },
  {
   "cell_type": "code",
   "execution_count": 115,
   "metadata": {},
   "outputs": [
    {
     "data": {
      "text/plain": [
       "array([1, 1, 1, ..., 1, 1, 1], shape=(4922,))"
      ]
     },
     "execution_count": 115,
     "metadata": {},
     "output_type": "execute_result"
    }
   ],
   "source": [
    "clf.fit_predict(df_numeric)"
   ]
  },
  {
   "cell_type": "code",
   "execution_count": 116,
   "metadata": {},
   "outputs": [],
   "source": [
    "df_scores = clf.negative_outlier_factor_"
   ]
  },
  {
   "cell_type": "code",
   "execution_count": 117,
   "metadata": {},
   "outputs": [
    {
     "data": {
      "text/plain": [
       "array([  -1.00585903,   -0.95617774,   -1.1111579 ,   -0.98680901,\n",
       "         -0.98721196, -379.59041007,   -1.36842412,   -0.96306337,\n",
       "         -0.95752193,   -0.99431556])"
      ]
     },
     "execution_count": 117,
     "metadata": {},
     "output_type": "execute_result"
    }
   ],
   "source": [
    "df_scores[:10]"
   ]
  },
  {
   "cell_type": "code",
   "execution_count": 118,
   "metadata": {},
   "outputs": [
    {
     "data": {
      "text/plain": [
       "array([-860.89541012, -733.70256043, -456.03065953, ...,   -0.94572201,\n",
       "         -0.94572201,   -0.94570618], shape=(4922,))"
      ]
     },
     "execution_count": 118,
     "metadata": {},
     "output_type": "execute_result"
    }
   ],
   "source": [
    "np.sort(df_scores)"
   ]
  },
  {
   "cell_type": "code",
   "execution_count": 119,
   "metadata": {},
   "outputs": [
    {
     "data": {
      "image/png": "[encoded data removed]",
      "text/plain": [
       "<Figure size 1800x1000 with 5 Axes>"
      ]
     },
     "metadata": {},
     "output_type": "display_data"
    },
    {
     "data": {
      "text/html": [
       "<pre style=\"white-space:pre;overflow-x:auto;line-height:normal;font-family:Menlo,'DejaVu Sans Mono',consolas,'Courier New',monospace\">Eşik değeri <span style=\"color: #008080; text-decoration-color: #008080; font-weight: bold\">-1.1</span> için aykırı değer sayısı: <span style=\"color: #008080; text-decoration-color: #008080; font-weight: bold\">1325</span>\n",
       "</pre>\n"
      ],
      "text/plain": [
       "Eşik değeri \u001b[1;36m-1.1\u001b[0m için aykırı değer sayısı: \u001b[1;36m1325\u001b[0m\n"
      ]
     },
     "metadata": {},
     "output_type": "display_data"
    },
    {
     "data": {
      "text/html": [
       "<pre style=\"white-space:pre;overflow-x:auto;line-height:normal;font-family:Menlo,'DejaVu Sans Mono',consolas,'Courier New',monospace\">Toplam verinin %<span style=\"color: #008080; text-decoration-color: #008080; font-weight: bold\">26.92</span>'i\n",
       "</pre>\n"
      ],
      "text/plain": [
       "Toplam verinin %\u001b[1;36m26.92\u001b[0m'i\n"
      ]
     },
     "metadata": {},
     "output_type": "display_data"
    }
   ],
   "source": [
    "import matplotlib.pyplot as plt\n",
    "import seaborn as sns\n",
    "import numpy as np\n",
    "\n",
    "# Figure boyutunu ayarla\n",
    "plt.figure(figsize=(18, 10))\n",
    "\n",
    "# 1. Sıralanmış LOF skorları - Elbow Curve\n",
    "plt.subplot(2, 2, 1)\n",
    "sorted_scores = np.sort(df_scores)\n",
    "plt.plot(sorted_scores, 'b-', linewidth=2)\n",
    "plt.axhline(y=-2, color='r', linestyle='--', label='Yeni Eşik Değeri (-2.0)')\n",
    "plt.title('Sıralanmış LOF Skorları (Elbow Curve)', fontsize=14)\n",
    "plt.xlabel('Veri Noktası İndeksi', fontsize=12)\n",
    "plt.ylabel('LOF Skoru', fontsize=12)\n",
    "plt.grid(True, alpha=0.3)\n",
    "plt.legend()\n",
    "\n",
    "# 2. LOF Skorlarının Histogramı\n",
    "plt.subplot(2, 2, 2)\n",
    "sns.histplot(df_scores, bins=50, kde=True)\n",
    "plt.axvline(x=-2, color='r', linestyle='--', label='Yeni Eşik Değeri (-2.0)')\n",
    "plt.title('LOF Skorlarının Histogramı', fontsize=14)\n",
    "plt.xlabel('LOF Skoru', fontsize=12)\n",
    "plt.ylabel('Frekans', fontsize=12)\n",
    "plt.grid(True, alpha=0.3)\n",
    "plt.legend()\n",
    "\n",
    "# 3. Box Plot\n",
    "plt.subplot(2, 2, 3)\n",
    "sns.boxplot(y=df_scores)\n",
    "plt.axhline(y=-2, color='r', linestyle='--', label='Yeni Eşik Değeri (-2.0)')\n",
    "plt.title('LOF Skorları Box Plot', fontsize=14)\n",
    "plt.ylabel('LOF Skoru', fontsize=12)\n",
    "plt.grid(True, alpha=0.3)\n",
    "plt.legend()\n",
    "\n",
    "# 4. Scatter Plot - Nokta büyüklüğü LOF skoruna göre\n",
    "plt.subplot(2, 2, 4)\n",
    "# Skorları 0-1 arasına normalize et (scatter plot için)\n",
    "normalized_scores = (df_scores - df_scores.min()) / (df_scores.max() - df_scores.min())\n",
    "sizes = 50 * (1 - normalized_scores)  # Daha düşük skor = daha büyük nokta\n",
    "\n",
    "# İndeks değerlerini x, skorları y ekseninde göster\n",
    "plt.scatter(range(len(df_scores)), df_scores, s=sizes, alpha=0.7, \n",
    "            c=df_scores, cmap='viridis')\n",
    "plt.axhline(y=-2, color='r', linestyle='--', label='Yeni Eşik Değeri (-2.0)')\n",
    "plt.colorbar(label='LOF Skoru')\n",
    "plt.title('LOF Skorları Nokta Grafiği', fontsize=14)\n",
    "plt.xlabel('Veri Noktası İndeksi', fontsize=12)\n",
    "plt.ylabel('LOF Skoru', fontsize=12)\n",
    "plt.grid(True, alpha=0.3)\n",
    "plt.legend()\n",
    "\n",
    "plt.tight_layout()\n",
    "plt.show()\n",
    "\n",
    "# Bonus: Aykırı değerlerin belirlenmesi\n",
    "threshold = -1.1 # Yeni eşik değeri\n",
    "outliers = df_scores < threshold\n",
    "print(f\"Eşik değeri {threshold} için aykırı değer sayısı: {outliers.sum()}\")\n",
    "print(f\"Toplam verinin %{outliers.sum() / len(df_scores) * 100:.2f}'i\")"
   ]
  },
  {
   "cell_type": "code",
   "execution_count": 120,
   "metadata": {},
   "outputs": [
    {
     "data": {
      "text/html": [
       "<pre style=\"white-space:pre;overflow-x:auto;line-height:normal;font-family:Menlo,'DejaVu Sans Mono',consolas,'Courier New',monospace\"><span style=\"color: #808000; text-decoration-color: #808000\">contamination</span>=<span style=\"color: #008080; text-decoration-color: #008080; font-weight: bold\">0.01</span>, <span style=\"color: #808000; text-decoration-color: #808000\">n_neighbors</span>=<span style=\"color: #008080; text-decoration-color: #008080; font-weight: bold\">20</span>: <span style=\"color: #008080; text-decoration-color: #008080; font-weight: bold\">50</span> aykırı değer\n",
       "</pre>\n"
      ],
      "text/plain": [
       "\u001b[33mcontamination\u001b[0m=\u001b[1;36m0\u001b[0m\u001b[1;36m.01\u001b[0m, \u001b[33mn_neighbors\u001b[0m=\u001b[1;36m20\u001b[0m: \u001b[1;36m50\u001b[0m aykırı değer\n"
      ]
     },
     "metadata": {},
     "output_type": "display_data"
    },
    {
     "data": {
      "text/html": [
       "<pre style=\"white-space:pre;overflow-x:auto;line-height:normal;font-family:Menlo,'DejaVu Sans Mono',consolas,'Courier New',monospace\"><span style=\"color: #808000; text-decoration-color: #808000\">contamination</span>=<span style=\"color: #008080; text-decoration-color: #008080; font-weight: bold\">0.01</span>, <span style=\"color: #808000; text-decoration-color: #808000\">n_neighbors</span>=<span style=\"color: #008080; text-decoration-color: #008080; font-weight: bold\">30</span>: <span style=\"color: #008080; text-decoration-color: #008080; font-weight: bold\">50</span> aykırı değer\n",
       "</pre>\n"
      ],
      "text/plain": [
       "\u001b[33mcontamination\u001b[0m=\u001b[1;36m0\u001b[0m\u001b[1;36m.01\u001b[0m, \u001b[33mn_neighbors\u001b[0m=\u001b[1;36m30\u001b[0m: \u001b[1;36m50\u001b[0m aykırı değer\n"
      ]
     },
     "metadata": {},
     "output_type": "display_data"
    },
    {
     "data": {
      "text/html": [
       "<pre style=\"white-space:pre;overflow-x:auto;line-height:normal;font-family:Menlo,'DejaVu Sans Mono',consolas,'Courier New',monospace\"><span style=\"color: #808000; text-decoration-color: #808000\">contamination</span>=<span style=\"color: #008080; text-decoration-color: #008080; font-weight: bold\">0.01</span>, <span style=\"color: #808000; text-decoration-color: #808000\">n_neighbors</span>=<span style=\"color: #008080; text-decoration-color: #008080; font-weight: bold\">40</span>: <span style=\"color: #008080; text-decoration-color: #008080; font-weight: bold\">50</span> aykırı değer\n",
       "</pre>\n"
      ],
      "text/plain": [
       "\u001b[33mcontamination\u001b[0m=\u001b[1;36m0\u001b[0m\u001b[1;36m.01\u001b[0m, \u001b[33mn_neighbors\u001b[0m=\u001b[1;36m40\u001b[0m: \u001b[1;36m50\u001b[0m aykırı değer\n"
      ]
     },
     "metadata": {},
     "output_type": "display_data"
    },
    {
     "data": {
      "text/html": [
       "<pre style=\"white-space:pre;overflow-x:auto;line-height:normal;font-family:Menlo,'DejaVu Sans Mono',consolas,'Courier New',monospace\"><span style=\"color: #808000; text-decoration-color: #808000\">contamination</span>=<span style=\"color: #008080; text-decoration-color: #008080; font-weight: bold\">0.01</span>, <span style=\"color: #808000; text-decoration-color: #808000\">n_neighbors</span>=<span style=\"color: #008080; text-decoration-color: #008080; font-weight: bold\">50</span>: <span style=\"color: #008080; text-decoration-color: #008080; font-weight: bold\">50</span> aykırı değer\n",
       "</pre>\n"
      ],
      "text/plain": [
       "\u001b[33mcontamination\u001b[0m=\u001b[1;36m0\u001b[0m\u001b[1;36m.01\u001b[0m, \u001b[33mn_neighbors\u001b[0m=\u001b[1;36m50\u001b[0m: \u001b[1;36m50\u001b[0m aykırı değer\n"
      ]
     },
     "metadata": {},
     "output_type": "display_data"
    },
    {
     "data": {
      "text/html": [
       "<pre style=\"white-space:pre;overflow-x:auto;line-height:normal;font-family:Menlo,'DejaVu Sans Mono',consolas,'Courier New',monospace\"><span style=\"color: #808000; text-decoration-color: #808000\">contamination</span>=<span style=\"color: #008080; text-decoration-color: #008080; font-weight: bold\">0.01</span>, <span style=\"color: #808000; text-decoration-color: #808000\">n_neighbors</span>=<span style=\"color: #008080; text-decoration-color: #008080; font-weight: bold\">60</span>: <span style=\"color: #008080; text-decoration-color: #008080; font-weight: bold\">50</span> aykırı değer\n",
       "</pre>\n"
      ],
      "text/plain": [
       "\u001b[33mcontamination\u001b[0m=\u001b[1;36m0\u001b[0m\u001b[1;36m.01\u001b[0m, \u001b[33mn_neighbors\u001b[0m=\u001b[1;36m60\u001b[0m: \u001b[1;36m50\u001b[0m aykırı değer\n"
      ]
     },
     "metadata": {},
     "output_type": "display_data"
    },
    {
     "data": {
      "text/html": [
       "<pre style=\"white-space:pre;overflow-x:auto;line-height:normal;font-family:Menlo,'DejaVu Sans Mono',consolas,'Courier New',monospace\"><span style=\"color: #808000; text-decoration-color: #808000\">contamination</span>=<span style=\"color: #008080; text-decoration-color: #008080; font-weight: bold\">0.01</span>, <span style=\"color: #808000; text-decoration-color: #808000\">n_neighbors</span>=<span style=\"color: #008080; text-decoration-color: #008080; font-weight: bold\">70</span>: <span style=\"color: #008080; text-decoration-color: #008080; font-weight: bold\">50</span> aykırı değer\n",
       "</pre>\n"
      ],
      "text/plain": [
       "\u001b[33mcontamination\u001b[0m=\u001b[1;36m0\u001b[0m\u001b[1;36m.01\u001b[0m, \u001b[33mn_neighbors\u001b[0m=\u001b[1;36m70\u001b[0m: \u001b[1;36m50\u001b[0m aykırı değer\n"
      ]
     },
     "metadata": {},
     "output_type": "display_data"
    },
    {
     "data": {
      "text/html": [
       "<pre style=\"white-space:pre;overflow-x:auto;line-height:normal;font-family:Menlo,'DejaVu Sans Mono',consolas,'Courier New',monospace\"><span style=\"color: #808000; text-decoration-color: #808000\">contamination</span>=<span style=\"color: #008080; text-decoration-color: #008080; font-weight: bold\">0.02</span>, <span style=\"color: #808000; text-decoration-color: #808000\">n_neighbors</span>=<span style=\"color: #008080; text-decoration-color: #008080; font-weight: bold\">20</span>: <span style=\"color: #008080; text-decoration-color: #008080; font-weight: bold\">99</span> aykırı değer\n",
       "</pre>\n"
      ],
      "text/plain": [
       "\u001b[33mcontamination\u001b[0m=\u001b[1;36m0\u001b[0m\u001b[1;36m.02\u001b[0m, \u001b[33mn_neighbors\u001b[0m=\u001b[1;36m20\u001b[0m: \u001b[1;36m99\u001b[0m aykırı değer\n"
      ]
     },
     "metadata": {},
     "output_type": "display_data"
    },
    {
     "data": {
      "text/html": [
       "<pre style=\"white-space:pre;overflow-x:auto;line-height:normal;font-family:Menlo,'DejaVu Sans Mono',consolas,'Courier New',monospace\"><span style=\"color: #808000; text-decoration-color: #808000\">contamination</span>=<span style=\"color: #008080; text-decoration-color: #008080; font-weight: bold\">0.02</span>, <span style=\"color: #808000; text-decoration-color: #808000\">n_neighbors</span>=<span style=\"color: #008080; text-decoration-color: #008080; font-weight: bold\">30</span>: <span style=\"color: #008080; text-decoration-color: #008080; font-weight: bold\">99</span> aykırı değer\n",
       "</pre>\n"
      ],
      "text/plain": [
       "\u001b[33mcontamination\u001b[0m=\u001b[1;36m0\u001b[0m\u001b[1;36m.02\u001b[0m, \u001b[33mn_neighbors\u001b[0m=\u001b[1;36m30\u001b[0m: \u001b[1;36m99\u001b[0m aykırı değer\n"
      ]
     },
     "metadata": {},
     "output_type": "display_data"
    },
    {
     "data": {
      "text/html": [
       "<pre style=\"white-space:pre;overflow-x:auto;line-height:normal;font-family:Menlo,'DejaVu Sans Mono',consolas,'Courier New',monospace\"><span style=\"color: #808000; text-decoration-color: #808000\">contamination</span>=<span style=\"color: #008080; text-decoration-color: #008080; font-weight: bold\">0.02</span>, <span style=\"color: #808000; text-decoration-color: #808000\">n_neighbors</span>=<span style=\"color: #008080; text-decoration-color: #008080; font-weight: bold\">40</span>: <span style=\"color: #008080; text-decoration-color: #008080; font-weight: bold\">99</span> aykırı değer\n",
       "</pre>\n"
      ],
      "text/plain": [
       "\u001b[33mcontamination\u001b[0m=\u001b[1;36m0\u001b[0m\u001b[1;36m.02\u001b[0m, \u001b[33mn_neighbors\u001b[0m=\u001b[1;36m40\u001b[0m: \u001b[1;36m99\u001b[0m aykırı değer\n"
      ]
     },
     "metadata": {},
     "output_type": "display_data"
    },
    {
     "data": {
      "text/html": [
       "<pre style=\"white-space:pre;overflow-x:auto;line-height:normal;font-family:Menlo,'DejaVu Sans Mono',consolas,'Courier New',monospace\"><span style=\"color: #808000; text-decoration-color: #808000\">contamination</span>=<span style=\"color: #008080; text-decoration-color: #008080; font-weight: bold\">0.02</span>, <span style=\"color: #808000; text-decoration-color: #808000\">n_neighbors</span>=<span style=\"color: #008080; text-decoration-color: #008080; font-weight: bold\">50</span>: <span style=\"color: #008080; text-decoration-color: #008080; font-weight: bold\">99</span> aykırı değer\n",
       "</pre>\n"
      ],
      "text/plain": [
       "\u001b[33mcontamination\u001b[0m=\u001b[1;36m0\u001b[0m\u001b[1;36m.02\u001b[0m, \u001b[33mn_neighbors\u001b[0m=\u001b[1;36m50\u001b[0m: \u001b[1;36m99\u001b[0m aykırı değer\n"
      ]
     },
     "metadata": {},
     "output_type": "display_data"
    },
    {
     "data": {
      "text/html": [
       "<pre style=\"white-space:pre;overflow-x:auto;line-height:normal;font-family:Menlo,'DejaVu Sans Mono',consolas,'Courier New',monospace\"><span style=\"color: #808000; text-decoration-color: #808000\">contamination</span>=<span style=\"color: #008080; text-decoration-color: #008080; font-weight: bold\">0.02</span>, <span style=\"color: #808000; text-decoration-color: #808000\">n_neighbors</span>=<span style=\"color: #008080; text-decoration-color: #008080; font-weight: bold\">60</span>: <span style=\"color: #008080; text-decoration-color: #008080; font-weight: bold\">99</span> aykırı değer\n",
       "</pre>\n"
      ],
      "text/plain": [
       "\u001b[33mcontamination\u001b[0m=\u001b[1;36m0\u001b[0m\u001b[1;36m.02\u001b[0m, \u001b[33mn_neighbors\u001b[0m=\u001b[1;36m60\u001b[0m: \u001b[1;36m99\u001b[0m aykırı değer\n"
      ]
     },
     "metadata": {},
     "output_type": "display_data"
    },
    {
     "data": {
      "text/html": [
       "<pre style=\"white-space:pre;overflow-x:auto;line-height:normal;font-family:Menlo,'DejaVu Sans Mono',consolas,'Courier New',monospace\"><span style=\"color: #808000; text-decoration-color: #808000\">contamination</span>=<span style=\"color: #008080; text-decoration-color: #008080; font-weight: bold\">0.02</span>, <span style=\"color: #808000; text-decoration-color: #808000\">n_neighbors</span>=<span style=\"color: #008080; text-decoration-color: #008080; font-weight: bold\">70</span>: <span style=\"color: #008080; text-decoration-color: #008080; font-weight: bold\">99</span> aykırı değer\n",
       "</pre>\n"
      ],
      "text/plain": [
       "\u001b[33mcontamination\u001b[0m=\u001b[1;36m0\u001b[0m\u001b[1;36m.02\u001b[0m, \u001b[33mn_neighbors\u001b[0m=\u001b[1;36m70\u001b[0m: \u001b[1;36m99\u001b[0m aykırı değer\n"
      ]
     },
     "metadata": {},
     "output_type": "display_data"
    },
    {
     "data": {
      "text/html": [
       "<pre style=\"white-space:pre;overflow-x:auto;line-height:normal;font-family:Menlo,'DejaVu Sans Mono',consolas,'Courier New',monospace\"><span style=\"color: #808000; text-decoration-color: #808000\">contamination</span>=<span style=\"color: #008080; text-decoration-color: #008080; font-weight: bold\">0.03</span>, <span style=\"color: #808000; text-decoration-color: #808000\">n_neighbors</span>=<span style=\"color: #008080; text-decoration-color: #008080; font-weight: bold\">20</span>: <span style=\"color: #008080; text-decoration-color: #008080; font-weight: bold\">148</span> aykırı değer\n",
       "</pre>\n"
      ],
      "text/plain": [
       "\u001b[33mcontamination\u001b[0m=\u001b[1;36m0\u001b[0m\u001b[1;36m.03\u001b[0m, \u001b[33mn_neighbors\u001b[0m=\u001b[1;36m20\u001b[0m: \u001b[1;36m148\u001b[0m aykırı değer\n"
      ]
     },
     "metadata": {},
     "output_type": "display_data"
    },
    {
     "data": {
      "text/html": [
       "<pre style=\"white-space:pre;overflow-x:auto;line-height:normal;font-family:Menlo,'DejaVu Sans Mono',consolas,'Courier New',monospace\"><span style=\"color: #808000; text-decoration-color: #808000\">contamination</span>=<span style=\"color: #008080; text-decoration-color: #008080; font-weight: bold\">0.03</span>, <span style=\"color: #808000; text-decoration-color: #808000\">n_neighbors</span>=<span style=\"color: #008080; text-decoration-color: #008080; font-weight: bold\">30</span>: <span style=\"color: #008080; text-decoration-color: #008080; font-weight: bold\">147</span> aykırı değer\n",
       "</pre>\n"
      ],
      "text/plain": [
       "\u001b[33mcontamination\u001b[0m=\u001b[1;36m0\u001b[0m\u001b[1;36m.03\u001b[0m, \u001b[33mn_neighbors\u001b[0m=\u001b[1;36m30\u001b[0m: \u001b[1;36m147\u001b[0m aykırı değer\n"
      ]
     },
     "metadata": {},
     "output_type": "display_data"
    },
    {
     "data": {
      "text/html": [
       "<pre style=\"white-space:pre;overflow-x:auto;line-height:normal;font-family:Menlo,'DejaVu Sans Mono',consolas,'Courier New',monospace\"><span style=\"color: #808000; text-decoration-color: #808000\">contamination</span>=<span style=\"color: #008080; text-decoration-color: #008080; font-weight: bold\">0.03</span>, <span style=\"color: #808000; text-decoration-color: #808000\">n_neighbors</span>=<span style=\"color: #008080; text-decoration-color: #008080; font-weight: bold\">40</span>: <span style=\"color: #008080; text-decoration-color: #008080; font-weight: bold\">148</span> aykırı değer\n",
       "</pre>\n"
      ],
      "text/plain": [
       "\u001b[33mcontamination\u001b[0m=\u001b[1;36m0\u001b[0m\u001b[1;36m.03\u001b[0m, \u001b[33mn_neighbors\u001b[0m=\u001b[1;36m40\u001b[0m: \u001b[1;36m148\u001b[0m aykırı değer\n"
      ]
     },
     "metadata": {},
     "output_type": "display_data"
    },
    {
     "data": {
      "text/html": [
       "<pre style=\"white-space:pre;overflow-x:auto;line-height:normal;font-family:Menlo,'DejaVu Sans Mono',consolas,'Courier New',monospace\"><span style=\"color: #808000; text-decoration-color: #808000\">contamination</span>=<span style=\"color: #008080; text-decoration-color: #008080; font-weight: bold\">0.03</span>, <span style=\"color: #808000; text-decoration-color: #808000\">n_neighbors</span>=<span style=\"color: #008080; text-decoration-color: #008080; font-weight: bold\">50</span>: <span style=\"color: #008080; text-decoration-color: #008080; font-weight: bold\">147</span> aykırı değer\n",
       "</pre>\n"
      ],
      "text/plain": [
       "\u001b[33mcontamination\u001b[0m=\u001b[1;36m0\u001b[0m\u001b[1;36m.03\u001b[0m, \u001b[33mn_neighbors\u001b[0m=\u001b[1;36m50\u001b[0m: \u001b[1;36m147\u001b[0m aykırı değer\n"
      ]
     },
     "metadata": {},
     "output_type": "display_data"
    },
    {
     "data": {
      "text/html": [
       "<pre style=\"white-space:pre;overflow-x:auto;line-height:normal;font-family:Menlo,'DejaVu Sans Mono',consolas,'Courier New',monospace\"><span style=\"color: #808000; text-decoration-color: #808000\">contamination</span>=<span style=\"color: #008080; text-decoration-color: #008080; font-weight: bold\">0.03</span>, <span style=\"color: #808000; text-decoration-color: #808000\">n_neighbors</span>=<span style=\"color: #008080; text-decoration-color: #008080; font-weight: bold\">60</span>: <span style=\"color: #008080; text-decoration-color: #008080; font-weight: bold\">148</span> aykırı değer\n",
       "</pre>\n"
      ],
      "text/plain": [
       "\u001b[33mcontamination\u001b[0m=\u001b[1;36m0\u001b[0m\u001b[1;36m.03\u001b[0m, \u001b[33mn_neighbors\u001b[0m=\u001b[1;36m60\u001b[0m: \u001b[1;36m148\u001b[0m aykırı değer\n"
      ]
     },
     "metadata": {},
     "output_type": "display_data"
    },
    {
     "data": {
      "text/html": [
       "<pre style=\"white-space:pre;overflow-x:auto;line-height:normal;font-family:Menlo,'DejaVu Sans Mono',consolas,'Courier New',monospace\"><span style=\"color: #808000; text-decoration-color: #808000\">contamination</span>=<span style=\"color: #008080; text-decoration-color: #008080; font-weight: bold\">0.03</span>, <span style=\"color: #808000; text-decoration-color: #808000\">n_neighbors</span>=<span style=\"color: #008080; text-decoration-color: #008080; font-weight: bold\">70</span>: <span style=\"color: #008080; text-decoration-color: #008080; font-weight: bold\">148</span> aykırı değer\n",
       "</pre>\n"
      ],
      "text/plain": [
       "\u001b[33mcontamination\u001b[0m=\u001b[1;36m0\u001b[0m\u001b[1;36m.03\u001b[0m, \u001b[33mn_neighbors\u001b[0m=\u001b[1;36m70\u001b[0m: \u001b[1;36m148\u001b[0m aykırı değer\n"
      ]
     },
     "metadata": {},
     "output_type": "display_data"
    },
    {
     "data": {
      "text/html": [
       "<pre style=\"white-space:pre;overflow-x:auto;line-height:normal;font-family:Menlo,'DejaVu Sans Mono',consolas,'Courier New',monospace\"><span style=\"color: #808000; text-decoration-color: #808000\">contamination</span>=<span style=\"color: #008080; text-decoration-color: #008080; font-weight: bold\">0.05</span>, <span style=\"color: #808000; text-decoration-color: #808000\">n_neighbors</span>=<span style=\"color: #008080; text-decoration-color: #008080; font-weight: bold\">20</span>: <span style=\"color: #008080; text-decoration-color: #008080; font-weight: bold\">247</span> aykırı değer\n",
       "</pre>\n"
      ],
      "text/plain": [
       "\u001b[33mcontamination\u001b[0m=\u001b[1;36m0\u001b[0m\u001b[1;36m.05\u001b[0m, \u001b[33mn_neighbors\u001b[0m=\u001b[1;36m20\u001b[0m: \u001b[1;36m247\u001b[0m aykırı değer\n"
      ]
     },
     "metadata": {},
     "output_type": "display_data"
    },
    {
     "data": {
      "text/html": [
       "<pre style=\"white-space:pre;overflow-x:auto;line-height:normal;font-family:Menlo,'DejaVu Sans Mono',consolas,'Courier New',monospace\"><span style=\"color: #808000; text-decoration-color: #808000\">contamination</span>=<span style=\"color: #008080; text-decoration-color: #008080; font-weight: bold\">0.05</span>, <span style=\"color: #808000; text-decoration-color: #808000\">n_neighbors</span>=<span style=\"color: #008080; text-decoration-color: #008080; font-weight: bold\">30</span>: <span style=\"color: #008080; text-decoration-color: #008080; font-weight: bold\">247</span> aykırı değer\n",
       "</pre>\n"
      ],
      "text/plain": [
       "\u001b[33mcontamination\u001b[0m=\u001b[1;36m0\u001b[0m\u001b[1;36m.05\u001b[0m, \u001b[33mn_neighbors\u001b[0m=\u001b[1;36m30\u001b[0m: \u001b[1;36m247\u001b[0m aykırı değer\n"
      ]
     },
     "metadata": {},
     "output_type": "display_data"
    },
    {
     "data": {
      "text/html": [
       "<pre style=\"white-space:pre;overflow-x:auto;line-height:normal;font-family:Menlo,'DejaVu Sans Mono',consolas,'Courier New',monospace\"><span style=\"color: #808000; text-decoration-color: #808000\">contamination</span>=<span style=\"color: #008080; text-decoration-color: #008080; font-weight: bold\">0.05</span>, <span style=\"color: #808000; text-decoration-color: #808000\">n_neighbors</span>=<span style=\"color: #008080; text-decoration-color: #008080; font-weight: bold\">40</span>: <span style=\"color: #008080; text-decoration-color: #008080; font-weight: bold\">247</span> aykırı değer\n",
       "</pre>\n"
      ],
      "text/plain": [
       "\u001b[33mcontamination\u001b[0m=\u001b[1;36m0\u001b[0m\u001b[1;36m.05\u001b[0m, \u001b[33mn_neighbors\u001b[0m=\u001b[1;36m40\u001b[0m: \u001b[1;36m247\u001b[0m aykırı değer\n"
      ]
     },
     "metadata": {},
     "output_type": "display_data"
    },
    {
     "data": {
      "text/html": [
       "<pre style=\"white-space:pre;overflow-x:auto;line-height:normal;font-family:Menlo,'DejaVu Sans Mono',consolas,'Courier New',monospace\"><span style=\"color: #808000; text-decoration-color: #808000\">contamination</span>=<span style=\"color: #008080; text-decoration-color: #008080; font-weight: bold\">0.05</span>, <span style=\"color: #808000; text-decoration-color: #808000\">n_neighbors</span>=<span style=\"color: #008080; text-decoration-color: #008080; font-weight: bold\">50</span>: <span style=\"color: #008080; text-decoration-color: #008080; font-weight: bold\">247</span> aykırı değer\n",
       "</pre>\n"
      ],
      "text/plain": [
       "\u001b[33mcontamination\u001b[0m=\u001b[1;36m0\u001b[0m\u001b[1;36m.05\u001b[0m, \u001b[33mn_neighbors\u001b[0m=\u001b[1;36m50\u001b[0m: \u001b[1;36m247\u001b[0m aykırı değer\n"
      ]
     },
     "metadata": {},
     "output_type": "display_data"
    },
    {
     "data": {
      "text/html": [
       "<pre style=\"white-space:pre;overflow-x:auto;line-height:normal;font-family:Menlo,'DejaVu Sans Mono',consolas,'Courier New',monospace\"><span style=\"color: #808000; text-decoration-color: #808000\">contamination</span>=<span style=\"color: #008080; text-decoration-color: #008080; font-weight: bold\">0.05</span>, <span style=\"color: #808000; text-decoration-color: #808000\">n_neighbors</span>=<span style=\"color: #008080; text-decoration-color: #008080; font-weight: bold\">60</span>: <span style=\"color: #008080; text-decoration-color: #008080; font-weight: bold\">247</span> aykırı değer\n",
       "</pre>\n"
      ],
      "text/plain": [
       "\u001b[33mcontamination\u001b[0m=\u001b[1;36m0\u001b[0m\u001b[1;36m.05\u001b[0m, \u001b[33mn_neighbors\u001b[0m=\u001b[1;36m60\u001b[0m: \u001b[1;36m247\u001b[0m aykırı değer\n"
      ]
     },
     "metadata": {},
     "output_type": "display_data"
    },
    {
     "data": {
      "text/html": [
       "<pre style=\"white-space:pre;overflow-x:auto;line-height:normal;font-family:Menlo,'DejaVu Sans Mono',consolas,'Courier New',monospace\"><span style=\"color: #808000; text-decoration-color: #808000\">contamination</span>=<span style=\"color: #008080; text-decoration-color: #008080; font-weight: bold\">0.05</span>, <span style=\"color: #808000; text-decoration-color: #808000\">n_neighbors</span>=<span style=\"color: #008080; text-decoration-color: #008080; font-weight: bold\">70</span>: <span style=\"color: #008080; text-decoration-color: #008080; font-weight: bold\">247</span> aykırı değer\n",
       "</pre>\n"
      ],
      "text/plain": [
       "\u001b[33mcontamination\u001b[0m=\u001b[1;36m0\u001b[0m\u001b[1;36m.05\u001b[0m, \u001b[33mn_neighbors\u001b[0m=\u001b[1;36m70\u001b[0m: \u001b[1;36m247\u001b[0m aykırı değer\n"
      ]
     },
     "metadata": {},
     "output_type": "display_data"
    },
    {
     "data": {
      "text/html": [
       "<pre style=\"white-space:pre;overflow-x:auto;line-height:normal;font-family:Menlo,'DejaVu Sans Mono',consolas,'Courier New',monospace\"><span style=\"color: #808000; text-decoration-color: #808000\">contamination</span>=<span style=\"color: #008080; text-decoration-color: #008080; font-weight: bold\">0.1</span>, <span style=\"color: #808000; text-decoration-color: #808000\">n_neighbors</span>=<span style=\"color: #008080; text-decoration-color: #008080; font-weight: bold\">20</span>: <span style=\"color: #008080; text-decoration-color: #008080; font-weight: bold\">493</span> aykırı değer\n",
       "</pre>\n"
      ],
      "text/plain": [
       "\u001b[33mcontamination\u001b[0m=\u001b[1;36m0\u001b[0m\u001b[1;36m.1\u001b[0m, \u001b[33mn_neighbors\u001b[0m=\u001b[1;36m20\u001b[0m: \u001b[1;36m493\u001b[0m aykırı değer\n"
      ]
     },
     "metadata": {},
     "output_type": "display_data"
    },
    {
     "data": {
      "text/html": [
       "<pre style=\"white-space:pre;overflow-x:auto;line-height:normal;font-family:Menlo,'DejaVu Sans Mono',consolas,'Courier New',monospace\"><span style=\"color: #808000; text-decoration-color: #808000\">contamination</span>=<span style=\"color: #008080; text-decoration-color: #008080; font-weight: bold\">0.1</span>, <span style=\"color: #808000; text-decoration-color: #808000\">n_neighbors</span>=<span style=\"color: #008080; text-decoration-color: #008080; font-weight: bold\">30</span>: <span style=\"color: #008080; text-decoration-color: #008080; font-weight: bold\">493</span> aykırı değer\n",
       "</pre>\n"
      ],
      "text/plain": [
       "\u001b[33mcontamination\u001b[0m=\u001b[1;36m0\u001b[0m\u001b[1;36m.1\u001b[0m, \u001b[33mn_neighbors\u001b[0m=\u001b[1;36m30\u001b[0m: \u001b[1;36m493\u001b[0m aykırı değer\n"
      ]
     },
     "metadata": {},
     "output_type": "display_data"
    },
    {
     "data": {
      "text/html": [
       "<pre style=\"white-space:pre;overflow-x:auto;line-height:normal;font-family:Menlo,'DejaVu Sans Mono',consolas,'Courier New',monospace\"><span style=\"color: #808000; text-decoration-color: #808000\">contamination</span>=<span style=\"color: #008080; text-decoration-color: #008080; font-weight: bold\">0.1</span>, <span style=\"color: #808000; text-decoration-color: #808000\">n_neighbors</span>=<span style=\"color: #008080; text-decoration-color: #008080; font-weight: bold\">40</span>: <span style=\"color: #008080; text-decoration-color: #008080; font-weight: bold\">493</span> aykırı değer\n",
       "</pre>\n"
      ],
      "text/plain": [
       "\u001b[33mcontamination\u001b[0m=\u001b[1;36m0\u001b[0m\u001b[1;36m.1\u001b[0m, \u001b[33mn_neighbors\u001b[0m=\u001b[1;36m40\u001b[0m: \u001b[1;36m493\u001b[0m aykırı değer\n"
      ]
     },
     "metadata": {},
     "output_type": "display_data"
    },
    {
     "data": {
      "text/html": [
       "<pre style=\"white-space:pre;overflow-x:auto;line-height:normal;font-family:Menlo,'DejaVu Sans Mono',consolas,'Courier New',monospace\"><span style=\"color: #808000; text-decoration-color: #808000\">contamination</span>=<span style=\"color: #008080; text-decoration-color: #008080; font-weight: bold\">0.1</span>, <span style=\"color: #808000; text-decoration-color: #808000\">n_neighbors</span>=<span style=\"color: #008080; text-decoration-color: #008080; font-weight: bold\">50</span>: <span style=\"color: #008080; text-decoration-color: #008080; font-weight: bold\">493</span> aykırı değer\n",
       "</pre>\n"
      ],
      "text/plain": [
       "\u001b[33mcontamination\u001b[0m=\u001b[1;36m0\u001b[0m\u001b[1;36m.1\u001b[0m, \u001b[33mn_neighbors\u001b[0m=\u001b[1;36m50\u001b[0m: \u001b[1;36m493\u001b[0m aykırı değer\n"
      ]
     },
     "metadata": {},
     "output_type": "display_data"
    },
    {
     "data": {
      "text/html": [
       "<pre style=\"white-space:pre;overflow-x:auto;line-height:normal;font-family:Menlo,'DejaVu Sans Mono',consolas,'Courier New',monospace\"><span style=\"color: #808000; text-decoration-color: #808000\">contamination</span>=<span style=\"color: #008080; text-decoration-color: #008080; font-weight: bold\">0.1</span>, <span style=\"color: #808000; text-decoration-color: #808000\">n_neighbors</span>=<span style=\"color: #008080; text-decoration-color: #008080; font-weight: bold\">60</span>: <span style=\"color: #008080; text-decoration-color: #008080; font-weight: bold\">493</span> aykırı değer\n",
       "</pre>\n"
      ],
      "text/plain": [
       "\u001b[33mcontamination\u001b[0m=\u001b[1;36m0\u001b[0m\u001b[1;36m.1\u001b[0m, \u001b[33mn_neighbors\u001b[0m=\u001b[1;36m60\u001b[0m: \u001b[1;36m493\u001b[0m aykırı değer\n"
      ]
     },
     "metadata": {},
     "output_type": "display_data"
    },
    {
     "data": {
      "text/html": [
       "<pre style=\"white-space:pre;overflow-x:auto;line-height:normal;font-family:Menlo,'DejaVu Sans Mono',consolas,'Courier New',monospace\"><span style=\"color: #808000; text-decoration-color: #808000\">contamination</span>=<span style=\"color: #008080; text-decoration-color: #008080; font-weight: bold\">0.1</span>, <span style=\"color: #808000; text-decoration-color: #808000\">n_neighbors</span>=<span style=\"color: #008080; text-decoration-color: #008080; font-weight: bold\">70</span>: <span style=\"color: #008080; text-decoration-color: #008080; font-weight: bold\">493</span> aykırı değer\n",
       "</pre>\n"
      ],
      "text/plain": [
       "\u001b[33mcontamination\u001b[0m=\u001b[1;36m0\u001b[0m\u001b[1;36m.1\u001b[0m, \u001b[33mn_neighbors\u001b[0m=\u001b[1;36m70\u001b[0m: \u001b[1;36m493\u001b[0m aykırı değer\n"
      ]
     },
     "metadata": {},
     "output_type": "display_data"
    }
   ],
   "source": [
    "# Farklı parametre kombinasyonlarını test etmek için\n",
    "contamination_values = [0.01, 0.02, 0.03, 0.05, 0.1]\n",
    "neighbor_values = [20, 30, 40, 50, 60, 70]\n",
    "\n",
    "results = {}\n",
    "for cont in contamination_values:\n",
    "    for n in neighbor_values:\n",
    "        clf = LocalOutlierFactor(n_neighbors=n, contamination=cont)\n",
    "        y_pred = clf.fit_predict(df_numeric)  # X, işlenecek özellikleriniz\n",
    "        outlier_count = (y_pred == -1).sum()\n",
    "        results[(cont, n)] = outlier_count\n",
    "        print(f\"contamination={cont}, n_neighbors={n}: {outlier_count} aykırı değer\")"
   ]
  },
  {
   "cell_type": "code",
   "execution_count": 121,
   "metadata": {},
   "outputs": [],
   "source": [
    "import numpy as np\n",
    "from sklearn.neighbors import LocalOutlierFactor\n",
    "\n",
    "def __remove_outliers_with_lof(data) -> pd.DataFrame:\n",
    "\n",
    "    numeric_df = data.select_dtypes(include=[\"int64\"])\n",
    "\n",
    "    clf = LocalOutlierFactor(n_neighbors=50, contamination=0.05)\n",
    "    clf.fit_predict(numeric_df)\n",
    "    data[\"NEF\"] = clf.negative_outlier_factor_\n",
    "    threshold = -1.22\n",
    "    outliers = data[\"NEF\"] < threshold\n",
    "    data = data[~outliers]\n",
    "    data = data.drop(columns=[\"NEF\"], axis=\"columns\")\n",
    "    return data\n",
    "    \n"
   ]
  },
  {
   "cell_type": "code",
   "execution_count": 122,
   "metadata": {},
   "outputs": [],
   "source": [
    "df = __remove_outliers_with_lof(df)"
   ]
  },
  {
   "cell_type": "code",
   "execution_count": 123,
   "metadata": {},
   "outputs": [
    {
     "name": "stdout",
     "output_type": "stream",
     "text": [
      "<class 'pandas.core.frame.DataFrame'>\n",
      "Index: 3902 entries, 0 to 5032\n",
      "Data columns (total 21 columns):\n",
      " #   Column             Non-Null Count  Dtype   \n",
      "---  ------             --------------  -----   \n",
      " 0   house_description  3902 non-null   object  \n",
      " 1   house_price        3902 non-null   int64   \n",
      " 2   property_type      3902 non-null   category\n",
      " 3   gross_area         3902 non-null   int64   \n",
      " 4   net_area           3902 non-null   int64   \n",
      " 5   room_count         3902 non-null   int64   \n",
      " 6   living_room_count  3902 non-null   int64   \n",
      " 7   bathroom_count     3902 non-null   int64   \n",
      " 8   heating            3902 non-null   category\n",
      " 9   floor_number       3902 non-null   int64   \n",
      " 10  total_floors       3902 non-null   int64   \n",
      " 11  building_age       3902 non-null   int64   \n",
      " 12  province           3902 non-null   category\n",
      " 13  district           3902 non-null   category\n",
      " 14  neighborhood       3902 non-null   category\n",
      " 15  usage_status       3902 non-null   object  \n",
      " 16  deed_status        3902 non-null   object  \n",
      " 17  exchange           3902 non-null   object  \n",
      " 18  credit_eligible    3902 non-null   object  \n",
      " 19  furnished          3902 non-null   object  \n",
      " 20  house_url          3902 non-null   object  \n",
      "dtypes: category(5), int64(9), object(7)\n",
      "memory usage: 547.0+ KB\n"
     ]
    }
   ],
   "source": [
    "df.info()"
   ]
  },
  {
   "cell_type": "code",
   "execution_count": 124,
   "metadata": {},
   "outputs": [
    {
     "data": {
      "text/plain": [
       "count    3.902000e+03\n",
       "mean     3.743117e+06\n",
       "std      2.489911e+06\n",
       "min      1.030000e+06\n",
       "25%      2.200000e+06\n",
       "50%      3.097500e+06\n",
       "75%      4.500000e+06\n",
       "max      1.725000e+07\n",
       "Name: house_price, dtype: float64"
      ]
     },
     "execution_count": 124,
     "metadata": {},
     "output_type": "execute_result"
    }
   ],
   "source": [
    "df[\"house_price\"].describe()"
   ]
  },
  {
   "cell_type": "code",
   "execution_count": 125,
   "metadata": {},
   "outputs": [
    {
     "data": {
      "text/plain": [
       "array([1, 0, 2, 3])"
      ]
     },
     "execution_count": 125,
     "metadata": {},
     "output_type": "execute_result"
    }
   ],
   "source": [
    "df[\"living_room_count\"].unique()"
   ]
  },
  {
   "cell_type": "code",
   "execution_count": 126,
   "metadata": {},
   "outputs": [
    {
     "data": {
      "text/html": [
       "<div>\n",
       "<style scoped>\n",
       "    .dataframe tbody tr th:only-of-type {\n",
       "        vertical-align: middle;\n",
       "    }\n",
       "\n",
       "    .dataframe tbody tr th {\n",
       "        vertical-align: top;\n",
       "    }\n",
       "\n",
       "    .dataframe thead th {\n",
       "        text-align: right;\n",
       "    }\n",
       "</style>\n",
       "<table border=\"1\" class=\"dataframe\">\n",
       "  <thead>\n",
       "    <tr style=\"text-align: right;\">\n",
       "      <th></th>\n",
       "      <th>house_description</th>\n",
       "      <th>house_price</th>\n",
       "      <th>property_type</th>\n",
       "      <th>gross_area</th>\n",
       "      <th>net_area</th>\n",
       "      <th>room_count</th>\n",
       "      <th>living_room_count</th>\n",
       "      <th>bathroom_count</th>\n",
       "      <th>heating</th>\n",
       "      <th>floor_number</th>\n",
       "      <th>...</th>\n",
       "      <th>building_age</th>\n",
       "      <th>province</th>\n",
       "      <th>district</th>\n",
       "      <th>neighborhood</th>\n",
       "      <th>usage_status</th>\n",
       "      <th>deed_status</th>\n",
       "      <th>exchange</th>\n",
       "      <th>credit_eligible</th>\n",
       "      <th>furnished</th>\n",
       "      <th>house_url</th>\n",
       "    </tr>\n",
       "  </thead>\n",
       "  <tbody>\n",
       "  </tbody>\n",
       "</table>\n",
       "<p>0 rows × 21 columns</p>\n",
       "</div>"
      ],
      "text/plain": [
       "Empty DataFrame\n",
       "Columns: [house_description, house_price, property_type, gross_area, net_area, room_count, living_room_count, bathroom_count, heating, floor_number, total_floors, building_age, province, district, neighborhood, usage_status, deed_status, exchange, credit_eligible, furnished, house_url]\n",
       "Index: []\n",
       "\n",
       "[0 rows x 21 columns]"
      ]
     },
     "execution_count": 126,
     "metadata": {},
     "output_type": "execute_result"
    }
   ],
   "source": [
    "df.loc[df[\"house_price\"]<1_000_000]"
   ]
  },
  {
   "cell_type": "code",
   "execution_count": 127,
   "metadata": {},
   "outputs": [
    {
     "data": {
      "text/html": [
       "<div>\n",
       "<style scoped>\n",
       "    .dataframe tbody tr th:only-of-type {\n",
       "        vertical-align: middle;\n",
       "    }\n",
       "\n",
       "    .dataframe tbody tr th {\n",
       "        vertical-align: top;\n",
       "    }\n",
       "\n",
       "    .dataframe thead th {\n",
       "        text-align: right;\n",
       "    }\n",
       "</style>\n",
       "<table border=\"1\" class=\"dataframe\">\n",
       "  <thead>\n",
       "    <tr style=\"text-align: right;\">\n",
       "      <th></th>\n",
       "      <th>house_description</th>\n",
       "      <th>house_price</th>\n",
       "      <th>property_type</th>\n",
       "      <th>gross_area</th>\n",
       "      <th>net_area</th>\n",
       "      <th>room_count</th>\n",
       "      <th>living_room_count</th>\n",
       "      <th>bathroom_count</th>\n",
       "      <th>heating</th>\n",
       "      <th>floor_number</th>\n",
       "      <th>...</th>\n",
       "      <th>building_age</th>\n",
       "      <th>province</th>\n",
       "      <th>district</th>\n",
       "      <th>neighborhood</th>\n",
       "      <th>usage_status</th>\n",
       "      <th>deed_status</th>\n",
       "      <th>exchange</th>\n",
       "      <th>credit_eligible</th>\n",
       "      <th>furnished</th>\n",
       "      <th>house_url</th>\n",
       "    </tr>\n",
       "  </thead>\n",
       "  <tbody>\n",
       "    <tr>\n",
       "      <th>0</th>\n",
       "      <td>GÜRSELPAŞA’DA FULL SOSYAL DONATILI GENİŞ OTURU...</td>\n",
       "      <td>7300000</td>\n",
       "      <td>Satılık Daire</td>\n",
       "      <td>170</td>\n",
       "      <td>150</td>\n",
       "      <td>4</td>\n",
       "      <td>1</td>\n",
       "      <td>2</td>\n",
       "      <td>Kombi</td>\n",
       "      <td>9</td>\n",
       "      <td>...</td>\n",
       "      <td>6</td>\n",
       "      <td>Adana</td>\n",
       "      <td>Seyhan</td>\n",
       "      <td>Gürselpaşa</td>\n",
       "      <td>Mülk Sahibi</td>\n",
       "      <td>Kat İrtifakı</td>\n",
       "      <td>Hayır</td>\n",
       "      <td>Uygun</td>\n",
       "      <td>Eşyalı Değil</td>\n",
       "      <td>https://www.hepsiemlak.com/adana-seyhan-gursel...</td>\n",
       "    </tr>\n",
       "    <tr>\n",
       "      <th>1</th>\n",
       "      <td>HUZUREVLERİNDE İSKANLI HASARSIZ 3 CEPHELİ 25 m...</td>\n",
       "      <td>1399000</td>\n",
       "      <td>Satılık Daire</td>\n",
       "      <td>25</td>\n",
       "      <td>22</td>\n",
       "      <td>1</td>\n",
       "      <td>0</td>\n",
       "      <td>1</td>\n",
       "      <td>Isıtma Yok</td>\n",
       "      <td>0</td>\n",
       "      <td>...</td>\n",
       "      <td>12</td>\n",
       "      <td>Adana</td>\n",
       "      <td>Çukurova</td>\n",
       "      <td>Huzurevleri</td>\n",
       "      <td>Boş</td>\n",
       "      <td>Kat Mülkiyeti</td>\n",
       "      <td>Evet</td>\n",
       "      <td>Uygun</td>\n",
       "      <td>Eşyalı Değil</td>\n",
       "      <td>https://www.hepsiemlak.com/adana-cukurova-huzu...</td>\n",
       "    </tr>\n",
       "    <tr>\n",
       "      <th>2</th>\n",
       "      <td>KENAN EVREN BLV. YÜRÜME MESAFESİNDE 2+1+ÇB+GO+...</td>\n",
       "      <td>3500000</td>\n",
       "      <td>Satılık Daire</td>\n",
       "      <td>125</td>\n",
       "      <td>100</td>\n",
       "      <td>2</td>\n",
       "      <td>1</td>\n",
       "      <td>2</td>\n",
       "      <td>Kombi</td>\n",
       "      <td>1</td>\n",
       "      <td>...</td>\n",
       "      <td>10</td>\n",
       "      <td>Adana</td>\n",
       "      <td>Çukurova</td>\n",
       "      <td>Mahfesığmaz</td>\n",
       "      <td>Mülk Sahibi</td>\n",
       "      <td>Kat Mülkiyeti</td>\n",
       "      <td>Hayır</td>\n",
       "      <td>Uygun</td>\n",
       "      <td>Eşyalı Değil</td>\n",
       "      <td>https://www.hepsiemlak.com/adana-cukurova-mahf...</td>\n",
       "    </tr>\n",
       "    <tr>\n",
       "      <th>3</th>\n",
       "      <td>İZZET OKLU İNSAATTAN İSKANI ALINMIŞ OTURUMA HA...</td>\n",
       "      <td>15500000</td>\n",
       "      <td>Satılık Daire</td>\n",
       "      <td>195</td>\n",
       "      <td>149</td>\n",
       "      <td>4</td>\n",
       "      <td>1</td>\n",
       "      <td>2</td>\n",
       "      <td>Yerden Isıtma</td>\n",
       "      <td>4</td>\n",
       "      <td>...</td>\n",
       "      <td>0</td>\n",
       "      <td>Adana</td>\n",
       "      <td>Seyhan</td>\n",
       "      <td>Gazipaşa</td>\n",
       "      <td>Boş</td>\n",
       "      <td>Kat İrtifakı</td>\n",
       "      <td>Hayır</td>\n",
       "      <td>Uygun</td>\n",
       "      <td>Eşyalı Değil</td>\n",
       "      <td>https://www.hepsiemlak.com/adana-seyhan-gazipa...</td>\n",
       "    </tr>\n",
       "    <tr>\n",
       "      <th>4</th>\n",
       "      <td>SK’DAN BAŞKENT OKULLARI YANİ LÜKS İŞÇİLİKLİ 4+...</td>\n",
       "      <td>7450000</td>\n",
       "      <td>Satılık Daire</td>\n",
       "      <td>145</td>\n",
       "      <td>135</td>\n",
       "      <td>4</td>\n",
       "      <td>1</td>\n",
       "      <td>2</td>\n",
       "      <td>Kombi</td>\n",
       "      <td>3</td>\n",
       "      <td>...</td>\n",
       "      <td>4</td>\n",
       "      <td>Adana</td>\n",
       "      <td>Çukurova</td>\n",
       "      <td>Huzurevleri</td>\n",
       "      <td>Boş</td>\n",
       "      <td>Kat İrtifakı</td>\n",
       "      <td>Hayır</td>\n",
       "      <td>Uygun</td>\n",
       "      <td>Eşyalı Değil</td>\n",
       "      <td>https://www.hepsiemlak.com/adana-cukurova-huzu...</td>\n",
       "    </tr>\n",
       "  </tbody>\n",
       "</table>\n",
       "<p>5 rows × 21 columns</p>\n",
       "</div>"
      ],
      "text/plain": [
       "                                   house_description  house_price  \\\n",
       "0  GÜRSELPAŞA’DA FULL SOSYAL DONATILI GENİŞ OTURU...      7300000   \n",
       "1  HUZUREVLERİNDE İSKANLI HASARSIZ 3 CEPHELİ 25 m...      1399000   \n",
       "2  KENAN EVREN BLV. YÜRÜME MESAFESİNDE 2+1+ÇB+GO+...      3500000   \n",
       "3  İZZET OKLU İNSAATTAN İSKANI ALINMIŞ OTURUMA HA...     15500000   \n",
       "4  SK’DAN BAŞKENT OKULLARI YANİ LÜKS İŞÇİLİKLİ 4+...      7450000   \n",
       "\n",
       "   property_type  gross_area  net_area  room_count  living_room_count  \\\n",
       "0  Satılık Daire         170       150           4                  1   \n",
       "1  Satılık Daire          25        22           1                  0   \n",
       "2  Satılık Daire         125       100           2                  1   \n",
       "3  Satılık Daire         195       149           4                  1   \n",
       "4  Satılık Daire         145       135           4                  1   \n",
       "\n",
       "   bathroom_count        heating  floor_number  ...  building_age  province  \\\n",
       "0               2          Kombi             9  ...             6     Adana   \n",
       "1               1     Isıtma Yok             0  ...            12     Adana   \n",
       "2               2          Kombi             1  ...            10     Adana   \n",
       "3               2  Yerden Isıtma             4  ...             0     Adana   \n",
       "4               2          Kombi             3  ...             4     Adana   \n",
       "\n",
       "   district neighborhood usage_status    deed_status exchange credit_eligible  \\\n",
       "0    Seyhan   Gürselpaşa  Mülk Sahibi   Kat İrtifakı    Hayır           Uygun   \n",
       "1  Çukurova  Huzurevleri          Boş  Kat Mülkiyeti     Evet           Uygun   \n",
       "2  Çukurova  Mahfesığmaz  Mülk Sahibi  Kat Mülkiyeti    Hayır           Uygun   \n",
       "3    Seyhan     Gazipaşa          Boş   Kat İrtifakı    Hayır           Uygun   \n",
       "4  Çukurova  Huzurevleri          Boş   Kat İrtifakı    Hayır           Uygun   \n",
       "\n",
       "      furnished                                          house_url  \n",
       "0  Eşyalı Değil  https://www.hepsiemlak.com/adana-seyhan-gursel...  \n",
       "1  Eşyalı Değil  https://www.hepsiemlak.com/adana-cukurova-huzu...  \n",
       "2  Eşyalı Değil  https://www.hepsiemlak.com/adana-cukurova-mahf...  \n",
       "3  Eşyalı Değil  https://www.hepsiemlak.com/adana-seyhan-gazipa...  \n",
       "4  Eşyalı Değil  https://www.hepsiemlak.com/adana-cukurova-huzu...  \n",
       "\n",
       "[5 rows x 21 columns]"
      ]
     },
     "execution_count": 127,
     "metadata": {},
     "output_type": "execute_result"
    }
   ],
   "source": [
    "df.head()"
   ]
  },
  {
   "cell_type": "code",
   "execution_count": 128,
   "metadata": {},
   "outputs": [
    {
     "data": {
      "text/plain": [
       "furnished\n",
       "Eşyalı Değil    2398\n",
       "Bilgi yok        715\n",
       "Boş              645\n",
       "Eşyalı           144\n",
       "Name: count, dtype: int64"
      ]
     },
     "execution_count": 128,
     "metadata": {},
     "output_type": "execute_result"
    }
   ],
   "source": [
    "df[\"furnished\"].value_counts()"
   ]
  },
  {
   "cell_type": "code",
   "execution_count": 129,
   "metadata": {},
   "outputs": [],
   "source": [
    "def __convert_furnished_values(house_df: pd.DataFrame) -> pd.DataFrame:\n",
    "    df = house_df.copy()\n",
    "\n",
    "    if \"furnished\" not in df.columns:\n",
    "        logger.error(\"The 'furnished' column was not found in the DataFrame.\")\n",
    "        return df\n",
    "\n",
    "    change_values = {\n",
    "        \"Eşyalı\": \"Eşyalı\",\n",
    "        \"Eşyasız\": \"Eşyalı Değil\",\n",
    "        \"Bilgi yok\": \"Eşyalı Değil\",\n",
    "        \"Belirtilmemiş\": \"Eşyalı Değil\",\n",
    "        \"Eşyalı Değil\":\"Eşyalı Değil\",\n",
    "        \"Boş\": \"Eşyalı Değil\",\n",
    "    }\n",
    "\n",
    "    df[\"furnished\"] = df[\"furnished\"].replace(change_values)\n",
    "    df[\"furnished\"] = pd.Categorical(df[\"furnished\"])\n",
    "    logger.info(f\"House furnished values replaced successfully.\")\n",
    "\n",
    "    return df"
   ]
  },
  {
   "cell_type": "code",
   "execution_count": 130,
   "metadata": {},
   "outputs": [
    {
     "name": "stderr",
     "output_type": "stream",
     "text": [
      "2025-03-25 00:59 - INFO - House furnished values replaced successfully.\n"
     ]
    }
   ],
   "source": [
    "df = __convert_furnished_values(house_df=df)"
   ]
  },
  {
   "cell_type": "code",
   "execution_count": 131,
   "metadata": {},
   "outputs": [
    {
     "data": {
      "text/plain": [
       "furnished\n",
       "Eşyalı Değil    3758\n",
       "Eşyalı           144\n",
       "Name: count, dtype: int64"
      ]
     },
     "execution_count": 131,
     "metadata": {},
     "output_type": "execute_result"
    }
   ],
   "source": [
    "df[\"furnished\"].value_counts()"
   ]
  },
  {
   "cell_type": "code",
   "execution_count": 132,
   "metadata": {},
   "outputs": [
    {
     "data": {
      "text/html": [
       "<div>\n",
       "<style scoped>\n",
       "    .dataframe tbody tr th:only-of-type {\n",
       "        vertical-align: middle;\n",
       "    }\n",
       "\n",
       "    .dataframe tbody tr th {\n",
       "        vertical-align: top;\n",
       "    }\n",
       "\n",
       "    .dataframe thead th {\n",
       "        text-align: right;\n",
       "    }\n",
       "</style>\n",
       "<table border=\"1\" class=\"dataframe\">\n",
       "  <thead>\n",
       "    <tr style=\"text-align: right;\">\n",
       "      <th></th>\n",
       "      <th>house_description</th>\n",
       "      <th>house_price</th>\n",
       "      <th>property_type</th>\n",
       "      <th>gross_area</th>\n",
       "      <th>net_area</th>\n",
       "      <th>room_count</th>\n",
       "      <th>living_room_count</th>\n",
       "      <th>bathroom_count</th>\n",
       "      <th>heating</th>\n",
       "      <th>floor_number</th>\n",
       "      <th>...</th>\n",
       "      <th>building_age</th>\n",
       "      <th>province</th>\n",
       "      <th>district</th>\n",
       "      <th>neighborhood</th>\n",
       "      <th>usage_status</th>\n",
       "      <th>deed_status</th>\n",
       "      <th>exchange</th>\n",
       "      <th>credit_eligible</th>\n",
       "      <th>furnished</th>\n",
       "      <th>house_url</th>\n",
       "    </tr>\n",
       "  </thead>\n",
       "  <tbody>\n",
       "    <tr>\n",
       "      <th>0</th>\n",
       "      <td>GÜRSELPAŞA’DA FULL SOSYAL DONATILI GENİŞ OTURU...</td>\n",
       "      <td>7300000</td>\n",
       "      <td>Satılık Daire</td>\n",
       "      <td>170</td>\n",
       "      <td>150</td>\n",
       "      <td>4</td>\n",
       "      <td>1</td>\n",
       "      <td>2</td>\n",
       "      <td>Kombi</td>\n",
       "      <td>9</td>\n",
       "      <td>...</td>\n",
       "      <td>6</td>\n",
       "      <td>Adana</td>\n",
       "      <td>Seyhan</td>\n",
       "      <td>Gürselpaşa</td>\n",
       "      <td>Mülk Sahibi</td>\n",
       "      <td>Kat İrtifakı</td>\n",
       "      <td>Hayır</td>\n",
       "      <td>Uygun</td>\n",
       "      <td>Eşyalı Değil</td>\n",
       "      <td>https://www.hepsiemlak.com/adana-seyhan-gursel...</td>\n",
       "    </tr>\n",
       "    <tr>\n",
       "      <th>1</th>\n",
       "      <td>HUZUREVLERİNDE İSKANLI HASARSIZ 3 CEPHELİ 25 m...</td>\n",
       "      <td>1399000</td>\n",
       "      <td>Satılık Daire</td>\n",
       "      <td>25</td>\n",
       "      <td>22</td>\n",
       "      <td>1</td>\n",
       "      <td>0</td>\n",
       "      <td>1</td>\n",
       "      <td>Isıtma Yok</td>\n",
       "      <td>0</td>\n",
       "      <td>...</td>\n",
       "      <td>12</td>\n",
       "      <td>Adana</td>\n",
       "      <td>Çukurova</td>\n",
       "      <td>Huzurevleri</td>\n",
       "      <td>Boş</td>\n",
       "      <td>Kat Mülkiyeti</td>\n",
       "      <td>Evet</td>\n",
       "      <td>Uygun</td>\n",
       "      <td>Eşyalı Değil</td>\n",
       "      <td>https://www.hepsiemlak.com/adana-cukurova-huzu...</td>\n",
       "    </tr>\n",
       "    <tr>\n",
       "      <th>2</th>\n",
       "      <td>KENAN EVREN BLV. YÜRÜME MESAFESİNDE 2+1+ÇB+GO+...</td>\n",
       "      <td>3500000</td>\n",
       "      <td>Satılık Daire</td>\n",
       "      <td>125</td>\n",
       "      <td>100</td>\n",
       "      <td>2</td>\n",
       "      <td>1</td>\n",
       "      <td>2</td>\n",
       "      <td>Kombi</td>\n",
       "      <td>1</td>\n",
       "      <td>...</td>\n",
       "      <td>10</td>\n",
       "      <td>Adana</td>\n",
       "      <td>Çukurova</td>\n",
       "      <td>Mahfesığmaz</td>\n",
       "      <td>Mülk Sahibi</td>\n",
       "      <td>Kat Mülkiyeti</td>\n",
       "      <td>Hayır</td>\n",
       "      <td>Uygun</td>\n",
       "      <td>Eşyalı Değil</td>\n",
       "      <td>https://www.hepsiemlak.com/adana-cukurova-mahf...</td>\n",
       "    </tr>\n",
       "    <tr>\n",
       "      <th>3</th>\n",
       "      <td>İZZET OKLU İNSAATTAN İSKANI ALINMIŞ OTURUMA HA...</td>\n",
       "      <td>15500000</td>\n",
       "      <td>Satılık Daire</td>\n",
       "      <td>195</td>\n",
       "      <td>149</td>\n",
       "      <td>4</td>\n",
       "      <td>1</td>\n",
       "      <td>2</td>\n",
       "      <td>Yerden Isıtma</td>\n",
       "      <td>4</td>\n",
       "      <td>...</td>\n",
       "      <td>0</td>\n",
       "      <td>Adana</td>\n",
       "      <td>Seyhan</td>\n",
       "      <td>Gazipaşa</td>\n",
       "      <td>Boş</td>\n",
       "      <td>Kat İrtifakı</td>\n",
       "      <td>Hayır</td>\n",
       "      <td>Uygun</td>\n",
       "      <td>Eşyalı Değil</td>\n",
       "      <td>https://www.hepsiemlak.com/adana-seyhan-gazipa...</td>\n",
       "    </tr>\n",
       "    <tr>\n",
       "      <th>4</th>\n",
       "      <td>SK’DAN BAŞKENT OKULLARI YANİ LÜKS İŞÇİLİKLİ 4+...</td>\n",
       "      <td>7450000</td>\n",
       "      <td>Satılık Daire</td>\n",
       "      <td>145</td>\n",
       "      <td>135</td>\n",
       "      <td>4</td>\n",
       "      <td>1</td>\n",
       "      <td>2</td>\n",
       "      <td>Kombi</td>\n",
       "      <td>3</td>\n",
       "      <td>...</td>\n",
       "      <td>4</td>\n",
       "      <td>Adana</td>\n",
       "      <td>Çukurova</td>\n",
       "      <td>Huzurevleri</td>\n",
       "      <td>Boş</td>\n",
       "      <td>Kat İrtifakı</td>\n",
       "      <td>Hayır</td>\n",
       "      <td>Uygun</td>\n",
       "      <td>Eşyalı Değil</td>\n",
       "      <td>https://www.hepsiemlak.com/adana-cukurova-huzu...</td>\n",
       "    </tr>\n",
       "  </tbody>\n",
       "</table>\n",
       "<p>5 rows × 21 columns</p>\n",
       "</div>"
      ],
      "text/plain": [
       "                                   house_description  house_price  \\\n",
       "0  GÜRSELPAŞA’DA FULL SOSYAL DONATILI GENİŞ OTURU...      7300000   \n",
       "1  HUZUREVLERİNDE İSKANLI HASARSIZ 3 CEPHELİ 25 m...      1399000   \n",
       "2  KENAN EVREN BLV. YÜRÜME MESAFESİNDE 2+1+ÇB+GO+...      3500000   \n",
       "3  İZZET OKLU İNSAATTAN İSKANI ALINMIŞ OTURUMA HA...     15500000   \n",
       "4  SK’DAN BAŞKENT OKULLARI YANİ LÜKS İŞÇİLİKLİ 4+...      7450000   \n",
       "\n",
       "   property_type  gross_area  net_area  room_count  living_room_count  \\\n",
       "0  Satılık Daire         170       150           4                  1   \n",
       "1  Satılık Daire          25        22           1                  0   \n",
       "2  Satılık Daire         125       100           2                  1   \n",
       "3  Satılık Daire         195       149           4                  1   \n",
       "4  Satılık Daire         145       135           4                  1   \n",
       "\n",
       "   bathroom_count        heating  floor_number  ...  building_age  province  \\\n",
       "0               2          Kombi             9  ...             6     Adana   \n",
       "1               1     Isıtma Yok             0  ...            12     Adana   \n",
       "2               2          Kombi             1  ...            10     Adana   \n",
       "3               2  Yerden Isıtma             4  ...             0     Adana   \n",
       "4               2          Kombi             3  ...             4     Adana   \n",
       "\n",
       "   district neighborhood usage_status    deed_status exchange credit_eligible  \\\n",
       "0    Seyhan   Gürselpaşa  Mülk Sahibi   Kat İrtifakı    Hayır           Uygun   \n",
       "1  Çukurova  Huzurevleri          Boş  Kat Mülkiyeti     Evet           Uygun   \n",
       "2  Çukurova  Mahfesığmaz  Mülk Sahibi  Kat Mülkiyeti    Hayır           Uygun   \n",
       "3    Seyhan     Gazipaşa          Boş   Kat İrtifakı    Hayır           Uygun   \n",
       "4  Çukurova  Huzurevleri          Boş   Kat İrtifakı    Hayır           Uygun   \n",
       "\n",
       "      furnished                                          house_url  \n",
       "0  Eşyalı Değil  https://www.hepsiemlak.com/adana-seyhan-gursel...  \n",
       "1  Eşyalı Değil  https://www.hepsiemlak.com/adana-cukurova-huzu...  \n",
       "2  Eşyalı Değil  https://www.hepsiemlak.com/adana-cukurova-mahf...  \n",
       "3  Eşyalı Değil  https://www.hepsiemlak.com/adana-seyhan-gazipa...  \n",
       "4  Eşyalı Değil  https://www.hepsiemlak.com/adana-cukurova-huzu...  \n",
       "\n",
       "[5 rows x 21 columns]"
      ]
     },
     "execution_count": 132,
     "metadata": {},
     "output_type": "execute_result"
    }
   ],
   "source": [
    "df.head()"
   ]
  },
  {
   "cell_type": "code",
   "execution_count": 133,
   "metadata": {},
   "outputs": [
    {
     "data": {
      "text/plain": [
       "deed_status\n",
       "Kat Mülkiyeti         2827\n",
       "Kat İrtifakı           894\n",
       "Tapu Kaydı Yok          78\n",
       "Yabancıdan              28\n",
       "Tapu Yok                25\n",
       "Bilgi yok               23\n",
       "Hisseli Tapu             9\n",
       "Arsa Tapulu              7\n",
       "Arsa                     4\n",
       "Müstakil Tapulu          4\n",
       "Bilinmiyor               2\n",
       "Kooperatiften Tapu       1\n",
       "Name: count, dtype: int64"
      ]
     },
     "execution_count": 133,
     "metadata": {},
     "output_type": "execute_result"
    }
   ],
   "source": [
    "df[\"deed_status\"].value_counts()    "
   ]
  },
  {
   "cell_type": "code",
   "execution_count": 134,
   "metadata": {},
   "outputs": [],
   "source": [
    "def __clean_deed_status(house_df) -> pd.DataFrame:\n",
    "    df = house_df.copy()\n",
    "\n",
    "    if \"deed_status\" not in df.columns:\n",
    "        logger.error(\"The 'deed_status' column was not found in the DataFrame.\")\n",
    "        return df\n",
    "    \n",
    "    df = df[(df[\"deed_status\"] != \"Bilgi yok\") & (df[\"deed_status\"] != \"Arsa\") & (df[\"deed_status\"] != \"Bilinmiyor\") & (df[\"deed_status\"] != \"Kooperatiften Tapu\")]\n",
    "\n",
    "    change_values = {\n",
    "        \"Kat Mülkiyeti\": \"Kat Mülkiyeti\",\n",
    "        \"Kat İrtifakı\": \"Kat İrtifakı\",\n",
    "        \"Yabancıdan\": \"Yabancıdan\",\n",
    "\n",
    "        \"Tapu Yok\": \"Tapu Yok\",\n",
    "        \"Tapu Kaydı Yok\": \"Tapu Yok\",\n",
    "        \"Bilgi yok\": \"Tapu Yok\",\n",
    "        \"Belirtilmemiş\": \"Tapu Yok\",\n",
    "\n",
    "        \"Müstakil Tapulu\": \"Müstakil Tapu\",\n",
    "        \"Hisseli Tapu\": \"Hisseli Tapu\",\n",
    "        \"Arsa Tapulu\": \"Hisseli Tapu\",\n",
    "    }\n",
    "\n",
    "    df[\"deed_status\"] = df[\"deed_status\"].replace(change_values)\n",
    "    df[\"deed_status\"] = pd.Categorical(df[\"deed_status\"])\n",
    "    logger.info(f\"House deed_status values replaced successfully.\")\n",
    "\n",
    "    return df"
   ]
  },
  {
   "cell_type": "code",
   "execution_count": 135,
   "metadata": {},
   "outputs": [
    {
     "name": "stderr",
     "output_type": "stream",
     "text": [
      "2025-03-25 00:59 - INFO - House deed_status values replaced successfully.\n"
     ]
    }
   ],
   "source": [
    "df = __clean_deed_status(house_df=df)"
   ]
  },
  {
   "cell_type": "code",
   "execution_count": 136,
   "metadata": {},
   "outputs": [
    {
     "data": {
      "text/plain": [
       "deed_status\n",
       "Kat Mülkiyeti    2827\n",
       "Kat İrtifakı      894\n",
       "Tapu Yok          103\n",
       "Yabancıdan         28\n",
       "Hisseli Tapu       16\n",
       "Müstakil Tapu       4\n",
       "Name: count, dtype: int64"
      ]
     },
     "execution_count": 136,
     "metadata": {},
     "output_type": "execute_result"
    }
   ],
   "source": [
    "df[\"deed_status\"].value_counts()"
   ]
  },
  {
   "cell_type": "code",
   "execution_count": 137,
   "metadata": {},
   "outputs": [
    {
     "data": {
      "text/html": [
       "<div>\n",
       "<style scoped>\n",
       "    .dataframe tbody tr th:only-of-type {\n",
       "        vertical-align: middle;\n",
       "    }\n",
       "\n",
       "    .dataframe tbody tr th {\n",
       "        vertical-align: top;\n",
       "    }\n",
       "\n",
       "    .dataframe thead th {\n",
       "        text-align: right;\n",
       "    }\n",
       "</style>\n",
       "<table border=\"1\" class=\"dataframe\">\n",
       "  <thead>\n",
       "    <tr style=\"text-align: right;\">\n",
       "      <th></th>\n",
       "      <th>house_description</th>\n",
       "      <th>house_price</th>\n",
       "      <th>property_type</th>\n",
       "      <th>gross_area</th>\n",
       "      <th>net_area</th>\n",
       "      <th>room_count</th>\n",
       "      <th>living_room_count</th>\n",
       "      <th>bathroom_count</th>\n",
       "      <th>heating</th>\n",
       "      <th>floor_number</th>\n",
       "      <th>...</th>\n",
       "      <th>building_age</th>\n",
       "      <th>province</th>\n",
       "      <th>district</th>\n",
       "      <th>neighborhood</th>\n",
       "      <th>usage_status</th>\n",
       "      <th>deed_status</th>\n",
       "      <th>exchange</th>\n",
       "      <th>credit_eligible</th>\n",
       "      <th>furnished</th>\n",
       "      <th>house_url</th>\n",
       "    </tr>\n",
       "  </thead>\n",
       "  <tbody>\n",
       "    <tr>\n",
       "      <th>0</th>\n",
       "      <td>GÜRSELPAŞA’DA FULL SOSYAL DONATILI GENİŞ OTURU...</td>\n",
       "      <td>7300000</td>\n",
       "      <td>Satılık Daire</td>\n",
       "      <td>170</td>\n",
       "      <td>150</td>\n",
       "      <td>4</td>\n",
       "      <td>1</td>\n",
       "      <td>2</td>\n",
       "      <td>Kombi</td>\n",
       "      <td>9</td>\n",
       "      <td>...</td>\n",
       "      <td>6</td>\n",
       "      <td>Adana</td>\n",
       "      <td>Seyhan</td>\n",
       "      <td>Gürselpaşa</td>\n",
       "      <td>Mülk Sahibi</td>\n",
       "      <td>Kat İrtifakı</td>\n",
       "      <td>Hayır</td>\n",
       "      <td>Uygun</td>\n",
       "      <td>Eşyalı Değil</td>\n",
       "      <td>https://www.hepsiemlak.com/adana-seyhan-gursel...</td>\n",
       "    </tr>\n",
       "    <tr>\n",
       "      <th>1</th>\n",
       "      <td>HUZUREVLERİNDE İSKANLI HASARSIZ 3 CEPHELİ 25 m...</td>\n",
       "      <td>1399000</td>\n",
       "      <td>Satılık Daire</td>\n",
       "      <td>25</td>\n",
       "      <td>22</td>\n",
       "      <td>1</td>\n",
       "      <td>0</td>\n",
       "      <td>1</td>\n",
       "      <td>Isıtma Yok</td>\n",
       "      <td>0</td>\n",
       "      <td>...</td>\n",
       "      <td>12</td>\n",
       "      <td>Adana</td>\n",
       "      <td>Çukurova</td>\n",
       "      <td>Huzurevleri</td>\n",
       "      <td>Boş</td>\n",
       "      <td>Kat Mülkiyeti</td>\n",
       "      <td>Evet</td>\n",
       "      <td>Uygun</td>\n",
       "      <td>Eşyalı Değil</td>\n",
       "      <td>https://www.hepsiemlak.com/adana-cukurova-huzu...</td>\n",
       "    </tr>\n",
       "    <tr>\n",
       "      <th>2</th>\n",
       "      <td>KENAN EVREN BLV. YÜRÜME MESAFESİNDE 2+1+ÇB+GO+...</td>\n",
       "      <td>3500000</td>\n",
       "      <td>Satılık Daire</td>\n",
       "      <td>125</td>\n",
       "      <td>100</td>\n",
       "      <td>2</td>\n",
       "      <td>1</td>\n",
       "      <td>2</td>\n",
       "      <td>Kombi</td>\n",
       "      <td>1</td>\n",
       "      <td>...</td>\n",
       "      <td>10</td>\n",
       "      <td>Adana</td>\n",
       "      <td>Çukurova</td>\n",
       "      <td>Mahfesığmaz</td>\n",
       "      <td>Mülk Sahibi</td>\n",
       "      <td>Kat Mülkiyeti</td>\n",
       "      <td>Hayır</td>\n",
       "      <td>Uygun</td>\n",
       "      <td>Eşyalı Değil</td>\n",
       "      <td>https://www.hepsiemlak.com/adana-cukurova-mahf...</td>\n",
       "    </tr>\n",
       "    <tr>\n",
       "      <th>3</th>\n",
       "      <td>İZZET OKLU İNSAATTAN İSKANI ALINMIŞ OTURUMA HA...</td>\n",
       "      <td>15500000</td>\n",
       "      <td>Satılık Daire</td>\n",
       "      <td>195</td>\n",
       "      <td>149</td>\n",
       "      <td>4</td>\n",
       "      <td>1</td>\n",
       "      <td>2</td>\n",
       "      <td>Yerden Isıtma</td>\n",
       "      <td>4</td>\n",
       "      <td>...</td>\n",
       "      <td>0</td>\n",
       "      <td>Adana</td>\n",
       "      <td>Seyhan</td>\n",
       "      <td>Gazipaşa</td>\n",
       "      <td>Boş</td>\n",
       "      <td>Kat İrtifakı</td>\n",
       "      <td>Hayır</td>\n",
       "      <td>Uygun</td>\n",
       "      <td>Eşyalı Değil</td>\n",
       "      <td>https://www.hepsiemlak.com/adana-seyhan-gazipa...</td>\n",
       "    </tr>\n",
       "    <tr>\n",
       "      <th>4</th>\n",
       "      <td>SK’DAN BAŞKENT OKULLARI YANİ LÜKS İŞÇİLİKLİ 4+...</td>\n",
       "      <td>7450000</td>\n",
       "      <td>Satılık Daire</td>\n",
       "      <td>145</td>\n",
       "      <td>135</td>\n",
       "      <td>4</td>\n",
       "      <td>1</td>\n",
       "      <td>2</td>\n",
       "      <td>Kombi</td>\n",
       "      <td>3</td>\n",
       "      <td>...</td>\n",
       "      <td>4</td>\n",
       "      <td>Adana</td>\n",
       "      <td>Çukurova</td>\n",
       "      <td>Huzurevleri</td>\n",
       "      <td>Boş</td>\n",
       "      <td>Kat İrtifakı</td>\n",
       "      <td>Hayır</td>\n",
       "      <td>Uygun</td>\n",
       "      <td>Eşyalı Değil</td>\n",
       "      <td>https://www.hepsiemlak.com/adana-cukurova-huzu...</td>\n",
       "    </tr>\n",
       "  </tbody>\n",
       "</table>\n",
       "<p>5 rows × 21 columns</p>\n",
       "</div>"
      ],
      "text/plain": [
       "                                   house_description  house_price  \\\n",
       "0  GÜRSELPAŞA’DA FULL SOSYAL DONATILI GENİŞ OTURU...      7300000   \n",
       "1  HUZUREVLERİNDE İSKANLI HASARSIZ 3 CEPHELİ 25 m...      1399000   \n",
       "2  KENAN EVREN BLV. YÜRÜME MESAFESİNDE 2+1+ÇB+GO+...      3500000   \n",
       "3  İZZET OKLU İNSAATTAN İSKANI ALINMIŞ OTURUMA HA...     15500000   \n",
       "4  SK’DAN BAŞKENT OKULLARI YANİ LÜKS İŞÇİLİKLİ 4+...      7450000   \n",
       "\n",
       "   property_type  gross_area  net_area  room_count  living_room_count  \\\n",
       "0  Satılık Daire         170       150           4                  1   \n",
       "1  Satılık Daire          25        22           1                  0   \n",
       "2  Satılık Daire         125       100           2                  1   \n",
       "3  Satılık Daire         195       149           4                  1   \n",
       "4  Satılık Daire         145       135           4                  1   \n",
       "\n",
       "   bathroom_count        heating  floor_number  ...  building_age  province  \\\n",
       "0               2          Kombi             9  ...             6     Adana   \n",
       "1               1     Isıtma Yok             0  ...            12     Adana   \n",
       "2               2          Kombi             1  ...            10     Adana   \n",
       "3               2  Yerden Isıtma             4  ...             0     Adana   \n",
       "4               2          Kombi             3  ...             4     Adana   \n",
       "\n",
       "   district neighborhood usage_status    deed_status exchange credit_eligible  \\\n",
       "0    Seyhan   Gürselpaşa  Mülk Sahibi   Kat İrtifakı    Hayır           Uygun   \n",
       "1  Çukurova  Huzurevleri          Boş  Kat Mülkiyeti     Evet           Uygun   \n",
       "2  Çukurova  Mahfesığmaz  Mülk Sahibi  Kat Mülkiyeti    Hayır           Uygun   \n",
       "3    Seyhan     Gazipaşa          Boş   Kat İrtifakı    Hayır           Uygun   \n",
       "4  Çukurova  Huzurevleri          Boş   Kat İrtifakı    Hayır           Uygun   \n",
       "\n",
       "      furnished                                          house_url  \n",
       "0  Eşyalı Değil  https://www.hepsiemlak.com/adana-seyhan-gursel...  \n",
       "1  Eşyalı Değil  https://www.hepsiemlak.com/adana-cukurova-huzu...  \n",
       "2  Eşyalı Değil  https://www.hepsiemlak.com/adana-cukurova-mahf...  \n",
       "3  Eşyalı Değil  https://www.hepsiemlak.com/adana-seyhan-gazipa...  \n",
       "4  Eşyalı Değil  https://www.hepsiemlak.com/adana-cukurova-huzu...  \n",
       "\n",
       "[5 rows x 21 columns]"
      ]
     },
     "execution_count": 137,
     "metadata": {},
     "output_type": "execute_result"
    }
   ],
   "source": [
    "df.head()"
   ]
  },
  {
   "cell_type": "code",
   "execution_count": 138,
   "metadata": {},
   "outputs": [
    {
     "data": {
      "text/plain": [
       "credit_eligible\n",
       "Uygun                  2501\n",
       "Krediye Uygun          1044\n",
       "Uygun değil             228\n",
       "Krediye Uygun Değil      60\n",
       "Bilinmiyor               39\n",
       "Name: count, dtype: int64"
      ]
     },
     "execution_count": 138,
     "metadata": {},
     "output_type": "execute_result"
    }
   ],
   "source": [
    "df.credit_eligible.value_counts()"
   ]
  },
  {
   "cell_type": "code",
   "execution_count": 139,
   "metadata": {},
   "outputs": [],
   "source": [
    "def __convert_credit_eligible_values(house_df) -> pd.DataFrame:\n",
    "\n",
    "    df = house_df.copy()\n",
    "\n",
    "    if \"credit_eligible\" not in df.columns:\n",
    "        logger.error(\"The 'credit_eligible' column was not found in the DataFrame.\")\n",
    "        return df\n",
    "    \n",
    "    df = df[(df[\"credit_eligible\"] != \"Bilgi yok\") & (df[\"credit_eligible\"] != \"Belirtilmemiş\") & (df[\"credit_eligible\"] != \"Bilinmiyor\")]\n",
    "\n",
    "    change_values = {\n",
    "        \"Uygun\" : \"Krediye Uygun\",\n",
    "        \"Krediye Uygun\" : \"Krediye Uygun\",\n",
    "        \"Uygun Değil\" : \"Krediye Uygun Değil\",\n",
    "        \"Uygun değil\" : \"Krediye Uygun Değil\",\n",
    "        \"Krediye Uygun Değil\" : \"Krediye Uygun Değil\",\n",
    "    }\n",
    "\n",
    "    df[\"credit_eligible\"] = df[\"credit_eligible\"].replace(change_values)\n",
    "    df[\"credit_eligible\"] = pd.Categorical(df[\"credit_eligible\"])\n",
    "    logger.info(f\"House credit_eligible values replaced successfully.\")\n",
    "\n",
    "    return df"
   ]
  },
  {
   "cell_type": "code",
   "execution_count": 140,
   "metadata": {},
   "outputs": [
    {
     "name": "stderr",
     "output_type": "stream",
     "text": [
      "2025-03-25 00:59 - INFO - House credit_eligible values replaced successfully.\n"
     ]
    }
   ],
   "source": [
    "df = __convert_credit_eligible_values(house_df=df)"
   ]
  },
  {
   "cell_type": "code",
   "execution_count": 141,
   "metadata": {},
   "outputs": [
    {
     "data": {
      "text/plain": [
       "credit_eligible\n",
       "Krediye Uygun          3545\n",
       "Krediye Uygun Değil     288\n",
       "Name: count, dtype: int64"
      ]
     },
     "execution_count": 141,
     "metadata": {},
     "output_type": "execute_result"
    }
   ],
   "source": [
    "df[\"credit_eligible\"].value_counts()"
   ]
  },
  {
   "cell_type": "code",
   "execution_count": 142,
   "metadata": {},
   "outputs": [
    {
     "data": {
      "text/html": [
       "<div>\n",
       "<style scoped>\n",
       "    .dataframe tbody tr th:only-of-type {\n",
       "        vertical-align: middle;\n",
       "    }\n",
       "\n",
       "    .dataframe tbody tr th {\n",
       "        vertical-align: top;\n",
       "    }\n",
       "\n",
       "    .dataframe thead th {\n",
       "        text-align: right;\n",
       "    }\n",
       "</style>\n",
       "<table border=\"1\" class=\"dataframe\">\n",
       "  <thead>\n",
       "    <tr style=\"text-align: right;\">\n",
       "      <th></th>\n",
       "      <th>house_description</th>\n",
       "      <th>house_price</th>\n",
       "      <th>property_type</th>\n",
       "      <th>gross_area</th>\n",
       "      <th>net_area</th>\n",
       "      <th>room_count</th>\n",
       "      <th>living_room_count</th>\n",
       "      <th>bathroom_count</th>\n",
       "      <th>heating</th>\n",
       "      <th>floor_number</th>\n",
       "      <th>...</th>\n",
       "      <th>building_age</th>\n",
       "      <th>province</th>\n",
       "      <th>district</th>\n",
       "      <th>neighborhood</th>\n",
       "      <th>usage_status</th>\n",
       "      <th>deed_status</th>\n",
       "      <th>exchange</th>\n",
       "      <th>credit_eligible</th>\n",
       "      <th>furnished</th>\n",
       "      <th>house_url</th>\n",
       "    </tr>\n",
       "  </thead>\n",
       "  <tbody>\n",
       "    <tr>\n",
       "      <th>0</th>\n",
       "      <td>GÜRSELPAŞA’DA FULL SOSYAL DONATILI GENİŞ OTURU...</td>\n",
       "      <td>7300000</td>\n",
       "      <td>Satılık Daire</td>\n",
       "      <td>170</td>\n",
       "      <td>150</td>\n",
       "      <td>4</td>\n",
       "      <td>1</td>\n",
       "      <td>2</td>\n",
       "      <td>Kombi</td>\n",
       "      <td>9</td>\n",
       "      <td>...</td>\n",
       "      <td>6</td>\n",
       "      <td>Adana</td>\n",
       "      <td>Seyhan</td>\n",
       "      <td>Gürselpaşa</td>\n",
       "      <td>Mülk Sahibi</td>\n",
       "      <td>Kat İrtifakı</td>\n",
       "      <td>Hayır</td>\n",
       "      <td>Krediye Uygun</td>\n",
       "      <td>Eşyalı Değil</td>\n",
       "      <td>https://www.hepsiemlak.com/adana-seyhan-gursel...</td>\n",
       "    </tr>\n",
       "    <tr>\n",
       "      <th>1</th>\n",
       "      <td>HUZUREVLERİNDE İSKANLI HASARSIZ 3 CEPHELİ 25 m...</td>\n",
       "      <td>1399000</td>\n",
       "      <td>Satılık Daire</td>\n",
       "      <td>25</td>\n",
       "      <td>22</td>\n",
       "      <td>1</td>\n",
       "      <td>0</td>\n",
       "      <td>1</td>\n",
       "      <td>Isıtma Yok</td>\n",
       "      <td>0</td>\n",
       "      <td>...</td>\n",
       "      <td>12</td>\n",
       "      <td>Adana</td>\n",
       "      <td>Çukurova</td>\n",
       "      <td>Huzurevleri</td>\n",
       "      <td>Boş</td>\n",
       "      <td>Kat Mülkiyeti</td>\n",
       "      <td>Evet</td>\n",
       "      <td>Krediye Uygun</td>\n",
       "      <td>Eşyalı Değil</td>\n",
       "      <td>https://www.hepsiemlak.com/adana-cukurova-huzu...</td>\n",
       "    </tr>\n",
       "    <tr>\n",
       "      <th>2</th>\n",
       "      <td>KENAN EVREN BLV. YÜRÜME MESAFESİNDE 2+1+ÇB+GO+...</td>\n",
       "      <td>3500000</td>\n",
       "      <td>Satılık Daire</td>\n",
       "      <td>125</td>\n",
       "      <td>100</td>\n",
       "      <td>2</td>\n",
       "      <td>1</td>\n",
       "      <td>2</td>\n",
       "      <td>Kombi</td>\n",
       "      <td>1</td>\n",
       "      <td>...</td>\n",
       "      <td>10</td>\n",
       "      <td>Adana</td>\n",
       "      <td>Çukurova</td>\n",
       "      <td>Mahfesığmaz</td>\n",
       "      <td>Mülk Sahibi</td>\n",
       "      <td>Kat Mülkiyeti</td>\n",
       "      <td>Hayır</td>\n",
       "      <td>Krediye Uygun</td>\n",
       "      <td>Eşyalı Değil</td>\n",
       "      <td>https://www.hepsiemlak.com/adana-cukurova-mahf...</td>\n",
       "    </tr>\n",
       "    <tr>\n",
       "      <th>3</th>\n",
       "      <td>İZZET OKLU İNSAATTAN İSKANI ALINMIŞ OTURUMA HA...</td>\n",
       "      <td>15500000</td>\n",
       "      <td>Satılık Daire</td>\n",
       "      <td>195</td>\n",
       "      <td>149</td>\n",
       "      <td>4</td>\n",
       "      <td>1</td>\n",
       "      <td>2</td>\n",
       "      <td>Yerden Isıtma</td>\n",
       "      <td>4</td>\n",
       "      <td>...</td>\n",
       "      <td>0</td>\n",
       "      <td>Adana</td>\n",
       "      <td>Seyhan</td>\n",
       "      <td>Gazipaşa</td>\n",
       "      <td>Boş</td>\n",
       "      <td>Kat İrtifakı</td>\n",
       "      <td>Hayır</td>\n",
       "      <td>Krediye Uygun</td>\n",
       "      <td>Eşyalı Değil</td>\n",
       "      <td>https://www.hepsiemlak.com/adana-seyhan-gazipa...</td>\n",
       "    </tr>\n",
       "    <tr>\n",
       "      <th>4</th>\n",
       "      <td>SK’DAN BAŞKENT OKULLARI YANİ LÜKS İŞÇİLİKLİ 4+...</td>\n",
       "      <td>7450000</td>\n",
       "      <td>Satılık Daire</td>\n",
       "      <td>145</td>\n",
       "      <td>135</td>\n",
       "      <td>4</td>\n",
       "      <td>1</td>\n",
       "      <td>2</td>\n",
       "      <td>Kombi</td>\n",
       "      <td>3</td>\n",
       "      <td>...</td>\n",
       "      <td>4</td>\n",
       "      <td>Adana</td>\n",
       "      <td>Çukurova</td>\n",
       "      <td>Huzurevleri</td>\n",
       "      <td>Boş</td>\n",
       "      <td>Kat İrtifakı</td>\n",
       "      <td>Hayır</td>\n",
       "      <td>Krediye Uygun</td>\n",
       "      <td>Eşyalı Değil</td>\n",
       "      <td>https://www.hepsiemlak.com/adana-cukurova-huzu...</td>\n",
       "    </tr>\n",
       "  </tbody>\n",
       "</table>\n",
       "<p>5 rows × 21 columns</p>\n",
       "</div>"
      ],
      "text/plain": [
       "                                   house_description  house_price  \\\n",
       "0  GÜRSELPAŞA’DA FULL SOSYAL DONATILI GENİŞ OTURU...      7300000   \n",
       "1  HUZUREVLERİNDE İSKANLI HASARSIZ 3 CEPHELİ 25 m...      1399000   \n",
       "2  KENAN EVREN BLV. YÜRÜME MESAFESİNDE 2+1+ÇB+GO+...      3500000   \n",
       "3  İZZET OKLU İNSAATTAN İSKANI ALINMIŞ OTURUMA HA...     15500000   \n",
       "4  SK’DAN BAŞKENT OKULLARI YANİ LÜKS İŞÇİLİKLİ 4+...      7450000   \n",
       "\n",
       "   property_type  gross_area  net_area  room_count  living_room_count  \\\n",
       "0  Satılık Daire         170       150           4                  1   \n",
       "1  Satılık Daire          25        22           1                  0   \n",
       "2  Satılık Daire         125       100           2                  1   \n",
       "3  Satılık Daire         195       149           4                  1   \n",
       "4  Satılık Daire         145       135           4                  1   \n",
       "\n",
       "   bathroom_count        heating  floor_number  ...  building_age  province  \\\n",
       "0               2          Kombi             9  ...             6     Adana   \n",
       "1               1     Isıtma Yok             0  ...            12     Adana   \n",
       "2               2          Kombi             1  ...            10     Adana   \n",
       "3               2  Yerden Isıtma             4  ...             0     Adana   \n",
       "4               2          Kombi             3  ...             4     Adana   \n",
       "\n",
       "   district neighborhood usage_status    deed_status exchange credit_eligible  \\\n",
       "0    Seyhan   Gürselpaşa  Mülk Sahibi   Kat İrtifakı    Hayır   Krediye Uygun   \n",
       "1  Çukurova  Huzurevleri          Boş  Kat Mülkiyeti     Evet   Krediye Uygun   \n",
       "2  Çukurova  Mahfesığmaz  Mülk Sahibi  Kat Mülkiyeti    Hayır   Krediye Uygun   \n",
       "3    Seyhan     Gazipaşa          Boş   Kat İrtifakı    Hayır   Krediye Uygun   \n",
       "4  Çukurova  Huzurevleri          Boş   Kat İrtifakı    Hayır   Krediye Uygun   \n",
       "\n",
       "      furnished                                          house_url  \n",
       "0  Eşyalı Değil  https://www.hepsiemlak.com/adana-seyhan-gursel...  \n",
       "1  Eşyalı Değil  https://www.hepsiemlak.com/adana-cukurova-huzu...  \n",
       "2  Eşyalı Değil  https://www.hepsiemlak.com/adana-cukurova-mahf...  \n",
       "3  Eşyalı Değil  https://www.hepsiemlak.com/adana-seyhan-gazipa...  \n",
       "4  Eşyalı Değil  https://www.hepsiemlak.com/adana-cukurova-huzu...  \n",
       "\n",
       "[5 rows x 21 columns]"
      ]
     },
     "execution_count": 142,
     "metadata": {},
     "output_type": "execute_result"
    }
   ],
   "source": [
    "df.head()"
   ]
  },
  {
   "cell_type": "code",
   "execution_count": 143,
   "metadata": {},
   "outputs": [
    {
     "name": "stdout",
     "output_type": "stream",
     "text": [
      "<class 'pandas.core.frame.DataFrame'>\n",
      "Index: 3833 entries, 0 to 5032\n",
      "Data columns (total 21 columns):\n",
      " #   Column             Non-Null Count  Dtype   \n",
      "---  ------             --------------  -----   \n",
      " 0   house_description  3833 non-null   object  \n",
      " 1   house_price        3833 non-null   int64   \n",
      " 2   property_type      3833 non-null   category\n",
      " 3   gross_area         3833 non-null   int64   \n",
      " 4   net_area           3833 non-null   int64   \n",
      " 5   room_count         3833 non-null   int64   \n",
      " 6   living_room_count  3833 non-null   int64   \n",
      " 7   bathroom_count     3833 non-null   int64   \n",
      " 8   heating            3833 non-null   category\n",
      " 9   floor_number       3833 non-null   int64   \n",
      " 10  total_floors       3833 non-null   int64   \n",
      " 11  building_age       3833 non-null   int64   \n",
      " 12  province           3833 non-null   category\n",
      " 13  district           3833 non-null   category\n",
      " 14  neighborhood       3833 non-null   category\n",
      " 15  usage_status       3833 non-null   object  \n",
      " 16  deed_status        3833 non-null   category\n",
      " 17  exchange           3833 non-null   object  \n",
      " 18  credit_eligible    3833 non-null   category\n",
      " 19  furnished          3833 non-null   category\n",
      " 20  house_url          3833 non-null   object  \n",
      "dtypes: category(8), int64(9), object(4)\n",
      "memory usage: 459.3+ KB\n"
     ]
    }
   ],
   "source": [
    "df.info()"
   ]
  },
  {
   "cell_type": "code",
   "execution_count": 144,
   "metadata": {},
   "outputs": [
    {
     "data": {
      "text/plain": [
       "living_room_count\n",
       "1    3795\n",
       "0      23\n",
       "2      14\n",
       "3       1\n",
       "Name: count, dtype: int64"
      ]
     },
     "execution_count": 144,
     "metadata": {},
     "output_type": "execute_result"
    }
   ],
   "source": [
    "df[\"living_room_count\"].value_counts()"
   ]
  },
  {
   "cell_type": "code",
   "execution_count": 146,
   "metadata": {},
   "outputs": [
    {
     "data": {
      "text/html": [
       "<div>\n",
       "<style scoped>\n",
       "    .dataframe tbody tr th:only-of-type {\n",
       "        vertical-align: middle;\n",
       "    }\n",
       "\n",
       "    .dataframe tbody tr th {\n",
       "        vertical-align: top;\n",
       "    }\n",
       "\n",
       "    .dataframe thead th {\n",
       "        text-align: right;\n",
       "    }\n",
       "</style>\n",
       "<table border=\"1\" class=\"dataframe\">\n",
       "  <thead>\n",
       "    <tr style=\"text-align: right;\">\n",
       "      <th></th>\n",
       "      <th>house_description</th>\n",
       "      <th>house_price</th>\n",
       "      <th>property_type</th>\n",
       "      <th>gross_area</th>\n",
       "      <th>net_area</th>\n",
       "      <th>room_count</th>\n",
       "      <th>living_room_count</th>\n",
       "      <th>bathroom_count</th>\n",
       "      <th>heating</th>\n",
       "      <th>floor_number</th>\n",
       "      <th>...</th>\n",
       "      <th>building_age</th>\n",
       "      <th>province</th>\n",
       "      <th>district</th>\n",
       "      <th>neighborhood</th>\n",
       "      <th>usage_status</th>\n",
       "      <th>deed_status</th>\n",
       "      <th>exchange</th>\n",
       "      <th>credit_eligible</th>\n",
       "      <th>furnished</th>\n",
       "      <th>house_url</th>\n",
       "    </tr>\n",
       "  </thead>\n",
       "  <tbody>\n",
       "  </tbody>\n",
       "</table>\n",
       "<p>0 rows × 21 columns</p>\n",
       "</div>"
      ],
      "text/plain": [
       "Empty DataFrame\n",
       "Columns: [house_description, house_price, property_type, gross_area, net_area, room_count, living_room_count, bathroom_count, heating, floor_number, total_floors, building_age, province, district, neighborhood, usage_status, deed_status, exchange, credit_eligible, furnished, house_url]\n",
       "Index: []\n",
       "\n",
       "[0 rows x 21 columns]"
      ]
     },
     "execution_count": 146,
     "metadata": {},
     "output_type": "execute_result"
    }
   ],
   "source": [
    "df[df[\"house_price\"]<1_000_000]"
   ]
  },
  {
   "cell_type": "code",
   "execution_count": null,
   "metadata": {},
   "outputs": [],
   "source": []
  }
 ],
 "metadata": {
  "kernelspec": {
   "display_name": "Python 3",
   "language": "python",
   "name": "python3"
  },
  "language_info": {
   "codemirror_mode": {
    "name": "ipython",
    "version": 3
   },
   "file_extension": ".py",
   "mimetype": "text/x-python",
   "name": "python",
   "nbconvert_exporter": "python",
   "pygments_lexer": "ipython3",
   "version": "3.13.0"
  }
 },
 "nbformat": 4,
 "nbformat_minor": 2
}
